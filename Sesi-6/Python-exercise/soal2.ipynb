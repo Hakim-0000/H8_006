{
 "cells": [
  {
   "cell_type": "code",
   "execution_count": 1,
   "id": "2f893d84",
   "metadata": {},
   "outputs": [],
   "source": [
    "import numpy as np\n",
    "import pandas as pd"
   ]
  },
  {
   "cell_type": "code",
   "execution_count": 31,
   "id": "786e8357",
   "metadata": {},
   "outputs": [
    {
     "name": "stdout",
     "output_type": "stream",
     "text": [
      "Mulai: 1\n",
      "Selesai: 51\n",
      "Banyak data: 40\n"
     ]
    }
   ],
   "source": [
    "a = int(input('Mulai: '))\n",
    "b = int(input('Selesai: '))\n",
    "c = int(input('Banyak data: '))\n",
    "\n",
    "data = np.random.randint(a, b, c)"
   ]
  },
  {
   "cell_type": "code",
   "execution_count": 37,
   "id": "7dfdc15a",
   "metadata": {},
   "outputs": [
    {
     "data": {
      "text/plain": [
       "array([ 3,  5,  7,  8,  8,  8, 10, 11, 13, 13, 13, 14, 17, 19, 19, 19, 20,\n",
       "       20, 20, 21, 21, 25, 27, 29, 29, 29, 30, 33, 35, 36, 37, 37, 39, 40,\n",
       "       42, 44, 46, 46, 48, 48])"
      ]
     },
     "execution_count": 37,
     "metadata": {},
     "output_type": "execute_result"
    }
   ],
   "source": [
    "data"
   ]
  },
  {
   "cell_type": "code",
   "execution_count": 44,
   "id": "13420b5f",
   "metadata": {},
   "outputs": [
    {
     "data": {
      "text/plain": [
       "array([[ 3,  5,  7,  8,  8,  8, 10, 11],\n",
       "       [13, 13, 13, 14, 17, 19, 19, 19],\n",
       "       [20, 20, 20, 21, 21, 25, 27, 29],\n",
       "       [29, 29, 30, 33, 35, 36, 37, 37],\n",
       "       [39, 40, 42, 44, 46, 46, 48, 48]])"
      ]
     },
     "execution_count": 44,
     "metadata": {},
     "output_type": "execute_result"
    }
   ],
   "source": [
    "twoDim = data.reshape(5, 8)\n",
    "twoDim"
   ]
  },
  {
   "cell_type": "code",
   "execution_count": 54,
   "id": "c91e3670",
   "metadata": {},
   "outputs": [
    {
     "data": {
      "text/plain": [
       "array([[ 3,  5,  7,  8,  8,  8, 10, 11],\n",
       "       [13, 13, 13, 14, 17, 19, 19, 19],\n",
       "       [20, 20, 20, 21, 21, 25, 27, 29],\n",
       "       [29, 29, 30, 33, 35, 36, 37, 37],\n",
       "       [39, 40, 42, 44, 46, 46, 48, 48]])"
      ]
     },
     "execution_count": 54,
     "metadata": {},
     "output_type": "execute_result"
    }
   ],
   "source": [
    "np.sort(twoDim)"
   ]
  },
  {
   "cell_type": "code",
   "execution_count": 55,
   "id": "44f8232c",
   "metadata": {},
   "outputs": [
    {
     "data": {
      "text/plain": [
       "array([[39, 40, 42, 44, 46, 46, 48, 48],\n",
       "       [29, 29, 30, 33, 35, 36, 37, 37],\n",
       "       [20, 20, 20, 21, 21, 25, 27, 29],\n",
       "       [13, 13, 13, 14, 17, 19, 19, 19],\n",
       "       [ 3,  5,  7,  8,  8,  8, 10, 11]])"
      ]
     },
     "execution_count": 55,
     "metadata": {},
     "output_type": "execute_result"
    }
   ],
   "source": [
    "twoDim[::-1]"
   ]
  },
  {
   "cell_type": "code",
   "execution_count": null,
   "id": "5d83d4b2",
   "metadata": {},
   "outputs": [],
   "source": []
  }
 ],
 "metadata": {
  "kernelspec": {
   "display_name": "Python 3 (ipykernel)",
   "language": "python",
   "name": "python3"
  },
  "language_info": {
   "codemirror_mode": {
    "name": "ipython",
    "version": 3
   },
   "file_extension": ".py",
   "mimetype": "text/x-python",
   "name": "python",
   "nbconvert_exporter": "python",
   "pygments_lexer": "ipython3",
   "version": "3.9.8"
  },
  "latex_envs": {
   "LaTeX_envs_menu_present": true,
   "autoclose": false,
   "autocomplete": true,
   "bibliofile": "biblio.bib",
   "cite_by": "apalike",
   "current_citInitial": 1,
   "eqLabelWithNumbers": true,
   "eqNumInitial": 1,
   "hotkeys": {
    "equation": "Ctrl-E",
    "itemize": "Ctrl-I"
   },
   "labels_anchors": false,
   "latex_user_defs": false,
   "report_style_numbering": false,
   "user_envs_cfg": false
  },
  "toc": {
   "base_numbering": 1,
   "nav_menu": {},
   "number_sections": true,
   "sideBar": true,
   "skip_h1_title": false,
   "title_cell": "Table of Contents",
   "title_sidebar": "Contents",
   "toc_cell": false,
   "toc_position": {},
   "toc_section_display": true,
   "toc_window_display": false
  }
 },
 "nbformat": 4,
 "nbformat_minor": 5
}
