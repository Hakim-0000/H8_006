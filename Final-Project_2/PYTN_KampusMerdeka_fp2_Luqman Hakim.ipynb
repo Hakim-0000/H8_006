{
 "cells": [
  {
   "cell_type": "markdown",
   "metadata": {
    "id": "STx4Sch_ipC1"
   },
   "source": [
    "Nama Anggota Kelompok :\n",
    "*   Luqman Hakim (PYTN - KS06 - 003)\n",
    "*   Fellysia Devi Pramono (PYTN - KS06 - 006)\n",
    "<br>\n",
    "---\n",
    "<br>\n",
    "\n",
    "# Project Introduction\n",
    "\n",
    "<br>**Projects Overview**\n",
    "<br>Database ini memiliki 23 atribut. Dengan data hujan harian selama 10 tahun di Australia, kolom RainTomorrow adalah target variable yang akan kita prediksi. Jika “Yes” maka besok harinya disana hujan 1mm atau lebih.\n",
    "<br><br>**Attribute Information**:\n",
    "1. Date - tanggal hari itu\n",
    "2. Location - lokasi, nama kota di Australia\n",
    "3. MinTemp - temperatur terendah hari itu dalam celcius\n",
    "4. MaxTemp - temperatur tertinggi hari itu dalam celcius\n",
    "5. Rainfall - jumlah curah hujan hari itu dalam mm\n",
    "6. Evaporation - jumlah evaporasi dalam mm dari Class A pan selama 24 jam\n",
    "sebelum jam 9 pagi hari itu\n",
    "7. Sunshine - jumlah jam hari itu cerah dengan cahaya matahari\n",
    "8. WindGustDir - arah kecepatan angin yang paling tinggi selama 24 jam sebelum\n",
    "jam 12 malam hari itu\n",
    "9. WindGustSpeed - kecepatan angin yang paling tinggi dalam km/jam selama 24\n",
    "jam sebelum jam 12 malam hari itu\n",
    "10. WindDir9am - arah angin jam 9 pagi\n",
    "11. WindDir3pm - arah angin jam 3 sore\n",
    "12. WindSpeed9am - kecepatan angin jam 9 pagi dalam km/jam dihitung dari\n",
    "rata-rata kecepatan angin 10 menit sebelum jam 3 sore\n",
    "13. WindSpeed3pm - kecepatan angin jam 3 sore dalam km/jam dihitung dari\n",
    "rata-rata kecepatan angin 10 menit sebelum jam 3 sore\n",
    "14. Humidity9am - humiditas jam 9 pagi dalam persen\n",
    "15. Humidity3pm - humiditas jam 3 sore dalam persen\n",
    "16. Pressure9am - tekanan udara jam 9 pagi dalam hpa\n",
    "17. Pressure3pm - tekanan udara jam 3 sore dalam hpa\n",
    "18. Cloud9am - persentase langit yang tertutup awan jam 9 pagi. dihitung dalam\n",
    "oktas, unit ⅛, menghitung berapa unit ⅛ dari langit yang tertutup awan. Jika 0,\n",
    "langit cerah, jika 8, langit sepenuhnya tertutup awan.\n",
    "19. Cloud3pm - persentase langit yang tertutup awan jam 3 sore\n",
    "20. Temp9am - temperatur jam 9 pagi dalam celcius\n",
    "21. Temp3pm - temperatur jam 3 sore dalam celcius\n",
    "22. RainToday - apakah hari ini hujan: jika curah hujan 24 jam sebelum jam 9 pagi\n",
    "melebihi 1mm, maka nilai ini adalah 1, jika tidak nilai nya 0\n",
    "23. RainTomorrow - variable yang mau di prediksi\n"
   ]
  },
  {
   "cell_type": "markdown",
   "metadata": {
    "id": "fXFitbdw1E9Y"
   },
   "source": [
    "# Import Library"
   ]
  },
  {
   "cell_type": "code",
   "execution_count": 1,
   "metadata": {
    "id": "q1qMcvfi0876"
   },
   "outputs": [],
   "source": [
    "## import library yang dibutuhkan\n",
    "\n",
    "import matplotlib.pyplot as plt\n",
    "import numpy as np\n",
    "import pandas as pd\n",
    "import seaborn as sb\n",
    "import time\n",
    "\n",
    "from collections import Counter\n",
    "from imblearn.over_sampling import RandomOverSampler\n",
    "from imblearn.under_sampling import RandomUnderSampler\n",
    "from matplotlib import pyplot\n",
    "from sklearn import metrics\n",
    "from sklearn import preprocessing\n",
    "from sklearn import svm\n",
    "from sklearn.feature_selection import SelectKBest, f_classif\n",
    "from sklearn.linear_model import LogisticRegression\n",
    "from sklearn.metrics import classification_report, confusion_matrix, f1_score, accuracy_score, precision_score, recall_score\n",
    "from sklearn.model_selection import train_test_split\n",
    "from sklearn.preprocessing import LabelEncoder, StandardScaler, MinMaxScaler\n",
    "from sklearn.tree import DecisionTreeClassifier\n",
    "from sklearn.svm import LinearSVC\n",
    "from warnings import filterwarnings\n",
    "\n",
    "filterwarnings('ignore')\n",
    "pd.set_option('display.max_columns', None)"
   ]
  },
  {
   "cell_type": "markdown",
   "metadata": {
    "id": "2RoPpMyg1J7T"
   },
   "source": [
    "# Load Dataset"
   ]
  },
  {
   "cell_type": "code",
   "execution_count": 2,
   "metadata": {
    "colab": {
     "base_uri": "https://localhost:8080/",
     "height": 357
    },
    "id": "krK5QXiX1U5f",
    "outputId": "51a36f31-d913-467b-a1c4-8202ea0a6f4e"
   },
   "outputs": [
    {
     "data": {
      "text/html": [
       "<div>\n",
       "<style scoped>\n",
       "    .dataframe tbody tr th:only-of-type {\n",
       "        vertical-align: middle;\n",
       "    }\n",
       "\n",
       "    .dataframe tbody tr th {\n",
       "        vertical-align: top;\n",
       "    }\n",
       "\n",
       "    .dataframe thead th {\n",
       "        text-align: right;\n",
       "    }\n",
       "</style>\n",
       "<table border=\"1\" class=\"dataframe\">\n",
       "  <thead>\n",
       "    <tr style=\"text-align: right;\">\n",
       "      <th></th>\n",
       "      <th>Date</th>\n",
       "      <th>Location</th>\n",
       "      <th>MinTemp</th>\n",
       "      <th>MaxTemp</th>\n",
       "      <th>Rainfall</th>\n",
       "      <th>Evaporation</th>\n",
       "      <th>Sunshine</th>\n",
       "      <th>WindGustDir</th>\n",
       "      <th>WindGustSpeed</th>\n",
       "      <th>WindDir9am</th>\n",
       "      <th>WindDir3pm</th>\n",
       "      <th>WindSpeed9am</th>\n",
       "      <th>WindSpeed3pm</th>\n",
       "      <th>Humidity9am</th>\n",
       "      <th>Humidity3pm</th>\n",
       "      <th>Pressure9am</th>\n",
       "      <th>Pressure3pm</th>\n",
       "      <th>Cloud9am</th>\n",
       "      <th>Cloud3pm</th>\n",
       "      <th>Temp9am</th>\n",
       "      <th>Temp3pm</th>\n",
       "      <th>RainToday</th>\n",
       "      <th>RainTomorrow</th>\n",
       "    </tr>\n",
       "  </thead>\n",
       "  <tbody>\n",
       "    <tr>\n",
       "      <th>0</th>\n",
       "      <td>2008-12-01</td>\n",
       "      <td>Albury</td>\n",
       "      <td>13.4</td>\n",
       "      <td>22.9</td>\n",
       "      <td>0.6</td>\n",
       "      <td>NaN</td>\n",
       "      <td>NaN</td>\n",
       "      <td>W</td>\n",
       "      <td>44.0</td>\n",
       "      <td>W</td>\n",
       "      <td>WNW</td>\n",
       "      <td>20.0</td>\n",
       "      <td>24.0</td>\n",
       "      <td>71.0</td>\n",
       "      <td>22.0</td>\n",
       "      <td>1007.7</td>\n",
       "      <td>1007.1</td>\n",
       "      <td>8.0</td>\n",
       "      <td>NaN</td>\n",
       "      <td>16.9</td>\n",
       "      <td>21.8</td>\n",
       "      <td>No</td>\n",
       "      <td>No</td>\n",
       "    </tr>\n",
       "    <tr>\n",
       "      <th>1</th>\n",
       "      <td>2008-12-02</td>\n",
       "      <td>Albury</td>\n",
       "      <td>7.4</td>\n",
       "      <td>25.1</td>\n",
       "      <td>0.0</td>\n",
       "      <td>NaN</td>\n",
       "      <td>NaN</td>\n",
       "      <td>WNW</td>\n",
       "      <td>44.0</td>\n",
       "      <td>NNW</td>\n",
       "      <td>WSW</td>\n",
       "      <td>4.0</td>\n",
       "      <td>22.0</td>\n",
       "      <td>44.0</td>\n",
       "      <td>25.0</td>\n",
       "      <td>1010.6</td>\n",
       "      <td>1007.8</td>\n",
       "      <td>NaN</td>\n",
       "      <td>NaN</td>\n",
       "      <td>17.2</td>\n",
       "      <td>24.3</td>\n",
       "      <td>No</td>\n",
       "      <td>No</td>\n",
       "    </tr>\n",
       "    <tr>\n",
       "      <th>2</th>\n",
       "      <td>2008-12-03</td>\n",
       "      <td>Albury</td>\n",
       "      <td>12.9</td>\n",
       "      <td>25.7</td>\n",
       "      <td>0.0</td>\n",
       "      <td>NaN</td>\n",
       "      <td>NaN</td>\n",
       "      <td>WSW</td>\n",
       "      <td>46.0</td>\n",
       "      <td>W</td>\n",
       "      <td>WSW</td>\n",
       "      <td>19.0</td>\n",
       "      <td>26.0</td>\n",
       "      <td>38.0</td>\n",
       "      <td>30.0</td>\n",
       "      <td>1007.6</td>\n",
       "      <td>1008.7</td>\n",
       "      <td>NaN</td>\n",
       "      <td>2.0</td>\n",
       "      <td>21.0</td>\n",
       "      <td>23.2</td>\n",
       "      <td>No</td>\n",
       "      <td>No</td>\n",
       "    </tr>\n",
       "    <tr>\n",
       "      <th>3</th>\n",
       "      <td>2008-12-04</td>\n",
       "      <td>Albury</td>\n",
       "      <td>9.2</td>\n",
       "      <td>28.0</td>\n",
       "      <td>0.0</td>\n",
       "      <td>NaN</td>\n",
       "      <td>NaN</td>\n",
       "      <td>NE</td>\n",
       "      <td>24.0</td>\n",
       "      <td>SE</td>\n",
       "      <td>E</td>\n",
       "      <td>11.0</td>\n",
       "      <td>9.0</td>\n",
       "      <td>45.0</td>\n",
       "      <td>16.0</td>\n",
       "      <td>1017.6</td>\n",
       "      <td>1012.8</td>\n",
       "      <td>NaN</td>\n",
       "      <td>NaN</td>\n",
       "      <td>18.1</td>\n",
       "      <td>26.5</td>\n",
       "      <td>No</td>\n",
       "      <td>No</td>\n",
       "    </tr>\n",
       "    <tr>\n",
       "      <th>4</th>\n",
       "      <td>2008-12-05</td>\n",
       "      <td>Albury</td>\n",
       "      <td>17.5</td>\n",
       "      <td>32.3</td>\n",
       "      <td>1.0</td>\n",
       "      <td>NaN</td>\n",
       "      <td>NaN</td>\n",
       "      <td>W</td>\n",
       "      <td>41.0</td>\n",
       "      <td>ENE</td>\n",
       "      <td>NW</td>\n",
       "      <td>7.0</td>\n",
       "      <td>20.0</td>\n",
       "      <td>82.0</td>\n",
       "      <td>33.0</td>\n",
       "      <td>1010.8</td>\n",
       "      <td>1006.0</td>\n",
       "      <td>7.0</td>\n",
       "      <td>8.0</td>\n",
       "      <td>17.8</td>\n",
       "      <td>29.7</td>\n",
       "      <td>No</td>\n",
       "      <td>No</td>\n",
       "    </tr>\n",
       "  </tbody>\n",
       "</table>\n",
       "</div>"
      ],
      "text/plain": [
       "         Date Location  MinTemp  MaxTemp  Rainfall  Evaporation  Sunshine  \\\n",
       "0  2008-12-01   Albury     13.4     22.9       0.6          NaN       NaN   \n",
       "1  2008-12-02   Albury      7.4     25.1       0.0          NaN       NaN   \n",
       "2  2008-12-03   Albury     12.9     25.7       0.0          NaN       NaN   \n",
       "3  2008-12-04   Albury      9.2     28.0       0.0          NaN       NaN   \n",
       "4  2008-12-05   Albury     17.5     32.3       1.0          NaN       NaN   \n",
       "\n",
       "  WindGustDir  WindGustSpeed WindDir9am WindDir3pm  WindSpeed9am  \\\n",
       "0           W           44.0          W        WNW          20.0   \n",
       "1         WNW           44.0        NNW        WSW           4.0   \n",
       "2         WSW           46.0          W        WSW          19.0   \n",
       "3          NE           24.0         SE          E          11.0   \n",
       "4           W           41.0        ENE         NW           7.0   \n",
       "\n",
       "   WindSpeed3pm  Humidity9am  Humidity3pm  Pressure9am  Pressure3pm  Cloud9am  \\\n",
       "0          24.0         71.0         22.0       1007.7       1007.1       8.0   \n",
       "1          22.0         44.0         25.0       1010.6       1007.8       NaN   \n",
       "2          26.0         38.0         30.0       1007.6       1008.7       NaN   \n",
       "3           9.0         45.0         16.0       1017.6       1012.8       NaN   \n",
       "4          20.0         82.0         33.0       1010.8       1006.0       7.0   \n",
       "\n",
       "   Cloud3pm  Temp9am  Temp3pm RainToday RainTomorrow  \n",
       "0       NaN     16.9     21.8        No           No  \n",
       "1       NaN     17.2     24.3        No           No  \n",
       "2       2.0     21.0     23.2        No           No  \n",
       "3       NaN     18.1     26.5        No           No  \n",
       "4       8.0     17.8     29.7        No           No  "
      ]
     },
     "execution_count": 2,
     "metadata": {},
     "output_type": "execute_result"
    }
   ],
   "source": [
    "data = pd.read_csv('dataset\\weatherAUS.csv') ## Load dataset\n",
    "data.head() ## Menampilkan 5 data teratas"
   ]
  },
  {
   "cell_type": "code",
   "execution_count": 3,
   "metadata": {
    "colab": {
     "base_uri": "https://localhost:8080/",
     "height": 357
    },
    "id": "e232lsIT3MV-",
    "outputId": "7e25877e-5534-4997-db45-24b39135f9ee"
   },
   "outputs": [
    {
     "data": {
      "text/html": [
       "<div>\n",
       "<style scoped>\n",
       "    .dataframe tbody tr th:only-of-type {\n",
       "        vertical-align: middle;\n",
       "    }\n",
       "\n",
       "    .dataframe tbody tr th {\n",
       "        vertical-align: top;\n",
       "    }\n",
       "\n",
       "    .dataframe thead th {\n",
       "        text-align: right;\n",
       "    }\n",
       "</style>\n",
       "<table border=\"1\" class=\"dataframe\">\n",
       "  <thead>\n",
       "    <tr style=\"text-align: right;\">\n",
       "      <th></th>\n",
       "      <th>Date</th>\n",
       "      <th>Location</th>\n",
       "      <th>MinTemp</th>\n",
       "      <th>MaxTemp</th>\n",
       "      <th>Rainfall</th>\n",
       "      <th>Evaporation</th>\n",
       "      <th>Sunshine</th>\n",
       "      <th>WindGustDir</th>\n",
       "      <th>WindGustSpeed</th>\n",
       "      <th>WindDir9am</th>\n",
       "      <th>WindDir3pm</th>\n",
       "      <th>WindSpeed9am</th>\n",
       "      <th>WindSpeed3pm</th>\n",
       "      <th>Humidity9am</th>\n",
       "      <th>Humidity3pm</th>\n",
       "      <th>Pressure9am</th>\n",
       "      <th>Pressure3pm</th>\n",
       "      <th>Cloud9am</th>\n",
       "      <th>Cloud3pm</th>\n",
       "      <th>Temp9am</th>\n",
       "      <th>Temp3pm</th>\n",
       "      <th>RainToday</th>\n",
       "      <th>RainTomorrow</th>\n",
       "    </tr>\n",
       "  </thead>\n",
       "  <tbody>\n",
       "    <tr>\n",
       "      <th>145455</th>\n",
       "      <td>2017-06-21</td>\n",
       "      <td>Uluru</td>\n",
       "      <td>2.8</td>\n",
       "      <td>23.4</td>\n",
       "      <td>0.0</td>\n",
       "      <td>NaN</td>\n",
       "      <td>NaN</td>\n",
       "      <td>E</td>\n",
       "      <td>31.0</td>\n",
       "      <td>SE</td>\n",
       "      <td>ENE</td>\n",
       "      <td>13.0</td>\n",
       "      <td>11.0</td>\n",
       "      <td>51.0</td>\n",
       "      <td>24.0</td>\n",
       "      <td>1024.6</td>\n",
       "      <td>1020.3</td>\n",
       "      <td>NaN</td>\n",
       "      <td>NaN</td>\n",
       "      <td>10.1</td>\n",
       "      <td>22.4</td>\n",
       "      <td>No</td>\n",
       "      <td>No</td>\n",
       "    </tr>\n",
       "    <tr>\n",
       "      <th>145456</th>\n",
       "      <td>2017-06-22</td>\n",
       "      <td>Uluru</td>\n",
       "      <td>3.6</td>\n",
       "      <td>25.3</td>\n",
       "      <td>0.0</td>\n",
       "      <td>NaN</td>\n",
       "      <td>NaN</td>\n",
       "      <td>NNW</td>\n",
       "      <td>22.0</td>\n",
       "      <td>SE</td>\n",
       "      <td>N</td>\n",
       "      <td>13.0</td>\n",
       "      <td>9.0</td>\n",
       "      <td>56.0</td>\n",
       "      <td>21.0</td>\n",
       "      <td>1023.5</td>\n",
       "      <td>1019.1</td>\n",
       "      <td>NaN</td>\n",
       "      <td>NaN</td>\n",
       "      <td>10.9</td>\n",
       "      <td>24.5</td>\n",
       "      <td>No</td>\n",
       "      <td>No</td>\n",
       "    </tr>\n",
       "    <tr>\n",
       "      <th>145457</th>\n",
       "      <td>2017-06-23</td>\n",
       "      <td>Uluru</td>\n",
       "      <td>5.4</td>\n",
       "      <td>26.9</td>\n",
       "      <td>0.0</td>\n",
       "      <td>NaN</td>\n",
       "      <td>NaN</td>\n",
       "      <td>N</td>\n",
       "      <td>37.0</td>\n",
       "      <td>SE</td>\n",
       "      <td>WNW</td>\n",
       "      <td>9.0</td>\n",
       "      <td>9.0</td>\n",
       "      <td>53.0</td>\n",
       "      <td>24.0</td>\n",
       "      <td>1021.0</td>\n",
       "      <td>1016.8</td>\n",
       "      <td>NaN</td>\n",
       "      <td>NaN</td>\n",
       "      <td>12.5</td>\n",
       "      <td>26.1</td>\n",
       "      <td>No</td>\n",
       "      <td>No</td>\n",
       "    </tr>\n",
       "    <tr>\n",
       "      <th>145458</th>\n",
       "      <td>2017-06-24</td>\n",
       "      <td>Uluru</td>\n",
       "      <td>7.8</td>\n",
       "      <td>27.0</td>\n",
       "      <td>0.0</td>\n",
       "      <td>NaN</td>\n",
       "      <td>NaN</td>\n",
       "      <td>SE</td>\n",
       "      <td>28.0</td>\n",
       "      <td>SSE</td>\n",
       "      <td>N</td>\n",
       "      <td>13.0</td>\n",
       "      <td>7.0</td>\n",
       "      <td>51.0</td>\n",
       "      <td>24.0</td>\n",
       "      <td>1019.4</td>\n",
       "      <td>1016.5</td>\n",
       "      <td>3.0</td>\n",
       "      <td>2.0</td>\n",
       "      <td>15.1</td>\n",
       "      <td>26.0</td>\n",
       "      <td>No</td>\n",
       "      <td>No</td>\n",
       "    </tr>\n",
       "    <tr>\n",
       "      <th>145459</th>\n",
       "      <td>2017-06-25</td>\n",
       "      <td>Uluru</td>\n",
       "      <td>14.9</td>\n",
       "      <td>NaN</td>\n",
       "      <td>0.0</td>\n",
       "      <td>NaN</td>\n",
       "      <td>NaN</td>\n",
       "      <td>NaN</td>\n",
       "      <td>NaN</td>\n",
       "      <td>ESE</td>\n",
       "      <td>ESE</td>\n",
       "      <td>17.0</td>\n",
       "      <td>17.0</td>\n",
       "      <td>62.0</td>\n",
       "      <td>36.0</td>\n",
       "      <td>1020.2</td>\n",
       "      <td>1017.9</td>\n",
       "      <td>8.0</td>\n",
       "      <td>8.0</td>\n",
       "      <td>15.0</td>\n",
       "      <td>20.9</td>\n",
       "      <td>No</td>\n",
       "      <td>NaN</td>\n",
       "    </tr>\n",
       "  </tbody>\n",
       "</table>\n",
       "</div>"
      ],
      "text/plain": [
       "              Date Location  MinTemp  MaxTemp  Rainfall  Evaporation  \\\n",
       "145455  2017-06-21    Uluru      2.8     23.4       0.0          NaN   \n",
       "145456  2017-06-22    Uluru      3.6     25.3       0.0          NaN   \n",
       "145457  2017-06-23    Uluru      5.4     26.9       0.0          NaN   \n",
       "145458  2017-06-24    Uluru      7.8     27.0       0.0          NaN   \n",
       "145459  2017-06-25    Uluru     14.9      NaN       0.0          NaN   \n",
       "\n",
       "        Sunshine WindGustDir  WindGustSpeed WindDir9am WindDir3pm  \\\n",
       "145455       NaN           E           31.0         SE        ENE   \n",
       "145456       NaN         NNW           22.0         SE          N   \n",
       "145457       NaN           N           37.0         SE        WNW   \n",
       "145458       NaN          SE           28.0        SSE          N   \n",
       "145459       NaN         NaN            NaN        ESE        ESE   \n",
       "\n",
       "        WindSpeed9am  WindSpeed3pm  Humidity9am  Humidity3pm  Pressure9am  \\\n",
       "145455          13.0          11.0         51.0         24.0       1024.6   \n",
       "145456          13.0           9.0         56.0         21.0       1023.5   \n",
       "145457           9.0           9.0         53.0         24.0       1021.0   \n",
       "145458          13.0           7.0         51.0         24.0       1019.4   \n",
       "145459          17.0          17.0         62.0         36.0       1020.2   \n",
       "\n",
       "        Pressure3pm  Cloud9am  Cloud3pm  Temp9am  Temp3pm RainToday  \\\n",
       "145455       1020.3       NaN       NaN     10.1     22.4        No   \n",
       "145456       1019.1       NaN       NaN     10.9     24.5        No   \n",
       "145457       1016.8       NaN       NaN     12.5     26.1        No   \n",
       "145458       1016.5       3.0       2.0     15.1     26.0        No   \n",
       "145459       1017.9       8.0       8.0     15.0     20.9        No   \n",
       "\n",
       "       RainTomorrow  \n",
       "145455           No  \n",
       "145456           No  \n",
       "145457           No  \n",
       "145458           No  \n",
       "145459          NaN  "
      ]
     },
     "execution_count": 3,
     "metadata": {},
     "output_type": "execute_result"
    }
   ],
   "source": [
    "data.tail() # menampilkan 5 data terbawah"
   ]
  },
  {
   "cell_type": "code",
   "execution_count": 4,
   "metadata": {
    "colab": {
     "base_uri": "https://localhost:8080/"
    },
    "id": "uJo7Wivh2M5a",
    "outputId": "9ffdedab-8e71-4927-db30-36787f1d0eb4"
   },
   "outputs": [
    {
     "name": "stdout",
     "output_type": "stream",
     "text": [
      "<class 'pandas.core.frame.DataFrame'>\n",
      "RangeIndex: 145460 entries, 0 to 145459\n",
      "Data columns (total 23 columns):\n",
      " #   Column         Non-Null Count   Dtype  \n",
      "---  ------         --------------   -----  \n",
      " 0   Date           145460 non-null  object \n",
      " 1   Location       145460 non-null  object \n",
      " 2   MinTemp        143975 non-null  float64\n",
      " 3   MaxTemp        144199 non-null  float64\n",
      " 4   Rainfall       142199 non-null  float64\n",
      " 5   Evaporation    82670 non-null   float64\n",
      " 6   Sunshine       75625 non-null   float64\n",
      " 7   WindGustDir    135134 non-null  object \n",
      " 8   WindGustSpeed  135197 non-null  float64\n",
      " 9   WindDir9am     134894 non-null  object \n",
      " 10  WindDir3pm     141232 non-null  object \n",
      " 11  WindSpeed9am   143693 non-null  float64\n",
      " 12  WindSpeed3pm   142398 non-null  float64\n",
      " 13  Humidity9am    142806 non-null  float64\n",
      " 14  Humidity3pm    140953 non-null  float64\n",
      " 15  Pressure9am    130395 non-null  float64\n",
      " 16  Pressure3pm    130432 non-null  float64\n",
      " 17  Cloud9am       89572 non-null   float64\n",
      " 18  Cloud3pm       86102 non-null   float64\n",
      " 19  Temp9am        143693 non-null  float64\n",
      " 20  Temp3pm        141851 non-null  float64\n",
      " 21  RainToday      142199 non-null  object \n",
      " 22  RainTomorrow   142193 non-null  object \n",
      "dtypes: float64(16), object(7)\n",
      "memory usage: 25.5+ MB\n"
     ]
    }
   ],
   "source": [
    "data.info()"
   ]
  },
  {
   "cell_type": "code",
   "execution_count": 5,
   "metadata": {
    "colab": {
     "base_uri": "https://localhost:8080/"
    },
    "id": "PBwjOY9n25ki",
    "outputId": "eb1427d6-e82a-495d-f11a-66ed7d213a40"
   },
   "outputs": [
    {
     "data": {
      "text/plain": [
       "(145460, 23)"
      ]
     },
     "execution_count": 5,
     "metadata": {},
     "output_type": "execute_result"
    }
   ],
   "source": [
    "data.shape"
   ]
  },
  {
   "cell_type": "markdown",
   "metadata": {
    "id": "eOeFhJtQ9B85"
   },
   "source": [
    "# EDA"
   ]
  },
  {
   "cell_type": "markdown",
   "metadata": {
    "id": "C6VmAs6f3fvn"
   },
   "source": [
    "Mengubah tipe data kolom 'Date' menjadi tipe data date, agar nantinya lebih mudah melakukan EDA"
   ]
  },
  {
   "cell_type": "code",
   "execution_count": 6,
   "metadata": {
    "colab": {
     "base_uri": "https://localhost:8080/"
    },
    "id": "eeuLRvdQ3ZTo",
    "outputId": "01c80dd0-79ee-45a2-ba06-75a45c23b553"
   },
   "outputs": [
    {
     "name": "stdout",
     "output_type": "stream",
     "text": [
      "<class 'pandas.core.frame.DataFrame'>\n",
      "RangeIndex: 145460 entries, 0 to 145459\n",
      "Data columns (total 23 columns):\n",
      " #   Column         Non-Null Count   Dtype         \n",
      "---  ------         --------------   -----         \n",
      " 0   Date           145460 non-null  datetime64[ns]\n",
      " 1   Location       145460 non-null  object        \n",
      " 2   MinTemp        143975 non-null  float64       \n",
      " 3   MaxTemp        144199 non-null  float64       \n",
      " 4   Rainfall       142199 non-null  float64       \n",
      " 5   Evaporation    82670 non-null   float64       \n",
      " 6   Sunshine       75625 non-null   float64       \n",
      " 7   WindGustDir    135134 non-null  object        \n",
      " 8   WindGustSpeed  135197 non-null  float64       \n",
      " 9   WindDir9am     134894 non-null  object        \n",
      " 10  WindDir3pm     141232 non-null  object        \n",
      " 11  WindSpeed9am   143693 non-null  float64       \n",
      " 12  WindSpeed3pm   142398 non-null  float64       \n",
      " 13  Humidity9am    142806 non-null  float64       \n",
      " 14  Humidity3pm    140953 non-null  float64       \n",
      " 15  Pressure9am    130395 non-null  float64       \n",
      " 16  Pressure3pm    130432 non-null  float64       \n",
      " 17  Cloud9am       89572 non-null   float64       \n",
      " 18  Cloud3pm       86102 non-null   float64       \n",
      " 19  Temp9am        143693 non-null  float64       \n",
      " 20  Temp3pm        141851 non-null  float64       \n",
      " 21  RainToday      142199 non-null  object        \n",
      " 22  RainTomorrow   142193 non-null  object        \n",
      "dtypes: datetime64[ns](1), float64(16), object(6)\n",
      "memory usage: 25.5+ MB\n"
     ]
    }
   ],
   "source": [
    "data['Date'] = pd.to_datetime(data['Date'])\n",
    "data.info()"
   ]
  },
  {
   "cell_type": "code",
   "execution_count": 7,
   "metadata": {
    "colab": {
     "base_uri": "https://localhost:8080/",
     "height": 260
    },
    "id": "snjiy7l-RoDW",
    "outputId": "9160ab55-125a-41a4-d0f6-832285abd91e"
   },
   "outputs": [
    {
     "data": {
      "text/html": [
       "<div>\n",
       "<style scoped>\n",
       "    .dataframe tbody tr th:only-of-type {\n",
       "        vertical-align: middle;\n",
       "    }\n",
       "\n",
       "    .dataframe tbody tr th {\n",
       "        vertical-align: top;\n",
       "    }\n",
       "\n",
       "    .dataframe thead th {\n",
       "        text-align: right;\n",
       "    }\n",
       "</style>\n",
       "<table border=\"1\" class=\"dataframe\">\n",
       "  <thead>\n",
       "    <tr style=\"text-align: right;\">\n",
       "      <th></th>\n",
       "      <th>Date</th>\n",
       "      <th>Location</th>\n",
       "      <th>MinTemp</th>\n",
       "      <th>MaxTemp</th>\n",
       "      <th>Rainfall</th>\n",
       "      <th>Evaporation</th>\n",
       "      <th>Sunshine</th>\n",
       "      <th>WindGustDir</th>\n",
       "      <th>WindGustSpeed</th>\n",
       "      <th>WindDir9am</th>\n",
       "      <th>WindDir3pm</th>\n",
       "      <th>WindSpeed9am</th>\n",
       "      <th>WindSpeed3pm</th>\n",
       "      <th>Humidity9am</th>\n",
       "      <th>Humidity3pm</th>\n",
       "      <th>Pressure9am</th>\n",
       "      <th>Pressure3pm</th>\n",
       "      <th>Cloud9am</th>\n",
       "      <th>Cloud3pm</th>\n",
       "      <th>Temp9am</th>\n",
       "      <th>Temp3pm</th>\n",
       "      <th>RainToday</th>\n",
       "      <th>RainTomorrow</th>\n",
       "    </tr>\n",
       "  </thead>\n",
       "  <tbody>\n",
       "    <tr>\n",
       "      <th>0</th>\n",
       "      <td>2008-12-01</td>\n",
       "      <td>Albury</td>\n",
       "      <td>13.4</td>\n",
       "      <td>22.9</td>\n",
       "      <td>0.6</td>\n",
       "      <td>NaN</td>\n",
       "      <td>NaN</td>\n",
       "      <td>W</td>\n",
       "      <td>44.0</td>\n",
       "      <td>W</td>\n",
       "      <td>WNW</td>\n",
       "      <td>20.0</td>\n",
       "      <td>24.0</td>\n",
       "      <td>71.0</td>\n",
       "      <td>22.0</td>\n",
       "      <td>1007.7</td>\n",
       "      <td>1007.1</td>\n",
       "      <td>8.0</td>\n",
       "      <td>NaN</td>\n",
       "      <td>16.9</td>\n",
       "      <td>21.8</td>\n",
       "      <td>No</td>\n",
       "      <td>No</td>\n",
       "    </tr>\n",
       "    <tr>\n",
       "      <th>1</th>\n",
       "      <td>2008-12-02</td>\n",
       "      <td>Albury</td>\n",
       "      <td>7.4</td>\n",
       "      <td>25.1</td>\n",
       "      <td>0.0</td>\n",
       "      <td>NaN</td>\n",
       "      <td>NaN</td>\n",
       "      <td>WNW</td>\n",
       "      <td>44.0</td>\n",
       "      <td>NNW</td>\n",
       "      <td>WSW</td>\n",
       "      <td>4.0</td>\n",
       "      <td>22.0</td>\n",
       "      <td>44.0</td>\n",
       "      <td>25.0</td>\n",
       "      <td>1010.6</td>\n",
       "      <td>1007.8</td>\n",
       "      <td>NaN</td>\n",
       "      <td>NaN</td>\n",
       "      <td>17.2</td>\n",
       "      <td>24.3</td>\n",
       "      <td>No</td>\n",
       "      <td>No</td>\n",
       "    </tr>\n",
       "    <tr>\n",
       "      <th>2</th>\n",
       "      <td>2008-12-03</td>\n",
       "      <td>Albury</td>\n",
       "      <td>12.9</td>\n",
       "      <td>25.7</td>\n",
       "      <td>0.0</td>\n",
       "      <td>NaN</td>\n",
       "      <td>NaN</td>\n",
       "      <td>WSW</td>\n",
       "      <td>46.0</td>\n",
       "      <td>W</td>\n",
       "      <td>WSW</td>\n",
       "      <td>19.0</td>\n",
       "      <td>26.0</td>\n",
       "      <td>38.0</td>\n",
       "      <td>30.0</td>\n",
       "      <td>1007.6</td>\n",
       "      <td>1008.7</td>\n",
       "      <td>NaN</td>\n",
       "      <td>2.0</td>\n",
       "      <td>21.0</td>\n",
       "      <td>23.2</td>\n",
       "      <td>No</td>\n",
       "      <td>No</td>\n",
       "    </tr>\n",
       "  </tbody>\n",
       "</table>\n",
       "</div>"
      ],
      "text/plain": [
       "        Date Location  MinTemp  MaxTemp  Rainfall  Evaporation  Sunshine  \\\n",
       "0 2008-12-01   Albury     13.4     22.9       0.6          NaN       NaN   \n",
       "1 2008-12-02   Albury      7.4     25.1       0.0          NaN       NaN   \n",
       "2 2008-12-03   Albury     12.9     25.7       0.0          NaN       NaN   \n",
       "\n",
       "  WindGustDir  WindGustSpeed WindDir9am WindDir3pm  WindSpeed9am  \\\n",
       "0           W           44.0          W        WNW          20.0   \n",
       "1         WNW           44.0        NNW        WSW           4.0   \n",
       "2         WSW           46.0          W        WSW          19.0   \n",
       "\n",
       "   WindSpeed3pm  Humidity9am  Humidity3pm  Pressure9am  Pressure3pm  Cloud9am  \\\n",
       "0          24.0         71.0         22.0       1007.7       1007.1       8.0   \n",
       "1          22.0         44.0         25.0       1010.6       1007.8       NaN   \n",
       "2          26.0         38.0         30.0       1007.6       1008.7       NaN   \n",
       "\n",
       "   Cloud3pm  Temp9am  Temp3pm RainToday RainTomorrow  \n",
       "0       NaN     16.9     21.8        No           No  \n",
       "1       NaN     17.2     24.3        No           No  \n",
       "2       2.0     21.0     23.2        No           No  "
      ]
     },
     "execution_count": 7,
     "metadata": {},
     "output_type": "execute_result"
    }
   ],
   "source": [
    "eda = data.copy()\n",
    "eda.head(3)"
   ]
  },
  {
   "cell_type": "markdown",
   "metadata": {
    "id": "mkjttsgfgqFC"
   },
   "source": [
    "Mengganti elemen kolom RainToday and RainTomorrow 'Yes' dan 'No' dengan 1 dan 0 untuk memudahkan dalam mencari korelasi setiap kolom"
   ]
  },
  {
   "cell_type": "code",
   "execution_count": 8,
   "metadata": {
    "id": "36LABiXIU6iz"
   },
   "outputs": [],
   "source": [
    "eda['RainToday'] = eda['RainToday'].replace(['Yes','No'], [1, 0])\n",
    "eda['RainTomorrow'] = eda['RainTomorrow'].replace(['Yes', 'No'], [1, 0])"
   ]
  },
  {
   "cell_type": "markdown",
   "metadata": {
    "id": "zD_HE6F2g_qF"
   },
   "source": [
    "Akan kita visualisasikan data yang diinginkan yaitu mencari intensitas hujan setiap tahunnya dan setiap lokasinya sehingga kita perlu menjabarkan elemen kolom 'Date' menjadi kolom hari, bulan, dan tahun."
   ]
  },
  {
   "cell_type": "code",
   "execution_count": 9,
   "metadata": {
    "colab": {
     "base_uri": "https://localhost:8080/",
     "height": 208
    },
    "id": "_pDF7EXsVNij",
    "outputId": "a8fecf5f-98e7-4d38-d603-4f5c22bcc41e"
   },
   "outputs": [
    {
     "data": {
      "text/html": [
       "<div>\n",
       "<style scoped>\n",
       "    .dataframe tbody tr th:only-of-type {\n",
       "        vertical-align: middle;\n",
       "    }\n",
       "\n",
       "    .dataframe tbody tr th {\n",
       "        vertical-align: top;\n",
       "    }\n",
       "\n",
       "    .dataframe thead th {\n",
       "        text-align: right;\n",
       "    }\n",
       "</style>\n",
       "<table border=\"1\" class=\"dataframe\">\n",
       "  <thead>\n",
       "    <tr style=\"text-align: right;\">\n",
       "      <th></th>\n",
       "      <th>Location</th>\n",
       "      <th>MinTemp</th>\n",
       "      <th>MaxTemp</th>\n",
       "      <th>Rainfall</th>\n",
       "      <th>Evaporation</th>\n",
       "      <th>Sunshine</th>\n",
       "      <th>WindGustDir</th>\n",
       "      <th>WindGustSpeed</th>\n",
       "      <th>WindDir9am</th>\n",
       "      <th>WindDir3pm</th>\n",
       "      <th>WindSpeed9am</th>\n",
       "      <th>WindSpeed3pm</th>\n",
       "      <th>Humidity9am</th>\n",
       "      <th>Humidity3pm</th>\n",
       "      <th>Pressure9am</th>\n",
       "      <th>Pressure3pm</th>\n",
       "      <th>Cloud9am</th>\n",
       "      <th>Cloud3pm</th>\n",
       "      <th>Temp9am</th>\n",
       "      <th>Temp3pm</th>\n",
       "      <th>RainToday</th>\n",
       "      <th>RainTomorrow</th>\n",
       "      <th>day</th>\n",
       "      <th>month</th>\n",
       "      <th>year</th>\n",
       "    </tr>\n",
       "  </thead>\n",
       "  <tbody>\n",
       "    <tr>\n",
       "      <th>0</th>\n",
       "      <td>Albury</td>\n",
       "      <td>13.4</td>\n",
       "      <td>22.9</td>\n",
       "      <td>0.6</td>\n",
       "      <td>NaN</td>\n",
       "      <td>NaN</td>\n",
       "      <td>W</td>\n",
       "      <td>44.0</td>\n",
       "      <td>W</td>\n",
       "      <td>WNW</td>\n",
       "      <td>20.0</td>\n",
       "      <td>24.0</td>\n",
       "      <td>71.0</td>\n",
       "      <td>22.0</td>\n",
       "      <td>1007.7</td>\n",
       "      <td>1007.1</td>\n",
       "      <td>8.0</td>\n",
       "      <td>NaN</td>\n",
       "      <td>16.9</td>\n",
       "      <td>21.8</td>\n",
       "      <td>0.0</td>\n",
       "      <td>0.0</td>\n",
       "      <td>1</td>\n",
       "      <td>12</td>\n",
       "      <td>2008</td>\n",
       "    </tr>\n",
       "    <tr>\n",
       "      <th>1</th>\n",
       "      <td>Albury</td>\n",
       "      <td>7.4</td>\n",
       "      <td>25.1</td>\n",
       "      <td>0.0</td>\n",
       "      <td>NaN</td>\n",
       "      <td>NaN</td>\n",
       "      <td>WNW</td>\n",
       "      <td>44.0</td>\n",
       "      <td>NNW</td>\n",
       "      <td>WSW</td>\n",
       "      <td>4.0</td>\n",
       "      <td>22.0</td>\n",
       "      <td>44.0</td>\n",
       "      <td>25.0</td>\n",
       "      <td>1010.6</td>\n",
       "      <td>1007.8</td>\n",
       "      <td>NaN</td>\n",
       "      <td>NaN</td>\n",
       "      <td>17.2</td>\n",
       "      <td>24.3</td>\n",
       "      <td>0.0</td>\n",
       "      <td>0.0</td>\n",
       "      <td>2</td>\n",
       "      <td>12</td>\n",
       "      <td>2008</td>\n",
       "    </tr>\n",
       "    <tr>\n",
       "      <th>2</th>\n",
       "      <td>Albury</td>\n",
       "      <td>12.9</td>\n",
       "      <td>25.7</td>\n",
       "      <td>0.0</td>\n",
       "      <td>NaN</td>\n",
       "      <td>NaN</td>\n",
       "      <td>WSW</td>\n",
       "      <td>46.0</td>\n",
       "      <td>W</td>\n",
       "      <td>WSW</td>\n",
       "      <td>19.0</td>\n",
       "      <td>26.0</td>\n",
       "      <td>38.0</td>\n",
       "      <td>30.0</td>\n",
       "      <td>1007.6</td>\n",
       "      <td>1008.7</td>\n",
       "      <td>NaN</td>\n",
       "      <td>2.0</td>\n",
       "      <td>21.0</td>\n",
       "      <td>23.2</td>\n",
       "      <td>0.0</td>\n",
       "      <td>0.0</td>\n",
       "      <td>3</td>\n",
       "      <td>12</td>\n",
       "      <td>2008</td>\n",
       "    </tr>\n",
       "  </tbody>\n",
       "</table>\n",
       "</div>"
      ],
      "text/plain": [
       "  Location  MinTemp  MaxTemp  Rainfall  Evaporation  Sunshine WindGustDir  \\\n",
       "0   Albury     13.4     22.9       0.6          NaN       NaN           W   \n",
       "1   Albury      7.4     25.1       0.0          NaN       NaN         WNW   \n",
       "2   Albury     12.9     25.7       0.0          NaN       NaN         WSW   \n",
       "\n",
       "   WindGustSpeed WindDir9am WindDir3pm  WindSpeed9am  WindSpeed3pm  \\\n",
       "0           44.0          W        WNW          20.0          24.0   \n",
       "1           44.0        NNW        WSW           4.0          22.0   \n",
       "2           46.0          W        WSW          19.0          26.0   \n",
       "\n",
       "   Humidity9am  Humidity3pm  Pressure9am  Pressure3pm  Cloud9am  Cloud3pm  \\\n",
       "0         71.0         22.0       1007.7       1007.1       8.0       NaN   \n",
       "1         44.0         25.0       1010.6       1007.8       NaN       NaN   \n",
       "2         38.0         30.0       1007.6       1008.7       NaN       2.0   \n",
       "\n",
       "   Temp9am  Temp3pm  RainToday  RainTomorrow  day  month  year  \n",
       "0     16.9     21.8        0.0           0.0    1     12  2008  \n",
       "1     17.2     24.3        0.0           0.0    2     12  2008  \n",
       "2     21.0     23.2        0.0           0.0    3     12  2008  "
      ]
     },
     "execution_count": 9,
     "metadata": {},
     "output_type": "execute_result"
    }
   ],
   "source": [
    "eda['day'] = eda['Date'].dt.day\n",
    "eda['month'] = eda['Date'].dt.month\n",
    "eda['year'] = eda['Date'].dt.year\n",
    "eda = eda.drop('Date', axis=1)\n",
    "\n",
    "eda.head(3)"
   ]
  },
  {
   "cell_type": "markdown",
   "metadata": {
    "id": "rQL60HNqhWEC"
   },
   "source": [
    "Kolom yang tidak dibutuhkan dalam visualisasi intensitas hujan, dapat kita hapus dengan menggunakan fitur drop"
   ]
  },
  {
   "cell_type": "code",
   "execution_count": 10,
   "metadata": {
    "colab": {
     "base_uri": "https://localhost:8080/"
    },
    "id": "G_5xgtlmVi01",
    "outputId": "af80eb90-aa7c-4290-c46c-9a1cc4a1383e"
   },
   "outputs": [
    {
     "data": {
      "text/plain": [
       "Index(['Location', 'MinTemp', 'MaxTemp', 'Rainfall', 'Evaporation', 'Sunshine',\n",
       "       'WindGustDir', 'WindGustSpeed', 'WindDir9am', 'WindDir3pm',\n",
       "       'WindSpeed9am', 'WindSpeed3pm', 'Humidity9am', 'Humidity3pm',\n",
       "       'Pressure9am', 'Pressure3pm', 'Cloud9am', 'Cloud3pm', 'Temp9am',\n",
       "       'Temp3pm', 'RainToday', 'RainTomorrow', 'day', 'month', 'year'],\n",
       "      dtype='object')"
      ]
     },
     "execution_count": 10,
     "metadata": {},
     "output_type": "execute_result"
    }
   ],
   "source": [
    "eda.columns"
   ]
  },
  {
   "cell_type": "code",
   "execution_count": 11,
   "metadata": {
    "id": "fLmJKajoXEUz"
   },
   "outputs": [],
   "source": [
    "eda_rain = eda.copy()\n",
    "eda_rain = eda_rain.drop(columns=['MinTemp', 'MaxTemp', 'Rainfall', 'Evaporation', 'Sunshine',\n",
    "                                  'WindGustDir', 'WindGustSpeed', 'WindDir9am', 'WindDir3pm',\n",
    "                                  'WindSpeed9am', 'WindSpeed3pm', 'Humidity9am', 'Humidity3pm',\n",
    "                                  'Pressure9am', 'Pressure3pm', 'Cloud9am', 'Cloud3pm', 'Temp9am',\n",
    "                                  'Temp3pm'], axis=1)"
   ]
  },
  {
   "cell_type": "code",
   "execution_count": 12,
   "metadata": {
    "colab": {
     "base_uri": "https://localhost:8080/",
     "height": 144
    },
    "id": "pHTdxVS7phJk",
    "outputId": "116599a8-8426-4007-9d5a-a2356eef08e4"
   },
   "outputs": [
    {
     "data": {
      "text/html": [
       "<div>\n",
       "<style scoped>\n",
       "    .dataframe tbody tr th:only-of-type {\n",
       "        vertical-align: middle;\n",
       "    }\n",
       "\n",
       "    .dataframe tbody tr th {\n",
       "        vertical-align: top;\n",
       "    }\n",
       "\n",
       "    .dataframe thead th {\n",
       "        text-align: right;\n",
       "    }\n",
       "</style>\n",
       "<table border=\"1\" class=\"dataframe\">\n",
       "  <thead>\n",
       "    <tr style=\"text-align: right;\">\n",
       "      <th></th>\n",
       "      <th>Location</th>\n",
       "      <th>RainToday</th>\n",
       "      <th>RainTomorrow</th>\n",
       "      <th>day</th>\n",
       "      <th>month</th>\n",
       "      <th>year</th>\n",
       "    </tr>\n",
       "  </thead>\n",
       "  <tbody>\n",
       "    <tr>\n",
       "      <th>0</th>\n",
       "      <td>Albury</td>\n",
       "      <td>0.0</td>\n",
       "      <td>0.0</td>\n",
       "      <td>1</td>\n",
       "      <td>12</td>\n",
       "      <td>2008</td>\n",
       "    </tr>\n",
       "    <tr>\n",
       "      <th>1</th>\n",
       "      <td>Albury</td>\n",
       "      <td>0.0</td>\n",
       "      <td>0.0</td>\n",
       "      <td>2</td>\n",
       "      <td>12</td>\n",
       "      <td>2008</td>\n",
       "    </tr>\n",
       "    <tr>\n",
       "      <th>2</th>\n",
       "      <td>Albury</td>\n",
       "      <td>0.0</td>\n",
       "      <td>0.0</td>\n",
       "      <td>3</td>\n",
       "      <td>12</td>\n",
       "      <td>2008</td>\n",
       "    </tr>\n",
       "  </tbody>\n",
       "</table>\n",
       "</div>"
      ],
      "text/plain": [
       "  Location  RainToday  RainTomorrow  day  month  year\n",
       "0   Albury        0.0           0.0    1     12  2008\n",
       "1   Albury        0.0           0.0    2     12  2008\n",
       "2   Albury        0.0           0.0    3     12  2008"
      ]
     },
     "execution_count": 12,
     "metadata": {},
     "output_type": "execute_result"
    }
   ],
   "source": [
    "eda_rain.head(3)"
   ]
  },
  {
   "cell_type": "markdown",
   "metadata": {
    "id": "SJYqr0mwhpbw"
   },
   "source": [
    "Setelah kita memperoleh kolom-kolom yang dibutuhkan, data ini dapat kita kelompokkan berdasarkan kolom tahun menggunakan fitur .groupby()"
   ]
  },
  {
   "cell_type": "code",
   "execution_count": 13,
   "metadata": {
    "id": "8t0FozgKa3G_"
   },
   "outputs": [],
   "source": [
    "eda_rain_perYear = eda_rain.groupby(['year']).sum()\n",
    "eda_rain_perYear = eda_rain_perYear.drop(columns=['day', 'month'], axis=1)"
   ]
  },
  {
   "cell_type": "code",
   "execution_count": 14,
   "metadata": {
    "colab": {
     "base_uri": "https://localhost:8080/",
     "height": 349
    },
    "id": "vJZ_JhFBb2sB",
    "outputId": "6f891f9c-7f92-4b29-9aef-500b6cd78392"
   },
   "outputs": [
    {
     "data": {
      "image/png": "[encoded data removed]",
      "text/plain": [
       "<Figure size 576x360 with 1 Axes>"
      ]
     },
     "metadata": {
      "needs_background": "light"
     },
     "output_type": "display_data"
    }
   ],
   "source": [
    "eda_rain_perYear.plot(kind='bar', stacked=False, figsize=(8,5))\n",
    "plt.xlabel('year')\n",
    "plt.ylabel('count')\n",
    "plt.show()"
   ]
  },
  {
   "cell_type": "markdown",
   "metadata": {
    "id": "NVRZB_R9iR7p"
   },
   "source": [
    "Pada data di atas terlihat bahwa intensitas hujan tahun 2016 lebih tinggi dari tahun lainnya. Akan dilihat persebaran intensitas hujan pada tahun 2016 per kota di Australia seperti di bawah ini"
   ]
  },
  {
   "cell_type": "code",
   "execution_count": 15,
   "metadata": {
    "id": "13TzsGOFsECf"
   },
   "outputs": [],
   "source": [
    "eda_rain_perLoc = eda_rain.copy()\n",
    "eda_rain_perLoc = eda_rain_perLoc.loc[eda_rain['year'] == 2016]\n",
    "eda_rain_perLoc = eda_rain_perLoc.drop(columns=['day', 'month', 'year'], axis=1)"
   ]
  },
  {
   "cell_type": "code",
   "execution_count": 16,
   "metadata": {
    "colab": {
     "base_uri": "https://localhost:8080/",
     "height": 175
    },
    "id": "ozOxQwDRsOt6",
    "outputId": "1e9e5b00-760e-44b7-f094-b30eb60fe46a"
   },
   "outputs": [
    {
     "data": {
      "text/html": [
       "<div>\n",
       "<style scoped>\n",
       "    .dataframe tbody tr th:only-of-type {\n",
       "        vertical-align: middle;\n",
       "    }\n",
       "\n",
       "    .dataframe tbody tr th {\n",
       "        vertical-align: top;\n",
       "    }\n",
       "\n",
       "    .dataframe thead th {\n",
       "        text-align: right;\n",
       "    }\n",
       "</style>\n",
       "<table border=\"1\" class=\"dataframe\">\n",
       "  <thead>\n",
       "    <tr style=\"text-align: right;\">\n",
       "      <th></th>\n",
       "      <th>RainToday</th>\n",
       "      <th>RainTomorrow</th>\n",
       "    </tr>\n",
       "    <tr>\n",
       "      <th>Location</th>\n",
       "      <th></th>\n",
       "      <th></th>\n",
       "    </tr>\n",
       "  </thead>\n",
       "  <tbody>\n",
       "    <tr>\n",
       "      <th>Adelaide</th>\n",
       "      <td>90.0</td>\n",
       "      <td>90.0</td>\n",
       "    </tr>\n",
       "    <tr>\n",
       "      <th>Albany</th>\n",
       "      <td>124.0</td>\n",
       "      <td>124.0</td>\n",
       "    </tr>\n",
       "    <tr>\n",
       "      <th>Albury</th>\n",
       "      <td>88.0</td>\n",
       "      <td>88.0</td>\n",
       "    </tr>\n",
       "  </tbody>\n",
       "</table>\n",
       "</div>"
      ],
      "text/plain": [
       "          RainToday  RainTomorrow\n",
       "Location                         \n",
       "Adelaide       90.0          90.0\n",
       "Albany        124.0         124.0\n",
       "Albury         88.0          88.0"
      ]
     },
     "execution_count": 16,
     "metadata": {},
     "output_type": "execute_result"
    }
   ],
   "source": [
    "eda_rain_perLoc = eda_rain_perLoc.groupby(['Location']).sum()\n",
    "eda_rain_perLoc.head(3)"
   ]
  },
  {
   "cell_type": "code",
   "execution_count": 17,
   "metadata": {
    "colab": {
     "base_uri": "https://localhost:8080/",
     "height": 954
    },
    "id": "Aai4UoSvrmgS",
    "outputId": "39d7f9d8-fd6b-4a05-9928-0a87a442685b"
   },
   "outputs": [
    {
     "data": {
      "image/png": "[encoded data removed]",
      "text/plain": [
       "<Figure size 1296x1080 with 1 Axes>"
      ]
     },
     "metadata": {
      "needs_background": "light"
     },
     "output_type": "display_data"
    }
   ],
   "source": [
    "eda_rain_perLoc.plot(kind='bar', stacked=False, figsize=(18,15))\n",
    "plt.xlabel('Location')\n",
    "plt.ylabel('count')\n",
    "plt.show()"
   ]
  },
  {
   "cell_type": "markdown",
   "metadata": {
    "id": "rY0V9dH6j78_"
   },
   "source": [
    "Pada data di atas, dapat disimpulkan bahwa Portland merupakan kota yang curah hujannya lebih tinggi pada data tahun 2016."
   ]
  },
  {
   "cell_type": "code",
   "execution_count": 18,
   "metadata": {
    "id": "iSOf5U4KUJbT"
   },
   "outputs": [],
   "source": [
    "data1 = eda.copy()"
   ]
  },
  {
   "cell_type": "code",
   "execution_count": 19,
   "metadata": {
    "colab": {
     "base_uri": "https://localhost:8080/",
     "height": 270
    },
    "id": "RABdAqgQVzBm",
    "outputId": "381d61ba-2d27-4020-8d19-b5e0c6ec078a"
   },
   "outputs": [
    {
     "data": {
      "text/html": [
       "<div>\n",
       "<style scoped>\n",
       "    .dataframe tbody tr th:only-of-type {\n",
       "        vertical-align: middle;\n",
       "    }\n",
       "\n",
       "    .dataframe tbody tr th {\n",
       "        vertical-align: top;\n",
       "    }\n",
       "\n",
       "    .dataframe thead th {\n",
       "        text-align: right;\n",
       "    }\n",
       "</style>\n",
       "<table border=\"1\" class=\"dataframe\">\n",
       "  <thead>\n",
       "    <tr style=\"text-align: right;\">\n",
       "      <th></th>\n",
       "      <th>Location</th>\n",
       "      <th>MinTemp</th>\n",
       "      <th>MaxTemp</th>\n",
       "      <th>Rainfall</th>\n",
       "      <th>Evaporation</th>\n",
       "      <th>Sunshine</th>\n",
       "      <th>WindGustDir</th>\n",
       "      <th>WindGustSpeed</th>\n",
       "      <th>WindDir9am</th>\n",
       "      <th>WindDir3pm</th>\n",
       "      <th>WindSpeed9am</th>\n",
       "      <th>WindSpeed3pm</th>\n",
       "      <th>Humidity9am</th>\n",
       "      <th>Humidity3pm</th>\n",
       "      <th>Pressure9am</th>\n",
       "      <th>Pressure3pm</th>\n",
       "      <th>Cloud9am</th>\n",
       "      <th>Cloud3pm</th>\n",
       "      <th>Temp9am</th>\n",
       "      <th>Temp3pm</th>\n",
       "      <th>RainToday</th>\n",
       "      <th>RainTomorrow</th>\n",
       "      <th>day</th>\n",
       "      <th>month</th>\n",
       "      <th>year</th>\n",
       "    </tr>\n",
       "  </thead>\n",
       "  <tbody>\n",
       "    <tr>\n",
       "      <th>0</th>\n",
       "      <td>Albury</td>\n",
       "      <td>13.4</td>\n",
       "      <td>22.9</td>\n",
       "      <td>0.6</td>\n",
       "      <td>NaN</td>\n",
       "      <td>NaN</td>\n",
       "      <td>W</td>\n",
       "      <td>44.0</td>\n",
       "      <td>W</td>\n",
       "      <td>WNW</td>\n",
       "      <td>20.0</td>\n",
       "      <td>24.0</td>\n",
       "      <td>71.0</td>\n",
       "      <td>22.0</td>\n",
       "      <td>1007.7</td>\n",
       "      <td>1007.1</td>\n",
       "      <td>8.0</td>\n",
       "      <td>NaN</td>\n",
       "      <td>16.9</td>\n",
       "      <td>21.8</td>\n",
       "      <td>0.0</td>\n",
       "      <td>0.0</td>\n",
       "      <td>1</td>\n",
       "      <td>12</td>\n",
       "      <td>2008</td>\n",
       "    </tr>\n",
       "    <tr>\n",
       "      <th>1</th>\n",
       "      <td>Albury</td>\n",
       "      <td>7.4</td>\n",
       "      <td>25.1</td>\n",
       "      <td>0.0</td>\n",
       "      <td>NaN</td>\n",
       "      <td>NaN</td>\n",
       "      <td>WNW</td>\n",
       "      <td>44.0</td>\n",
       "      <td>NNW</td>\n",
       "      <td>WSW</td>\n",
       "      <td>4.0</td>\n",
       "      <td>22.0</td>\n",
       "      <td>44.0</td>\n",
       "      <td>25.0</td>\n",
       "      <td>1010.6</td>\n",
       "      <td>1007.8</td>\n",
       "      <td>NaN</td>\n",
       "      <td>NaN</td>\n",
       "      <td>17.2</td>\n",
       "      <td>24.3</td>\n",
       "      <td>0.0</td>\n",
       "      <td>0.0</td>\n",
       "      <td>2</td>\n",
       "      <td>12</td>\n",
       "      <td>2008</td>\n",
       "    </tr>\n",
       "    <tr>\n",
       "      <th>2</th>\n",
       "      <td>Albury</td>\n",
       "      <td>12.9</td>\n",
       "      <td>25.7</td>\n",
       "      <td>0.0</td>\n",
       "      <td>NaN</td>\n",
       "      <td>NaN</td>\n",
       "      <td>WSW</td>\n",
       "      <td>46.0</td>\n",
       "      <td>W</td>\n",
       "      <td>WSW</td>\n",
       "      <td>19.0</td>\n",
       "      <td>26.0</td>\n",
       "      <td>38.0</td>\n",
       "      <td>30.0</td>\n",
       "      <td>1007.6</td>\n",
       "      <td>1008.7</td>\n",
       "      <td>NaN</td>\n",
       "      <td>2.0</td>\n",
       "      <td>21.0</td>\n",
       "      <td>23.2</td>\n",
       "      <td>0.0</td>\n",
       "      <td>0.0</td>\n",
       "      <td>3</td>\n",
       "      <td>12</td>\n",
       "      <td>2008</td>\n",
       "    </tr>\n",
       "  </tbody>\n",
       "</table>\n",
       "</div>"
      ],
      "text/plain": [
       "  Location  MinTemp  MaxTemp  Rainfall  Evaporation  Sunshine WindGustDir  \\\n",
       "0   Albury     13.4     22.9       0.6          NaN       NaN           W   \n",
       "1   Albury      7.4     25.1       0.0          NaN       NaN         WNW   \n",
       "2   Albury     12.9     25.7       0.0          NaN       NaN         WSW   \n",
       "\n",
       "   WindGustSpeed WindDir9am WindDir3pm  WindSpeed9am  WindSpeed3pm  \\\n",
       "0           44.0          W        WNW          20.0          24.0   \n",
       "1           44.0        NNW        WSW           4.0          22.0   \n",
       "2           46.0          W        WSW          19.0          26.0   \n",
       "\n",
       "   Humidity9am  Humidity3pm  Pressure9am  Pressure3pm  Cloud9am  Cloud3pm  \\\n",
       "0         71.0         22.0       1007.7       1007.1       8.0       NaN   \n",
       "1         44.0         25.0       1010.6       1007.8       NaN       NaN   \n",
       "2         38.0         30.0       1007.6       1008.7       NaN       2.0   \n",
       "\n",
       "   Temp9am  Temp3pm  RainToday  RainTomorrow  day  month  year  \n",
       "0     16.9     21.8        0.0           0.0    1     12  2008  \n",
       "1     17.2     24.3        0.0           0.0    2     12  2008  \n",
       "2     21.0     23.2        0.0           0.0    3     12  2008  "
      ]
     },
     "execution_count": 19,
     "metadata": {},
     "output_type": "execute_result"
    }
   ],
   "source": [
    "data1.head(3)"
   ]
  },
  {
   "cell_type": "markdown",
   "metadata": {
    "id": "_1uMrjnikJLQ"
   },
   "source": [
    "Selanjutnya, akan kita lihat persebaran data pada prediksi di kolom RainTomorrow per bulannya dengan mengelompokkan data-datanya berdasarkan kolom bulan menggunakan fitur .groupby()"
   ]
  },
  {
   "cell_type": "code",
   "execution_count": 20,
   "metadata": {
    "colab": {
     "base_uri": "https://localhost:8080/",
     "height": 298
    },
    "id": "ZnlLk_JbV6y-",
    "outputId": "8794b03d-d93d-4c1d-a20b-a59596181064"
   },
   "outputs": [
    {
     "data": {
      "text/plain": [
       "<AxesSubplot:xlabel='month', ylabel='Percentage'>"
      ]
     },
     "execution_count": 20,
     "metadata": {},
     "output_type": "execute_result"
    },
    {
     "data": {
      "image/png": "[encoded data removed]",
      "text/plain": [
       "<Figure size 432x288 with 1 Axes>"
      ]
     },
     "metadata": {
      "needs_background": "light"
     },
     "output_type": "display_data"
    }
   ],
   "source": [
    "month_counts = (data1.groupby(['month'])['RainTomorrow']\n",
    "                .value_counts(normalize=True)\n",
    "                .rename('Percentage')\n",
    "                .mul(100)\n",
    "                .reset_index()\n",
    "                .sort_values('month'))\n",
    "\n",
    "sb.lineplot(x='month', y='Percentage', hue='RainTomorrow', data=month_counts)"
   ]
  },
  {
   "cell_type": "markdown",
   "metadata": {
    "id": "wLqKID9Xo5s-"
   },
   "source": [
    "Dapat kita lihat pada kedua barplot diatas, bahwa curah hujan tertinggi terjadi pada tahun 2016 dan pada tahun tersebut, Portland menjadi wilayah yang memiliki curah hujan paling tinggi."
   ]
  },
  {
   "cell_type": "markdown",
   "metadata": {
    "id": "Cse_pB2DH3_I"
   },
   "source": [
    "## Cek persebaran data target"
   ]
  },
  {
   "cell_type": "code",
   "execution_count": 21,
   "metadata": {
    "colab": {
     "base_uri": "https://localhost:8080/",
     "height": 298
    },
    "id": "eHpF-z-j9FTz",
    "outputId": "c95e3fe2-fdc1-4c13-9587-09431810655f"
   },
   "outputs": [
    {
     "data": {
      "text/plain": [
       "<AxesSubplot:xlabel='RainTomorrow', ylabel='Count'>"
      ]
     },
     "execution_count": 21,
     "metadata": {},
     "output_type": "execute_result"
    },
    {
     "data": {
      "image/png": "[encoded data removed]",
      "text/plain": [
       "<Figure size 432x288 with 1 Axes>"
      ]
     },
     "metadata": {
      "needs_background": "light"
     },
     "output_type": "display_data"
    }
   ],
   "source": [
    "sb.histplot(data['RainTomorrow'])"
   ]
  },
  {
   "cell_type": "markdown",
   "metadata": {
    "id": "34iEAyejH2C9"
   },
   "source": [
    "Dapat dilihat dari histogram diatas bahwa data target imbalanced atau tidak seimbang, sehingga kita perlu menyeimbangkan data target. Cara yang akan dipakai disini adalah undersampling dan oversampling."
   ]
  },
  {
   "cell_type": "markdown",
   "metadata": {
    "id": "er2NbF9u267F"
   },
   "source": [
    "# Data Cleaning"
   ]
  },
  {
   "cell_type": "markdown",
   "metadata": {
    "id": "BlrZr6NDRFbw"
   },
   "source": [
    "## Handling Missing Value"
   ]
  },
  {
   "cell_type": "code",
   "execution_count": 22,
   "metadata": {
    "colab": {
     "base_uri": "https://localhost:8080/"
    },
    "id": "mRG-3dTRNx8t",
    "outputId": "6c4aa2a3-0725-4847-ba05-60926950c2f0"
   },
   "outputs": [
    {
     "data": {
      "text/html": [
       "<div>\n",
       "<style scoped>\n",
       "    .dataframe tbody tr th:only-of-type {\n",
       "        vertical-align: middle;\n",
       "    }\n",
       "\n",
       "    .dataframe tbody tr th {\n",
       "        vertical-align: top;\n",
       "    }\n",
       "\n",
       "    .dataframe thead th {\n",
       "        text-align: right;\n",
       "    }\n",
       "</style>\n",
       "<table border=\"1\" class=\"dataframe\">\n",
       "  <thead>\n",
       "    <tr style=\"text-align: right;\">\n",
       "      <th></th>\n",
       "      <th>Date</th>\n",
       "      <th>Location</th>\n",
       "      <th>MinTemp</th>\n",
       "      <th>MaxTemp</th>\n",
       "      <th>Rainfall</th>\n",
       "      <th>Evaporation</th>\n",
       "      <th>Sunshine</th>\n",
       "      <th>WindGustDir</th>\n",
       "      <th>WindGustSpeed</th>\n",
       "      <th>WindDir9am</th>\n",
       "      <th>WindDir3pm</th>\n",
       "      <th>WindSpeed9am</th>\n",
       "      <th>WindSpeed3pm</th>\n",
       "      <th>Humidity9am</th>\n",
       "      <th>Humidity3pm</th>\n",
       "      <th>Pressure9am</th>\n",
       "      <th>Pressure3pm</th>\n",
       "      <th>Cloud9am</th>\n",
       "      <th>Cloud3pm</th>\n",
       "      <th>Temp9am</th>\n",
       "      <th>Temp3pm</th>\n",
       "      <th>RainToday</th>\n",
       "      <th>RainTomorrow</th>\n",
       "    </tr>\n",
       "  </thead>\n",
       "  <tbody>\n",
       "    <tr>\n",
       "      <th>0</th>\n",
       "      <td>2008-12-01</td>\n",
       "      <td>Albury</td>\n",
       "      <td>13.4</td>\n",
       "      <td>22.9</td>\n",
       "      <td>0.6</td>\n",
       "      <td>NaN</td>\n",
       "      <td>NaN</td>\n",
       "      <td>W</td>\n",
       "      <td>44.0</td>\n",
       "      <td>W</td>\n",
       "      <td>WNW</td>\n",
       "      <td>20.0</td>\n",
       "      <td>24.0</td>\n",
       "      <td>71.0</td>\n",
       "      <td>22.0</td>\n",
       "      <td>1007.7</td>\n",
       "      <td>1007.1</td>\n",
       "      <td>8.0</td>\n",
       "      <td>NaN</td>\n",
       "      <td>16.9</td>\n",
       "      <td>21.8</td>\n",
       "      <td>No</td>\n",
       "      <td>No</td>\n",
       "    </tr>\n",
       "    <tr>\n",
       "      <th>1</th>\n",
       "      <td>2008-12-02</td>\n",
       "      <td>Albury</td>\n",
       "      <td>7.4</td>\n",
       "      <td>25.1</td>\n",
       "      <td>0.0</td>\n",
       "      <td>NaN</td>\n",
       "      <td>NaN</td>\n",
       "      <td>WNW</td>\n",
       "      <td>44.0</td>\n",
       "      <td>NNW</td>\n",
       "      <td>WSW</td>\n",
       "      <td>4.0</td>\n",
       "      <td>22.0</td>\n",
       "      <td>44.0</td>\n",
       "      <td>25.0</td>\n",
       "      <td>1010.6</td>\n",
       "      <td>1007.8</td>\n",
       "      <td>NaN</td>\n",
       "      <td>NaN</td>\n",
       "      <td>17.2</td>\n",
       "      <td>24.3</td>\n",
       "      <td>No</td>\n",
       "      <td>No</td>\n",
       "    </tr>\n",
       "    <tr>\n",
       "      <th>2</th>\n",
       "      <td>2008-12-03</td>\n",
       "      <td>Albury</td>\n",
       "      <td>12.9</td>\n",
       "      <td>25.7</td>\n",
       "      <td>0.0</td>\n",
       "      <td>NaN</td>\n",
       "      <td>NaN</td>\n",
       "      <td>WSW</td>\n",
       "      <td>46.0</td>\n",
       "      <td>W</td>\n",
       "      <td>WSW</td>\n",
       "      <td>19.0</td>\n",
       "      <td>26.0</td>\n",
       "      <td>38.0</td>\n",
       "      <td>30.0</td>\n",
       "      <td>1007.6</td>\n",
       "      <td>1008.7</td>\n",
       "      <td>NaN</td>\n",
       "      <td>2.0</td>\n",
       "      <td>21.0</td>\n",
       "      <td>23.2</td>\n",
       "      <td>No</td>\n",
       "      <td>No</td>\n",
       "    </tr>\n",
       "  </tbody>\n",
       "</table>\n",
       "</div>"
      ],
      "text/plain": [
       "        Date Location  MinTemp  MaxTemp  Rainfall  Evaporation  Sunshine  \\\n",
       "0 2008-12-01   Albury     13.4     22.9       0.6          NaN       NaN   \n",
       "1 2008-12-02   Albury      7.4     25.1       0.0          NaN       NaN   \n",
       "2 2008-12-03   Albury     12.9     25.7       0.0          NaN       NaN   \n",
       "\n",
       "  WindGustDir  WindGustSpeed WindDir9am WindDir3pm  WindSpeed9am  \\\n",
       "0           W           44.0          W        WNW          20.0   \n",
       "1         WNW           44.0        NNW        WSW           4.0   \n",
       "2         WSW           46.0          W        WSW          19.0   \n",
       "\n",
       "   WindSpeed3pm  Humidity9am  Humidity3pm  Pressure9am  Pressure3pm  Cloud9am  \\\n",
       "0          24.0         71.0         22.0       1007.7       1007.1       8.0   \n",
       "1          22.0         44.0         25.0       1010.6       1007.8       NaN   \n",
       "2          26.0         38.0         30.0       1007.6       1008.7       NaN   \n",
       "\n",
       "   Cloud3pm  Temp9am  Temp3pm RainToday RainTomorrow  \n",
       "0       NaN     16.9     21.8        No           No  \n",
       "1       NaN     17.2     24.3        No           No  \n",
       "2       2.0     21.0     23.2        No           No  "
      ]
     },
     "execution_count": 22,
     "metadata": {},
     "output_type": "execute_result"
    }
   ],
   "source": [
    "df = data.copy()\n",
    "df.head(3)"
   ]
  },
  {
   "cell_type": "code",
   "execution_count": 23,
   "metadata": {
    "colab": {
     "base_uri": "https://localhost:8080/"
    },
    "id": "tACLWeve3A5b",
    "outputId": "0ead8ad4-bf04-474f-a10b-880655e64fcf"
   },
   "outputs": [
    {
     "data": {
      "text/plain": [
       "0"
      ]
     },
     "execution_count": 23,
     "metadata": {},
     "output_type": "execute_result"
    }
   ],
   "source": [
    "df.duplicated().sum()"
   ]
  },
  {
   "cell_type": "code",
   "execution_count": 24,
   "metadata": {
    "colab": {
     "base_uri": "https://localhost:8080/"
    },
    "id": "DxwkAQ864PR5",
    "outputId": "23bfc9a9-0eff-41c7-bc99-4c10f6432e6d"
   },
   "outputs": [
    {
     "data": {
      "text/plain": [
       "Date                 0\n",
       "Location             0\n",
       "MinTemp           1485\n",
       "MaxTemp           1261\n",
       "Rainfall          3261\n",
       "Evaporation      62790\n",
       "Sunshine         69835\n",
       "WindGustDir      10326\n",
       "WindGustSpeed    10263\n",
       "WindDir9am       10566\n",
       "WindDir3pm        4228\n",
       "WindSpeed9am      1767\n",
       "WindSpeed3pm      3062\n",
       "Humidity9am       2654\n",
       "Humidity3pm       4507\n",
       "Pressure9am      15065\n",
       "Pressure3pm      15028\n",
       "Cloud9am         55888\n",
       "Cloud3pm         59358\n",
       "Temp9am           1767\n",
       "Temp3pm           3609\n",
       "RainToday         3261\n",
       "RainTomorrow      3267\n",
       "dtype: int64"
      ]
     },
     "execution_count": 24,
     "metadata": {},
     "output_type": "execute_result"
    }
   ],
   "source": [
    "df.isna().sum()"
   ]
  },
  {
   "cell_type": "markdown",
   "metadata": {
    "id": "al4mefVW4gpd"
   },
   "source": [
    "Mengelompokkan tipe data agar lebih mudah ketika mengatasi missing values. Dibuat variable 'numeric_columns' yang nantinya akan berisi kolom dengan tipe data numeric dan variable 'object_columns' yang nantinya akan berisi kolom dengan tipe data object."
   ]
  },
  {
   "cell_type": "code",
   "execution_count": 25,
   "metadata": {
    "id": "CFTobLGs4TQo"
   },
   "outputs": [],
   "source": [
    "numeric_columns = df.select_dtypes(include=np.number).columns.tolist()\n",
    "object_columns = df.select_dtypes(include='object').columns.tolist()\n",
    "object_columns = object_columns[0:4]"
   ]
  },
  {
   "cell_type": "markdown",
   "metadata": {
    "id": "ezbu8MJauysP"
   },
   "source": [
    "Mengisi misisng value data numeric dengan menggunakan metode rollling average.Dengan metode ini, nantinya kita dapat mengisi missing value dengan mean dari setiap 30 hari."
   ]
  },
  {
   "cell_type": "code",
   "execution_count": 26,
   "metadata": {
    "id": "aDZmIRi78P8f"
   },
   "outputs": [],
   "source": [
    "for cols in numeric_columns:\n",
    "    if df[cols].isnull().sum() != 0:\n",
    "        while True:\n",
    "            df[cols] = df[cols].fillna(df[cols].rolling(min_periods=1, window = 30, center=True).mean())\n",
    "            if df[cols].isnull().sum() == 0:\n",
    "                break"
   ]
  },
  {
   "cell_type": "markdown",
   "metadata": {
    "id": "6h5ZH03SvB-K"
   },
   "source": [
    "Mengisi missing value pada tipe data object dengan nilai yang paling sering keluar."
   ]
  },
  {
   "cell_type": "code",
   "execution_count": 27,
   "metadata": {
    "id": "fNPltYlrPBAm"
   },
   "outputs": [],
   "source": [
    "for col in object_columns:\n",
    "  df[col] = df[col].fillna(df[col].mode()[0])"
   ]
  },
  {
   "cell_type": "code",
   "execution_count": 28,
   "metadata": {
    "colab": {
     "base_uri": "https://localhost:8080/"
    },
    "id": "KJiYASjrPUTz",
    "outputId": "d5b7b735-d371-491a-c664-01ba06cce79e"
   },
   "outputs": [
    {
     "data": {
      "text/plain": [
       "Date                0\n",
       "Location            0\n",
       "MinTemp             0\n",
       "MaxTemp             0\n",
       "Rainfall            0\n",
       "Evaporation         0\n",
       "Sunshine            0\n",
       "WindGustDir         0\n",
       "WindGustSpeed       0\n",
       "WindDir9am          0\n",
       "WindDir3pm          0\n",
       "WindSpeed9am        0\n",
       "WindSpeed3pm        0\n",
       "Humidity9am         0\n",
       "Humidity3pm         0\n",
       "Pressure9am         0\n",
       "Pressure3pm         0\n",
       "Cloud9am            0\n",
       "Cloud3pm            0\n",
       "Temp9am             0\n",
       "Temp3pm             0\n",
       "RainToday        3261\n",
       "RainTomorrow     3267\n",
       "dtype: int64"
      ]
     },
     "execution_count": 28,
     "metadata": {},
     "output_type": "execute_result"
    }
   ],
   "source": [
    "df.isna().sum()"
   ]
  },
  {
   "cell_type": "code",
   "execution_count": 29,
   "metadata": {
    "id": "d6EBK7-HPaBJ"
   },
   "outputs": [],
   "source": [
    "df.dropna(inplace=True)"
   ]
  },
  {
   "cell_type": "code",
   "execution_count": 30,
   "metadata": {
    "colab": {
     "base_uri": "https://localhost:8080/"
    },
    "id": "lickOeT3Pd4T",
    "outputId": "36358ee7-2659-4d9c-bcf1-e9cc09501366"
   },
   "outputs": [
    {
     "data": {
      "text/plain": [
       "Date             0\n",
       "Location         0\n",
       "MinTemp          0\n",
       "MaxTemp          0\n",
       "Rainfall         0\n",
       "Evaporation      0\n",
       "Sunshine         0\n",
       "WindGustDir      0\n",
       "WindGustSpeed    0\n",
       "WindDir9am       0\n",
       "WindDir3pm       0\n",
       "WindSpeed9am     0\n",
       "WindSpeed3pm     0\n",
       "Humidity9am      0\n",
       "Humidity3pm      0\n",
       "Pressure9am      0\n",
       "Pressure3pm      0\n",
       "Cloud9am         0\n",
       "Cloud3pm         0\n",
       "Temp9am          0\n",
       "Temp3pm          0\n",
       "RainToday        0\n",
       "RainTomorrow     0\n",
       "dtype: int64"
      ]
     },
     "execution_count": 30,
     "metadata": {},
     "output_type": "execute_result"
    }
   ],
   "source": [
    "df.isna().sum()"
   ]
  },
  {
   "cell_type": "markdown",
   "metadata": {
    "id": "CbhC-DAwxw-m"
   },
   "source": [
    "# Data Preprocessing"
   ]
  },
  {
   "cell_type": "markdown",
   "metadata": {
    "id": "ul5orz6-8L0C"
   },
   "source": [
    "## Menggabungkan kolom yang saling berkaitan"
   ]
  },
  {
   "cell_type": "code",
   "execution_count": 31,
   "metadata": {
    "colab": {
     "base_uri": "https://localhost:8080/"
    },
    "id": "gxh9byrjpWJA",
    "outputId": "a8ac5205-8eb4-4e65-ea73-df30fb1d4af5"
   },
   "outputs": [
    {
     "data": {
      "text/html": [
       "<div>\n",
       "<style scoped>\n",
       "    .dataframe tbody tr th:only-of-type {\n",
       "        vertical-align: middle;\n",
       "    }\n",
       "\n",
       "    .dataframe tbody tr th {\n",
       "        vertical-align: top;\n",
       "    }\n",
       "\n",
       "    .dataframe thead th {\n",
       "        text-align: right;\n",
       "    }\n",
       "</style>\n",
       "<table border=\"1\" class=\"dataframe\">\n",
       "  <thead>\n",
       "    <tr style=\"text-align: right;\">\n",
       "      <th></th>\n",
       "      <th>Date</th>\n",
       "      <th>Location</th>\n",
       "      <th>MinTemp</th>\n",
       "      <th>MaxTemp</th>\n",
       "      <th>Rainfall</th>\n",
       "      <th>Evaporation</th>\n",
       "      <th>Sunshine</th>\n",
       "      <th>WindGustDir</th>\n",
       "      <th>WindGustSpeed</th>\n",
       "      <th>WindDir9am</th>\n",
       "      <th>WindDir3pm</th>\n",
       "      <th>WindSpeed9am</th>\n",
       "      <th>WindSpeed3pm</th>\n",
       "      <th>Humidity9am</th>\n",
       "      <th>Humidity3pm</th>\n",
       "      <th>Pressure9am</th>\n",
       "      <th>Pressure3pm</th>\n",
       "      <th>Cloud9am</th>\n",
       "      <th>Cloud3pm</th>\n",
       "      <th>Temp9am</th>\n",
       "      <th>Temp3pm</th>\n",
       "      <th>RainToday</th>\n",
       "      <th>RainTomorrow</th>\n",
       "      <th>AvgTemp</th>\n",
       "      <th>AvgWindSpeed</th>\n",
       "      <th>AvgHumidity</th>\n",
       "      <th>AvgPressure</th>\n",
       "      <th>AvgCloud</th>\n",
       "    </tr>\n",
       "  </thead>\n",
       "  <tbody>\n",
       "    <tr>\n",
       "      <th>0</th>\n",
       "      <td>2008-12-01</td>\n",
       "      <td>Albury</td>\n",
       "      <td>13.4</td>\n",
       "      <td>22.9</td>\n",
       "      <td>0.6</td>\n",
       "      <td>12.0</td>\n",
       "      <td>12.3</td>\n",
       "      <td>W</td>\n",
       "      <td>44.0</td>\n",
       "      <td>W</td>\n",
       "      <td>WNW</td>\n",
       "      <td>20.0</td>\n",
       "      <td>24.0</td>\n",
       "      <td>71.0</td>\n",
       "      <td>22.0</td>\n",
       "      <td>1007.7</td>\n",
       "      <td>1007.1</td>\n",
       "      <td>8.000000</td>\n",
       "      <td>6.6</td>\n",
       "      <td>16.9</td>\n",
       "      <td>21.8</td>\n",
       "      <td>No</td>\n",
       "      <td>No</td>\n",
       "      <td>18.15</td>\n",
       "      <td>22.0</td>\n",
       "      <td>46.5</td>\n",
       "      <td>1007.40</td>\n",
       "      <td>7.300000</td>\n",
       "    </tr>\n",
       "    <tr>\n",
       "      <th>1</th>\n",
       "      <td>2008-12-02</td>\n",
       "      <td>Albury</td>\n",
       "      <td>7.4</td>\n",
       "      <td>25.1</td>\n",
       "      <td>0.0</td>\n",
       "      <td>12.0</td>\n",
       "      <td>12.3</td>\n",
       "      <td>WNW</td>\n",
       "      <td>44.0</td>\n",
       "      <td>NNW</td>\n",
       "      <td>WSW</td>\n",
       "      <td>4.0</td>\n",
       "      <td>22.0</td>\n",
       "      <td>44.0</td>\n",
       "      <td>25.0</td>\n",
       "      <td>1010.6</td>\n",
       "      <td>1007.8</td>\n",
       "      <td>5.333333</td>\n",
       "      <td>6.6</td>\n",
       "      <td>17.2</td>\n",
       "      <td>24.3</td>\n",
       "      <td>No</td>\n",
       "      <td>No</td>\n",
       "      <td>16.25</td>\n",
       "      <td>13.0</td>\n",
       "      <td>34.5</td>\n",
       "      <td>1009.20</td>\n",
       "      <td>5.966667</td>\n",
       "    </tr>\n",
       "    <tr>\n",
       "      <th>2</th>\n",
       "      <td>2008-12-03</td>\n",
       "      <td>Albury</td>\n",
       "      <td>12.9</td>\n",
       "      <td>25.7</td>\n",
       "      <td>0.0</td>\n",
       "      <td>12.0</td>\n",
       "      <td>12.3</td>\n",
       "      <td>WSW</td>\n",
       "      <td>46.0</td>\n",
       "      <td>W</td>\n",
       "      <td>WSW</td>\n",
       "      <td>19.0</td>\n",
       "      <td>26.0</td>\n",
       "      <td>38.0</td>\n",
       "      <td>30.0</td>\n",
       "      <td>1007.6</td>\n",
       "      <td>1008.7</td>\n",
       "      <td>5.714286</td>\n",
       "      <td>2.0</td>\n",
       "      <td>21.0</td>\n",
       "      <td>23.2</td>\n",
       "      <td>No</td>\n",
       "      <td>No</td>\n",
       "      <td>19.30</td>\n",
       "      <td>22.5</td>\n",
       "      <td>34.0</td>\n",
       "      <td>1008.15</td>\n",
       "      <td>3.857143</td>\n",
       "    </tr>\n",
       "  </tbody>\n",
       "</table>\n",
       "</div>"
      ],
      "text/plain": [
       "        Date Location  MinTemp  MaxTemp  Rainfall  Evaporation  Sunshine  \\\n",
       "0 2008-12-01   Albury     13.4     22.9       0.6         12.0      12.3   \n",
       "1 2008-12-02   Albury      7.4     25.1       0.0         12.0      12.3   \n",
       "2 2008-12-03   Albury     12.9     25.7       0.0         12.0      12.3   \n",
       "\n",
       "  WindGustDir  WindGustSpeed WindDir9am WindDir3pm  WindSpeed9am  \\\n",
       "0           W           44.0          W        WNW          20.0   \n",
       "1         WNW           44.0        NNW        WSW           4.0   \n",
       "2         WSW           46.0          W        WSW          19.0   \n",
       "\n",
       "   WindSpeed3pm  Humidity9am  Humidity3pm  Pressure9am  Pressure3pm  Cloud9am  \\\n",
       "0          24.0         71.0         22.0       1007.7       1007.1  8.000000   \n",
       "1          22.0         44.0         25.0       1010.6       1007.8  5.333333   \n",
       "2          26.0         38.0         30.0       1007.6       1008.7  5.714286   \n",
       "\n",
       "   Cloud3pm  Temp9am  Temp3pm RainToday RainTomorrow  AvgTemp  AvgWindSpeed  \\\n",
       "0       6.6     16.9     21.8        No           No    18.15          22.0   \n",
       "1       6.6     17.2     24.3        No           No    16.25          13.0   \n",
       "2       2.0     21.0     23.2        No           No    19.30          22.5   \n",
       "\n",
       "   AvgHumidity  AvgPressure  AvgCloud  \n",
       "0         46.5      1007.40  7.300000  \n",
       "1         34.5      1009.20  5.966667  \n",
       "2         34.0      1008.15  3.857143  "
      ]
     },
     "execution_count": 31,
     "metadata": {},
     "output_type": "execute_result"
    }
   ],
   "source": [
    "new_data = df.copy()\n",
    "\n",
    "new_data['AvgTemp'] = new_data[['MinTemp', 'MaxTemp']].mean(axis=1)\n",
    "new_data['AvgWindSpeed'] = new_data[['WindSpeed9am', 'WindSpeed3pm']].mean(axis=1)\n",
    "new_data['AvgHumidity'] =  new_data[['Humidity9am', 'Humidity3pm']].mean(axis=1)\n",
    "new_data['AvgPressure'] =  new_data[['Pressure9am', 'Pressure3pm']].mean(axis=1)\n",
    "new_data['AvgCloud'] =  new_data[['Cloud9am', 'Cloud3pm']].mean(axis=1)\n",
    "new_data.head(3)"
   ]
  },
  {
   "cell_type": "markdown",
   "metadata": {
    "id": "DAEBQ3jk9Bmt"
   },
   "source": [
    "Karena kita telah melakukan penggabungan feature untuk feature yang saling berkaitan, maka kita dapat melakukan drop pada feature dasar dari hasil penggabungan feature."
   ]
  },
  {
   "cell_type": "code",
   "execution_count": 32,
   "metadata": {
    "colab": {
     "base_uri": "https://localhost:8080/"
    },
    "id": "TlNG57aN82WK",
    "outputId": "53fcb31a-a290-4502-9f55-e87554ec3dfb"
   },
   "outputs": [
    {
     "data": {
      "text/html": [
       "<div>\n",
       "<style scoped>\n",
       "    .dataframe tbody tr th:only-of-type {\n",
       "        vertical-align: middle;\n",
       "    }\n",
       "\n",
       "    .dataframe tbody tr th {\n",
       "        vertical-align: top;\n",
       "    }\n",
       "\n",
       "    .dataframe thead th {\n",
       "        text-align: right;\n",
       "    }\n",
       "</style>\n",
       "<table border=\"1\" class=\"dataframe\">\n",
       "  <thead>\n",
       "    <tr style=\"text-align: right;\">\n",
       "      <th></th>\n",
       "      <th>Date</th>\n",
       "      <th>Location</th>\n",
       "      <th>Rainfall</th>\n",
       "      <th>Evaporation</th>\n",
       "      <th>Sunshine</th>\n",
       "      <th>WindGustDir</th>\n",
       "      <th>WindGustSpeed</th>\n",
       "      <th>WindDir9am</th>\n",
       "      <th>WindDir3pm</th>\n",
       "      <th>Temp9am</th>\n",
       "      <th>Temp3pm</th>\n",
       "      <th>RainToday</th>\n",
       "      <th>RainTomorrow</th>\n",
       "      <th>AvgTemp</th>\n",
       "      <th>AvgWindSpeed</th>\n",
       "      <th>AvgHumidity</th>\n",
       "      <th>AvgPressure</th>\n",
       "      <th>AvgCloud</th>\n",
       "    </tr>\n",
       "  </thead>\n",
       "  <tbody>\n",
       "    <tr>\n",
       "      <th>0</th>\n",
       "      <td>2008-12-01</td>\n",
       "      <td>Albury</td>\n",
       "      <td>0.6</td>\n",
       "      <td>12.0</td>\n",
       "      <td>12.3</td>\n",
       "      <td>W</td>\n",
       "      <td>44.0</td>\n",
       "      <td>W</td>\n",
       "      <td>WNW</td>\n",
       "      <td>16.9</td>\n",
       "      <td>21.8</td>\n",
       "      <td>No</td>\n",
       "      <td>No</td>\n",
       "      <td>18.15</td>\n",
       "      <td>22.0</td>\n",
       "      <td>46.5</td>\n",
       "      <td>1007.40</td>\n",
       "      <td>7.300000</td>\n",
       "    </tr>\n",
       "    <tr>\n",
       "      <th>1</th>\n",
       "      <td>2008-12-02</td>\n",
       "      <td>Albury</td>\n",
       "      <td>0.0</td>\n",
       "      <td>12.0</td>\n",
       "      <td>12.3</td>\n",
       "      <td>WNW</td>\n",
       "      <td>44.0</td>\n",
       "      <td>NNW</td>\n",
       "      <td>WSW</td>\n",
       "      <td>17.2</td>\n",
       "      <td>24.3</td>\n",
       "      <td>No</td>\n",
       "      <td>No</td>\n",
       "      <td>16.25</td>\n",
       "      <td>13.0</td>\n",
       "      <td>34.5</td>\n",
       "      <td>1009.20</td>\n",
       "      <td>5.966667</td>\n",
       "    </tr>\n",
       "    <tr>\n",
       "      <th>2</th>\n",
       "      <td>2008-12-03</td>\n",
       "      <td>Albury</td>\n",
       "      <td>0.0</td>\n",
       "      <td>12.0</td>\n",
       "      <td>12.3</td>\n",
       "      <td>WSW</td>\n",
       "      <td>46.0</td>\n",
       "      <td>W</td>\n",
       "      <td>WSW</td>\n",
       "      <td>21.0</td>\n",
       "      <td>23.2</td>\n",
       "      <td>No</td>\n",
       "      <td>No</td>\n",
       "      <td>19.30</td>\n",
       "      <td>22.5</td>\n",
       "      <td>34.0</td>\n",
       "      <td>1008.15</td>\n",
       "      <td>3.857143</td>\n",
       "    </tr>\n",
       "  </tbody>\n",
       "</table>\n",
       "</div>"
      ],
      "text/plain": [
       "        Date Location  Rainfall  Evaporation  Sunshine WindGustDir  \\\n",
       "0 2008-12-01   Albury       0.6         12.0      12.3           W   \n",
       "1 2008-12-02   Albury       0.0         12.0      12.3         WNW   \n",
       "2 2008-12-03   Albury       0.0         12.0      12.3         WSW   \n",
       "\n",
       "   WindGustSpeed WindDir9am WindDir3pm  Temp9am  Temp3pm RainToday  \\\n",
       "0           44.0          W        WNW     16.9     21.8        No   \n",
       "1           44.0        NNW        WSW     17.2     24.3        No   \n",
       "2           46.0          W        WSW     21.0     23.2        No   \n",
       "\n",
       "  RainTomorrow  AvgTemp  AvgWindSpeed  AvgHumidity  AvgPressure  AvgCloud  \n",
       "0           No    18.15          22.0         46.5      1007.40  7.300000  \n",
       "1           No    16.25          13.0         34.5      1009.20  5.966667  \n",
       "2           No    19.30          22.5         34.0      1008.15  3.857143  "
      ]
     },
     "execution_count": 32,
     "metadata": {},
     "output_type": "execute_result"
    }
   ],
   "source": [
    "new_data = new_data.drop(labels=['MinTemp', 'MaxTemp', 'WindSpeed9am', 'WindSpeed3pm', 'Humidity9am', 'Humidity3pm',\n",
    "                                 'Pressure9am', 'Pressure3pm', 'Cloud9am', 'Cloud3pm'], axis=1)\n",
    "new_data.head(3)"
   ]
  },
  {
   "cell_type": "code",
   "execution_count": 33,
   "metadata": {
    "id": "6wZT7MQFkUtX"
   },
   "outputs": [],
   "source": [
    "new_data['RainToday'] = new_data['RainToday'].replace(['Yes','No'], [1, 0])\n",
    "new_data['RainTomorrow'] = new_data['RainTomorrow'].replace(['Yes', 'No'], [1, 0])"
   ]
  },
  {
   "cell_type": "markdown",
   "metadata": {
    "id": "cgXDhNllFB4q"
   },
   "source": [
    "## Melihat Korelasi Data"
   ]
  },
  {
   "cell_type": "code",
   "execution_count": 34,
   "metadata": {
    "colab": {
     "base_uri": "https://localhost:8080/"
    },
    "id": "-NL09uxN9p_g",
    "outputId": "99979d33-0ee2-48e1-dc00-57ee7c1d9134"
   },
   "outputs": [
    {
     "data": {
      "text/html": [
       "<div>\n",
       "<style scoped>\n",
       "    .dataframe tbody tr th:only-of-type {\n",
       "        vertical-align: middle;\n",
       "    }\n",
       "\n",
       "    .dataframe tbody tr th {\n",
       "        vertical-align: top;\n",
       "    }\n",
       "\n",
       "    .dataframe thead th {\n",
       "        text-align: right;\n",
       "    }\n",
       "</style>\n",
       "<table border=\"1\" class=\"dataframe\">\n",
       "  <thead>\n",
       "    <tr style=\"text-align: right;\">\n",
       "      <th></th>\n",
       "      <th>Location</th>\n",
       "      <th>WindGustDir</th>\n",
       "      <th>WindDir9am</th>\n",
       "      <th>WindDir3pm</th>\n",
       "      <th>RainTomorrow</th>\n",
       "    </tr>\n",
       "  </thead>\n",
       "  <tbody>\n",
       "    <tr>\n",
       "      <th>0</th>\n",
       "      <td>2</td>\n",
       "      <td>13</td>\n",
       "      <td>13</td>\n",
       "      <td>14</td>\n",
       "      <td>0</td>\n",
       "    </tr>\n",
       "    <tr>\n",
       "      <th>1</th>\n",
       "      <td>2</td>\n",
       "      <td>14</td>\n",
       "      <td>6</td>\n",
       "      <td>15</td>\n",
       "      <td>0</td>\n",
       "    </tr>\n",
       "    <tr>\n",
       "      <th>2</th>\n",
       "      <td>2</td>\n",
       "      <td>15</td>\n",
       "      <td>13</td>\n",
       "      <td>15</td>\n",
       "      <td>0</td>\n",
       "    </tr>\n",
       "  </tbody>\n",
       "</table>\n",
       "</div>"
      ],
      "text/plain": [
       "   Location  WindGustDir  WindDir9am  WindDir3pm  RainTomorrow\n",
       "0         2           13          13          14             0\n",
       "1         2           14           6          15             0\n",
       "2         2           15          13          15             0"
      ]
     },
     "execution_count": 34,
     "metadata": {},
     "output_type": "execute_result"
    }
   ],
   "source": [
    "le = LabelEncoder()\n",
    "\n",
    "cols_obj = ['Location', 'WindGustDir', 'WindDir9am', 'WindDir3pm', 'RainTomorrow']\n",
    "\n",
    "data_obj = new_data.copy()\n",
    "data_obj = data_obj[cols_obj]\n",
    "\n",
    "data_obj = data_obj.apply(le.fit_transform)\n",
    "data_obj.head(3)"
   ]
  },
  {
   "cell_type": "code",
   "execution_count": 35,
   "metadata": {
    "colab": {
     "base_uri": "https://localhost:8080/"
    },
    "id": "8LRByDX4-QZC",
    "outputId": "0c9babc3-4d0e-43f9-af07-8044a23eb25d"
   },
   "outputs": [
    {
     "data": {
      "text/plain": [
       "<AxesSubplot:>"
      ]
     },
     "execution_count": 35,
     "metadata": {},
     "output_type": "execute_result"
    },
    {
     "data": {
      "image/png": "[encoded data removed]",
      "text/plain": [
       "<Figure size 648x504 with 2 Axes>"
      ]
     },
     "metadata": {
      "needs_background": "light"
     },
     "output_type": "display_data"
    }
   ],
   "source": [
    "plt.figure(figsize=(9, 7))\n",
    "sb.heatmap(data_obj.corr(), annot=True, cmap='YlGnBu')"
   ]
  },
  {
   "cell_type": "code",
   "execution_count": 36,
   "metadata": {
    "id": "yqZxQv4n_Hb-"
   },
   "outputs": [],
   "source": [
    "new_data = new_data.drop(labels=['Location', 'WindGustDir', 'WindDir9am', 'WindDir3pm'], axis=1)"
   ]
  },
  {
   "cell_type": "markdown",
   "metadata": {
    "id": "kUnHJr0f-jE2"
   },
   "source": [
    "dari korelasi di atas, dapat kita simpulkan bahwa feature-feature tersebut memiliki korelasi yang sangat rendah pada feature target. Maka kita dapat melakukan drop pada feature yang memiliki korelasi lemah tersebut."
   ]
  },
  {
   "cell_type": "code",
   "execution_count": 37,
   "metadata": {
    "colab": {
     "base_uri": "https://localhost:8080/"
    },
    "id": "eCbKKPT3_oCG",
    "outputId": "44142a46-de52-4fe4-dacc-750f1d76da27"
   },
   "outputs": [
    {
     "data": {
      "text/html": [
       "<div>\n",
       "<style scoped>\n",
       "    .dataframe tbody tr th:only-of-type {\n",
       "        vertical-align: middle;\n",
       "    }\n",
       "\n",
       "    .dataframe tbody tr th {\n",
       "        vertical-align: top;\n",
       "    }\n",
       "\n",
       "    .dataframe thead th {\n",
       "        text-align: right;\n",
       "    }\n",
       "</style>\n",
       "<table border=\"1\" class=\"dataframe\">\n",
       "  <thead>\n",
       "    <tr style=\"text-align: right;\">\n",
       "      <th></th>\n",
       "      <th>AvgTemp</th>\n",
       "      <th>Temp9am</th>\n",
       "      <th>Temp3pm</th>\n",
       "      <th>RainTomorrow</th>\n",
       "    </tr>\n",
       "  </thead>\n",
       "  <tbody>\n",
       "    <tr>\n",
       "      <th>0</th>\n",
       "      <td>18.15</td>\n",
       "      <td>16.9</td>\n",
       "      <td>21.8</td>\n",
       "      <td>0</td>\n",
       "    </tr>\n",
       "    <tr>\n",
       "      <th>1</th>\n",
       "      <td>16.25</td>\n",
       "      <td>17.2</td>\n",
       "      <td>24.3</td>\n",
       "      <td>0</td>\n",
       "    </tr>\n",
       "    <tr>\n",
       "      <th>2</th>\n",
       "      <td>19.30</td>\n",
       "      <td>21.0</td>\n",
       "      <td>23.2</td>\n",
       "      <td>0</td>\n",
       "    </tr>\n",
       "  </tbody>\n",
       "</table>\n",
       "</div>"
      ],
      "text/plain": [
       "   AvgTemp  Temp9am  Temp3pm  RainTomorrow\n",
       "0    18.15     16.9     21.8             0\n",
       "1    16.25     17.2     24.3             0\n",
       "2    19.30     21.0     23.2             0"
      ]
     },
     "execution_count": 37,
     "metadata": {},
     "output_type": "execute_result"
    }
   ],
   "source": [
    "cols_temp = ['AvgTemp', 'Temp9am', 'Temp3pm', 'RainTomorrow']\n",
    "\n",
    "data_temp = new_data.copy()\n",
    "data_temp = data_temp[cols_temp]\n",
    "data_temp.head(3)"
   ]
  },
  {
   "cell_type": "code",
   "execution_count": 38,
   "metadata": {
    "colab": {
     "base_uri": "https://localhost:8080/"
    },
    "id": "vE_XoenXAFqq",
    "outputId": "7d08a0b1-e3bf-4f3c-c110-9802b9073357"
   },
   "outputs": [
    {
     "data": {
      "text/plain": [
       "<AxesSubplot:>"
      ]
     },
     "execution_count": 38,
     "metadata": {},
     "output_type": "execute_result"
    },
    {
     "data": {
      "image/png": "[encoded data removed]",
      "text/plain": [
       "<Figure size 648x504 with 2 Axes>"
      ]
     },
     "metadata": {
      "needs_background": "light"
     },
     "output_type": "display_data"
    }
   ],
   "source": [
    "plt.figure(figsize=(9, 7))\n",
    "sb.heatmap(data_temp.corr(), annot=True, cmap='YlGnBu')"
   ]
  },
  {
   "cell_type": "code",
   "execution_count": 39,
   "metadata": {
    "id": "dXoG3wTYAQ4q"
   },
   "outputs": [],
   "source": [
    "new_data = new_data.drop(labels=['Temp9am', 'AvgTemp'], axis=1)"
   ]
  },
  {
   "cell_type": "markdown",
   "metadata": {
    "id": "lSvMfa4OAfEn"
   },
   "source": [
    "Karena ketiga feature tersebut menimbulkan multicolinearity, maka kita drop Temp9am dan Temp3am, sehingga nanti hanya akan tersisa AvgTemp atau rata-rata temperatur yang dapat digunakan."
   ]
  },
  {
   "cell_type": "code",
   "execution_count": 40,
   "metadata": {
    "colab": {
     "base_uri": "https://localhost:8080/"
    },
    "id": "nZ6y8REVA2Wf",
    "outputId": "e05f1568-0537-45bf-d0d6-0e8abe7b3b9a"
   },
   "outputs": [
    {
     "data": {
      "text/html": [
       "<div>\n",
       "<style scoped>\n",
       "    .dataframe tbody tr th:only-of-type {\n",
       "        vertical-align: middle;\n",
       "    }\n",
       "\n",
       "    .dataframe tbody tr th {\n",
       "        vertical-align: top;\n",
       "    }\n",
       "\n",
       "    .dataframe thead th {\n",
       "        text-align: right;\n",
       "    }\n",
       "</style>\n",
       "<table border=\"1\" class=\"dataframe\">\n",
       "  <thead>\n",
       "    <tr style=\"text-align: right;\">\n",
       "      <th></th>\n",
       "      <th>WindGustSpeed</th>\n",
       "      <th>AvgWindSpeed</th>\n",
       "      <th>AvgPressure</th>\n",
       "      <th>Evaporation</th>\n",
       "      <th>AvgHumidity</th>\n",
       "      <th>AvgCloud</th>\n",
       "      <th>RainTomorrow</th>\n",
       "    </tr>\n",
       "  </thead>\n",
       "  <tbody>\n",
       "    <tr>\n",
       "      <th>0</th>\n",
       "      <td>44.0</td>\n",
       "      <td>22.0</td>\n",
       "      <td>1007.40</td>\n",
       "      <td>12.0</td>\n",
       "      <td>46.5</td>\n",
       "      <td>7.300000</td>\n",
       "      <td>0</td>\n",
       "    </tr>\n",
       "    <tr>\n",
       "      <th>1</th>\n",
       "      <td>44.0</td>\n",
       "      <td>13.0</td>\n",
       "      <td>1009.20</td>\n",
       "      <td>12.0</td>\n",
       "      <td>34.5</td>\n",
       "      <td>5.966667</td>\n",
       "      <td>0</td>\n",
       "    </tr>\n",
       "    <tr>\n",
       "      <th>2</th>\n",
       "      <td>46.0</td>\n",
       "      <td>22.5</td>\n",
       "      <td>1008.15</td>\n",
       "      <td>12.0</td>\n",
       "      <td>34.0</td>\n",
       "      <td>3.857143</td>\n",
       "      <td>0</td>\n",
       "    </tr>\n",
       "  </tbody>\n",
       "</table>\n",
       "</div>"
      ],
      "text/plain": [
       "   WindGustSpeed  AvgWindSpeed  AvgPressure  Evaporation  AvgHumidity  \\\n",
       "0           44.0          22.0      1007.40         12.0         46.5   \n",
       "1           44.0          13.0      1009.20         12.0         34.5   \n",
       "2           46.0          22.5      1008.15         12.0         34.0   \n",
       "\n",
       "   AvgCloud  RainTomorrow  \n",
       "0  7.300000             0  \n",
       "1  5.966667             0  \n",
       "2  3.857143             0  "
      ]
     },
     "execution_count": 40,
     "metadata": {},
     "output_type": "execute_result"
    }
   ],
   "source": [
    "cols_windair = ['WindGustSpeed', 'AvgWindSpeed', 'AvgPressure', 'Evaporation', 'AvgHumidity', 'AvgCloud', 'RainTomorrow']\n",
    "\n",
    "data_windair = new_data.copy()\n",
    "data_windair = data_windair[cols_windair]\n",
    "data_windair.head(3)"
   ]
  },
  {
   "cell_type": "code",
   "execution_count": 41,
   "metadata": {
    "colab": {
     "base_uri": "https://localhost:8080/"
    },
    "id": "wglwUbbWA_o3",
    "outputId": "b8b426d8-420d-43fa-9528-862bc1cadacd"
   },
   "outputs": [
    {
     "data": {
      "text/plain": [
       "<AxesSubplot:>"
      ]
     },
     "execution_count": 41,
     "metadata": {},
     "output_type": "execute_result"
    },
    {
     "data": {
      "image/png": "[encoded data removed]",
      "text/plain": [
       "<Figure size 648x504 with 2 Axes>"
      ]
     },
     "metadata": {
      "needs_background": "light"
     },
     "output_type": "display_data"
    }
   ],
   "source": [
    "plt.figure(figsize=(9, 7))\n",
    "sb.heatmap(data_windair.corr(), annot=True, cmap='YlGnBu')"
   ]
  },
  {
   "cell_type": "code",
   "execution_count": 42,
   "metadata": {
    "id": "1K2JyQHPBK3B"
   },
   "outputs": [],
   "source": [
    "new_data = new_data.drop(labels=['Evaporation'], axis=1)"
   ]
  },
  {
   "cell_type": "markdown",
   "metadata": {
    "id": "C1DlH_msBhq3"
   },
   "source": [
    "Dapat dilihat dari heatmap diatas bahwa Evaporation memiliki korelasi lemah pada feature target, sehingga kita dapat melakukan drop pada feature tersebut. "
   ]
  },
  {
   "cell_type": "code",
   "execution_count": 43,
   "metadata": {
    "colab": {
     "base_uri": "https://localhost:8080/"
    },
    "id": "TuK9tu-5Bg0g",
    "outputId": "14144afd-81c8-43e4-a44a-03f44eba20b5"
   },
   "outputs": [
    {
     "data": {
      "text/plain": [
       "<AxesSubplot:>"
      ]
     },
     "execution_count": 43,
     "metadata": {},
     "output_type": "execute_result"
    },
    {
     "data": {
      "image/png": "[encoded data removed]",
      "text/plain": [
       "<Figure size 720x576 with 2 Axes>"
      ]
     },
     "metadata": {
      "needs_background": "light"
     },
     "output_type": "display_data"
    }
   ],
   "source": [
    "plt.figure(figsize=(10, 8))\n",
    "sb.heatmap(new_data.corr(), annot=True, cmap='YlGnBu')"
   ]
  },
  {
   "cell_type": "markdown",
   "metadata": {
    "id": "K37h5S8HFOrv"
   },
   "source": [
    "Dilihat dari heatmap diatas,  Sunshine dan AvgHumidity memiliki korelasi yang kuat dengan AvgCloud, selain itu Rainfall memiliki korelasi yang kuat dengan RainToday, sehingga hal tersebut dapat menimbulkan multicolinearity pada data, maka kita harus melakukan drop pada feature yang memiliki korelasi yang rendah dari yang lainnya pada feature target."
   ]
  },
  {
   "cell_type": "code",
   "execution_count": 44,
   "metadata": {
    "colab": {
     "base_uri": "https://localhost:8080/"
    },
    "id": "yhqOGa-2VcbK",
    "outputId": "5f26cdf3-abc6-4e6f-c3d6-aec35275419a"
   },
   "outputs": [
    {
     "data": {
      "text/html": [
       "<div>\n",
       "<style scoped>\n",
       "    .dataframe tbody tr th:only-of-type {\n",
       "        vertical-align: middle;\n",
       "    }\n",
       "\n",
       "    .dataframe tbody tr th {\n",
       "        vertical-align: top;\n",
       "    }\n",
       "\n",
       "    .dataframe thead th {\n",
       "        text-align: right;\n",
       "    }\n",
       "</style>\n",
       "<table border=\"1\" class=\"dataframe\">\n",
       "  <thead>\n",
       "    <tr style=\"text-align: right;\">\n",
       "      <th></th>\n",
       "      <th>Date</th>\n",
       "      <th>Rainfall</th>\n",
       "      <th>Sunshine</th>\n",
       "      <th>WindGustSpeed</th>\n",
       "      <th>Temp3pm</th>\n",
       "      <th>RainToday</th>\n",
       "      <th>RainTomorrow</th>\n",
       "      <th>AvgWindSpeed</th>\n",
       "      <th>AvgHumidity</th>\n",
       "      <th>AvgPressure</th>\n",
       "      <th>AvgCloud</th>\n",
       "    </tr>\n",
       "  </thead>\n",
       "  <tbody>\n",
       "    <tr>\n",
       "      <th>0</th>\n",
       "      <td>2008-12-01</td>\n",
       "      <td>0.6</td>\n",
       "      <td>12.3</td>\n",
       "      <td>44.0</td>\n",
       "      <td>21.8</td>\n",
       "      <td>0</td>\n",
       "      <td>0</td>\n",
       "      <td>22.0</td>\n",
       "      <td>46.5</td>\n",
       "      <td>1007.40</td>\n",
       "      <td>7.300000</td>\n",
       "    </tr>\n",
       "    <tr>\n",
       "      <th>1</th>\n",
       "      <td>2008-12-02</td>\n",
       "      <td>0.0</td>\n",
       "      <td>12.3</td>\n",
       "      <td>44.0</td>\n",
       "      <td>24.3</td>\n",
       "      <td>0</td>\n",
       "      <td>0</td>\n",
       "      <td>13.0</td>\n",
       "      <td>34.5</td>\n",
       "      <td>1009.20</td>\n",
       "      <td>5.966667</td>\n",
       "    </tr>\n",
       "    <tr>\n",
       "      <th>2</th>\n",
       "      <td>2008-12-03</td>\n",
       "      <td>0.0</td>\n",
       "      <td>12.3</td>\n",
       "      <td>46.0</td>\n",
       "      <td>23.2</td>\n",
       "      <td>0</td>\n",
       "      <td>0</td>\n",
       "      <td>22.5</td>\n",
       "      <td>34.0</td>\n",
       "      <td>1008.15</td>\n",
       "      <td>3.857143</td>\n",
       "    </tr>\n",
       "  </tbody>\n",
       "</table>\n",
       "</div>"
      ],
      "text/plain": [
       "        Date  Rainfall  Sunshine  WindGustSpeed  Temp3pm  RainToday  \\\n",
       "0 2008-12-01       0.6      12.3           44.0     21.8          0   \n",
       "1 2008-12-02       0.0      12.3           44.0     24.3          0   \n",
       "2 2008-12-03       0.0      12.3           46.0     23.2          0   \n",
       "\n",
       "   RainTomorrow  AvgWindSpeed  AvgHumidity  AvgPressure  AvgCloud  \n",
       "0             0          22.0         46.5      1007.40  7.300000  \n",
       "1             0          13.0         34.5      1009.20  5.966667  \n",
       "2             0          22.5         34.0      1008.15  3.857143  "
      ]
     },
     "execution_count": 44,
     "metadata": {},
     "output_type": "execute_result"
    }
   ],
   "source": [
    "new_data.head(3)"
   ]
  },
  {
   "cell_type": "code",
   "execution_count": 45,
   "metadata": {
    "id": "YgCZqKezc0pG"
   },
   "outputs": [],
   "source": [
    "new_data = new_data.drop(labels=['Date', 'AvgWindSpeed', 'Temp3pm', 'Rainfall', 'AvgCloud'], axis=1)"
   ]
  },
  {
   "cell_type": "code",
   "execution_count": 46,
   "metadata": {
    "colab": {
     "base_uri": "https://localhost:8080/"
    },
    "id": "xSCPn9isgTdM",
    "outputId": "ac5aa358-a028-4fa5-d2a8-9a3b6159c02e"
   },
   "outputs": [
    {
     "data": {
      "text/html": [
       "<div>\n",
       "<style scoped>\n",
       "    .dataframe tbody tr th:only-of-type {\n",
       "        vertical-align: middle;\n",
       "    }\n",
       "\n",
       "    .dataframe tbody tr th {\n",
       "        vertical-align: top;\n",
       "    }\n",
       "\n",
       "    .dataframe thead th {\n",
       "        text-align: right;\n",
       "    }\n",
       "</style>\n",
       "<table border=\"1\" class=\"dataframe\">\n",
       "  <thead>\n",
       "    <tr style=\"text-align: right;\">\n",
       "      <th></th>\n",
       "      <th>Sunshine</th>\n",
       "      <th>WindGustSpeed</th>\n",
       "      <th>RainToday</th>\n",
       "      <th>RainTomorrow</th>\n",
       "      <th>AvgHumidity</th>\n",
       "      <th>AvgPressure</th>\n",
       "    </tr>\n",
       "  </thead>\n",
       "  <tbody>\n",
       "    <tr>\n",
       "      <th>0</th>\n",
       "      <td>12.3</td>\n",
       "      <td>44.0</td>\n",
       "      <td>0</td>\n",
       "      <td>0</td>\n",
       "      <td>46.5</td>\n",
       "      <td>1007.40</td>\n",
       "    </tr>\n",
       "    <tr>\n",
       "      <th>1</th>\n",
       "      <td>12.3</td>\n",
       "      <td>44.0</td>\n",
       "      <td>0</td>\n",
       "      <td>0</td>\n",
       "      <td>34.5</td>\n",
       "      <td>1009.20</td>\n",
       "    </tr>\n",
       "    <tr>\n",
       "      <th>2</th>\n",
       "      <td>12.3</td>\n",
       "      <td>46.0</td>\n",
       "      <td>0</td>\n",
       "      <td>0</td>\n",
       "      <td>34.0</td>\n",
       "      <td>1008.15</td>\n",
       "    </tr>\n",
       "  </tbody>\n",
       "</table>\n",
       "</div>"
      ],
      "text/plain": [
       "   Sunshine  WindGustSpeed  RainToday  RainTomorrow  AvgHumidity  AvgPressure\n",
       "0      12.3           44.0          0             0         46.5      1007.40\n",
       "1      12.3           44.0          0             0         34.5      1009.20\n",
       "2      12.3           46.0          0             0         34.0      1008.15"
      ]
     },
     "execution_count": 46,
     "metadata": {},
     "output_type": "execute_result"
    }
   ],
   "source": [
    "new_data.head(3)"
   ]
  },
  {
   "cell_type": "code",
   "execution_count": 47,
   "metadata": {
    "colab": {
     "base_uri": "https://localhost:8080/"
    },
    "id": "IopvtHv1DWDQ",
    "outputId": "48cf7fba-bcae-4281-9c28-feba41fe43a0"
   },
   "outputs": [
    {
     "data": {
      "text/plain": [
       "<AxesSubplot:>"
      ]
     },
     "execution_count": 47,
     "metadata": {},
     "output_type": "execute_result"
    },
    {
     "data": {
      "image/png": "[encoded data removed]",
      "text/plain": [
       "<Figure size 720x576 with 2 Axes>"
      ]
     },
     "metadata": {
      "needs_background": "light"
     },
     "output_type": "display_data"
    }
   ],
   "source": [
    "plt.figure(figsize=(10, 8))\n",
    "sb.heatmap(new_data.corr(), annot=True, cmap='YlGnBu')"
   ]
  },
  {
   "cell_type": "markdown",
   "metadata": {
    "id": "wT2A4Lqpdame"
   },
   "source": [
    "Drop feature Date karena sudah tidak dibutuhkan. Dan juga drop feature AvgWindSpeed karena memiliki korelasi yang tinggi terhadap WindGustSpeed."
   ]
  },
  {
   "cell_type": "code",
   "execution_count": 48,
   "metadata": {
    "colab": {
     "base_uri": "https://localhost:8080/"
    },
    "id": "tTRUaJKNOlq5",
    "outputId": "28685439-8e58-42c5-9f13-9890250cbb5b"
   },
   "outputs": [
    {
     "data": {
      "text/html": [
       "<div>\n",
       "<style scoped>\n",
       "    .dataframe tbody tr th:only-of-type {\n",
       "        vertical-align: middle;\n",
       "    }\n",
       "\n",
       "    .dataframe tbody tr th {\n",
       "        vertical-align: top;\n",
       "    }\n",
       "\n",
       "    .dataframe thead th {\n",
       "        text-align: right;\n",
       "    }\n",
       "</style>\n",
       "<table border=\"1\" class=\"dataframe\">\n",
       "  <thead>\n",
       "    <tr style=\"text-align: right;\">\n",
       "      <th></th>\n",
       "      <th>Sunshine</th>\n",
       "      <th>WindGustSpeed</th>\n",
       "      <th>AvgHumidity</th>\n",
       "      <th>AvgPressure</th>\n",
       "      <th>RainToday</th>\n",
       "      <th>RainTomorrow</th>\n",
       "    </tr>\n",
       "  </thead>\n",
       "  <tbody>\n",
       "    <tr>\n",
       "      <th>0</th>\n",
       "      <td>12.3</td>\n",
       "      <td>44.0</td>\n",
       "      <td>46.5</td>\n",
       "      <td>1007.40</td>\n",
       "      <td>0</td>\n",
       "      <td>0</td>\n",
       "    </tr>\n",
       "    <tr>\n",
       "      <th>1</th>\n",
       "      <td>12.3</td>\n",
       "      <td>44.0</td>\n",
       "      <td>34.5</td>\n",
       "      <td>1009.20</td>\n",
       "      <td>0</td>\n",
       "      <td>0</td>\n",
       "    </tr>\n",
       "    <tr>\n",
       "      <th>2</th>\n",
       "      <td>12.3</td>\n",
       "      <td>46.0</td>\n",
       "      <td>34.0</td>\n",
       "      <td>1008.15</td>\n",
       "      <td>0</td>\n",
       "      <td>0</td>\n",
       "    </tr>\n",
       "  </tbody>\n",
       "</table>\n",
       "</div>"
      ],
      "text/plain": [
       "   Sunshine  WindGustSpeed  AvgHumidity  AvgPressure  RainToday  RainTomorrow\n",
       "0      12.3           44.0         46.5      1007.40          0             0\n",
       "1      12.3           44.0         34.5      1009.20          0             0\n",
       "2      12.3           46.0         34.0      1008.15          0             0"
      ]
     },
     "execution_count": 48,
     "metadata": {},
     "output_type": "execute_result"
    }
   ],
   "source": [
    "column=['Sunshine',\t'WindGustSpeed', 'AvgHumidity',\t'AvgPressure', 'RainToday',\t'RainTomorrow']\n",
    "\n",
    "new_data = new_data[column]\n",
    "new_data.head(3)"
   ]
  },
  {
   "cell_type": "markdown",
   "metadata": {
    "id": "gxdBK9cO9ut6"
   },
   "source": [
    "## Standarisasi Data"
   ]
  },
  {
   "cell_type": "markdown",
   "metadata": {
    "id": "NPxiGKnjlzqm"
   },
   "source": [
    "Akan kita standarisasi data yang telah kita olah "
   ]
  },
  {
   "cell_type": "code",
   "execution_count": 49,
   "metadata": {
    "id": "MW5eyY1cCF1S"
   },
   "outputs": [],
   "source": [
    "data_std = new_data.copy()\n",
    "\n",
    "x = data_std.drop('RainTomorrow', axis=1)\n",
    "y = data_std['RainTomorrow']"
   ]
  },
  {
   "cell_type": "code",
   "execution_count": 50,
   "metadata": {
    "id": "qMoCgaqk9uRf"
   },
   "outputs": [],
   "source": [
    "scaler = StandardScaler()\n",
    "\n",
    "x = scaler.fit_transform(x)"
   ]
  },
  {
   "cell_type": "markdown",
   "metadata": {
    "id": "ss9_zfTZm7l1"
   },
   "source": [
    "# Define, Training, dan Evaluasi Model"
   ]
  },
  {
   "cell_type": "markdown",
   "metadata": {
    "id": "36k-G3cdmKzL"
   },
   "source": [
    "Untuk memudahkan kita dalam pengecekan classification report, nilai akurasi, precision score, recall score, dan f1 score, kita definisikan suatu function yang mencakup 5 hal tersebut."
   ]
  },
  {
   "cell_type": "code",
   "execution_count": 51,
   "metadata": {
    "id": "Mp4qBpNecADV"
   },
   "outputs": [],
   "source": [
    "def apply_model(model, x_train, y_train, x_test, y_test, y_pred):\n",
    "\n",
    "    cm = confusion_matrix(y_test, y_pred, normalize='true')\n",
    "    print('Confusion matrix:')\n",
    "    sb.heatmap(cm, annot=True, cmap='YlGnBu')\n",
    "    plt.title('Logistic Regression', fontsize=12)\n",
    "    plt.xlabel(\"Predicted\", fontsize=10)\n",
    "    plt.ylabel(\"Actual\", fontsize=10)\n",
    "    plt.show()\n",
    "\n",
    "    print(f'\\n\\nClassification Report : \\n{ classification_report(y_test, y_pred)}')\n",
    "    print(f'Accuracy Score : {accuracy_score(y_test, y_pred)}\\n')\n",
    "    print(f'Precision Score : {precision_score(y_test, y_pred)}\\n')\n",
    "    print(f'Recall Score : {recall_score(y_test, y_pred)}\\n')\n",
    "    print(f'f1 Score : {f1_score(y_test, y_pred)}\\n')"
   ]
  },
  {
   "cell_type": "markdown",
   "metadata": {
    "id": "cRgLzaIV9Hpf"
   },
   "source": [
    "## Stage 1"
   ]
  },
  {
   "cell_type": "markdown",
   "metadata": {
    "id": "7ZsfX59tkm3Y"
   },
   "source": [
    "### Logistic Regression"
   ]
  },
  {
   "cell_type": "code",
   "execution_count": 52,
   "metadata": {
    "colab": {
     "base_uri": "https://localhost:8080/",
     "height": 686
    },
    "id": "xCrc-q6PkqxM",
    "outputId": "35f6d62b-7a34-436b-b1e6-eee5bb72ae75"
   },
   "outputs": [
    {
     "name": "stdout",
     "output_type": "stream",
     "text": [
      "Confusion matrix:\n"
     ]
    },
    {
     "data": {
      "image/png": "[encoded data removed]",
      "text/plain": [
       "<Figure size 432x288 with 2 Axes>"
      ]
     },
     "metadata": {
      "needs_background": "light"
     },
     "output_type": "display_data"
    },
    {
     "name": "stdout",
     "output_type": "stream",
     "text": [
      "\n",
      "\n",
      "Classification Report : \n",
      "              precision    recall  f1-score   support\n",
      "\n",
      "           0       0.85      0.95      0.90     32858\n",
      "           1       0.70      0.43      0.54      9379\n",
      "\n",
      "    accuracy                           0.83     42237\n",
      "   macro avg       0.78      0.69      0.72     42237\n",
      "weighted avg       0.82      0.83      0.82     42237\n",
      "\n",
      "Accuracy Score : 0.8334635509150745\n",
      "\n",
      "Precision Score : 0.7022597895463171\n",
      "\n",
      "Recall Score : 0.4340548032839322\n",
      "\n",
      "f1 Score : 0.5365050079072219\n",
      "\n"
     ]
    }
   ],
   "source": [
    "logreg = LogisticRegression()\n",
    "\n",
    "x_lr = x\n",
    "y_lr = y\n",
    "\n",
    "x_train_lr, x_test_lr, y_train_lr, y_test_lr = train_test_split(x_lr, y_lr, test_size=0.3, random_state=5)\n",
    "\n",
    "logreg_ = logreg.fit(x_train_lr, y_train_lr)\n",
    "y_pred_lr = logreg.predict(x_test_lr)\n",
    "\n",
    "apply_model(logreg, x_train_lr, y_train_lr, x_test_lr, y_test_lr, y_pred_lr)"
   ]
  },
  {
   "cell_type": "markdown",
   "metadata": {
    "id": "lhQu7S4Fm2-Z"
   },
   "source": [
    "Dari data yang distandarisasi, diperoleh dari logistic regression, nilai akurasinya tinggi, dan precision score cukup tinggi, namun recall score dan f1 score tidak mencapai 70% karena data yang tidak balance"
   ]
  },
  {
   "cell_type": "markdown",
   "metadata": {
    "id": "IlnMulU0lPSc"
   },
   "source": [
    "### SVM"
   ]
  },
  {
   "cell_type": "code",
   "execution_count": 53,
   "metadata": {
    "colab": {
     "base_uri": "https://localhost:8080/",
     "height": 686
    },
    "id": "OMmm19ONlQ8z",
    "outputId": "f3ef8897-22ba-4000-9583-3041367579ab"
   },
   "outputs": [
    {
     "name": "stdout",
     "output_type": "stream",
     "text": [
      "Confusion matrix:\n"
     ]
    },
    {
     "data": {
      "image/png": "[encoded data removed]",
      "text/plain": [
       "<Figure size 432x288 with 2 Axes>"
      ]
     },
     "metadata": {
      "needs_background": "light"
     },
     "output_type": "display_data"
    },
    {
     "name": "stdout",
     "output_type": "stream",
     "text": [
      "\n",
      "\n",
      "Classification Report : \n",
      "              precision    recall  f1-score   support\n",
      "\n",
      "           0       0.85      0.95      0.90     32858\n",
      "           1       0.71      0.40      0.51      9379\n",
      "\n",
      "    accuracy                           0.83     42237\n",
      "   macro avg       0.78      0.68      0.71     42237\n",
      "weighted avg       0.82      0.83      0.81     42237\n",
      "\n",
      "Accuracy Score : 0.8315694769988399\n",
      "\n",
      "Precision Score : 0.7143668370244179\n",
      "\n",
      "Recall Score : 0.4023883143192238\n",
      "\n",
      "f1 Score : 0.5148001636884463\n",
      "\n"
     ]
    }
   ],
   "source": [
    "svm = LinearSVC(random_state=0, tol=1e-5)\n",
    "\n",
    "x_svm = x\n",
    "y_svm = y\n",
    "\n",
    "x_train_svm, x_test_svm, y_train_svm, y_test_svm = train_test_split(x_svm, y_svm, test_size=0.3, random_state=5)\n",
    "\n",
    "svm_ = svm.fit(x_train_svm, y_train_svm.ravel())\n",
    "y_pred_svm = svm.predict(x_test_svm)\n",
    "\n",
    "apply_model(svm, x_train_svm, y_train_svm, x_test_svm, y_test_svm, y_pred_svm)"
   ]
  },
  {
   "cell_type": "markdown",
   "metadata": {
    "id": "6xbcTrk_nY97"
   },
   "source": [
    "Dari data yang distandarisasi, diperoleh dari Support Vector Machine (SVM), nilai akurasinya tinggi, dan precision score cukup tinggi, namun recall score dan f1 score yang cukup jauh percentagenya dengan data score lain karena data target yang tidak balance. Oleh sebab itu, kita perlu membuat data target menjadi balance dengan menggunakan metode resampling yaitu undersampling dan oversampling"
   ]
  },
  {
   "cell_type": "markdown",
   "metadata": {
    "id": "DfJAGIHkCEsO"
   },
   "source": [
    "Pada data processing di stage 1 kita mendapat akurasi sekitar 83%, namun kita tidak dapat mengandalkan hasil tersebut karena data yang digunakan adalah data yang imbalanced atau tidak seimbang. Maka dari itu kita harus menggunakan teknik scoring lain yang dapat membantu kita menilai data yang kita proses, yaitu menggunakan precision, recall, dan f1 score. <br>\n",
    "Pada data ini kita akan berfokus menaikkan score pada precision yang mana berfokus pada false positive. False Positive disini berarti model memprediksi akan terjadi hujan, padahal pada realita nya tidak terjadi hujan. Kita berfokus pada kenaikan false positive ini bermaksud agar orang-orang lebih aware untuk membawa payung untuk berjaga-jaga ketika hujan."
   ]
  },
  {
   "cell_type": "markdown",
   "metadata": {
    "id": "IbaILzvEHYkP"
   },
   "source": [
    "## Stage 2\n",
    "\n",
    " "
   ]
  },
  {
   "cell_type": "markdown",
   "metadata": {
    "id": "-AZ1OKpR6vLB"
   },
   "source": [
    "### UnderSampling"
   ]
  },
  {
   "cell_type": "markdown",
   "metadata": {
    "id": "JLxiH_6XpcL_"
   },
   "source": [
    "Metode resampling dengan mengurangi data major sehingga jumlah samplenya sama. Metode ini digunakan dengan menggunakan import RandomUnderSampler()"
   ]
  },
  {
   "cell_type": "code",
   "execution_count": 54,
   "metadata": {
    "colab": {
     "base_uri": "https://localhost:8080/"
    },
    "id": "FWpq8Lot7MtE",
    "outputId": "5ac54cab-62a7-4338-b076-b89807588cfe"
   },
   "outputs": [
    {
     "name": "stdout",
     "output_type": "stream",
     "text": [
      "Counter({0: 31201, 1: 31201})\n"
     ]
    }
   ],
   "source": [
    "x_under = x\n",
    "y_under = y\n",
    "\n",
    "rus = RandomUnderSampler()\n",
    "x_rus, y_rus = rus.fit_resample(x_under, y_under)\n",
    "\n",
    "print(Counter(y_rus))"
   ]
  },
  {
   "cell_type": "markdown",
   "metadata": {
    "id": "OlGFd_dDrGyc"
   },
   "source": [
    "#### Logistic Regression"
   ]
  },
  {
   "cell_type": "code",
   "execution_count": 55,
   "metadata": {
    "colab": {
     "base_uri": "https://localhost:8080/",
     "height": 686
    },
    "id": "gE77hb0grJuU",
    "outputId": "4f186f11-a762-48e4-8078-dd5c0dc1b1bf"
   },
   "outputs": [
    {
     "name": "stdout",
     "output_type": "stream",
     "text": [
      "Confusion matrix:\n"
     ]
    },
    {
     "data": {
      "image/png": "[encoded data removed]",
      "text/plain": [
       "<Figure size 432x288 with 2 Axes>"
      ]
     },
     "metadata": {
      "needs_background": "light"
     },
     "output_type": "display_data"
    },
    {
     "name": "stdout",
     "output_type": "stream",
     "text": [
      "\n",
      "\n",
      "Classification Report : \n",
      "              precision    recall  f1-score   support\n",
      "\n",
      "           0       0.76      0.77      0.76      9353\n",
      "           1       0.77      0.75      0.76      9368\n",
      "\n",
      "    accuracy                           0.76     18721\n",
      "   macro avg       0.76      0.76      0.76     18721\n",
      "weighted avg       0.76      0.76      0.76     18721\n",
      "\n",
      "Accuracy Score : 0.7614977832380749\n",
      "\n",
      "Precision Score : 0.7680113698480376\n",
      "\n",
      "Recall Score : 0.7498932536293766\n",
      "\n",
      "f1 Score : 0.758844180394275\n",
      "\n"
     ]
    }
   ],
   "source": [
    "logreg = LogisticRegression()\n",
    "\n",
    "x_train_lr, x_test_lr, y_train_lr, y_test_lr = train_test_split(x_rus, y_rus, test_size=0.3, random_state=5)\n",
    "\n",
    "logreg_under = logreg.fit(x_train_lr, y_train_lr)\n",
    "y_pred_lr = logreg.predict(x_test_lr)\n",
    "\n",
    "apply_model(logreg, x_train_lr, y_train_lr, x_test_lr, y_test_lr, y_pred_lr)"
   ]
  },
  {
   "cell_type": "markdown",
   "metadata": {
    "id": "6_9N-15iqB_I"
   },
   "source": [
    "Setelah data target seimbang dengan menggunakan undersampling, nilai akurasi score berkurang +- 7%, sedangkan , recall score, serta f1 score meningkat cukup signifikan"
   ]
  },
  {
   "cell_type": "markdown",
   "metadata": {
    "id": "WL_e2h_Wv9qP"
   },
   "source": [
    "#### SVM"
   ]
  },
  {
   "cell_type": "code",
   "execution_count": 56,
   "metadata": {
    "colab": {
     "base_uri": "https://localhost:8080/",
     "height": 686
    },
    "id": "ugAvspO-suR-",
    "outputId": "1c791a77-109f-4b95-91f0-a127402374e8"
   },
   "outputs": [
    {
     "name": "stdout",
     "output_type": "stream",
     "text": [
      "Confusion matrix:\n"
     ]
    },
    {
     "data": {
      "image/png": "[encoded data removed]",
      "text/plain": [
       "<Figure size 432x288 with 2 Axes>"
      ]
     },
     "metadata": {
      "needs_background": "light"
     },
     "output_type": "display_data"
    },
    {
     "name": "stdout",
     "output_type": "stream",
     "text": [
      "\n",
      "\n",
      "Classification Report : \n",
      "              precision    recall  f1-score   support\n",
      "\n",
      "           0       0.75      0.77      0.76      9353\n",
      "           1       0.77      0.75      0.76      9368\n",
      "\n",
      "    accuracy                           0.76     18721\n",
      "   macro avg       0.76      0.76      0.76     18721\n",
      "weighted avg       0.76      0.76      0.76     18721\n",
      "\n",
      "Accuracy Score : 0.7608033758880401\n",
      "\n",
      "Precision Score : 0.768504282890402\n",
      "\n",
      "Recall Score : 0.7470111016225448\n",
      "\n",
      "f1 Score : 0.7576052831005737\n",
      "\n"
     ]
    }
   ],
   "source": [
    "svm = LinearSVC(random_state=0, tol=1e-5)\n",
    "\n",
    "x_train_svm, x_test_svm, y_train_svm, y_test_svm = train_test_split(x_rus, y_rus, test_size=0.3, random_state=5)\n",
    "\n",
    "svm_under = svm.fit(x_train_svm, y_train_svm.ravel())\n",
    "y_pred_svm = svm.predict(x_test_svm)\n",
    "\n",
    "apply_model(svm, x_train_svm, y_train_svm, x_test_svm, y_test_svm, y_pred_svm)"
   ]
  },
  {
   "cell_type": "markdown",
   "metadata": {
    "id": "G4AEHo7uqoyV"
   },
   "source": [
    "Dari data yang sudah kita undersampling, classification report dari SVM juga meningkat signifikan pada bagian recall score dan f1 score. Namun pada SVM membutuhkan waktu yang lebih lama dalam execution svm.fit()"
   ]
  },
  {
   "cell_type": "markdown",
   "metadata": {
    "id": "Pl79DuKY9DKx"
   },
   "source": [
    "### OverSampling"
   ]
  },
  {
   "cell_type": "code",
   "execution_count": 57,
   "metadata": {
    "id": "l0qm14W0F8j3"
   },
   "outputs": [],
   "source": [
    "x_over = x\n",
    "y_over = y\n",
    "ros = RandomOverSampler()\n",
    "x_ros, y_ros = ros.fit_resample(x_over, y_over)"
   ]
  },
  {
   "cell_type": "markdown",
   "metadata": {
    "id": "0XNyu5xh3oLw"
   },
   "source": [
    "#### Logistic Regression"
   ]
  },
  {
   "cell_type": "code",
   "execution_count": 58,
   "metadata": {
    "colab": {
     "base_uri": "https://localhost:8080/",
     "height": 686
    },
    "id": "U-LOZiP83nnQ",
    "outputId": "0de2da82-404f-4010-858c-1159995ca8c0"
   },
   "outputs": [
    {
     "name": "stdout",
     "output_type": "stream",
     "text": [
      "Confusion matrix:\n"
     ]
    },
    {
     "data": {
      "image/png": "[encoded data removed]",
      "text/plain": [
       "<Figure size 432x288 with 2 Axes>"
      ]
     },
     "metadata": {
      "needs_background": "light"
     },
     "output_type": "display_data"
    },
    {
     "name": "stdout",
     "output_type": "stream",
     "text": [
      "\n",
      "\n",
      "Classification Report : \n",
      "              precision    recall  f1-score   support\n",
      "\n",
      "           0       0.75      0.77      0.76     32680\n",
      "           1       0.77      0.75      0.76     33072\n",
      "\n",
      "    accuracy                           0.76     65752\n",
      "   macro avg       0.76      0.76      0.76     65752\n",
      "weighted avg       0.76      0.76      0.76     65752\n",
      "\n",
      "Accuracy Score : 0.7606916899866164\n",
      "\n",
      "Precision Score : 0.7666820489155515\n",
      "\n",
      "Recall Score : 0.7535377358490566\n",
      "\n",
      "f1 Score : 0.7600530673864312\n",
      "\n"
     ]
    }
   ],
   "source": [
    "logreg = LogisticRegression()\n",
    "\n",
    "x_train_lr, x_test_lr, y_train_lr, y_test_lr = train_test_split(x_ros, y_ros, test_size=0.3, random_state=5)\n",
    "\n",
    "logreg_over = logreg.fit(x_train_lr, y_train_lr)\n",
    "y_pred_lr = logreg.predict(x_test_lr)\n",
    "\n",
    "apply_model(logreg, x_train_lr, y_train_lr, x_test_lr, y_test_lr, y_pred_lr)"
   ]
  },
  {
   "cell_type": "markdown",
   "metadata": {
    "id": "v_RHesZzriPb"
   },
   "source": [
    "Setelah data target dioleh menggunakan oversampling, sama halnya dengan undersampling, nilai akurasi menurun +- 7%, dan recall score serta f1 score meningkat secara signifikan"
   ]
  },
  {
   "cell_type": "markdown",
   "metadata": {
    "id": "Rj_TFlI230ig"
   },
   "source": [
    "#### SVM"
   ]
  },
  {
   "cell_type": "code",
   "execution_count": 59,
   "metadata": {
    "colab": {
     "base_uri": "https://localhost:8080/",
     "height": 686
    },
    "id": "8YK9T2Ou30BQ",
    "outputId": "5a947fe0-99b0-4a40-ec71-4e14ca8d9762"
   },
   "outputs": [
    {
     "name": "stdout",
     "output_type": "stream",
     "text": [
      "Confusion matrix:\n"
     ]
    },
    {
     "data": {
      "image/png": "[encoded data removed]",
      "text/plain": [
       "<Figure size 432x288 with 2 Axes>"
      ]
     },
     "metadata": {
      "needs_background": "light"
     },
     "output_type": "display_data"
    },
    {
     "name": "stdout",
     "output_type": "stream",
     "text": [
      "\n",
      "\n",
      "Classification Report : \n",
      "              precision    recall  f1-score   support\n",
      "\n",
      "           0       0.75      0.77      0.76      9353\n",
      "           1       0.77      0.75      0.76      9368\n",
      "\n",
      "    accuracy                           0.76     18721\n",
      "   macro avg       0.76      0.76      0.76     18721\n",
      "weighted avg       0.76      0.76      0.76     18721\n",
      "\n",
      "Accuracy Score : 0.7608033758880401\n",
      "\n",
      "Precision Score : 0.768504282890402\n",
      "\n",
      "Recall Score : 0.7470111016225448\n",
      "\n",
      "f1 Score : 0.7576052831005737\n",
      "\n"
     ]
    }
   ],
   "source": [
    "svm = LinearSVC(random_state=0, tol=1e-5)\n",
    "\n",
    "x_train_svm, x_test_svm, y_train_svm, y_test_svm = train_test_split(x_rus, y_rus, test_size=0.3, random_state=5)\n",
    "\n",
    "svm_over = svm.fit(x_train_svm, y_train_svm.ravel())\n",
    "y_pred_svm = svm.predict(x_test_svm)\n",
    "\n",
    "apply_model(svm, x_train_svm, y_train_svm, x_test_svm, y_test_svm, y_pred_svm)"
   ]
  },
  {
   "cell_type": "markdown",
   "metadata": {
    "id": "TDdMOViYrzmE"
   },
   "source": [
    "Sama halnya dengan logistic regression pada oversampling, nilai akurasi menurun +-7% namun recall score dan f1 score meningkat signifikan. Kelemahan dari metode ini yaitu SVM Oversampling membutuhkan waktu yang sangat lama dibanding SVM Undersampling."
   ]
  },
  {
   "cell_type": "markdown",
   "metadata": {
    "id": "gESsyzRrEcSn"
   },
   "source": [
    "### *\n",
    "\n",
    "Setelah menggunakan teknik undersampling dan oversampling pada model, kita mendapatkan kenaikan sekitar 6% - 6.6% pada precision score, yang mana kenaikan score tersebut sudah cukup bagus untuk model yang kita miliki."
   ]
  },
  {
   "cell_type": "markdown",
   "metadata": {
    "id": "ISxSxQYD38CM"
   },
   "source": [
    "# Model Interference"
   ]
  },
  {
   "cell_type": "code",
   "execution_count": null,
   "metadata": {
    "colab": {
     "base_uri": "https://localhost:8080/"
    },
    "id": "V_WJpNW74BQG",
    "outputId": "d1f39423-2fe2-46b5-ea45-c9459eff0dc9"
   },
   "outputs": [
    {
     "name": "stdout",
     "output_type": "stream",
     "text": [
      "How long does the sun shine today (in hour) : \n",
      "e.g. 12 , 10.5\n",
      "12\n",
      "Today's highest wind speed before 12pm (in km/hour) : \n",
      "e.g. 44.0 , 43.5\n",
      "10\n",
      "Today's average humidity (in percent) : \n",
      "e.g. 50 , 25.5\n",
      "30\n",
      "Today's average air pressure (in hpa) : \n",
      "e.g. 1017.95 , 1007.40\n",
      "1000\n",
      "Is it raining today? \n",
      "(yes/no)\n",
      "no\n",
      "\n",
      "=============================\n",
      "Your data input is :\n",
      "[12.0, 10.0, 30.0, 1000.0, 0]\n",
      "\n",
      "=============================\n",
      "Prediction is worth 0, then tomorrow it will NOT RAIN\n"
     ]
    }
   ],
   "source": [
    "sunshine = float(input('How long does the sun shine today (in hour) : \\ne.g. 12 , 10.5\\n'))\n",
    "windgustspeed = float(input('Today\\'s highest wind speed before 12pm (in km/hour) : \\ne.g. 44.0 , 43.5\\n'))\n",
    "avghumidity = float(input('Today\\'s average humidity (in percent) : \\ne.g. 50 , 25.5\\n'))\n",
    "avgpressure = float(input('Today\\'s average air pressure (in hpa) : \\ne.g. 1017.95 , 1007.40\\n'))\n",
    "raintoday = input('Is it raining today? \\n(yes/no)\\n')\n",
    "\n",
    "input_data = [sunshine, windgustspeed, avghumidity, avgpressure]\n",
    "\n",
    "if raintoday == 'yes':\n",
    "    input_data.append(1)\n",
    "elif raintoday == 'no':\n",
    "    input_data.append(0)\n",
    "else:\n",
    "    print('Input Data is not valid, please re-input the data')\n",
    "\n",
    "print(f'\\n=============================\\nYour data input is :\\n{input_data}')\n",
    "\n",
    "predict_input = logreg_over.predict([input_data])\n",
    "\n",
    "if predict_input == 1:\n",
    "\tprint('\\n=============================\\nPrediction is worth 1, then tomorrow it will RAIN')\n",
    "elif predict_input == 0:\n",
    "\tprint('\\n=============================\\nPrediction is worth 0, then tomorrow it will NOT RAIN')\n",
    "else:\n",
    "\tprint('\\n=============================\\nPrediction is not valid, please re-predict')"
   ]
  },
  {
   "cell_type": "markdown",
   "metadata": {
    "id": "QjubJCaTiVt7"
   },
   "source": [
    "# Kesimpulan"
   ]
  },
  {
   "cell_type": "markdown",
   "metadata": {
    "id": "-vd0fAu0iiYg"
   },
   "source": [
    "Berdasarkan keseluruhan hasil analisis di atas, dapat disimpulkan bahwa:\n",
    "\n",
    "1. Project ini membahas tentang penerapan Supervised Machine Learning, yaitu metode Classification. Algoritma model klasifikasi yang digunakan adalah Logistic Regression dan Support Vector Machine (SVM). Tujuan dari project ini adalah mengevaluasi dan menerapkan konsep Logistic Regression dan SVM untuk metode klasifikasi pada Machine Learning. \n",
    "\n",
    "2. Data yang digunakan dalam project ini adalah dataset yang berisi dokumentasi kondisi cuaca dan apakah hari itu turun hujan atau tidak di beberapa daerah di Australia selama 10 tahun. Kolom RainTomorrow akan menjadi target untuk prediksi ini. Jadi, objektif dari project ini adalah berdasarkan observasi atau dokumentasi kondisi cuaca pada hari itu, apakah besoknya akan turun hujan (Yes) atau tidak (No).\n",
    "\n",
    "3. Diketahui bahwa kolom atau fitur yang paling mempengaruhi kolom target adalah Humidity3pm. Artinya jumlah humiditas dalam persentase pada jam 3 sore memberikan pengaruh paling signifikan dalam menentukan turunnya hujan di keesokan harinya. Semakin tinggi jumlah humiditas, maka kemungkinan hujan akan semakin besar.\n",
    "\n",
    "4. Bulan Juni-Juli adalah bulan yang memiliki intensitas hujan tertinggi. Sedangkan bulan Januari-Februari memiliki intensitas hujan terendah.\n",
    "\n",
    "5. Algoritma model klasifikasi yang digunakan adalah Logistic Regression dan Support Vector Machine (SVM). Karena dataset yang tidak balance, nilai akurasi cenderung tinggi, sehingga kita membutuhkan metode resampling yang dapat membantu kita dalam meningkatkan nilai precision, recall, dan f1. Metode resampling ini kita buktikan metode manakah yang memiliki nilai precision, recall, dan f1 yang lebih besar. Diperoleh bahwa\n",
    "\n",
    "      + Undersampling\n",
    "\n",
    "        - Logistic Regression\n",
    "          * Akurasi: 76.61%\n",
    "          * Precision: 77.58%\n",
    "          * Recall: 74.91%\n",
    "          * f1 score: 76.62%\n",
    "\n",
    "        - SVM\n",
    "          * Akurasi: 76.7%\n",
    "          * Precision: 77.71%\n",
    "          * Recall: 74.66%\n",
    "          * f1 score: 76.16%\n",
    "\n",
    "      + Oversampling\n",
    "        - Logistic Regression\n",
    "          * Akurasi: 76.02%\n",
    "          * Precision: 76.63%\n",
    "          * Recall: 75.29%\n",
    "          * f1 score: 75.95%\n",
    "\n",
    "        - SVM\n",
    "          * Akurasi: 76.6%\n",
    "          * Precision: 77.71%\n",
    "          * Recall: 74.66%\n",
    "          * f1 score: 76.16%\n",
    "\n",
    "6. Pada data processing di stage 1 kita mendapat akurasi sekitar 83%, namun kita tidak dapat mengandalkan hasil tersebut karena data yang digunakan adalah data yang imbalanced atau tidak seimbang. Maka dari itu kita harus menggunakan teknik scoring lain yang dapat membantu kita menilai data yang kita proses, yaitu menggunakan precision, recall, dan f1 score. <br>\n",
    "Pada data ini kita akan berfokus menaikkan score pada precision yang mana berfokus pada false positive. False Positive disini berarti model memprediksi akan terjadi hujan, padahal pada realita nya tidak terjadi hujan. Kita berfokus pada kenaikan false positive ini bermaksud agar orang-orang lebih aware untuk membawa payung untuk berjaga-jaga ketika hujan. <br>Dan setelah menggunakan teknik undersampling dan oversampling pada model, kita mendapatkan kenaikan sekitar 6% - 6.6% pada precision score, yang mana kenaikan score tersebut sudah cukup bagus untuk model yang kita miliki.\n",
    "\n",
    "7. Walaupun model SVM juga memiliki performa yang baik dan tidak terdapat perbedaan tingkat klasifikasi dengan LogisticRegression, SVM cenderung memakan waktu lebih lama dalam proses pelatihan model. Sehingga berdasarkan pelatihan model yang sudah dilakukan, algoritma yang dipilih adalah LogisticRegression Undersampling yang memiliki nilai akurasi 76.7%, nilai precision 77.71%, nilai recall 74.66%, dan nilai f1 76.16%\n"
   ]
  },
  {
   "cell_type": "code",
   "execution_count": null,
   "metadata": {
    "id": "7MN5P0RuYDJv"
   },
   "outputs": [],
   "source": []
  }
 ],
 "metadata": {
  "colab": {
   "collapsed_sections": [
    "ul5orz6-8L0C"
   ],
   "name": "fp2_ground up.ipynb",
   "provenance": []
  },
  "kernelspec": {
   "display_name": "Python 3 (ipykernel)",
   "language": "python",
   "name": "python3"
  },
  "language_info": {
   "codemirror_mode": {
    "name": "ipython",
    "version": 3
   },
   "file_extension": ".py",
   "mimetype": "text/x-python",
   "name": "python",
   "nbconvert_exporter": "python",
   "pygments_lexer": "ipython3",
   "version": "3.9.8"
  },
  "latex_envs": {
   "LaTeX_envs_menu_present": true,
   "autoclose": false,
   "autocomplete": true,
   "bibliofile": "biblio.bib",
   "cite_by": "apalike",
   "current_citInitial": 1,
   "eqLabelWithNumbers": true,
   "eqNumInitial": 1,
   "hotkeys": {
    "equation": "Ctrl-E",
    "itemize": "Ctrl-I"
   },
   "labels_anchors": false,
   "latex_user_defs": false,
   "report_style_numbering": false,
   "user_envs_cfg": false
  },
  "toc": {
   "base_numbering": 1,
   "nav_menu": {},
   "number_sections": true,
   "sideBar": true,
   "skip_h1_title": true,
   "title_cell": "Table of Contents",
   "title_sidebar": "Contents",
   "toc_cell": false,
   "toc_position": {},
   "toc_section_display": true,
   "toc_window_display": false
  }
 },
 "nbformat": 4,
 "nbformat_minor": 1
}
