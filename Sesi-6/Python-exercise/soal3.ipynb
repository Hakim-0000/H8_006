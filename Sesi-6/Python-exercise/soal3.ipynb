{
 "cells": [
  {
   "cell_type": "code",
   "execution_count": 2,
   "id": "df0351d1",
   "metadata": {},
   "outputs": [],
   "source": [
    "import numpy as np"
   ]
  },
  {
   "cell_type": "code",
   "execution_count": 65,
   "id": "d05f379c",
   "metadata": {},
   "outputs": [],
   "source": [
    "a = np.full((10), [4])\n",
    "b = np.full((10), [4, 0, 0, 0, 0, 0, 0, 0, 0, 4])"
   ]
  },
  {
   "cell_type": "code",
   "execution_count": 71,
   "id": "10b9548e",
   "metadata": {},
   "outputs": [],
   "source": [
    "arr = np.concatenate((a, b, b, b, b, b, b, b, b, a))"
   ]
  },
  {
   "cell_type": "code",
   "execution_count": 72,
   "id": "f6165c5a",
   "metadata": {},
   "outputs": [
    {
     "data": {
      "text/plain": [
       "array([[4, 4, 4, 4, 4, 4, 4, 4, 4, 4],\n",
       "       [4, 0, 0, 0, 0, 0, 0, 0, 0, 4],\n",
       "       [4, 0, 0, 0, 0, 0, 0, 0, 0, 4],\n",
       "       [4, 0, 0, 0, 0, 0, 0, 0, 0, 4],\n",
       "       [4, 0, 0, 0, 0, 0, 0, 0, 0, 4],\n",
       "       [4, 0, 0, 0, 0, 0, 0, 0, 0, 4],\n",
       "       [4, 0, 0, 0, 0, 0, 0, 0, 0, 4],\n",
       "       [4, 0, 0, 0, 0, 0, 0, 0, 0, 4],\n",
       "       [4, 0, 0, 0, 0, 0, 0, 0, 0, 4],\n",
       "       [4, 4, 4, 4, 4, 4, 4, 4, 4, 4]])"
      ]
     },
     "execution_count": 72,
     "metadata": {},
     "output_type": "execute_result"
    }
   ],
   "source": [
    "arr.reshape(10, 10)"
   ]
  },
  {
   "cell_type": "code",
   "execution_count": null,
   "id": "1cba9f82",
   "metadata": {},
   "outputs": [],
   "source": []
  }
 ],
 "metadata": {
  "kernelspec": {
   "display_name": "Python 3 (ipykernel)",
   "language": "python",
   "name": "python3"
  },
  "language_info": {
   "codemirror_mode": {
    "name": "ipython",
    "version": 3
   },
   "file_extension": ".py",
   "mimetype": "text/x-python",
   "name": "python",
   "nbconvert_exporter": "python",
   "pygments_lexer": "ipython3",
   "version": "3.9.8"
  },
  "latex_envs": {
   "LaTeX_envs_menu_present": true,
   "autoclose": false,
   "autocomplete": true,
   "bibliofile": "biblio.bib",
   "cite_by": "apalike",
   "current_citInitial": 1,
   "eqLabelWithNumbers": true,
   "eqNumInitial": 1,
   "hotkeys": {
    "equation": "Ctrl-E",
    "itemize": "Ctrl-I"
   },
   "labels_anchors": false,
   "latex_user_defs": false,
   "report_style_numbering": false,
   "user_envs_cfg": false
  },
  "toc": {
   "base_numbering": 1,
   "nav_menu": {},
   "number_sections": true,
   "sideBar": true,
   "skip_h1_title": false,
   "title_cell": "Table of Contents",
   "title_sidebar": "Contents",
   "toc_cell": false,
   "toc_position": {},
   "toc_section_display": true,
   "toc_window_display": false
  }
 },
 "nbformat": 4,
 "nbformat_minor": 5
}
