{
 "cells": [
  {
   "cell_type": "markdown",
   "id": "a5268cb3",
   "metadata": {},
   "source": [
    "# Basic Syntax"
   ]
  },
  {
   "cell_type": "code",
   "execution_count": 3,
   "id": "4bbee0af",
   "metadata": {},
   "outputs": [
    {
     "name": "stdout",
     "output_type": "stream",
     "text": [
      "5 6\n"
     ]
    }
   ],
   "source": [
    "a = 5\n",
    "b = 6\n",
    "\n",
    "print(a, b)"
   ]
  },
  {
   "cell_type": "code",
   "execution_count": 4,
   "id": "86a5dbd0",
   "metadata": {},
   "outputs": [
    {
     "name": "stdout",
     "output_type": "stream",
     "text": [
      "Hello World\n"
     ]
    }
   ],
   "source": [
    "print('Hello World')"
   ]
  },
  {
   "cell_type": "markdown",
   "id": "18a1ca67",
   "metadata": {},
   "source": [
    "# Data Type"
   ]
  },
  {
   "cell_type": "markdown",
   "id": "7feccd6c",
   "metadata": {},
   "source": [
    "## Integer"
   ]
  },
  {
   "cell_type": "code",
   "execution_count": 5,
   "id": "d58cd0a4",
   "metadata": {},
   "outputs": [
    {
     "name": "stdout",
     "output_type": "stream",
     "text": [
      "12345\n"
     ]
    }
   ],
   "source": [
    "print(12345)"
   ]
  },
  {
   "cell_type": "code",
   "execution_count": 6,
   "id": "cde2646d",
   "metadata": {},
   "outputs": [
    {
     "name": "stdout",
     "output_type": "stream",
     "text": [
      "<class 'int'>\n"
     ]
    }
   ],
   "source": [
    "print(type(123))"
   ]
  },
  {
   "cell_type": "markdown",
   "id": "2de1b142",
   "metadata": {},
   "source": [
    "## Float"
   ]
  },
  {
   "cell_type": "code",
   "execution_count": 7,
   "id": "379c50e7",
   "metadata": {},
   "outputs": [
    {
     "name": "stdout",
     "output_type": "stream",
     "text": [
      "1.333\n"
     ]
    }
   ],
   "source": [
    "print(1.333)"
   ]
  },
  {
   "cell_type": "code",
   "execution_count": 8,
   "id": "852f66e7",
   "metadata": {},
   "outputs": [
    {
     "name": "stdout",
     "output_type": "stream",
     "text": [
      "<class 'float'>\n"
     ]
    }
   ],
   "source": [
    "print(type(1.333))"
   ]
  },
  {
   "cell_type": "markdown",
   "id": "52414a57",
   "metadata": {},
   "source": [
    "## String"
   ]
  },
  {
   "cell_type": "code",
   "execution_count": 9,
   "id": "4cfbe2c0",
   "metadata": {},
   "outputs": [
    {
     "name": "stdout",
     "output_type": "stream",
     "text": [
      "Hello World\n",
      "Hello World\n"
     ]
    }
   ],
   "source": [
    "# string can use (') and/or (\")\n",
    "print('Hello World')\n",
    "print(\"Hello World\")"
   ]
  },
  {
   "cell_type": "code",
   "execution_count": 10,
   "id": "2a980003",
   "metadata": {},
   "outputs": [
    {
     "name": "stdout",
     "output_type": "stream",
     "text": [
      "<class 'str'>\n"
     ]
    }
   ],
   "source": [
    "print(type('Hello World'))"
   ]
  },
  {
   "cell_type": "markdown",
   "id": "19860f2c",
   "metadata": {},
   "source": [
    "## Boolean"
   ]
  },
  {
   "cell_type": "code",
   "execution_count": 11,
   "id": "a943cb39",
   "metadata": {},
   "outputs": [
    {
     "name": "stdout",
     "output_type": "stream",
     "text": [
      "True\n",
      "False\n"
     ]
    }
   ],
   "source": [
    "print(True)\n",
    "print(False)"
   ]
  },
  {
   "cell_type": "code",
   "execution_count": 12,
   "id": "97ff6e59",
   "metadata": {},
   "outputs": [
    {
     "name": "stdout",
     "output_type": "stream",
     "text": [
      "<class 'bool'>\n"
     ]
    }
   ],
   "source": [
    "print(type(True))"
   ]
  },
  {
   "cell_type": "markdown",
   "id": "30cb24b4",
   "metadata": {},
   "source": [
    "# Variable Assignments"
   ]
  },
  {
   "cell_type": "code",
   "execution_count": 13,
   "id": "bf06a9a6",
   "metadata": {
    "code_folding": []
   },
   "outputs": [],
   "source": [
    "# variable name cannot start with number\n",
    "# seperate each words with underscore\n",
    "# python is a case sensitif, so be careful! "
   ]
  },
  {
   "cell_type": "code",
   "execution_count": 14,
   "id": "0c6fe313",
   "metadata": {},
   "outputs": [
    {
     "name": "stdout",
     "output_type": "stream",
     "text": [
      "Luqman Hakim\n",
      "Luqman Hakim\n",
      "Luqman Hakim\n",
      "Luqman Hakim\n",
      "Luqman Hakim\n"
     ]
    }
   ],
   "source": [
    "Nama = 'Luqman Hakim'\n",
    "nama = 'Luqman Hakim'\n",
    "nAma = 'Luqman Hakim'\n",
    "_nama_ = 'Luqman Hakim'\n",
    "nama0 = 'Luqman Hakim'\n",
    "\n",
    "\n",
    "print(Nama)\n",
    "print(nama)\n",
    "print(nAma)\n",
    "print(_nama_)\n",
    "print(nama0)"
   ]
  },
  {
   "cell_type": "markdown",
   "id": "3d273f31",
   "metadata": {},
   "source": [
    "# Operators and Expressions"
   ]
  },
  {
   "cell_type": "markdown",
   "id": "bcb6fe4e",
   "metadata": {},
   "source": [
    "## Arithmetic Operators"
   ]
  },
  {
   "cell_type": "code",
   "execution_count": 15,
   "id": "f2e7ffdc",
   "metadata": {},
   "outputs": [
    {
     "name": "stdout",
     "output_type": "stream",
     "text": [
      "25\n",
      "-5\n",
      "150\n",
      "0.6666666666666666\n",
      "0\n",
      "10\n",
      "1000000000000000\n"
     ]
    }
   ],
   "source": [
    "x = 10\n",
    "y = 15\n",
    "\n",
    "print(x + y)\n",
    "print(x - y)\n",
    "print(x * y)\n",
    "print(x / y)\n",
    "print(x // y)\n",
    "print(x % y)\n",
    "print(x ** y)"
   ]
  },
  {
   "cell_type": "markdown",
   "id": "20bb73ce",
   "metadata": {},
   "source": [
    "## Comparison Operators"
   ]
  },
  {
   "cell_type": "code",
   "execution_count": 16,
   "id": "aca99f71",
   "metadata": {},
   "outputs": [
    {
     "name": "stdout",
     "output_type": "stream",
     "text": [
      "False\n",
      "True\n",
      "True\n",
      "False\n"
     ]
    }
   ],
   "source": [
    "c = 10\n",
    "d = 20\n",
    "\n",
    "print(a == b)\n",
    "print(a != b)\n",
    "print(a <= b)\n",
    "print(a >= b)"
   ]
  },
  {
   "cell_type": "markdown",
   "id": "9499e243",
   "metadata": {},
   "source": [
    "# String Manipulation"
   ]
  },
  {
   "cell_type": "code",
   "execution_count": 17,
   "id": "1bd93012",
   "metadata": {},
   "outputs": [
    {
     "name": "stdout",
     "output_type": "stream",
     "text": [
      "i'm21y.o\n",
      "i'm 21 y.o\n"
     ]
    }
   ],
   "source": [
    "e = 'i\\'m'\n",
    "f = '21'\n",
    "g = 'y.o'\n",
    "print(e + f + g)\n",
    "print(e, f, g)"
   ]
  },
  {
   "cell_type": "code",
   "execution_count": 18,
   "id": "e3ef056e",
   "metadata": {},
   "outputs": [
    {
     "name": "stdout",
     "output_type": "stream",
     "text": [
      "y.oy.oy.oy.o\n"
     ]
    }
   ],
   "source": [
    "print(g*4)"
   ]
  },
  {
   "cell_type": "code",
   "execution_count": 19,
   "id": "d06ffc12",
   "metadata": {},
   "outputs": [
    {
     "name": "stdout",
     "output_type": "stream",
     "text": [
      "True\n",
      "False\n"
     ]
    }
   ],
   "source": [
    "print(f in 'he is 21 y.o')\n",
    "print(f in 'he is 22 y.o')"
   ]
  },
  {
   "cell_type": "code",
   "execution_count": 20,
   "id": "099e764a",
   "metadata": {},
   "outputs": [
    {
     "name": "stdout",
     "output_type": "stream",
     "text": [
      "Hakim\n",
      "hakim\n",
      "HAkim\n",
      "Hakim\n",
      "HAKIM\n"
     ]
    }
   ],
   "source": [
    "callMe = 'haKIM'\n",
    "\n",
    "print(callMe.capitalize())\n",
    "print(callMe.lower())\n",
    "print(callMe.swapcase())\n",
    "print(callMe.title())\n",
    "print(callMe.upper())"
   ]
  },
  {
   "cell_type": "markdown",
   "id": "2159f2b8",
   "metadata": {},
   "source": [
    "# List"
   ]
  },
  {
   "cell_type": "code",
   "execution_count": 21,
   "id": "817bfdf8",
   "metadata": {},
   "outputs": [],
   "source": [
    "# list are ordered\n",
    "# lists can contain any arbitrary objects\n",
    "# list elements can be accessed by index\n",
    "# list can be nested to arbitrary depth\n",
    "# list are mutable\n",
    "# list are dynamic"
   ]
  },
  {
   "cell_type": "code",
   "execution_count": 22,
   "id": "3b061adb",
   "metadata": {},
   "outputs": [
    {
     "name": "stdout",
     "output_type": "stream",
     "text": [
      "['a', 'b', 'c', 'd', 'e']\n"
     ]
    }
   ],
   "source": [
    "myList = ['a', 'b', 'c', 'd', 'e']\n",
    "\n",
    "print(myList)"
   ]
  },
  {
   "cell_type": "markdown",
   "id": "9edeca14",
   "metadata": {},
   "source": [
    "## List are ordered"
   ]
  },
  {
   "cell_type": "code",
   "execution_count": 23,
   "id": "22347d02",
   "metadata": {},
   "outputs": [
    {
     "data": {
      "text/plain": [
       "False"
      ]
     },
     "execution_count": 23,
     "metadata": {},
     "output_type": "execute_result"
    }
   ],
   "source": [
    "# list that contains same objects but has a different order, it means is different lists\n",
    "myList1 = ['a', 'b', 'c', 'd', 'e']\n",
    "myList2 = ['b', 'c', 'a', 'e', 'd']\n",
    "\n",
    "myList1 == myList2"
   ]
  },
  {
   "cell_type": "markdown",
   "id": "ae8fb9cb",
   "metadata": {},
   "source": [
    "## Lists can contain any arbitrary objects"
   ]
  },
  {
   "cell_type": "code",
   "execution_count": 24,
   "id": "5c0c3fe7",
   "metadata": {},
   "outputs": [
    {
     "name": "stdout",
     "output_type": "stream",
     "text": [
      "['string', 20, True, 30.5]\n"
     ]
    }
   ],
   "source": [
    "# lists can contain any kind of objects\n",
    "anyObj = ['string', 20, True, 30.5]\n",
    "\n",
    "print(anyObj)"
   ]
  },
  {
   "cell_type": "markdown",
   "id": "a8825ba6",
   "metadata": {},
   "source": [
    "## List can be accessed by index"
   ]
  },
  {
   "cell_type": "code",
   "execution_count": 25,
   "id": "597410f0",
   "metadata": {},
   "outputs": [
    {
     "name": "stdout",
     "output_type": "stream",
     "text": [
      "coo\n",
      "kaa\n"
     ]
    }
   ],
   "source": [
    "# we can access list by its index\n",
    "# we can start with index 0 or -1\n",
    "accIdx = ['wee', 'bee', 'coo', 'duu', 'kaa', 'fuu']\n",
    "\n",
    "print(accIdx[2])\n",
    "print(accIdx[-2])"
   ]
  },
  {
   "cell_type": "code",
   "execution_count": 26,
   "id": "edec92a6",
   "metadata": {},
   "outputs": [
    {
     "name": "stdout",
     "output_type": "stream",
     "text": [
      "['gee', 'coo', 'ruu']\n",
      "['gee', 'coo', 'ruu', 'kaa']\n"
     ]
    }
   ],
   "source": [
    "# we can also slice list by its index\n",
    "slcIdx = ['wee', 'gee', 'coo', 'ruu', 'kaa', 'fuu']\n",
    "\n",
    "print(slcIdx[1:4])\n",
    "print(slcIdx[-5:-1])"
   ]
  },
  {
   "cell_type": "code",
   "execution_count": 27,
   "id": "088add5b",
   "metadata": {},
   "outputs": [
    {
     "name": "stdout",
     "output_type": "stream",
     "text": [
      "['wee', 'bee', 'coo', 'duu', 'kaa', 'fuu', 'puu', 'xii']\n",
      "['wee', 'bee', 'coo', 'duu', 'kaa', 'fuu', 'wee', 'bee', 'coo', 'duu', 'kaa', 'fuu']\n"
     ]
    }
   ],
   "source": [
    "# we can also concatenate using (+) and replicate using (*)\n",
    "print(accIdx + ['puu', 'xii'])\n",
    "print(accIdx * 2)"
   ]
  },
  {
   "cell_type": "markdown",
   "id": "0db64fb9",
   "metadata": {},
   "source": [
    "## List can be nested to arbitrary depth"
   ]
  },
  {
   "cell_type": "code",
   "execution_count": 28,
   "id": "d0513742",
   "metadata": {},
   "outputs": [
    {
     "name": "stdout",
     "output_type": "stream",
     "text": [
      "['this', 'is', ['nested', 'list', ['that', 'has', 'a depth']]]\n"
     ]
    }
   ],
   "source": [
    "nestList = ['this', 'is', ['nested', 'list', ['that', 'has', 'a depth']]]\n",
    "print(nestList)"
   ]
  },
  {
   "cell_type": "markdown",
   "id": "42889960",
   "metadata": {},
   "source": [
    "## Modifying a single list value"
   ]
  },
  {
   "cell_type": "code",
   "execution_count": 29,
   "id": "9db6844f",
   "metadata": {},
   "outputs": [
    {
     "name": "stdout",
     "output_type": "stream",
     "text": [
      "['coo', 'xee', 'kaa', 'gee']\n",
      "['coo', 20, 'kaa', 40]\n"
     ]
    }
   ],
   "source": [
    "modList = ['coo', 'xee', 'kaa', 'gee']\n",
    "\n",
    "print(modList)\n",
    "\n",
    "modList[3] = 40\n",
    "modList[-3] = 20\n",
    "\n",
    "print(modList)"
   ]
  },
  {
   "cell_type": "markdown",
   "id": "c9613d0d",
   "metadata": {},
   "source": [
    "## Modifying a multiple list value"
   ]
  },
  {
   "cell_type": "code",
   "execution_count": 30,
   "id": "6ed93fc8",
   "metadata": {},
   "outputs": [
    {
     "name": "stdout",
     "output_type": "stream",
     "text": [
      "['xoo', 'gaa']\n",
      "['cee', 1, 2, 3, 4, 5, 'wee']\n"
     ]
    }
   ],
   "source": [
    "modList2 = ['cee', 'xoo', 'gaa', 'wee']\n",
    "\n",
    "print(modList2[1:3])\n",
    "\n",
    "modList2[1:3] = [1, 2, 3, 4, 5]\n",
    "\n",
    "print(modList2)"
   ]
  },
  {
   "cell_type": "markdown",
   "id": "948ec133",
   "metadata": {},
   "source": [
    "# Tuple"
   ]
  },
  {
   "cell_type": "code",
   "execution_count": 31,
   "id": "a95e68db",
   "metadata": {},
   "outputs": [
    {
     "name": "stdout",
     "output_type": "stream",
     "text": [
      "(1, 3, 5, 7)\n"
     ]
    }
   ],
   "source": [
    "thisTpl = (1, 3, 5, 7)\n",
    "print(thisTpl)"
   ]
  },
  {
   "cell_type": "code",
   "execution_count": 32,
   "id": "732f9cea",
   "metadata": {},
   "outputs": [
    {
     "name": "stdout",
     "output_type": "stream",
     "text": [
      "7\n",
      "3\n"
     ]
    }
   ],
   "source": [
    "print(thisTpl[3])\n",
    "print(thisTpl[1])"
   ]
  },
  {
   "cell_type": "code",
   "execution_count": 33,
   "id": "66cf6ecb",
   "metadata": {},
   "outputs": [
    {
     "name": "stdout",
     "output_type": "stream",
     "text": [
      "d\n"
     ]
    }
   ],
   "source": [
    "# packing and unpacking in tuple\n",
    "(t1, t2, t3, t4) = ('a', 'b', 'd', 'e')\n",
    "\n",
    "print(t3)"
   ]
  },
  {
   "cell_type": "markdown",
   "id": "12a24f14",
   "metadata": {},
   "source": [
    "# Dictionary"
   ]
  },
  {
   "cell_type": "code",
   "execution_count": 34,
   "id": "25a24af4",
   "metadata": {},
   "outputs": [
    {
     "name": "stdout",
     "output_type": "stream",
     "text": [
      "Lancer Evo\n",
      "Mirai\n"
     ]
    }
   ],
   "source": [
    "# Dictionary are mutable\n",
    "# Dictionary are dynamic\n",
    "# Dictionary can be nested\n",
    "# Dictionary elements are accessed by its keys\n",
    "\n",
    "carBrnd = {\n",
    "    'Mitsubishi' : 'Lancer Evo',\n",
    "    'Chevrolet' : 'Camaro',\n",
    "    'Honda' : 'Civic',\n",
    "    'Toyota' : 'Mirai'\n",
    "}\n",
    "\n",
    "print(carBrnd['Mitsubishi'])\n",
    "print(carBrnd['Toyota'])"
   ]
  },
  {
   "cell_type": "code",
   "execution_count": 35,
   "id": "d96084e7",
   "metadata": {},
   "outputs": [
    {
     "name": "stdout",
     "output_type": "stream",
     "text": [
      "{'Mitsubishi': 'Lancer Evo', 'Chevrolet': 'Camaro', 'Honda': 'Civic', 'Toyota': 'Mirai', 'Nissan': 'Sentra'}\n"
     ]
    }
   ],
   "source": [
    "# adding to an existing dict is simply matter of assigning a new key and value\n",
    "\n",
    "carBrnd['Nissan'] = 'Sentra'\n",
    "\n",
    "print(carBrnd)"
   ]
  },
  {
   "cell_type": "code",
   "execution_count": 36,
   "id": "b13f930c",
   "metadata": {},
   "outputs": [
    {
     "data": {
      "text/plain": [
       "{'Mitsubishi': 'Lancer Evo',\n",
       " 'Honda': 'Civic',\n",
       " 'Toyota': 'Mirai',\n",
       " 'Nissan': 'Sentra'}"
      ]
     },
     "execution_count": 36,
     "metadata": {},
     "output_type": "execute_result"
    }
   ],
   "source": [
    "# use 'del' statement to delete an entry\n",
    "del carBrnd['Chevrolet']\n",
    "\n",
    "carBrnd"
   ]
  },
  {
   "cell_type": "markdown",
   "id": "7748acf2",
   "metadata": {},
   "source": [
    "## Build dictionary incrementally"
   ]
  },
  {
   "cell_type": "code",
   "execution_count": 37,
   "id": "43926945",
   "metadata": {},
   "outputs": [],
   "source": [
    "person = {}"
   ]
  },
  {
   "cell_type": "code",
   "execution_count": 38,
   "id": "b4c23c69",
   "metadata": {},
   "outputs": [],
   "source": [
    "person['fname'] = 'Luqman'\n",
    "person['lname'] = 'Hakim'\n",
    "person['age'] = '21'\n",
    "person['hobby'] = ['drawing', 'sleeping']\n",
    "person['favAnimals'] = {'mammals': 'cat', 'reptile': 'komodo dragon'}"
   ]
  },
  {
   "cell_type": "code",
   "execution_count": 39,
   "id": "ae7679eb",
   "metadata": {},
   "outputs": [
    {
     "data": {
      "text/plain": [
       "{'fname': 'Luqman',\n",
       " 'lname': 'Hakim',\n",
       " 'age': '21',\n",
       " 'hobby': ['drawing', 'sleeping'],\n",
       " 'favAnimals': {'mammals': 'cat', 'reptile': 'komodo dragon'}}"
      ]
     },
     "execution_count": 39,
     "metadata": {},
     "output_type": "execute_result"
    }
   ],
   "source": [
    "person"
   ]
  },
  {
   "cell_type": "code",
   "execution_count": 40,
   "id": "48ad41ef",
   "metadata": {},
   "outputs": [
    {
     "name": "stdout",
     "output_type": "stream",
     "text": [
      "Hakim\n",
      "drawing\n",
      "komodo dragon\n"
     ]
    }
   ],
   "source": [
    "print(person['lname'])\n",
    "print(person['hobby'][0])\n",
    "print(person['favAnimals']['reptile'])"
   ]
  },
  {
   "cell_type": "code",
   "execution_count": 41,
   "id": "0b2ed5c1",
   "metadata": {},
   "outputs": [
    {
     "name": "stdout",
     "output_type": "stream",
     "text": [
      "dict_items([('a', 10), ('b', 20), ('c', 30)])\n",
      "dict_keys(['a', 'b', 'c'])\n",
      "dict_values([10, 20, 30])\n"
     ]
    }
   ],
   "source": [
    "# Built-in Methods\n",
    "d = {'a': 10, 'b': 20, 'c': 30}\n",
    "\n",
    "# items\n",
    "print(d.items())\n",
    "\n",
    "# keys\n",
    "print(d.keys())\n",
    "\n",
    "# values\n",
    "print(d.values())"
   ]
  },
  {
   "cell_type": "markdown",
   "id": "c493b010",
   "metadata": {},
   "source": [
    "## Line continuation"
   ]
  },
  {
   "cell_type": "code",
   "execution_count": 42,
   "id": "88d71a84",
   "metadata": {},
   "outputs": [
    {
     "data": {
      "text/plain": [
       "True"
      ]
     },
     "execution_count": 42,
     "metadata": {},
     "output_type": "execute_result"
    }
   ],
   "source": [
    "person1_age = 42\n",
    "person2_age = 16\n",
    "person3_age = 71\n",
    "\n",
    "\n",
    "someone_is_of_working_age = (\n",
    "    (person1_age >= 18 and person1_age <= 65)\n",
    "    or (person2_age >= 18 and person2_age <= 65)\n",
    "    or (person3_age >= 18 and person3_age <= 65)\n",
    ")\n",
    "\n",
    "someone_is_of_working_age"
   ]
  },
  {
   "cell_type": "code",
   "execution_count": null,
   "id": "82beb2bd",
   "metadata": {},
   "outputs": [],
   "source": []
  }
 ],
 "metadata": {
  "kernelspec": {
   "display_name": "Python 3 (ipykernel)",
   "language": "python",
   "name": "python3"
  },
  "language_info": {
   "codemirror_mode": {
    "name": "ipython",
    "version": 3
   },
   "file_extension": ".py",
   "mimetype": "text/x-python",
   "name": "python",
   "nbconvert_exporter": "python",
   "pygments_lexer": "ipython3",
   "version": "3.9.8"
  },
  "latex_envs": {
   "LaTeX_envs_menu_present": true,
   "autoclose": false,
   "autocomplete": true,
   "bibliofile": "biblio.bib",
   "cite_by": "apalike",
   "current_citInitial": 1,
   "eqLabelWithNumbers": true,
   "eqNumInitial": 1,
   "hotkeys": {
    "equation": "Ctrl-E",
    "itemize": "Ctrl-I"
   },
   "labels_anchors": false,
   "latex_user_defs": false,
   "report_style_numbering": false,
   "user_envs_cfg": false
  },
  "toc": {
   "base_numbering": 1,
   "nav_menu": {},
   "number_sections": true,
   "sideBar": true,
   "skip_h1_title": false,
   "title_cell": "Table of Contents",
   "title_sidebar": "Contents",
   "toc_cell": false,
   "toc_position": {
    "height": "calc(100% - 180px)",
    "left": "10px",
    "top": "150px",
    "width": "242.969px"
   },
   "toc_section_display": true,
   "toc_window_display": true
  }
 },
 "nbformat": 4,
 "nbformat_minor": 5
}
