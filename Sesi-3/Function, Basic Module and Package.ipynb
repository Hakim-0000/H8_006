{
 "cells": [
  {
   "cell_type": "markdown",
   "id": "cb0e8760",
   "metadata": {},
   "source": [
    "# Function"
   ]
  },
  {
   "cell_type": "markdown",
   "id": "3c289709",
   "metadata": {},
   "source": [
    "## Defining function"
   ]
  },
  {
   "cell_type": "code",
   "execution_count": 1,
   "id": "44abfa8a",
   "metadata": {},
   "outputs": [],
   "source": [
    "def do_luas(p, l):\n",
    "    ''' Function ini digunakan\n",
    "        untuk menghitung luas'''\n",
    "    print(p*l)"
   ]
  },
  {
   "cell_type": "markdown",
   "id": "b186b13c",
   "metadata": {},
   "source": [
    "## Calling a function"
   ]
  },
  {
   "cell_type": "code",
   "execution_count": 2,
   "id": "e6397134",
   "metadata": {},
   "outputs": [
    {
     "name": "stdout",
     "output_type": "stream",
     "text": [
      "25\n"
     ]
    }
   ],
   "source": [
    "do_luas(5,5)"
   ]
  },
  {
   "cell_type": "markdown",
   "id": "a294a169",
   "metadata": {},
   "source": [
    "## Pass by reference vs value"
   ]
  },
  {
   "cell_type": "code",
   "execution_count": 3,
   "id": "433927e0",
   "metadata": {},
   "outputs": [],
   "source": [
    "def change(mylist):\n",
    "    '''This changes a passed list into this function'''\n",
    "    mylist.append([4,5,6])\n",
    "    print('Values inside the function: ', mylist)\n",
    "    return"
   ]
  },
  {
   "cell_type": "code",
   "execution_count": 8,
   "id": "85da9771",
   "metadata": {},
   "outputs": [
    {
     "name": "stdout",
     "output_type": "stream",
     "text": [
      "Values inside the function:  [10, 20, 30, [4, 5, 6]]\n",
      "Values outside the function:  [10, 20, 30, [4, 5, 6]]\n"
     ]
    }
   ],
   "source": [
    "yourlist = [10,20,30]\n",
    "change(yourlist)\n",
    "print('Values outside the function: ', yourlist)"
   ]
  },
  {
   "cell_type": "code",
   "execution_count": 15,
   "id": "2f3571c2",
   "metadata": {},
   "outputs": [],
   "source": [
    "def ubah(newlist):\n",
    "    '''This changes a passed list into this function'''\n",
    "    newlist = ([50, 40, 30, 20, 10])\n",
    "    print('Values inside the function: ', newlist)\n",
    "    return"
   ]
  },
  {
   "cell_type": "code",
   "execution_count": 16,
   "id": "fcbed051",
   "metadata": {},
   "outputs": [
    {
     "name": "stdout",
     "output_type": "stream",
     "text": [
      "Values inside the function:  [50, 40, 30, 20, 10]\n",
      "Values outside the function:  [1, 2, 3, 4, 5]\n"
     ]
    }
   ],
   "source": [
    "otherlist = [1, 2, 3, 4, 5]\n",
    "ubah(otherlist)\n",
    "print('Values outside the function: ', otherlist)"
   ]
  },
  {
   "cell_type": "markdown",
   "id": "25fcdbeb",
   "metadata": {},
   "source": [
    "## Function arguments"
   ]
  },
  {
   "cell_type": "markdown",
   "id": "8d6faab7",
   "metadata": {},
   "source": [
    "### Required arguments"
   ]
  },
  {
   "cell_type": "code",
   "execution_count": 21,
   "id": "fe35593c",
   "metadata": {},
   "outputs": [],
   "source": [
    "# we have to give an input to run this function\n",
    "def printme(str):\n",
    "    '''This prints a passed input into this function'''\n",
    "    print(str)\n",
    "    return\n"
   ]
  },
  {
   "cell_type": "code",
   "execution_count": 26,
   "id": "6dac1763",
   "metadata": {},
   "outputs": [
    {
     "name": "stdout",
     "output_type": "stream",
     "text": [
      "aww\n"
     ]
    }
   ],
   "source": [
    "printme('aww')"
   ]
  },
  {
   "cell_type": "markdown",
   "id": "3fc1497d",
   "metadata": {},
   "source": [
    "### Keyword arguments"
   ]
  },
  {
   "cell_type": "code",
   "execution_count": 1,
   "id": "62d6f0cd",
   "metadata": {},
   "outputs": [],
   "source": [
    "def printme( str ):\n",
    "   \"This prints a passed string into this function\"\n",
    "   print(str)\n",
    "   return"
   ]
  },
  {
   "cell_type": "code",
   "execution_count": 2,
   "id": "6b52f5f7",
   "metadata": {},
   "outputs": [
    {
     "name": "stdout",
     "output_type": "stream",
     "text": [
      "aww\n"
     ]
    }
   ],
   "source": [
    "printme(str = \"aww\")"
   ]
  },
  {
   "cell_type": "markdown",
   "id": "b62f807f",
   "metadata": {},
   "source": [
    "## Default arguments"
   ]
  },
  {
   "cell_type": "code",
   "execution_count": 3,
   "id": "71e6b577",
   "metadata": {},
   "outputs": [],
   "source": [
    "def printinfo( name, age = 26 ):\n",
    "   \"This prints a passed info into this function\"\n",
    "   print(\"Name: \", name)\n",
    "   print(\"Age: \", age)\n",
    "   return"
   ]
  },
  {
   "cell_type": "code",
   "execution_count": 7,
   "id": "c56fad76",
   "metadata": {},
   "outputs": [
    {
     "name": "stdout",
     "output_type": "stream",
     "text": [
      "Name:  Orang\n",
      "Age:  26\n"
     ]
    }
   ],
   "source": [
    "printinfo('Orang')"
   ]
  },
  {
   "cell_type": "markdown",
   "id": "91a0c276",
   "metadata": {},
   "source": [
    "## Variable length arguments"
   ]
  },
  {
   "cell_type": "code",
   "execution_count": 9,
   "id": "5fd631a1",
   "metadata": {},
   "outputs": [],
   "source": [
    "def var_len( arg1, *vartuple ):\n",
    "   \"This prints a variable passed arguments\"\n",
    "   print(\"Output is: \")\n",
    "   print(arg1)\n",
    "   for var in vartuple:\n",
    "      print(var)\n",
    "   return"
   ]
  },
  {
   "cell_type": "code",
   "execution_count": 11,
   "id": "49d4a697",
   "metadata": {},
   "outputs": [
    {
     "name": "stdout",
     "output_type": "stream",
     "text": [
      "Output is: \n",
      "10\n",
      "20\n",
      "a\n",
      "30\n",
      "Output is: \n",
      "a\n"
     ]
    }
   ],
   "source": [
    "var_len(10, 20, 'a', 30)\n",
    "var_len('a')"
   ]
  },
  {
   "cell_type": "markdown",
   "id": "a954c39f",
   "metadata": {},
   "source": [
    "# Python module"
   ]
  },
  {
   "cell_type": "code",
   "execution_count": 18,
   "id": "310d431c",
   "metadata": {},
   "outputs": [
    {
     "data": {
      "text/plain": [
       "<function sys.exc_info()>"
      ]
     },
     "execution_count": 18,
     "metadata": {},
     "output_type": "execute_result"
    }
   ],
   "source": [
    "#importing module\n",
    "\n",
    "\n",
    "# import mod\n",
    "# from mod import n\n",
    "# from mod import *\n",
    "# from mod import name as alt_name\n",
    "# import mod_name as alt_name\n",
    "\n",
    "import sys\n",
    "sys.exc_info"
   ]
  },
  {
   "cell_type": "markdown",
   "id": "3bf7f714",
   "metadata": {},
   "source": [
    "# Python Package"
   ]
  },
  {
   "cell_type": "markdown",
   "id": "6231eb38",
   "metadata": {},
   "source": [
    "## Package"
   ]
  },
  {
   "cell_type": "code",
   "execution_count": 22,
   "id": "d665d1d7",
   "metadata": {},
   "outputs": [],
   "source": [
    "# importing module from package\n",
    "\n",
    "\n",
    "# import pkg_name.mod1, pkg.mod2\n",
    "# from pkg_name import mod_name, mod_name\n",
    "# from pkg_name import mod_name as alt_name"
   ]
  },
  {
   "cell_type": "markdown",
   "id": "7ab3b791",
   "metadata": {},
   "source": [
    "## PIP"
   ]
  },
  {
   "cell_type": "code",
   "execution_count": null,
   "id": "9899f7c0",
   "metadata": {},
   "outputs": [],
   "source": [
    "# pip help\n",
    "# pip install pkg_name\n",
    "# python -m pip install --upgrade pip\n",
    "# pip list\n",
    "# pip uninstall pkg_name\n",
    "# pip uninstall pkg_name -y"
   ]
  }
 ],
 "metadata": {
  "kernelspec": {
   "display_name": "Python 3 (ipykernel)",
   "language": "python",
   "name": "python3"
  },
  "language_info": {
   "codemirror_mode": {
    "name": "ipython",
    "version": 3
   },
   "file_extension": ".py",
   "mimetype": "text/x-python",
   "name": "python",
   "nbconvert_exporter": "python",
   "pygments_lexer": "ipython3",
   "version": "3.9.8"
  },
  "latex_envs": {
   "LaTeX_envs_menu_present": true,
   "autoclose": false,
   "autocomplete": true,
   "bibliofile": "biblio.bib",
   "cite_by": "apalike",
   "current_citInitial": 1,
   "eqLabelWithNumbers": true,
   "eqNumInitial": 1,
   "hotkeys": {
    "equation": "Ctrl-E",
    "itemize": "Ctrl-I"
   },
   "labels_anchors": false,
   "latex_user_defs": false,
   "report_style_numbering": false,
   "user_envs_cfg": false
  },
  "toc": {
   "base_numbering": 1,
   "nav_menu": {},
   "number_sections": true,
   "sideBar": true,
   "skip_h1_title": false,
   "title_cell": "Table of Contents",
   "title_sidebar": "Contents",
   "toc_cell": false,
   "toc_position": {},
   "toc_section_display": true,
   "toc_window_display": false
  }
 },
 "nbformat": 4,
 "nbformat_minor": 5
}
