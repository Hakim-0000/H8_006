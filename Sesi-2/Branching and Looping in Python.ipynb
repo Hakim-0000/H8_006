{
 "cells": [
  {
   "cell_type": "markdown",
   "id": "07c5501a",
   "metadata": {},
   "source": [
    "# Conditions"
   ]
  },
  {
   "cell_type": "markdown",
   "id": "ed7e10ba",
   "metadata": {},
   "source": [
    "## if statements\n",
    "\n",
    "##### Logical conditions :\n",
    "\n",
    "##### Equals: a == b\n",
    "##### Not Equals: a != b\n",
    "##### Less than: a < b\n",
    "##### Less than or equal to: a <= b\n",
    "##### Greater than: a > b\n",
    "##### Greater than or equal to: a >= b"
   ]
  },
  {
   "cell_type": "code",
   "execution_count": 31,
   "id": "b747e606",
   "metadata": {
    "code_folding": [
     3,
     6,
     9,
     12,
     15,
     18
    ]
   },
   "outputs": [
    {
     "name": "stdout",
     "output_type": "stream",
     "text": [
      "yes\n",
      "yes\n",
      "yes\n"
     ]
    }
   ],
   "source": [
    "x = 0\n",
    "y = 5\n",
    "\n",
    "if x < y:                            # True\n",
    "    print('yes')\n",
    "\n",
    "if y < x:                            # False\n",
    "    print('yes')\n",
    "\n",
    "if x:                                # False\n",
    "    print('yes')\n",
    "\n",
    "if y:                                # True\n",
    "    print('yes')\n",
    "\n",
    "if 'aul' in 'grault':                # True\n",
    "    print('yes')\n",
    "\n",
    "if 'quux' in ['foo', 'bar', 'baz']:  # False\n",
    "    print('yes')"
   ]
  },
  {
   "cell_type": "markdown",
   "id": "8463c32b",
   "metadata": {},
   "source": [
    "### Grouping Statements : Indentation and Blocks"
   ]
  },
  {
   "cell_type": "code",
   "execution_count": 32,
   "id": "89cc8915",
   "metadata": {},
   "outputs": [
    {
     "name": "stdout",
     "output_type": "stream",
     "text": [
      "Mow the lawn\n",
      "Weed the garden\n",
      "Take the dog for a walk\n",
      "after conditional . . .\n"
     ]
    }
   ],
   "source": [
    "weather = 'nice'\n",
    "\n",
    "\n",
    "if weather == 'nice':\n",
    "    print('Mow the lawn')\n",
    "    print('Weed the garden')\n",
    "    print('Take the dog for a walk')\n",
    "print('after conditional . . .')"
   ]
  },
  {
   "cell_type": "code",
   "execution_count": 33,
   "id": "19bef843",
   "metadata": {
    "code_folding": [
     0
    ]
   },
   "outputs": [
    {
     "name": "stdout",
     "output_type": "stream",
     "text": [
      "Outer condition is true\n",
      "Between inner conditions\n",
      "Inner condition 2\n",
      "End of outer condition\n",
      "After outer condition\n"
     ]
    }
   ],
   "source": [
    "if 'foo' in ['foo', 'bar', 'baz']:        #  x\n",
    "    print('Outer condition is true')      #  x\n",
    "\n",
    "    if 10 > 20:                           #  x\n",
    "        print('Inner condition 1')        #        x\n",
    "\n",
    "    print('Between inner conditions')     #  x\n",
    "\n",
    "    if 10 < 20:                           #  x\n",
    "        print('Inner condition 2')        #  x\n",
    "\n",
    "    print('End of outer condition')       #  x\n",
    "print('After outer condition')            #  x"
   ]
  },
  {
   "cell_type": "code",
   "execution_count": 34,
   "id": "89411be8",
   "metadata": {},
   "outputs": [
    {
     "name": "stdout",
     "output_type": "stream",
     "text": [
      "Outer condition is true\n",
      "Between inner conditions\n",
      "Inner condition 2\n",
      "End of outer condition\n",
      "After outer condition\n"
     ]
    }
   ],
   "source": [
    "# Does line execute?                        Yes    No\n",
    "#                                           ---    --\n",
    "if 'foo' in ['foo', 'bar', 'baz']:        #  x\n",
    "    print('Outer condition is true')      #  x\n",
    "\n",
    "    if 10 > 20:                           #  x\n",
    "        print('Inner condition 1')        #        x\n",
    "\n",
    "    print('Between inner conditions')     #  x\n",
    "\n",
    "    if 10 < 20:                           #  x\n",
    "        print('Inner condition 2')        #  x\n",
    "\n",
    "    print('End of outer condition')       #  x\n",
    "print('After outer condition')            #  x"
   ]
  },
  {
   "cell_type": "markdown",
   "id": "026ab71a",
   "metadata": {},
   "source": [
    "## Else and elif clauses"
   ]
  },
  {
   "cell_type": "code",
   "execution_count": 35,
   "id": "bc7d8958",
   "metadata": {},
   "outputs": [
    {
     "name": "stdout",
     "output_type": "stream",
     "text": [
      "(first suite)\n",
      "x is small\n"
     ]
    }
   ],
   "source": [
    "x = 20\n",
    "\n",
    "if x < 50:\n",
    "    print('(first suite)')\n",
    "    print('x is small')\n",
    "else:\n",
    "    print('(second suite)')\n",
    "    print('x is large')"
   ]
  },
  {
   "cell_type": "code",
   "execution_count": 36,
   "id": "d9b1f789",
   "metadata": {},
   "outputs": [
    {
     "name": "stdout",
     "output_type": "stream",
     "text": [
      "uang tidak cukup\n"
     ]
    }
   ],
   "source": [
    "hargaBuku = 20000\n",
    "hargaMajalah = 5000\n",
    "uang = 2000\n",
    "\n",
    "if uang > hargaBuku:\n",
    "    print(\"beli buku\")\n",
    "else:\n",
    "    print(\"uang tidak cukup\")\n"
   ]
  },
  {
   "cell_type": "code",
   "execution_count": 37,
   "id": "f6313009",
   "metadata": {},
   "outputs": [
    {
     "name": "stdout",
     "output_type": "stream",
     "text": [
      "You can go outside but don't forget your raincoat\n"
     ]
    }
   ],
   "source": [
    "weather = 'cloudy'\n",
    "\n",
    "\n",
    "if weather == 'sunny' :\n",
    "    print('You can go outside')\n",
    "    \n",
    "elif weather == 'cloudy' :\n",
    "    print('You can go outside but don\\'t forget your raincoat')\n",
    "    \n",
    "elif weather == 'raining' or 'thunderstorm' :\n",
    "    print('You better stay at home!')\n",
    "    \n",
    "else :\n",
    "    print('There\\'s no data')"
   ]
  },
  {
   "cell_type": "code",
   "execution_count": 38,
   "id": "c0ab95f4",
   "metadata": {
    "code_folding": []
   },
   "outputs": [
    {
     "name": "stdout",
     "output_type": "stream",
     "text": [
      "  Bio\n",
      "--------\n",
      "Luqman Hakim\n",
      "21\n",
      "['drawing', 'sleeping']\n",
      "['technology', 'arts', 'science']\n"
     ]
    }
   ],
   "source": [
    "person = {\n",
    "    'Name' : 'Luqman Hakim',\n",
    "    'Age' : '21',\n",
    "    'Hobby' : ['drawing', 'sleeping'],\n",
    "    'favTopics' : ['technology', 'arts', 'science']\n",
    "}\n",
    "\n",
    "if 'Name' in person :\n",
    "    print('  Bio')\n",
    "    print('--------')\n",
    "    print(person['Name'])\n",
    "    print(person['Age'])\n",
    "    print(person['Hobby'])\n",
    "    print(person['favTopics'])\n",
    "\n",
    "else :\n",
    "    print('There\\'s no data')"
   ]
  },
  {
   "cell_type": "code",
   "execution_count": 39,
   "id": "11c3d240",
   "metadata": {},
   "outputs": [
    {
     "name": "stdout",
     "output_type": "stream",
     "text": [
      "corge\n",
      "grault\n"
     ]
    }
   ],
   "source": [
    "x = 3\n",
    "if x == 1: print('foo'); print('bar'); print('baz')\n",
    "elif x == 2: print('qux'); print('quux')\n",
    "else: print('corge'); print('grault')"
   ]
  },
  {
   "cell_type": "markdown",
   "id": "7121042b",
   "metadata": {},
   "source": [
    "### Conditional Expressions"
   ]
  },
  {
   "cell_type": "code",
   "execution_count": 40,
   "id": "0de5ffc1",
   "metadata": {},
   "outputs": [
    {
     "name": "stdout",
     "output_type": "stream",
     "text": [
      "Let's go the beach\n"
     ]
    }
   ],
   "source": [
    "raining = False\n",
    "print('Let\\'s go the', 'beach' if not raining else 'library')"
   ]
  },
  {
   "cell_type": "markdown",
   "id": "1d1396b7",
   "metadata": {},
   "source": [
    "### Python pass statement"
   ]
  },
  {
   "cell_type": "code",
   "execution_count": 41,
   "id": "cda54eeb",
   "metadata": {},
   "outputs": [
    {
     "name": "stdout",
     "output_type": "stream",
     "text": [
      "pass\n"
     ]
    }
   ],
   "source": [
    "# its a placeholder if we dont know yet what to code\n",
    "if True:\n",
    "    pass\n",
    "\n",
    "print('pass')"
   ]
  },
  {
   "cell_type": "markdown",
   "id": "12482327",
   "metadata": {},
   "source": [
    "# Loops"
   ]
  },
  {
   "cell_type": "markdown",
   "id": "3f4acabf",
   "metadata": {},
   "source": [
    "## While Loops"
   ]
  },
  {
   "cell_type": "code",
   "execution_count": 42,
   "id": "a9cbadfd",
   "metadata": {},
   "outputs": [
    {
     "name": "stdout",
     "output_type": "stream",
     "text": [
      "4\n",
      "3\n",
      "2\n",
      "1\n",
      "0\n"
     ]
    }
   ],
   "source": [
    "n = 5\n",
    "while n > 0:\n",
    "    n -= 1\n",
    "    print(n)"
   ]
  },
  {
   "cell_type": "code",
   "execution_count": 43,
   "id": "f99f1a03",
   "metadata": {},
   "outputs": [
    {
     "name": "stdout",
     "output_type": "stream",
     "text": [
      "1\n",
      "2\n",
      "3\n",
      "4\n",
      "5\n"
     ]
    }
   ],
   "source": [
    "x = 1\n",
    "while x < 6:\n",
    "    print(x)\n",
    "    x += 1"
   ]
  },
  {
   "cell_type": "markdown",
   "id": "67b84960",
   "metadata": {},
   "source": [
    "### Python break and continue statements"
   ]
  },
  {
   "cell_type": "code",
   "execution_count": 44,
   "id": "330e71f8",
   "metadata": {},
   "outputs": [
    {
     "name": "stdout",
     "output_type": "stream",
     "text": [
      "4\n",
      "3\n",
      "loop ended.\n"
     ]
    }
   ],
   "source": [
    "n = 5\n",
    "while n > 0 :\n",
    "    n -= 1\n",
    "    if n == 2:\n",
    "        break #break statement\n",
    "    print(n)\n",
    "print('loop ended.')"
   ]
  },
  {
   "cell_type": "code",
   "execution_count": 45,
   "id": "6e249fe1",
   "metadata": {},
   "outputs": [
    {
     "name": "stdout",
     "output_type": "stream",
     "text": [
      "4\n",
      "3\n",
      "1\n",
      "0\n",
      "loop ended.\n"
     ]
    }
   ],
   "source": [
    "n = 5\n",
    "while n > 0 :\n",
    "    n -= 1\n",
    "    if n == 2:\n",
    "        continue #continue statement\n",
    "    print(n)\n",
    "print('loop ended.')"
   ]
  },
  {
   "cell_type": "markdown",
   "id": "21c3c6ef",
   "metadata": {},
   "source": [
    "### Else clause"
   ]
  },
  {
   "cell_type": "code",
   "execution_count": 46,
   "id": "acc26f1f",
   "metadata": {},
   "outputs": [
    {
     "name": "stdout",
     "output_type": "stream",
     "text": [
      "4\n",
      "3\n",
      "2\n",
      "1\n",
      "0\n",
      "loop ended.\n"
     ]
    }
   ],
   "source": [
    "n = 5\n",
    "while n > 0 :\n",
    "    n -= 1\n",
    "    print(n)\n",
    "else:\n",
    "    print('loop ended.')"
   ]
  },
  {
   "cell_type": "code",
   "execution_count": 47,
   "id": "d1b8d18b",
   "metadata": {},
   "outputs": [
    {
     "name": "stdout",
     "output_type": "stream",
     "text": [
      "4\n",
      "3\n",
      "2\n"
     ]
    }
   ],
   "source": [
    "n = 5\n",
    "while n > 0:\n",
    "    n -= 1\n",
    "    print(n)\n",
    "    if n == 2:\n",
    "        break\n",
    "else:\n",
    "    print('Loop done.')\n"
   ]
  },
  {
   "cell_type": "markdown",
   "id": "62490fd5",
   "metadata": {},
   "source": [
    "### Infinite loops"
   ]
  },
  {
   "cell_type": "code",
   "execution_count": 48,
   "id": "fe446309",
   "metadata": {},
   "outputs": [],
   "source": [
    "# it will run as long as you dont stop it\n",
    "\n",
    "#while True:\n",
    "#    print('foo')"
   ]
  },
  {
   "cell_type": "markdown",
   "id": "4e5bcd1a",
   "metadata": {},
   "source": [
    "### Nested while loops"
   ]
  },
  {
   "cell_type": "code",
   "execution_count": 49,
   "id": "63440ed0",
   "metadata": {},
   "outputs": [
    {
     "name": "stdout",
     "output_type": "stream",
     "text": [
      "foo\n",
      "> baz\n",
      "> qux\n",
      "bar\n",
      "> baz\n",
      "> qux\n"
     ]
    }
   ],
   "source": [
    "a = ['foo', 'bar']\n",
    "\n",
    "while len(a):                 #2\n",
    "    print(a.pop(0))           # mengambil(pop) index 0\n",
    "    \n",
    "    b = ['baz', 'qux']\n",
    "    \n",
    "    while len(b):             #2\n",
    "        print('>', b.pop(0))  # beri tanda '>' lalu ambil(pop) index 0 pada b"
   ]
  },
  {
   "cell_type": "markdown",
   "id": "7cb895f8",
   "metadata": {},
   "source": [
    "### One-line while loops"
   ]
  },
  {
   "cell_type": "code",
   "execution_count": 50,
   "id": "686daf5d",
   "metadata": {},
   "outputs": [
    {
     "name": "stdout",
     "output_type": "stream",
     "text": [
      "4\n",
      "3\n",
      "2\n",
      "1\n",
      "0\n"
     ]
    }
   ],
   "source": [
    "n = 5\n",
    "while n > 0: n -= 1; print(n)"
   ]
  },
  {
   "cell_type": "markdown",
   "id": "ddaf80a4",
   "metadata": {},
   "source": [
    "## For Loops"
   ]
  },
  {
   "cell_type": "code",
   "execution_count": 51,
   "id": "9c0ec0eb",
   "metadata": {},
   "outputs": [
    {
     "name": "stdout",
     "output_type": "stream",
     "text": [
      "foo\n",
      "bar\n",
      "baz\n"
     ]
    }
   ],
   "source": [
    "a = ['foo', 'bar', 'baz']\n",
    "for i in a :\n",
    "    print(i)"
   ]
  },
  {
   "cell_type": "code",
   "execution_count": 52,
   "id": "59331303",
   "metadata": {},
   "outputs": [
    {
     "name": "stdout",
     "output_type": "stream",
     "text": [
      "foo\n",
      "1\n",
      "bar\n",
      "2\n",
      "baz\n",
      "3\n"
     ]
    }
   ],
   "source": [
    "d = {\n",
    "    'foo': 1,\n",
    "    'bar': 2,\n",
    "    'baz': 3\n",
    "}\n",
    "\n",
    "for k in d:\n",
    "    print(k)\n",
    "    print(d[k])"
   ]
  },
  {
   "cell_type": "code",
   "execution_count": 53,
   "id": "433b80cd",
   "metadata": {},
   "outputs": [
    {
     "name": "stdout",
     "output_type": "stream",
     "text": [
      "1\n",
      "2\n",
      "3\n"
     ]
    }
   ],
   "source": [
    "for k in d.values():\n",
    "    print(k)"
   ]
  },
  {
   "cell_type": "code",
   "execution_count": 54,
   "id": "aad270c4",
   "metadata": {},
   "outputs": [
    {
     "name": "stdout",
     "output_type": "stream",
     "text": [
      "foo : 1\n",
      "bar : 2\n",
      "baz : 3\n"
     ]
    }
   ],
   "source": [
    "for k, l in d.items():\n",
    "    print(k, ':', l)"
   ]
  },
  {
   "cell_type": "markdown",
   "id": "39742da7",
   "metadata": {},
   "source": [
    "### Range() function"
   ]
  },
  {
   "cell_type": "code",
   "execution_count": 55,
   "id": "dea72414",
   "metadata": {},
   "outputs": [
    {
     "name": "stdout",
     "output_type": "stream",
     "text": [
      "0\n",
      "1\n",
      "2\n",
      "3\n",
      "4\n"
     ]
    }
   ],
   "source": [
    "x = range(5)\n",
    "for n in x:\n",
    "    print(n)"
   ]
  },
  {
   "cell_type": "markdown",
   "id": "d81e6781",
   "metadata": {},
   "source": [
    "### Break and continue in for loop"
   ]
  },
  {
   "cell_type": "code",
   "execution_count": 56,
   "id": "f830fa36",
   "metadata": {},
   "outputs": [
    {
     "name": "stdout",
     "output_type": "stream",
     "text": [
      "foo\n"
     ]
    }
   ],
   "source": [
    "for i in ['foo', 'bar', 'baz', 'qux']:\n",
    "    if 'b' in i:\n",
    "        break\n",
    "    print(i)"
   ]
  },
  {
   "cell_type": "code",
   "execution_count": 57,
   "id": "30393073",
   "metadata": {},
   "outputs": [
    {
     "name": "stdout",
     "output_type": "stream",
     "text": [
      "foo\n",
      "qux\n"
     ]
    }
   ],
   "source": [
    "for i in ['foo', 'bar', 'baz', 'qux']:\n",
    "    if 'b' in i:\n",
    "        continue\n",
    "    print(i)"
   ]
  },
  {
   "cell_type": "markdown",
   "id": "60693485",
   "metadata": {},
   "source": [
    "### Else clause"
   ]
  },
  {
   "cell_type": "code",
   "execution_count": 58,
   "id": "048d377e",
   "metadata": {},
   "outputs": [
    {
     "name": "stdout",
     "output_type": "stream",
     "text": [
      "foo\n",
      "bar\n",
      "baz\n",
      "qux\n",
      "Done.\n"
     ]
    }
   ],
   "source": [
    "for i in ['foo', 'bar', 'baz', 'qux']:\n",
    "    print(i)\n",
    "else:\n",
    "    print('Done.')"
   ]
  },
  {
   "cell_type": "code",
   "execution_count": 59,
   "id": "2bc865ab",
   "metadata": {},
   "outputs": [
    {
     "name": "stdout",
     "output_type": "stream",
     "text": [
      "foo\n"
     ]
    }
   ],
   "source": [
    "# else statement will not execute\n",
    "for i in ['foo', 'bar', 'baz', 'qux']:\n",
    "    if i == 'bar':\n",
    "        break\n",
    "    print(i)\n",
    "else:\n",
    "    print('Done.')"
   ]
  },
  {
   "cell_type": "code",
   "execution_count": 60,
   "id": "d56e6013",
   "metadata": {},
   "outputs": [
    {
     "name": "stdout",
     "output_type": "stream",
     "text": [
      "Input the temperature values (eg. 45F, 120C) : 12C\n",
      "54 degree\n"
     ]
    }
   ],
   "source": [
    "temp = input('Input the temperature values (eg. 45F, 120C) : ')\n",
    "degree = int(temp[:-1]) #convert string dtype to int dtype unles index [-1]\n",
    "i_convertion = temp[-1]\n",
    "\n",
    "\n",
    "if i_convertion == 'C' or 'c':\n",
    "    result = int(round((9*degree)/5+32))\n",
    "    print(result, 'degree')\n",
    "elif i_convertion == 'F' or 'f':\n",
    "    result = int(round((degree - 32)*5/9))\n",
    "    print(result, 'degree')\n",
    "else:\n",
    "    print('No Data')\n",
    "\n",
    "#print(result, 'degree')"
   ]
  },
  {
   "cell_type": "code",
   "execution_count": null,
   "id": "26d0b488",
   "metadata": {},
   "outputs": [],
   "source": []
  },
  {
   "cell_type": "code",
   "execution_count": null,
   "id": "59bf6752",
   "metadata": {},
   "outputs": [],
   "source": []
  }
 ],
 "metadata": {
  "kernelspec": {
   "display_name": "Python 3 (ipykernel)",
   "language": "python",
   "name": "python3"
  },
  "language_info": {
   "codemirror_mode": {
    "name": "ipython",
    "version": 3
   },
   "file_extension": ".py",
   "mimetype": "text/x-python",
   "name": "python",
   "nbconvert_exporter": "python",
   "pygments_lexer": "ipython3",
   "version": "3.9.8"
  },
  "latex_envs": {
   "LaTeX_envs_menu_present": true,
   "autoclose": false,
   "autocomplete": true,
   "bibliofile": "biblio.bib",
   "cite_by": "apalike",
   "current_citInitial": 1,
   "eqLabelWithNumbers": true,
   "eqNumInitial": 1,
   "hotkeys": {
    "equation": "Ctrl-E",
    "itemize": "Ctrl-I"
   },
   "labels_anchors": false,
   "latex_user_defs": false,
   "report_style_numbering": false,
   "user_envs_cfg": false
  },
  "toc": {
   "base_numbering": 1,
   "nav_menu": {},
   "number_sections": true,
   "sideBar": true,
   "skip_h1_title": false,
   "title_cell": "Table of Contents",
   "title_sidebar": "Contents",
   "toc_cell": false,
   "toc_position": {},
   "toc_section_display": true,
   "toc_window_display": false
  }
 },
 "nbformat": 4,
 "nbformat_minor": 5
}
