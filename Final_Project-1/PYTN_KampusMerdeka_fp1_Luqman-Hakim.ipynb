{
 "cells": [
  {
   "cell_type": "markdown",
   "id": "K0EjlgcSBVGF",
   "metadata": {
    "id": "K0EjlgcSBVGF"
   },
   "source": [
    "Nama Anggota Kelompok :\n",
    "- Luqman Hakim (PYTN - KS06 - 003)\n",
    "- Fellysia Devi Pramono (PYTN - KS06 - 006)"
   ]
  },
  {
   "cell_type": "markdown",
   "id": "2J5eW_S6BJVi",
   "metadata": {
    "id": "2J5eW_S6BJVi"
   },
   "source": [
    "# Project Introduction\n",
    "Objektif yang ingin dicapai dari final project 1 ini yaitu menerapkan konsep linear regression pada dataset yang dapat diperoleh dari kaggle melalui link berikut https://www.kaggle.com/brllrb/uber-and-lyft-dataset-boston-ma .\n",
    "Dataset yang digunakan yaitu Uber and Lyft Dataset Boston, MA yang berisi record data perjalanan taksi uber dan lyft di Boston, MA. Dataset ini terdiri dari 57 kolom dan 693.071 data.\n",
    "\n",
    "Dataset ini mengandung banyak nilai NA dan outliers maka cocok untuk dilakukan data cleaning dan preprocessing. Selain itu, dataset ini juga terdiri dari banyak kolom (variabel) sehingga sangat cocok untuk melakukan penerapan linear regression, yang mana bertujuan untuk melihat pola antara variabel-variabel yang berbeda, serta membuat suatu prediksi berdasarkan model regresi linier.\n",
    "\n",
    "Pada final project 1 ini akan dibuat prediksi harga taksi Uber dan Lyft (cab price), dengan variabel price sebagai variabel dependen (variabel prediktor) dan variabel lainnya yang memiliki korelasi dengan variabel price akan menjadi variabel independen."
   ]
  },
  {
   "cell_type": "markdown",
   "id": "f6607d18",
   "metadata": {
    "id": "f6607d18"
   },
   "source": [
    "# Import Library"
   ]
  },
  {
   "cell_type": "code",
   "execution_count": 1,
   "id": "d68b2618",
   "metadata": {
    "id": "d68b2618"
   },
   "outputs": [],
   "source": [
    "## import library yang dibutuhkan\n",
    "\n",
    "import matplotlib.pyplot as plt\n",
    "import numpy as np\n",
    "import pandas as pd\n",
    "import seaborn as sb\n",
    "import time\n",
    "\n",
    "from sklearn import metrics\n",
    "from sklearn.linear_model import LinearRegression\n",
    "from sklearn.metrics import r2_score\n",
    "from sklearn.metrics import mean_squared_error\n",
    "from sklearn.metrics import mean_absolute_error\n",
    "from sklearn.model_selection import train_test_split\n",
    "from warnings import filterwarnings\n",
    "\n",
    "filterwarnings('ignore')\n",
    "pd.set_option('display.max_columns', None)"
   ]
  },
  {
   "cell_type": "markdown",
   "id": "c29937d8",
   "metadata": {
    "id": "c29937d8"
   },
   "source": [
    "# Load Dataset"
   ]
  },
  {
   "cell_type": "code",
   "execution_count": 2,
   "id": "3e2b0012",
   "metadata": {
    "colab": {
     "base_uri": "https://localhost:8080/",
     "height": 531
    },
    "id": "3e2b0012",
    "outputId": "77298c11-f814-4e38-8b50-476a73bdf1a1",
    "scrolled": false
   },
   "outputs": [
    {
     "data": {
      "text/html": [
       "<div>\n",
       "<style scoped>\n",
       "    .dataframe tbody tr th:only-of-type {\n",
       "        vertical-align: middle;\n",
       "    }\n",
       "\n",
       "    .dataframe tbody tr th {\n",
       "        vertical-align: top;\n",
       "    }\n",
       "\n",
       "    .dataframe thead th {\n",
       "        text-align: right;\n",
       "    }\n",
       "</style>\n",
       "<table border=\"1\" class=\"dataframe\">\n",
       "  <thead>\n",
       "    <tr style=\"text-align: right;\">\n",
       "      <th></th>\n",
       "      <th>id</th>\n",
       "      <th>timestamp</th>\n",
       "      <th>hour</th>\n",
       "      <th>day</th>\n",
       "      <th>month</th>\n",
       "      <th>datetime</th>\n",
       "      <th>timezone</th>\n",
       "      <th>source</th>\n",
       "      <th>destination</th>\n",
       "      <th>cab_type</th>\n",
       "      <th>product_id</th>\n",
       "      <th>name</th>\n",
       "      <th>price</th>\n",
       "      <th>distance</th>\n",
       "      <th>surge_multiplier</th>\n",
       "      <th>latitude</th>\n",
       "      <th>longitude</th>\n",
       "      <th>temperature</th>\n",
       "      <th>apparentTemperature</th>\n",
       "      <th>short_summary</th>\n",
       "      <th>long_summary</th>\n",
       "      <th>precipIntensity</th>\n",
       "      <th>precipProbability</th>\n",
       "      <th>humidity</th>\n",
       "      <th>windSpeed</th>\n",
       "      <th>windGust</th>\n",
       "      <th>windGustTime</th>\n",
       "      <th>visibility</th>\n",
       "      <th>temperatureHigh</th>\n",
       "      <th>temperatureHighTime</th>\n",
       "      <th>temperatureLow</th>\n",
       "      <th>temperatureLowTime</th>\n",
       "      <th>apparentTemperatureHigh</th>\n",
       "      <th>apparentTemperatureHighTime</th>\n",
       "      <th>apparentTemperatureLow</th>\n",
       "      <th>apparentTemperatureLowTime</th>\n",
       "      <th>icon</th>\n",
       "      <th>dewPoint</th>\n",
       "      <th>pressure</th>\n",
       "      <th>windBearing</th>\n",
       "      <th>cloudCover</th>\n",
       "      <th>uvIndex</th>\n",
       "      <th>visibility.1</th>\n",
       "      <th>ozone</th>\n",
       "      <th>sunriseTime</th>\n",
       "      <th>sunsetTime</th>\n",
       "      <th>moonPhase</th>\n",
       "      <th>precipIntensityMax</th>\n",
       "      <th>uvIndexTime</th>\n",
       "      <th>temperatureMin</th>\n",
       "      <th>temperatureMinTime</th>\n",
       "      <th>temperatureMax</th>\n",
       "      <th>temperatureMaxTime</th>\n",
       "      <th>apparentTemperatureMin</th>\n",
       "      <th>apparentTemperatureMinTime</th>\n",
       "      <th>apparentTemperatureMax</th>\n",
       "      <th>apparentTemperatureMaxTime</th>\n",
       "    </tr>\n",
       "  </thead>\n",
       "  <tbody>\n",
       "    <tr>\n",
       "      <th>0</th>\n",
       "      <td>424553bb-7174-41ea-aeb4-fe06d4f4b9d7</td>\n",
       "      <td>1.544953e+09</td>\n",
       "      <td>9</td>\n",
       "      <td>16</td>\n",
       "      <td>12</td>\n",
       "      <td>2018-12-16 09:30:07</td>\n",
       "      <td>America/New_York</td>\n",
       "      <td>Haymarket Square</td>\n",
       "      <td>North Station</td>\n",
       "      <td>Lyft</td>\n",
       "      <td>lyft_line</td>\n",
       "      <td>Shared</td>\n",
       "      <td>5.0</td>\n",
       "      <td>0.44</td>\n",
       "      <td>1.0</td>\n",
       "      <td>42.2148</td>\n",
       "      <td>-71.033</td>\n",
       "      <td>42.34</td>\n",
       "      <td>37.12</td>\n",
       "      <td>Mostly Cloudy</td>\n",
       "      <td>Rain throughout the day.</td>\n",
       "      <td>0.0000</td>\n",
       "      <td>0.0</td>\n",
       "      <td>0.68</td>\n",
       "      <td>8.66</td>\n",
       "      <td>9.17</td>\n",
       "      <td>1545015600</td>\n",
       "      <td>10.000</td>\n",
       "      <td>43.68</td>\n",
       "      <td>1544968800</td>\n",
       "      <td>34.19</td>\n",
       "      <td>1545048000</td>\n",
       "      <td>37.95</td>\n",
       "      <td>1544968800</td>\n",
       "      <td>27.39</td>\n",
       "      <td>1545044400</td>\n",
       "      <td>partly-cloudy-night</td>\n",
       "      <td>32.70</td>\n",
       "      <td>1021.98</td>\n",
       "      <td>57</td>\n",
       "      <td>0.72</td>\n",
       "      <td>0</td>\n",
       "      <td>10.000</td>\n",
       "      <td>303.8</td>\n",
       "      <td>1544962084</td>\n",
       "      <td>1544994864</td>\n",
       "      <td>0.30</td>\n",
       "      <td>0.1276</td>\n",
       "      <td>1544979600</td>\n",
       "      <td>39.89</td>\n",
       "      <td>1545012000</td>\n",
       "      <td>43.68</td>\n",
       "      <td>1544968800</td>\n",
       "      <td>33.73</td>\n",
       "      <td>1545012000</td>\n",
       "      <td>38.07</td>\n",
       "      <td>1544958000</td>\n",
       "    </tr>\n",
       "    <tr>\n",
       "      <th>1</th>\n",
       "      <td>4bd23055-6827-41c6-b23b-3c491f24e74d</td>\n",
       "      <td>1.543284e+09</td>\n",
       "      <td>2</td>\n",
       "      <td>27</td>\n",
       "      <td>11</td>\n",
       "      <td>2018-11-27 02:00:23</td>\n",
       "      <td>America/New_York</td>\n",
       "      <td>Haymarket Square</td>\n",
       "      <td>North Station</td>\n",
       "      <td>Lyft</td>\n",
       "      <td>lyft_premier</td>\n",
       "      <td>Lux</td>\n",
       "      <td>11.0</td>\n",
       "      <td>0.44</td>\n",
       "      <td>1.0</td>\n",
       "      <td>42.2148</td>\n",
       "      <td>-71.033</td>\n",
       "      <td>43.58</td>\n",
       "      <td>37.35</td>\n",
       "      <td>Rain</td>\n",
       "      <td>Rain until morning, starting again in the eve...</td>\n",
       "      <td>0.1299</td>\n",
       "      <td>1.0</td>\n",
       "      <td>0.94</td>\n",
       "      <td>11.98</td>\n",
       "      <td>11.98</td>\n",
       "      <td>1543291200</td>\n",
       "      <td>4.786</td>\n",
       "      <td>47.30</td>\n",
       "      <td>1543251600</td>\n",
       "      <td>42.10</td>\n",
       "      <td>1543298400</td>\n",
       "      <td>43.92</td>\n",
       "      <td>1543251600</td>\n",
       "      <td>36.20</td>\n",
       "      <td>1543291200</td>\n",
       "      <td>rain</td>\n",
       "      <td>41.83</td>\n",
       "      <td>1003.97</td>\n",
       "      <td>90</td>\n",
       "      <td>1.00</td>\n",
       "      <td>0</td>\n",
       "      <td>4.786</td>\n",
       "      <td>291.1</td>\n",
       "      <td>1543232969</td>\n",
       "      <td>1543266992</td>\n",
       "      <td>0.64</td>\n",
       "      <td>0.1300</td>\n",
       "      <td>1543251600</td>\n",
       "      <td>40.49</td>\n",
       "      <td>1543233600</td>\n",
       "      <td>47.30</td>\n",
       "      <td>1543251600</td>\n",
       "      <td>36.20</td>\n",
       "      <td>1543291200</td>\n",
       "      <td>43.92</td>\n",
       "      <td>1543251600</td>\n",
       "    </tr>\n",
       "    <tr>\n",
       "      <th>2</th>\n",
       "      <td>981a3613-77af-4620-a42a-0c0866077d1e</td>\n",
       "      <td>1.543367e+09</td>\n",
       "      <td>1</td>\n",
       "      <td>28</td>\n",
       "      <td>11</td>\n",
       "      <td>2018-11-28 01:00:22</td>\n",
       "      <td>America/New_York</td>\n",
       "      <td>Haymarket Square</td>\n",
       "      <td>North Station</td>\n",
       "      <td>Lyft</td>\n",
       "      <td>lyft</td>\n",
       "      <td>Lyft</td>\n",
       "      <td>7.0</td>\n",
       "      <td>0.44</td>\n",
       "      <td>1.0</td>\n",
       "      <td>42.2148</td>\n",
       "      <td>-71.033</td>\n",
       "      <td>38.33</td>\n",
       "      <td>32.93</td>\n",
       "      <td>Clear</td>\n",
       "      <td>Light rain in the morning.</td>\n",
       "      <td>0.0000</td>\n",
       "      <td>0.0</td>\n",
       "      <td>0.75</td>\n",
       "      <td>7.33</td>\n",
       "      <td>7.33</td>\n",
       "      <td>1543334400</td>\n",
       "      <td>10.000</td>\n",
       "      <td>47.55</td>\n",
       "      <td>1543320000</td>\n",
       "      <td>33.10</td>\n",
       "      <td>1543402800</td>\n",
       "      <td>44.12</td>\n",
       "      <td>1543320000</td>\n",
       "      <td>29.11</td>\n",
       "      <td>1543392000</td>\n",
       "      <td>clear-night</td>\n",
       "      <td>31.10</td>\n",
       "      <td>992.28</td>\n",
       "      <td>240</td>\n",
       "      <td>0.03</td>\n",
       "      <td>0</td>\n",
       "      <td>10.000</td>\n",
       "      <td>315.7</td>\n",
       "      <td>1543319437</td>\n",
       "      <td>1543353364</td>\n",
       "      <td>0.68</td>\n",
       "      <td>0.1064</td>\n",
       "      <td>1543338000</td>\n",
       "      <td>35.36</td>\n",
       "      <td>1543377600</td>\n",
       "      <td>47.55</td>\n",
       "      <td>1543320000</td>\n",
       "      <td>31.04</td>\n",
       "      <td>1543377600</td>\n",
       "      <td>44.12</td>\n",
       "      <td>1543320000</td>\n",
       "    </tr>\n",
       "    <tr>\n",
       "      <th>3</th>\n",
       "      <td>c2d88af2-d278-4bfd-a8d0-29ca77cc5512</td>\n",
       "      <td>1.543554e+09</td>\n",
       "      <td>4</td>\n",
       "      <td>30</td>\n",
       "      <td>11</td>\n",
       "      <td>2018-11-30 04:53:02</td>\n",
       "      <td>America/New_York</td>\n",
       "      <td>Haymarket Square</td>\n",
       "      <td>North Station</td>\n",
       "      <td>Lyft</td>\n",
       "      <td>lyft_luxsuv</td>\n",
       "      <td>Lux Black XL</td>\n",
       "      <td>26.0</td>\n",
       "      <td>0.44</td>\n",
       "      <td>1.0</td>\n",
       "      <td>42.2148</td>\n",
       "      <td>-71.033</td>\n",
       "      <td>34.38</td>\n",
       "      <td>29.63</td>\n",
       "      <td>Clear</td>\n",
       "      <td>Partly cloudy throughout the day.</td>\n",
       "      <td>0.0000</td>\n",
       "      <td>0.0</td>\n",
       "      <td>0.73</td>\n",
       "      <td>5.28</td>\n",
       "      <td>5.28</td>\n",
       "      <td>1543514400</td>\n",
       "      <td>10.000</td>\n",
       "      <td>45.03</td>\n",
       "      <td>1543510800</td>\n",
       "      <td>28.90</td>\n",
       "      <td>1543579200</td>\n",
       "      <td>38.53</td>\n",
       "      <td>1543510800</td>\n",
       "      <td>26.20</td>\n",
       "      <td>1543575600</td>\n",
       "      <td>clear-night</td>\n",
       "      <td>26.64</td>\n",
       "      <td>1013.73</td>\n",
       "      <td>310</td>\n",
       "      <td>0.00</td>\n",
       "      <td>0</td>\n",
       "      <td>10.000</td>\n",
       "      <td>291.1</td>\n",
       "      <td>1543492370</td>\n",
       "      <td>1543526114</td>\n",
       "      <td>0.75</td>\n",
       "      <td>0.0000</td>\n",
       "      <td>1543507200</td>\n",
       "      <td>34.67</td>\n",
       "      <td>1543550400</td>\n",
       "      <td>45.03</td>\n",
       "      <td>1543510800</td>\n",
       "      <td>30.30</td>\n",
       "      <td>1543550400</td>\n",
       "      <td>38.53</td>\n",
       "      <td>1543510800</td>\n",
       "    </tr>\n",
       "    <tr>\n",
       "      <th>4</th>\n",
       "      <td>e0126e1f-8ca9-4f2e-82b3-50505a09db9a</td>\n",
       "      <td>1.543463e+09</td>\n",
       "      <td>3</td>\n",
       "      <td>29</td>\n",
       "      <td>11</td>\n",
       "      <td>2018-11-29 03:49:20</td>\n",
       "      <td>America/New_York</td>\n",
       "      <td>Haymarket Square</td>\n",
       "      <td>North Station</td>\n",
       "      <td>Lyft</td>\n",
       "      <td>lyft_plus</td>\n",
       "      <td>Lyft XL</td>\n",
       "      <td>9.0</td>\n",
       "      <td>0.44</td>\n",
       "      <td>1.0</td>\n",
       "      <td>42.2148</td>\n",
       "      <td>-71.033</td>\n",
       "      <td>37.44</td>\n",
       "      <td>30.88</td>\n",
       "      <td>Partly Cloudy</td>\n",
       "      <td>Mostly cloudy throughout the day.</td>\n",
       "      <td>0.0000</td>\n",
       "      <td>0.0</td>\n",
       "      <td>0.70</td>\n",
       "      <td>9.14</td>\n",
       "      <td>9.14</td>\n",
       "      <td>1543446000</td>\n",
       "      <td>10.000</td>\n",
       "      <td>42.18</td>\n",
       "      <td>1543420800</td>\n",
       "      <td>36.71</td>\n",
       "      <td>1543478400</td>\n",
       "      <td>35.75</td>\n",
       "      <td>1543420800</td>\n",
       "      <td>30.29</td>\n",
       "      <td>1543460400</td>\n",
       "      <td>partly-cloudy-night</td>\n",
       "      <td>28.61</td>\n",
       "      <td>998.36</td>\n",
       "      <td>303</td>\n",
       "      <td>0.44</td>\n",
       "      <td>0</td>\n",
       "      <td>10.000</td>\n",
       "      <td>347.7</td>\n",
       "      <td>1543405904</td>\n",
       "      <td>1543439738</td>\n",
       "      <td>0.72</td>\n",
       "      <td>0.0001</td>\n",
       "      <td>1543420800</td>\n",
       "      <td>33.10</td>\n",
       "      <td>1543402800</td>\n",
       "      <td>42.18</td>\n",
       "      <td>1543420800</td>\n",
       "      <td>29.11</td>\n",
       "      <td>1543392000</td>\n",
       "      <td>35.75</td>\n",
       "      <td>1543420800</td>\n",
       "    </tr>\n",
       "  </tbody>\n",
       "</table>\n",
       "</div>"
      ],
      "text/plain": [
       "                                     id     timestamp  hour  day  month  \\\n",
       "0  424553bb-7174-41ea-aeb4-fe06d4f4b9d7  1.544953e+09     9   16     12   \n",
       "1  4bd23055-6827-41c6-b23b-3c491f24e74d  1.543284e+09     2   27     11   \n",
       "2  981a3613-77af-4620-a42a-0c0866077d1e  1.543367e+09     1   28     11   \n",
       "3  c2d88af2-d278-4bfd-a8d0-29ca77cc5512  1.543554e+09     4   30     11   \n",
       "4  e0126e1f-8ca9-4f2e-82b3-50505a09db9a  1.543463e+09     3   29     11   \n",
       "\n",
       "              datetime          timezone            source    destination  \\\n",
       "0  2018-12-16 09:30:07  America/New_York  Haymarket Square  North Station   \n",
       "1  2018-11-27 02:00:23  America/New_York  Haymarket Square  North Station   \n",
       "2  2018-11-28 01:00:22  America/New_York  Haymarket Square  North Station   \n",
       "3  2018-11-30 04:53:02  America/New_York  Haymarket Square  North Station   \n",
       "4  2018-11-29 03:49:20  America/New_York  Haymarket Square  North Station   \n",
       "\n",
       "  cab_type    product_id          name  price  distance  surge_multiplier  \\\n",
       "0     Lyft     lyft_line        Shared    5.0      0.44               1.0   \n",
       "1     Lyft  lyft_premier           Lux   11.0      0.44               1.0   \n",
       "2     Lyft          lyft          Lyft    7.0      0.44               1.0   \n",
       "3     Lyft   lyft_luxsuv  Lux Black XL   26.0      0.44               1.0   \n",
       "4     Lyft     lyft_plus       Lyft XL    9.0      0.44               1.0   \n",
       "\n",
       "   latitude  longitude  temperature  apparentTemperature    short_summary  \\\n",
       "0   42.2148    -71.033        42.34                37.12   Mostly Cloudy    \n",
       "1   42.2148    -71.033        43.58                37.35            Rain    \n",
       "2   42.2148    -71.033        38.33                32.93           Clear    \n",
       "3   42.2148    -71.033        34.38                29.63           Clear    \n",
       "4   42.2148    -71.033        37.44                30.88   Partly Cloudy    \n",
       "\n",
       "                                        long_summary  precipIntensity  \\\n",
       "0                          Rain throughout the day.            0.0000   \n",
       "1   Rain until morning, starting again in the eve...           0.1299   \n",
       "2                        Light rain in the morning.            0.0000   \n",
       "3                 Partly cloudy throughout the day.            0.0000   \n",
       "4                 Mostly cloudy throughout the day.            0.0000   \n",
       "\n",
       "   precipProbability  humidity  windSpeed  windGust  windGustTime  visibility  \\\n",
       "0                0.0      0.68       8.66      9.17    1545015600      10.000   \n",
       "1                1.0      0.94      11.98     11.98    1543291200       4.786   \n",
       "2                0.0      0.75       7.33      7.33    1543334400      10.000   \n",
       "3                0.0      0.73       5.28      5.28    1543514400      10.000   \n",
       "4                0.0      0.70       9.14      9.14    1543446000      10.000   \n",
       "\n",
       "   temperatureHigh  temperatureHighTime  temperatureLow  temperatureLowTime  \\\n",
       "0            43.68           1544968800           34.19          1545048000   \n",
       "1            47.30           1543251600           42.10          1543298400   \n",
       "2            47.55           1543320000           33.10          1543402800   \n",
       "3            45.03           1543510800           28.90          1543579200   \n",
       "4            42.18           1543420800           36.71          1543478400   \n",
       "\n",
       "   apparentTemperatureHigh  apparentTemperatureHighTime  \\\n",
       "0                    37.95                   1544968800   \n",
       "1                    43.92                   1543251600   \n",
       "2                    44.12                   1543320000   \n",
       "3                    38.53                   1543510800   \n",
       "4                    35.75                   1543420800   \n",
       "\n",
       "   apparentTemperatureLow  apparentTemperatureLowTime                   icon  \\\n",
       "0                   27.39                  1545044400   partly-cloudy-night    \n",
       "1                   36.20                  1543291200                  rain    \n",
       "2                   29.11                  1543392000           clear-night    \n",
       "3                   26.20                  1543575600           clear-night    \n",
       "4                   30.29                  1543460400   partly-cloudy-night    \n",
       "\n",
       "   dewPoint  pressure  windBearing  cloudCover  uvIndex  visibility.1  ozone  \\\n",
       "0     32.70   1021.98           57        0.72        0        10.000  303.8   \n",
       "1     41.83   1003.97           90        1.00        0         4.786  291.1   \n",
       "2     31.10    992.28          240        0.03        0        10.000  315.7   \n",
       "3     26.64   1013.73          310        0.00        0        10.000  291.1   \n",
       "4     28.61    998.36          303        0.44        0        10.000  347.7   \n",
       "\n",
       "   sunriseTime  sunsetTime  moonPhase  precipIntensityMax  uvIndexTime  \\\n",
       "0   1544962084  1544994864       0.30              0.1276   1544979600   \n",
       "1   1543232969  1543266992       0.64              0.1300   1543251600   \n",
       "2   1543319437  1543353364       0.68              0.1064   1543338000   \n",
       "3   1543492370  1543526114       0.75              0.0000   1543507200   \n",
       "4   1543405904  1543439738       0.72              0.0001   1543420800   \n",
       "\n",
       "   temperatureMin  temperatureMinTime  temperatureMax  temperatureMaxTime  \\\n",
       "0           39.89          1545012000           43.68          1544968800   \n",
       "1           40.49          1543233600           47.30          1543251600   \n",
       "2           35.36          1543377600           47.55          1543320000   \n",
       "3           34.67          1543550400           45.03          1543510800   \n",
       "4           33.10          1543402800           42.18          1543420800   \n",
       "\n",
       "   apparentTemperatureMin  apparentTemperatureMinTime  apparentTemperatureMax  \\\n",
       "0                   33.73                  1545012000                   38.07   \n",
       "1                   36.20                  1543291200                   43.92   \n",
       "2                   31.04                  1543377600                   44.12   \n",
       "3                   30.30                  1543550400                   38.53   \n",
       "4                   29.11                  1543392000                   35.75   \n",
       "\n",
       "   apparentTemperatureMaxTime  \n",
       "0                  1544958000  \n",
       "1                  1543251600  \n",
       "2                  1543320000  \n",
       "3                  1543510800  \n",
       "4                  1543420800  "
      ]
     },
     "execution_count": 2,
     "metadata": {},
     "output_type": "execute_result"
    }
   ],
   "source": [
    "data = pd.read_csv('dataset/rideshare_kaggle.csv') ## Load dataset\n",
    "data.head() ## Menampilkan 5 data teratas"
   ]
  },
  {
   "cell_type": "code",
   "execution_count": 3,
   "id": "b8517133",
   "metadata": {
    "colab": {
     "base_uri": "https://localhost:8080/"
    },
    "id": "b8517133",
    "outputId": "442e3afb-3b87-4b8b-9e5e-2df864c5da11",
    "scrolled": false
   },
   "outputs": [
    {
     "name": "stdout",
     "output_type": "stream",
     "text": [
      "<class 'pandas.core.frame.DataFrame'>\n",
      "RangeIndex: 693071 entries, 0 to 693070\n",
      "Data columns (total 57 columns):\n",
      " #   Column                       Non-Null Count   Dtype  \n",
      "---  ------                       --------------   -----  \n",
      " 0   id                           693071 non-null  object \n",
      " 1   timestamp                    693071 non-null  float64\n",
      " 2   hour                         693071 non-null  int64  \n",
      " 3   day                          693071 non-null  int64  \n",
      " 4   month                        693071 non-null  int64  \n",
      " 5   datetime                     693071 non-null  object \n",
      " 6   timezone                     693071 non-null  object \n",
      " 7   source                       693071 non-null  object \n",
      " 8   destination                  693071 non-null  object \n",
      " 9   cab_type                     693071 non-null  object \n",
      " 10  product_id                   693071 non-null  object \n",
      " 11  name                         693071 non-null  object \n",
      " 12  price                        637976 non-null  float64\n",
      " 13  distance                     693071 non-null  float64\n",
      " 14  surge_multiplier             693071 non-null  float64\n",
      " 15  latitude                     693071 non-null  float64\n",
      " 16  longitude                    693071 non-null  float64\n",
      " 17  temperature                  693071 non-null  float64\n",
      " 18  apparentTemperature          693071 non-null  float64\n",
      " 19  short_summary                693071 non-null  object \n",
      " 20  long_summary                 693071 non-null  object \n",
      " 21  precipIntensity              693071 non-null  float64\n",
      " 22  precipProbability            693071 non-null  float64\n",
      " 23  humidity                     693071 non-null  float64\n",
      " 24  windSpeed                    693071 non-null  float64\n",
      " 25  windGust                     693071 non-null  float64\n",
      " 26  windGustTime                 693071 non-null  int64  \n",
      " 27  visibility                   693071 non-null  float64\n",
      " 28  temperatureHigh              693071 non-null  float64\n",
      " 29  temperatureHighTime          693071 non-null  int64  \n",
      " 30  temperatureLow               693071 non-null  float64\n",
      " 31  temperatureLowTime           693071 non-null  int64  \n",
      " 32  apparentTemperatureHigh      693071 non-null  float64\n",
      " 33  apparentTemperatureHighTime  693071 non-null  int64  \n",
      " 34  apparentTemperatureLow       693071 non-null  float64\n",
      " 35  apparentTemperatureLowTime   693071 non-null  int64  \n",
      " 36  icon                         693071 non-null  object \n",
      " 37  dewPoint                     693071 non-null  float64\n",
      " 38  pressure                     693071 non-null  float64\n",
      " 39  windBearing                  693071 non-null  int64  \n",
      " 40  cloudCover                   693071 non-null  float64\n",
      " 41  uvIndex                      693071 non-null  int64  \n",
      " 42  visibility.1                 693071 non-null  float64\n",
      " 43  ozone                        693071 non-null  float64\n",
      " 44  sunriseTime                  693071 non-null  int64  \n",
      " 45  sunsetTime                   693071 non-null  int64  \n",
      " 46  moonPhase                    693071 non-null  float64\n",
      " 47  precipIntensityMax           693071 non-null  float64\n",
      " 48  uvIndexTime                  693071 non-null  int64  \n",
      " 49  temperatureMin               693071 non-null  float64\n",
      " 50  temperatureMinTime           693071 non-null  int64  \n",
      " 51  temperatureMax               693071 non-null  float64\n",
      " 52  temperatureMaxTime           693071 non-null  int64  \n",
      " 53  apparentTemperatureMin       693071 non-null  float64\n",
      " 54  apparentTemperatureMinTime   693071 non-null  int64  \n",
      " 55  apparentTemperatureMax       693071 non-null  float64\n",
      " 56  apparentTemperatureMaxTime   693071 non-null  int64  \n",
      "dtypes: float64(29), int64(17), object(11)\n",
      "memory usage: 301.4+ MB\n"
     ]
    }
   ],
   "source": [
    "data.info()"
   ]
  },
  {
   "cell_type": "markdown",
   "id": "7c190726",
   "metadata": {
    "id": "7c190726"
   },
   "source": [
    "Dataset ini memiliki 57 attribut, yang mana antara lain :\n",
    "\n",
    "1. id\n",
    "2. timestamp\n",
    "3. hour\n",
    "4. day\n",
    "5. month\n",
    "6. datetime\n",
    "7. timezone\n",
    "8. source\n",
    "9. destination\n",
    "10. cab_type\n",
    "11. product_id\n",
    "12. ... dan lainnya.\n",
    "\n",
    "dan memiliki 29 tipe data float, 17 tipe data integer, dan juga 11 tipe data object.\n",
    "\n",
    "Memori yang dibutuhkan untuk data ini sekitar 301.4 MB."
   ]
  },
  {
   "cell_type": "code",
   "execution_count": 4,
   "id": "16605eea",
   "metadata": {
    "colab": {
     "base_uri": "https://localhost:8080/"
    },
    "id": "16605eea",
    "outputId": "cb723e83-f0d8-4b68-97df-690276757f8f",
    "scrolled": false
   },
   "outputs": [
    {
     "data": {
      "text/plain": [
       "(693071, 57)"
      ]
     },
     "execution_count": 4,
     "metadata": {},
     "output_type": "execute_result"
    }
   ],
   "source": [
    "data.shape"
   ]
  },
  {
   "cell_type": "markdown",
   "id": "d4597ba6",
   "metadata": {
    "id": "d4597ba6"
   },
   "source": [
    "data ini terdiri dari 693071 baris dan 57 kolom."
   ]
  },
  {
   "cell_type": "code",
   "execution_count": 5,
   "id": "0c783499",
   "metadata": {
    "colab": {
     "base_uri": "https://localhost:8080/",
     "height": 363
    },
    "id": "0c783499",
    "outputId": "80e19a07-d5e9-4c95-e5a1-83117e61f154",
    "scrolled": true
   },
   "outputs": [
    {
     "data": {
      "text/html": [
       "<div>\n",
       "<style scoped>\n",
       "    .dataframe tbody tr th:only-of-type {\n",
       "        vertical-align: middle;\n",
       "    }\n",
       "\n",
       "    .dataframe tbody tr th {\n",
       "        vertical-align: top;\n",
       "    }\n",
       "\n",
       "    .dataframe thead th {\n",
       "        text-align: right;\n",
       "    }\n",
       "</style>\n",
       "<table border=\"1\" class=\"dataframe\">\n",
       "  <thead>\n",
       "    <tr style=\"text-align: right;\">\n",
       "      <th></th>\n",
       "      <th>timestamp</th>\n",
       "      <th>hour</th>\n",
       "      <th>day</th>\n",
       "      <th>month</th>\n",
       "      <th>price</th>\n",
       "      <th>distance</th>\n",
       "      <th>surge_multiplier</th>\n",
       "      <th>latitude</th>\n",
       "      <th>longitude</th>\n",
       "      <th>temperature</th>\n",
       "      <th>apparentTemperature</th>\n",
       "      <th>precipIntensity</th>\n",
       "      <th>precipProbability</th>\n",
       "      <th>humidity</th>\n",
       "      <th>windSpeed</th>\n",
       "      <th>windGust</th>\n",
       "      <th>windGustTime</th>\n",
       "      <th>visibility</th>\n",
       "      <th>temperatureHigh</th>\n",
       "      <th>temperatureHighTime</th>\n",
       "      <th>temperatureLow</th>\n",
       "      <th>temperatureLowTime</th>\n",
       "      <th>apparentTemperatureHigh</th>\n",
       "      <th>apparentTemperatureHighTime</th>\n",
       "      <th>apparentTemperatureLow</th>\n",
       "      <th>apparentTemperatureLowTime</th>\n",
       "      <th>dewPoint</th>\n",
       "      <th>pressure</th>\n",
       "      <th>windBearing</th>\n",
       "      <th>cloudCover</th>\n",
       "      <th>uvIndex</th>\n",
       "      <th>visibility.1</th>\n",
       "      <th>ozone</th>\n",
       "      <th>sunriseTime</th>\n",
       "      <th>sunsetTime</th>\n",
       "      <th>moonPhase</th>\n",
       "      <th>precipIntensityMax</th>\n",
       "      <th>uvIndexTime</th>\n",
       "      <th>temperatureMin</th>\n",
       "      <th>temperatureMinTime</th>\n",
       "      <th>temperatureMax</th>\n",
       "      <th>temperatureMaxTime</th>\n",
       "      <th>apparentTemperatureMin</th>\n",
       "      <th>apparentTemperatureMinTime</th>\n",
       "      <th>apparentTemperatureMax</th>\n",
       "      <th>apparentTemperatureMaxTime</th>\n",
       "    </tr>\n",
       "  </thead>\n",
       "  <tbody>\n",
       "    <tr>\n",
       "      <th>count</th>\n",
       "      <td>6.930710e+05</td>\n",
       "      <td>693071.000000</td>\n",
       "      <td>693071.000000</td>\n",
       "      <td>693071.000000</td>\n",
       "      <td>637976.000000</td>\n",
       "      <td>693071.000000</td>\n",
       "      <td>693071.000000</td>\n",
       "      <td>693071.000000</td>\n",
       "      <td>693071.000000</td>\n",
       "      <td>693071.000000</td>\n",
       "      <td>693071.000000</td>\n",
       "      <td>693071.000000</td>\n",
       "      <td>693071.000000</td>\n",
       "      <td>693071.000000</td>\n",
       "      <td>693071.000000</td>\n",
       "      <td>693071.000000</td>\n",
       "      <td>6.930710e+05</td>\n",
       "      <td>693071.000000</td>\n",
       "      <td>693071.000000</td>\n",
       "      <td>6.930710e+05</td>\n",
       "      <td>693071.000000</td>\n",
       "      <td>6.930710e+05</td>\n",
       "      <td>693071.000000</td>\n",
       "      <td>6.930710e+05</td>\n",
       "      <td>693071.000000</td>\n",
       "      <td>6.930710e+05</td>\n",
       "      <td>693071.000000</td>\n",
       "      <td>693071.000000</td>\n",
       "      <td>693071.000000</td>\n",
       "      <td>693071.000000</td>\n",
       "      <td>693071.000000</td>\n",
       "      <td>693071.000000</td>\n",
       "      <td>693071.000000</td>\n",
       "      <td>6.930710e+05</td>\n",
       "      <td>6.930710e+05</td>\n",
       "      <td>693071.000000</td>\n",
       "      <td>693071.000000</td>\n",
       "      <td>6.930710e+05</td>\n",
       "      <td>693071.000000</td>\n",
       "      <td>6.930710e+05</td>\n",
       "      <td>693071.000000</td>\n",
       "      <td>6.930710e+05</td>\n",
       "      <td>693071.000000</td>\n",
       "      <td>6.930710e+05</td>\n",
       "      <td>693071.000000</td>\n",
       "      <td>6.930710e+05</td>\n",
       "    </tr>\n",
       "    <tr>\n",
       "      <th>mean</th>\n",
       "      <td>1.544046e+09</td>\n",
       "      <td>11.619137</td>\n",
       "      <td>17.794365</td>\n",
       "      <td>11.586684</td>\n",
       "      <td>16.545125</td>\n",
       "      <td>2.189430</td>\n",
       "      <td>1.013870</td>\n",
       "      <td>42.338172</td>\n",
       "      <td>-71.066151</td>\n",
       "      <td>39.584388</td>\n",
       "      <td>35.881222</td>\n",
       "      <td>0.008922</td>\n",
       "      <td>0.146076</td>\n",
       "      <td>0.741119</td>\n",
       "      <td>6.186253</td>\n",
       "      <td>8.469860</td>\n",
       "      <td>1.544049e+09</td>\n",
       "      <td>8.467970</td>\n",
       "      <td>45.040982</td>\n",
       "      <td>1.544050e+09</td>\n",
       "      <td>34.150736</td>\n",
       "      <td>1.544102e+09</td>\n",
       "      <td>41.614054</td>\n",
       "      <td>1.544050e+09</td>\n",
       "      <td>30.139824</td>\n",
       "      <td>1.544099e+09</td>\n",
       "      <td>31.656256</td>\n",
       "      <td>1010.094766</td>\n",
       "      <td>220.055853</td>\n",
       "      <td>0.686502</td>\n",
       "      <td>0.248908</td>\n",
       "      <td>8.467970</td>\n",
       "      <td>313.513635</td>\n",
       "      <td>1.544027e+09</td>\n",
       "      <td>1.544060e+09</td>\n",
       "      <td>0.579066</td>\n",
       "      <td>0.037374</td>\n",
       "      <td>1.544044e+09</td>\n",
       "      <td>33.457774</td>\n",
       "      <td>1.544042e+09</td>\n",
       "      <td>45.261313</td>\n",
       "      <td>1.544047e+09</td>\n",
       "      <td>29.731002</td>\n",
       "      <td>1.544048e+09</td>\n",
       "      <td>41.997343</td>\n",
       "      <td>1.544048e+09</td>\n",
       "    </tr>\n",
       "    <tr>\n",
       "      <th>std</th>\n",
       "      <td>6.891925e+05</td>\n",
       "      <td>6.948114</td>\n",
       "      <td>9.982286</td>\n",
       "      <td>0.492429</td>\n",
       "      <td>9.324359</td>\n",
       "      <td>1.138937</td>\n",
       "      <td>0.091641</td>\n",
       "      <td>0.047840</td>\n",
       "      <td>0.020302</td>\n",
       "      <td>6.726084</td>\n",
       "      <td>7.918707</td>\n",
       "      <td>0.026901</td>\n",
       "      <td>0.328938</td>\n",
       "      <td>0.138595</td>\n",
       "      <td>3.148223</td>\n",
       "      <td>5.289179</td>\n",
       "      <td>6.928244e+05</td>\n",
       "      <td>2.602888</td>\n",
       "      <td>5.996541</td>\n",
       "      <td>6.937921e+05</td>\n",
       "      <td>6.383163</td>\n",
       "      <td>6.922923e+05</td>\n",
       "      <td>7.666138</td>\n",
       "      <td>6.941699e+05</td>\n",
       "      <td>8.057468</td>\n",
       "      <td>6.927378e+05</td>\n",
       "      <td>9.142355</td>\n",
       "      <td>13.472899</td>\n",
       "      <td>99.102736</td>\n",
       "      <td>0.358534</td>\n",
       "      <td>0.474097</td>\n",
       "      <td>2.602888</td>\n",
       "      <td>27.953061</td>\n",
       "      <td>6.911393e+05</td>\n",
       "      <td>6.906634e+05</td>\n",
       "      <td>0.244705</td>\n",
       "      <td>0.055214</td>\n",
       "      <td>6.912028e+05</td>\n",
       "      <td>6.467224</td>\n",
       "      <td>6.901954e+05</td>\n",
       "      <td>5.645046</td>\n",
       "      <td>6.901353e+05</td>\n",
       "      <td>7.110494</td>\n",
       "      <td>6.871862e+05</td>\n",
       "      <td>6.936841</td>\n",
       "      <td>6.910777e+05</td>\n",
       "    </tr>\n",
       "    <tr>\n",
       "      <th>min</th>\n",
       "      <td>1.543204e+09</td>\n",
       "      <td>0.000000</td>\n",
       "      <td>1.000000</td>\n",
       "      <td>11.000000</td>\n",
       "      <td>2.500000</td>\n",
       "      <td>0.020000</td>\n",
       "      <td>1.000000</td>\n",
       "      <td>42.214800</td>\n",
       "      <td>-71.105400</td>\n",
       "      <td>18.910000</td>\n",
       "      <td>12.130000</td>\n",
       "      <td>0.000000</td>\n",
       "      <td>0.000000</td>\n",
       "      <td>0.380000</td>\n",
       "      <td>0.450000</td>\n",
       "      <td>0.800000</td>\n",
       "      <td>1.543151e+09</td>\n",
       "      <td>0.717000</td>\n",
       "      <td>32.680000</td>\n",
       "      <td>1.543154e+09</td>\n",
       "      <td>17.850000</td>\n",
       "      <td>1.543234e+09</td>\n",
       "      <td>22.620000</td>\n",
       "      <td>1.543187e+09</td>\n",
       "      <td>11.810000</td>\n",
       "      <td>1.543234e+09</td>\n",
       "      <td>4.390000</td>\n",
       "      <td>988.090000</td>\n",
       "      <td>2.000000</td>\n",
       "      <td>0.000000</td>\n",
       "      <td>0.000000</td>\n",
       "      <td>0.717000</td>\n",
       "      <td>269.400000</td>\n",
       "      <td>1.543147e+09</td>\n",
       "      <td>1.543181e+09</td>\n",
       "      <td>0.090000</td>\n",
       "      <td>0.000000</td>\n",
       "      <td>1.543162e+09</td>\n",
       "      <td>15.630000</td>\n",
       "      <td>1.543122e+09</td>\n",
       "      <td>33.510000</td>\n",
       "      <td>1.543154e+09</td>\n",
       "      <td>11.810000</td>\n",
       "      <td>1.543136e+09</td>\n",
       "      <td>28.950000</td>\n",
       "      <td>1.543187e+09</td>\n",
       "    </tr>\n",
       "    <tr>\n",
       "      <th>25%</th>\n",
       "      <td>1.543444e+09</td>\n",
       "      <td>6.000000</td>\n",
       "      <td>13.000000</td>\n",
       "      <td>11.000000</td>\n",
       "      <td>9.000000</td>\n",
       "      <td>1.280000</td>\n",
       "      <td>1.000000</td>\n",
       "      <td>42.350300</td>\n",
       "      <td>-71.081000</td>\n",
       "      <td>36.450000</td>\n",
       "      <td>31.910000</td>\n",
       "      <td>0.000000</td>\n",
       "      <td>0.000000</td>\n",
       "      <td>0.640000</td>\n",
       "      <td>3.410000</td>\n",
       "      <td>4.060000</td>\n",
       "      <td>1.543432e+09</td>\n",
       "      <td>8.432000</td>\n",
       "      <td>42.570000</td>\n",
       "      <td>1.543439e+09</td>\n",
       "      <td>30.170000</td>\n",
       "      <td>1.543489e+09</td>\n",
       "      <td>36.570000</td>\n",
       "      <td>1.543439e+09</td>\n",
       "      <td>27.700000</td>\n",
       "      <td>1.543478e+09</td>\n",
       "      <td>27.490000</td>\n",
       "      <td>999.820000</td>\n",
       "      <td>124.000000</td>\n",
       "      <td>0.370000</td>\n",
       "      <td>0.000000</td>\n",
       "      <td>8.432000</td>\n",
       "      <td>290.900000</td>\n",
       "      <td>1.543406e+09</td>\n",
       "      <td>1.543440e+09</td>\n",
       "      <td>0.300000</td>\n",
       "      <td>0.000000</td>\n",
       "      <td>1.543421e+09</td>\n",
       "      <td>30.170000</td>\n",
       "      <td>1.543399e+09</td>\n",
       "      <td>42.570000</td>\n",
       "      <td>1.543439e+09</td>\n",
       "      <td>27.760000</td>\n",
       "      <td>1.543399e+09</td>\n",
       "      <td>36.570000</td>\n",
       "      <td>1.543439e+09</td>\n",
       "    </tr>\n",
       "    <tr>\n",
       "      <th>50%</th>\n",
       "      <td>1.543737e+09</td>\n",
       "      <td>12.000000</td>\n",
       "      <td>17.000000</td>\n",
       "      <td>12.000000</td>\n",
       "      <td>13.500000</td>\n",
       "      <td>2.160000</td>\n",
       "      <td>1.000000</td>\n",
       "      <td>42.351900</td>\n",
       "      <td>-71.063100</td>\n",
       "      <td>40.490000</td>\n",
       "      <td>35.900000</td>\n",
       "      <td>0.000000</td>\n",
       "      <td>0.000000</td>\n",
       "      <td>0.710000</td>\n",
       "      <td>5.910000</td>\n",
       "      <td>7.550000</td>\n",
       "      <td>1.543756e+09</td>\n",
       "      <td>9.880000</td>\n",
       "      <td>44.680000</td>\n",
       "      <td>1.543788e+09</td>\n",
       "      <td>34.180000</td>\n",
       "      <td>1.543817e+09</td>\n",
       "      <td>40.950000</td>\n",
       "      <td>1.543788e+09</td>\n",
       "      <td>30.030000</td>\n",
       "      <td>1.543817e+09</td>\n",
       "      <td>30.690000</td>\n",
       "      <td>1009.250000</td>\n",
       "      <td>258.000000</td>\n",
       "      <td>0.820000</td>\n",
       "      <td>0.000000</td>\n",
       "      <td>9.880000</td>\n",
       "      <td>307.400000</td>\n",
       "      <td>1.543752e+09</td>\n",
       "      <td>1.543785e+09</td>\n",
       "      <td>0.680000</td>\n",
       "      <td>0.000400</td>\n",
       "      <td>1.543770e+09</td>\n",
       "      <td>34.240000</td>\n",
       "      <td>1.543727e+09</td>\n",
       "      <td>44.680000</td>\n",
       "      <td>1.543788e+09</td>\n",
       "      <td>30.130000</td>\n",
       "      <td>1.543745e+09</td>\n",
       "      <td>40.950000</td>\n",
       "      <td>1.543788e+09</td>\n",
       "    </tr>\n",
       "    <tr>\n",
       "      <th>75%</th>\n",
       "      <td>1.544828e+09</td>\n",
       "      <td>18.000000</td>\n",
       "      <td>28.000000</td>\n",
       "      <td>12.000000</td>\n",
       "      <td>22.500000</td>\n",
       "      <td>2.920000</td>\n",
       "      <td>1.000000</td>\n",
       "      <td>42.364700</td>\n",
       "      <td>-71.054200</td>\n",
       "      <td>43.580000</td>\n",
       "      <td>40.080000</td>\n",
       "      <td>0.000000</td>\n",
       "      <td>0.000000</td>\n",
       "      <td>0.880000</td>\n",
       "      <td>8.410000</td>\n",
       "      <td>11.740000</td>\n",
       "      <td>1.544846e+09</td>\n",
       "      <td>9.996000</td>\n",
       "      <td>46.910000</td>\n",
       "      <td>1.544814e+09</td>\n",
       "      <td>38.730000</td>\n",
       "      <td>1.544836e+09</td>\n",
       "      <td>44.120000</td>\n",
       "      <td>1.544818e+09</td>\n",
       "      <td>35.320000</td>\n",
       "      <td>1.544836e+09</td>\n",
       "      <td>38.120000</td>\n",
       "      <td>1021.860000</td>\n",
       "      <td>303.000000</td>\n",
       "      <td>1.000000</td>\n",
       "      <td>0.000000</td>\n",
       "      <td>9.996000</td>\n",
       "      <td>331.800000</td>\n",
       "      <td>1.544789e+09</td>\n",
       "      <td>1.544822e+09</td>\n",
       "      <td>0.790000</td>\n",
       "      <td>0.091600</td>\n",
       "      <td>1.544807e+09</td>\n",
       "      <td>38.880000</td>\n",
       "      <td>1.544789e+09</td>\n",
       "      <td>46.910000</td>\n",
       "      <td>1.544814e+09</td>\n",
       "      <td>35.710000</td>\n",
       "      <td>1.544789e+09</td>\n",
       "      <td>44.120000</td>\n",
       "      <td>1.544818e+09</td>\n",
       "    </tr>\n",
       "    <tr>\n",
       "      <th>max</th>\n",
       "      <td>1.545161e+09</td>\n",
       "      <td>23.000000</td>\n",
       "      <td>30.000000</td>\n",
       "      <td>12.000000</td>\n",
       "      <td>97.500000</td>\n",
       "      <td>7.860000</td>\n",
       "      <td>3.000000</td>\n",
       "      <td>42.366100</td>\n",
       "      <td>-71.033000</td>\n",
       "      <td>57.220000</td>\n",
       "      <td>57.220000</td>\n",
       "      <td>0.144700</td>\n",
       "      <td>1.000000</td>\n",
       "      <td>0.960000</td>\n",
       "      <td>15.000000</td>\n",
       "      <td>27.250000</td>\n",
       "      <td>1.545127e+09</td>\n",
       "      <td>10.000000</td>\n",
       "      <td>57.870000</td>\n",
       "      <td>1.545160e+09</td>\n",
       "      <td>46.600000</td>\n",
       "      <td>1.545221e+09</td>\n",
       "      <td>57.200000</td>\n",
       "      <td>1.545160e+09</td>\n",
       "      <td>47.250000</td>\n",
       "      <td>1.545199e+09</td>\n",
       "      <td>50.670000</td>\n",
       "      <td>1035.550000</td>\n",
       "      <td>356.000000</td>\n",
       "      <td>1.000000</td>\n",
       "      <td>2.000000</td>\n",
       "      <td>10.000000</td>\n",
       "      <td>378.900000</td>\n",
       "      <td>1.545135e+09</td>\n",
       "      <td>1.545168e+09</td>\n",
       "      <td>0.930000</td>\n",
       "      <td>0.145900</td>\n",
       "      <td>1.545152e+09</td>\n",
       "      <td>43.100000</td>\n",
       "      <td>1.545192e+09</td>\n",
       "      <td>57.870000</td>\n",
       "      <td>1.545109e+09</td>\n",
       "      <td>40.050000</td>\n",
       "      <td>1.545134e+09</td>\n",
       "      <td>57.200000</td>\n",
       "      <td>1.545109e+09</td>\n",
       "    </tr>\n",
       "  </tbody>\n",
       "</table>\n",
       "</div>"
      ],
      "text/plain": [
       "          timestamp           hour            day          month  \\\n",
       "count  6.930710e+05  693071.000000  693071.000000  693071.000000   \n",
       "mean   1.544046e+09      11.619137      17.794365      11.586684   \n",
       "std    6.891925e+05       6.948114       9.982286       0.492429   \n",
       "min    1.543204e+09       0.000000       1.000000      11.000000   \n",
       "25%    1.543444e+09       6.000000      13.000000      11.000000   \n",
       "50%    1.543737e+09      12.000000      17.000000      12.000000   \n",
       "75%    1.544828e+09      18.000000      28.000000      12.000000   \n",
       "max    1.545161e+09      23.000000      30.000000      12.000000   \n",
       "\n",
       "               price       distance  surge_multiplier       latitude  \\\n",
       "count  637976.000000  693071.000000     693071.000000  693071.000000   \n",
       "mean       16.545125       2.189430          1.013870      42.338172   \n",
       "std         9.324359       1.138937          0.091641       0.047840   \n",
       "min         2.500000       0.020000          1.000000      42.214800   \n",
       "25%         9.000000       1.280000          1.000000      42.350300   \n",
       "50%        13.500000       2.160000          1.000000      42.351900   \n",
       "75%        22.500000       2.920000          1.000000      42.364700   \n",
       "max        97.500000       7.860000          3.000000      42.366100   \n",
       "\n",
       "           longitude    temperature  apparentTemperature  precipIntensity  \\\n",
       "count  693071.000000  693071.000000        693071.000000    693071.000000   \n",
       "mean      -71.066151      39.584388            35.881222         0.008922   \n",
       "std         0.020302       6.726084             7.918707         0.026901   \n",
       "min       -71.105400      18.910000            12.130000         0.000000   \n",
       "25%       -71.081000      36.450000            31.910000         0.000000   \n",
       "50%       -71.063100      40.490000            35.900000         0.000000   \n",
       "75%       -71.054200      43.580000            40.080000         0.000000   \n",
       "max       -71.033000      57.220000            57.220000         0.144700   \n",
       "\n",
       "       precipProbability       humidity      windSpeed       windGust  \\\n",
       "count      693071.000000  693071.000000  693071.000000  693071.000000   \n",
       "mean            0.146076       0.741119       6.186253       8.469860   \n",
       "std             0.328938       0.138595       3.148223       5.289179   \n",
       "min             0.000000       0.380000       0.450000       0.800000   \n",
       "25%             0.000000       0.640000       3.410000       4.060000   \n",
       "50%             0.000000       0.710000       5.910000       7.550000   \n",
       "75%             0.000000       0.880000       8.410000      11.740000   \n",
       "max             1.000000       0.960000      15.000000      27.250000   \n",
       "\n",
       "       windGustTime     visibility  temperatureHigh  temperatureHighTime  \\\n",
       "count  6.930710e+05  693071.000000    693071.000000         6.930710e+05   \n",
       "mean   1.544049e+09       8.467970        45.040982         1.544050e+09   \n",
       "std    6.928244e+05       2.602888         5.996541         6.937921e+05   \n",
       "min    1.543151e+09       0.717000        32.680000         1.543154e+09   \n",
       "25%    1.543432e+09       8.432000        42.570000         1.543439e+09   \n",
       "50%    1.543756e+09       9.880000        44.680000         1.543788e+09   \n",
       "75%    1.544846e+09       9.996000        46.910000         1.544814e+09   \n",
       "max    1.545127e+09      10.000000        57.870000         1.545160e+09   \n",
       "\n",
       "       temperatureLow  temperatureLowTime  apparentTemperatureHigh  \\\n",
       "count   693071.000000        6.930710e+05            693071.000000   \n",
       "mean        34.150736        1.544102e+09                41.614054   \n",
       "std          6.383163        6.922923e+05                 7.666138   \n",
       "min         17.850000        1.543234e+09                22.620000   \n",
       "25%         30.170000        1.543489e+09                36.570000   \n",
       "50%         34.180000        1.543817e+09                40.950000   \n",
       "75%         38.730000        1.544836e+09                44.120000   \n",
       "max         46.600000        1.545221e+09                57.200000   \n",
       "\n",
       "       apparentTemperatureHighTime  apparentTemperatureLow  \\\n",
       "count                 6.930710e+05           693071.000000   \n",
       "mean                  1.544050e+09               30.139824   \n",
       "std                   6.941699e+05                8.057468   \n",
       "min                   1.543187e+09               11.810000   \n",
       "25%                   1.543439e+09               27.700000   \n",
       "50%                   1.543788e+09               30.030000   \n",
       "75%                   1.544818e+09               35.320000   \n",
       "max                   1.545160e+09               47.250000   \n",
       "\n",
       "       apparentTemperatureLowTime       dewPoint       pressure  \\\n",
       "count                6.930710e+05  693071.000000  693071.000000   \n",
       "mean                 1.544099e+09      31.656256    1010.094766   \n",
       "std                  6.927378e+05       9.142355      13.472899   \n",
       "min                  1.543234e+09       4.390000     988.090000   \n",
       "25%                  1.543478e+09      27.490000     999.820000   \n",
       "50%                  1.543817e+09      30.690000    1009.250000   \n",
       "75%                  1.544836e+09      38.120000    1021.860000   \n",
       "max                  1.545199e+09      50.670000    1035.550000   \n",
       "\n",
       "         windBearing     cloudCover        uvIndex   visibility.1  \\\n",
       "count  693071.000000  693071.000000  693071.000000  693071.000000   \n",
       "mean      220.055853       0.686502       0.248908       8.467970   \n",
       "std        99.102736       0.358534       0.474097       2.602888   \n",
       "min         2.000000       0.000000       0.000000       0.717000   \n",
       "25%       124.000000       0.370000       0.000000       8.432000   \n",
       "50%       258.000000       0.820000       0.000000       9.880000   \n",
       "75%       303.000000       1.000000       0.000000       9.996000   \n",
       "max       356.000000       1.000000       2.000000      10.000000   \n",
       "\n",
       "               ozone   sunriseTime    sunsetTime      moonPhase  \\\n",
       "count  693071.000000  6.930710e+05  6.930710e+05  693071.000000   \n",
       "mean      313.513635  1.544027e+09  1.544060e+09       0.579066   \n",
       "std        27.953061  6.911393e+05  6.906634e+05       0.244705   \n",
       "min       269.400000  1.543147e+09  1.543181e+09       0.090000   \n",
       "25%       290.900000  1.543406e+09  1.543440e+09       0.300000   \n",
       "50%       307.400000  1.543752e+09  1.543785e+09       0.680000   \n",
       "75%       331.800000  1.544789e+09  1.544822e+09       0.790000   \n",
       "max       378.900000  1.545135e+09  1.545168e+09       0.930000   \n",
       "\n",
       "       precipIntensityMax   uvIndexTime  temperatureMin  temperatureMinTime  \\\n",
       "count       693071.000000  6.930710e+05   693071.000000        6.930710e+05   \n",
       "mean             0.037374  1.544044e+09       33.457774        1.544042e+09   \n",
       "std              0.055214  6.912028e+05        6.467224        6.901954e+05   \n",
       "min              0.000000  1.543162e+09       15.630000        1.543122e+09   \n",
       "25%              0.000000  1.543421e+09       30.170000        1.543399e+09   \n",
       "50%              0.000400  1.543770e+09       34.240000        1.543727e+09   \n",
       "75%              0.091600  1.544807e+09       38.880000        1.544789e+09   \n",
       "max              0.145900  1.545152e+09       43.100000        1.545192e+09   \n",
       "\n",
       "       temperatureMax  temperatureMaxTime  apparentTemperatureMin  \\\n",
       "count   693071.000000        6.930710e+05           693071.000000   \n",
       "mean        45.261313        1.544047e+09               29.731002   \n",
       "std          5.645046        6.901353e+05                7.110494   \n",
       "min         33.510000        1.543154e+09               11.810000   \n",
       "25%         42.570000        1.543439e+09               27.760000   \n",
       "50%         44.680000        1.543788e+09               30.130000   \n",
       "75%         46.910000        1.544814e+09               35.710000   \n",
       "max         57.870000        1.545109e+09               40.050000   \n",
       "\n",
       "       apparentTemperatureMinTime  apparentTemperatureMax  \\\n",
       "count                6.930710e+05           693071.000000   \n",
       "mean                 1.544048e+09               41.997343   \n",
       "std                  6.871862e+05                6.936841   \n",
       "min                  1.543136e+09               28.950000   \n",
       "25%                  1.543399e+09               36.570000   \n",
       "50%                  1.543745e+09               40.950000   \n",
       "75%                  1.544789e+09               44.120000   \n",
       "max                  1.545134e+09               57.200000   \n",
       "\n",
       "       apparentTemperatureMaxTime  \n",
       "count                6.930710e+05  \n",
       "mean                 1.544048e+09  \n",
       "std                  6.910777e+05  \n",
       "min                  1.543187e+09  \n",
       "25%                  1.543439e+09  \n",
       "50%                  1.543788e+09  \n",
       "75%                  1.544818e+09  \n",
       "max                  1.545109e+09  "
      ]
     },
     "execution_count": 5,
     "metadata": {},
     "output_type": "execute_result"
    }
   ],
   "source": [
    "data.describe()"
   ]
  },
  {
   "cell_type": "markdown",
   "id": "356506e5",
   "metadata": {
    "id": "356506e5"
   },
   "source": [
    "Tabel diatas merupakan statistik deskriptif yang merangkum tendensi sentral, dispersi, dan bentuk distribusi kumpulan data, tapi tidak termasuk dengan nilai NaN. yang mana menganalisis seri numerik dan objek, serta kumpulan kolom DataFrame dari tipe data campuran. Output akan bervariasi tergantung pada apa yang disediakan."
   ]
  },
  {
   "cell_type": "markdown",
   "id": "AwGnmG0l7ZdO",
   "metadata": {
    "id": "AwGnmG0l7ZdO"
   },
   "source": [
    "# Eksplorasi Data"
   ]
  },
  {
   "cell_type": "markdown",
   "id": "8ZubNg6A_ycO",
   "metadata": {
    "id": "8ZubNg6A_ycO"
   },
   "source": [
    "### Melihat harga termahal dari jenis transportasi yang ada dengan memanfaatkan kolom name dan price"
   ]
  },
  {
   "cell_type": "markdown",
   "id": "X7QoYnfF7hiB",
   "metadata": {
    "id": "X7QoYnfF7hiB"
   },
   "source": [
    "\n",
    "Dengan menggunakan groupby, data yang diberikan dikelompokkan berdasarkan rata-rata dari kolom name dan price. Lalu divisualisasikan dengan menggunakan seaborn barplot."
   ]
  },
  {
   "cell_type": "code",
   "execution_count": 6,
   "id": "iLYVbyBH7bRO",
   "metadata": {
    "colab": {
     "base_uri": "https://localhost:8080/",
     "height": 606
    },
    "id": "iLYVbyBH7bRO",
    "outputId": "807ced87-fc1c-4c3c-e0c7-f04ca52450f7",
    "scrolled": false
   },
   "outputs": [
    {
     "data": {
      "image/png": "[encoded data removed]",
      "text/plain": [
       "<Figure size 1152x720 with 1 Axes>"
      ]
     },
     "metadata": {
      "needs_background": "light"
     },
     "output_type": "display_data"
    }
   ],
   "source": [
    "data_price = data.groupby([\"name\"])[[\"price\"]].mean()\n",
    "plt.figure(figsize = (16,10))\n",
    "sb.barplot(data_price.index, data_price[\"price\"], palette = \"YlGnBu\", order = data_price[\"price\"].sort_values().index)\n",
    "plt.show()"
   ]
  },
  {
   "cell_type": "markdown",
   "id": "dBVqwEwm7un1",
   "metadata": {
    "id": "dBVqwEwm7un1"
   },
   "source": [
    "Dari grafik di atas dapat disimpulkan bahwa Lux Black XL menduduki urutan jenis mobil termahal. Urutan selanjutnya adalah:\n",
    "\n",
    "2. Black Suv\n",
    "\n",
    "3. Lux Black\n",
    "\n",
    "4. Black\n",
    "\n",
    "5. Lux\n",
    "\n",
    "6. UberXL\n",
    "\n",
    "7. Lyft XL\n",
    "\n",
    "8. UberX\n",
    "\n",
    "9. WAV\n",
    "\n",
    "10. Lyft\n",
    "\n",
    "11. UberPool\n",
    "\n",
    "12. Shared"
   ]
  },
  {
   "cell_type": "markdown",
   "id": "e3050fab",
   "metadata": {
    "id": "e3050fab"
   },
   "source": [
    "### Cek korelasi antara Climate dan Price"
   ]
  },
  {
   "cell_type": "code",
   "execution_count": 7,
   "id": "7e36dae3",
   "metadata": {
    "colab": {
     "base_uri": "https://localhost:8080/",
     "height": 1000
    },
    "id": "7e36dae3",
    "outputId": "e9609f6c-13af-4717-9ce0-68db635da55f"
   },
   "outputs": [
    {
     "data": {
      "text/plain": [
       "<AxesSubplot:>"
      ]
     },
     "execution_count": 7,
     "metadata": {},
     "output_type": "execute_result"
    },
    {
     "data": {
      "image/png": "[encoded data removed]",
      "text/plain": [
       "<Figure size 1440x1296 with 2 Axes>"
      ]
     },
     "metadata": {
      "needs_background": "light"
     },
     "output_type": "display_data"
    }
   ],
   "source": [
    "# membuat variabel list dari kolom yang akan di drop\n",
    "climate = ['precipIntensity', 'precipProbability', 'humidity', 'windSpeed', 'visibility.1',\n",
    "           'windGust', 'visibility', 'dewPoint', 'pressure', 'windBearing', 'cloudCover',\n",
    "           'uvIndex', 'ozone', 'moonPhase', 'latitude', 'longitude', 'windGustTime',\n",
    "           'precipIntensityMax', 'price']\n",
    "# membuat data climate\n",
    "data_climate = data[climate]\n",
    "\n",
    "# membuat plot heatmap\n",
    "plt.figure(figsize=(20, 18))\n",
    "sb.heatmap(data_climate.corr(), annot=True, cmap='YlGnBu')"
   ]
  },
  {
   "cell_type": "markdown",
   "id": "fda381bd",
   "metadata": {
    "id": "fda381bd"
   },
   "source": [
    "Dari plot diatas dapat dilihat bahwa feature climate memiliki <b>korelasi yang lemah</b> dengan feature target, sehingga kita dapat melakukan drop pada feature climate yang ada."
   ]
  },
  {
   "cell_type": "code",
   "execution_count": 8,
   "id": "566e3fef",
   "metadata": {
    "colab": {
     "base_uri": "https://localhost:8080/"
    },
    "id": "566e3fef",
    "outputId": "d05cf226-01b9-4a34-eca7-dbf76ab15cf3"
   },
   "outputs": [
    {
     "data": {
      "text/plain": [
       "(693071, 39)"
      ]
     },
     "execution_count": 8,
     "metadata": {},
     "output_type": "execute_result"
    }
   ],
   "source": [
    "clim_feature = ['precipIntensity', 'precipProbability', 'humidity', 'windSpeed', 'visibility.1',\n",
    "                'windGust', 'visibility', 'dewPoint', 'pressure', 'windBearing', 'cloudCover',\n",
    "                'uvIndex', 'ozone', 'moonPhase', 'latitude', 'longitude', 'windGustTime',\n",
    "                'precipIntensityMax']\n",
    "\n",
    "new_data = data.drop(clim_feature, axis=1)\n",
    "new_data.shape"
   ]
  },
  {
   "cell_type": "markdown",
   "id": "b70f86ac",
   "metadata": {
    "id": "b70f86ac"
   },
   "source": [
    "### Cek korelasi antara Temperature dengan Price"
   ]
  },
  {
   "cell_type": "code",
   "execution_count": 9,
   "id": "7990aeef",
   "metadata": {
    "colab": {
     "base_uri": "https://localhost:8080/",
     "height": 0
    },
    "id": "7990aeef",
    "outputId": "6ab879ce-e252-41af-aaba-92375984935f"
   },
   "outputs": [
    {
     "data": {
      "text/plain": [
       "<AxesSubplot:>"
      ]
     },
     "execution_count": 9,
     "metadata": {},
     "output_type": "execute_result"
    },
    {
     "data": {
      "image/png": "[encoded data removed]",
      "text/plain": [
       "<Figure size 1440x1512 with 2 Axes>"
      ]
     },
     "metadata": {
      "needs_background": "light"
     },
     "output_type": "display_data"
    }
   ],
   "source": [
    "## membuat list feature temperature\n",
    "temperature = ['temperature', 'apparentTemperature', 'temperatureHigh', 'temperatureLow', 'temperatureHighTime',\n",
    "               'temperatureLowTime', 'apparentTemperatureHigh', 'apparentTemperatureHighTime', 'apparentTemperatureLow',\n",
    "               'apparentTemperatureLowTime', 'temperatureMin', 'temperatureMinTime', 'temperatureMax', 'temperatureMaxTime',\n",
    "               'apparentTemperatureMin', 'apparentTemperatureMinTime', 'apparentTemperatureMax', 'apparentTemperatureMaxTime',\n",
    "               'price']\n",
    "## membuat data temperature\n",
    "data_temperature = new_data[temperature]\n",
    "\n",
    "## membuat plot heatmap\n",
    "plt.figure(figsize=(20, 21))\n",
    "sb.heatmap(data_temperature.corr(), annot=True, cmap='YlGnBu')"
   ]
  },
  {
   "cell_type": "markdown",
   "id": "3e8bca18",
   "metadata": {
    "id": "3e8bca18"
   },
   "source": [
    "Dari plot diatas dapat dilihat bahwa feature temperature memiliki <b>korelasi yang lemah</b> dengan feature target, sehingga kita dapat melakukan drop pada feature climate yang ada."
   ]
  },
  {
   "cell_type": "code",
   "execution_count": 10,
   "id": "95b2e261",
   "metadata": {
    "colab": {
     "base_uri": "https://localhost:8080/"
    },
    "id": "95b2e261",
    "outputId": "b5d2aba2-56e9-45c8-eb98-a6d2582ce6ee"
   },
   "outputs": [
    {
     "data": {
      "text/plain": [
       "(693071, 21)"
      ]
     },
     "execution_count": 10,
     "metadata": {},
     "output_type": "execute_result"
    }
   ],
   "source": [
    "temp_feature = ['temperature', 'apparentTemperature', 'temperatureHigh', 'temperatureLow', 'temperatureHighTime',\n",
    "                'temperatureLowTime', 'apparentTemperatureHigh', 'apparentTemperatureHighTime', 'apparentTemperatureLow',\n",
    "                'apparentTemperatureLowTime', 'temperatureMin', 'temperatureMinTime', 'temperatureMax', 'temperatureMaxTime',\n",
    "                'apparentTemperatureMin', 'apparentTemperatureMinTime', 'apparentTemperatureMax',\n",
    "                'apparentTemperatureMaxTime']\n",
    "\n",
    "new_data = new_data.drop(temp_feature, axis=1)\n",
    "new_data.shape"
   ]
  },
  {
   "cell_type": "markdown",
   "id": "7c080d82",
   "metadata": {
    "id": "7c080d82"
   },
   "source": [
    "### Drop kolom feature yang tidak dibutuhkan"
   ]
  },
  {
   "cell_type": "code",
   "execution_count": 11,
   "id": "MP8LgtbvdguK",
   "metadata": {
    "colab": {
     "base_uri": "https://localhost:8080/",
     "height": 0
    },
    "id": "MP8LgtbvdguK",
    "outputId": "7b036d78-3df4-4c49-e36b-8ba1fcf403c0",
    "scrolled": true
   },
   "outputs": [
    {
     "data": {
      "text/html": [
       "<div>\n",
       "<style scoped>\n",
       "    .dataframe tbody tr th:only-of-type {\n",
       "        vertical-align: middle;\n",
       "    }\n",
       "\n",
       "    .dataframe tbody tr th {\n",
       "        vertical-align: top;\n",
       "    }\n",
       "\n",
       "    .dataframe thead th {\n",
       "        text-align: right;\n",
       "    }\n",
       "</style>\n",
       "<table border=\"1\" class=\"dataframe\">\n",
       "  <thead>\n",
       "    <tr style=\"text-align: right;\">\n",
       "      <th></th>\n",
       "      <th>id</th>\n",
       "      <th>timestamp</th>\n",
       "      <th>hour</th>\n",
       "      <th>day</th>\n",
       "      <th>month</th>\n",
       "      <th>datetime</th>\n",
       "      <th>timezone</th>\n",
       "      <th>source</th>\n",
       "      <th>destination</th>\n",
       "      <th>cab_type</th>\n",
       "      <th>product_id</th>\n",
       "      <th>name</th>\n",
       "      <th>price</th>\n",
       "      <th>distance</th>\n",
       "      <th>surge_multiplier</th>\n",
       "      <th>short_summary</th>\n",
       "      <th>long_summary</th>\n",
       "      <th>icon</th>\n",
       "      <th>sunriseTime</th>\n",
       "      <th>sunsetTime</th>\n",
       "      <th>uvIndexTime</th>\n",
       "    </tr>\n",
       "  </thead>\n",
       "  <tbody>\n",
       "    <tr>\n",
       "      <th>0</th>\n",
       "      <td>424553bb-7174-41ea-aeb4-fe06d4f4b9d7</td>\n",
       "      <td>1.544953e+09</td>\n",
       "      <td>9</td>\n",
       "      <td>16</td>\n",
       "      <td>12</td>\n",
       "      <td>2018-12-16 09:30:07</td>\n",
       "      <td>America/New_York</td>\n",
       "      <td>Haymarket Square</td>\n",
       "      <td>North Station</td>\n",
       "      <td>Lyft</td>\n",
       "      <td>lyft_line</td>\n",
       "      <td>Shared</td>\n",
       "      <td>5.0</td>\n",
       "      <td>0.44</td>\n",
       "      <td>1.0</td>\n",
       "      <td>Mostly Cloudy</td>\n",
       "      <td>Rain throughout the day.</td>\n",
       "      <td>partly-cloudy-night</td>\n",
       "      <td>1544962084</td>\n",
       "      <td>1544994864</td>\n",
       "      <td>1544979600</td>\n",
       "    </tr>\n",
       "    <tr>\n",
       "      <th>1</th>\n",
       "      <td>4bd23055-6827-41c6-b23b-3c491f24e74d</td>\n",
       "      <td>1.543284e+09</td>\n",
       "      <td>2</td>\n",
       "      <td>27</td>\n",
       "      <td>11</td>\n",
       "      <td>2018-11-27 02:00:23</td>\n",
       "      <td>America/New_York</td>\n",
       "      <td>Haymarket Square</td>\n",
       "      <td>North Station</td>\n",
       "      <td>Lyft</td>\n",
       "      <td>lyft_premier</td>\n",
       "      <td>Lux</td>\n",
       "      <td>11.0</td>\n",
       "      <td>0.44</td>\n",
       "      <td>1.0</td>\n",
       "      <td>Rain</td>\n",
       "      <td>Rain until morning, starting again in the eve...</td>\n",
       "      <td>rain</td>\n",
       "      <td>1543232969</td>\n",
       "      <td>1543266992</td>\n",
       "      <td>1543251600</td>\n",
       "    </tr>\n",
       "  </tbody>\n",
       "</table>\n",
       "</div>"
      ],
      "text/plain": [
       "                                     id     timestamp  hour  day  month  \\\n",
       "0  424553bb-7174-41ea-aeb4-fe06d4f4b9d7  1.544953e+09     9   16     12   \n",
       "1  4bd23055-6827-41c6-b23b-3c491f24e74d  1.543284e+09     2   27     11   \n",
       "\n",
       "              datetime          timezone            source    destination  \\\n",
       "0  2018-12-16 09:30:07  America/New_York  Haymarket Square  North Station   \n",
       "1  2018-11-27 02:00:23  America/New_York  Haymarket Square  North Station   \n",
       "\n",
       "  cab_type    product_id    name  price  distance  surge_multiplier  \\\n",
       "0     Lyft     lyft_line  Shared    5.0      0.44               1.0   \n",
       "1     Lyft  lyft_premier     Lux   11.0      0.44               1.0   \n",
       "\n",
       "     short_summary                                       long_summary  \\\n",
       "0   Mostly Cloudy                           Rain throughout the day.    \n",
       "1            Rain    Rain until morning, starting again in the eve...   \n",
       "\n",
       "                    icon  sunriseTime  sunsetTime  uvIndexTime  \n",
       "0   partly-cloudy-night    1544962084  1544994864   1544979600  \n",
       "1                  rain    1543232969  1543266992   1543251600  "
      ]
     },
     "execution_count": 11,
     "metadata": {},
     "output_type": "execute_result"
    }
   ],
   "source": [
    "new_data.head(2)"
   ]
  },
  {
   "cell_type": "code",
   "execution_count": 12,
   "id": "cd2edc39",
   "metadata": {
    "colab": {
     "base_uri": "https://localhost:8080/",
     "height": 0
    },
    "id": "cd2edc39",
    "outputId": "facee0f7-2c55-4128-8251-e5582c29ec5f"
   },
   "outputs": [
    {
     "data": {
      "text/html": [
       "<div>\n",
       "<style scoped>\n",
       "    .dataframe tbody tr th:only-of-type {\n",
       "        vertical-align: middle;\n",
       "    }\n",
       "\n",
       "    .dataframe tbody tr th {\n",
       "        vertical-align: top;\n",
       "    }\n",
       "\n",
       "    .dataframe thead th {\n",
       "        text-align: right;\n",
       "    }\n",
       "</style>\n",
       "<table border=\"1\" class=\"dataframe\">\n",
       "  <thead>\n",
       "    <tr style=\"text-align: right;\">\n",
       "      <th></th>\n",
       "      <th>cab_type</th>\n",
       "      <th>name</th>\n",
       "      <th>price</th>\n",
       "      <th>distance</th>\n",
       "      <th>surge_multiplier</th>\n",
       "      <th>short_summary</th>\n",
       "    </tr>\n",
       "  </thead>\n",
       "  <tbody>\n",
       "    <tr>\n",
       "      <th>0</th>\n",
       "      <td>Lyft</td>\n",
       "      <td>Shared</td>\n",
       "      <td>5.0</td>\n",
       "      <td>0.44</td>\n",
       "      <td>1.0</td>\n",
       "      <td>Mostly Cloudy</td>\n",
       "    </tr>\n",
       "    <tr>\n",
       "      <th>1</th>\n",
       "      <td>Lyft</td>\n",
       "      <td>Lux</td>\n",
       "      <td>11.0</td>\n",
       "      <td>0.44</td>\n",
       "      <td>1.0</td>\n",
       "      <td>Rain</td>\n",
       "    </tr>\n",
       "    <tr>\n",
       "      <th>2</th>\n",
       "      <td>Lyft</td>\n",
       "      <td>Lyft</td>\n",
       "      <td>7.0</td>\n",
       "      <td>0.44</td>\n",
       "      <td>1.0</td>\n",
       "      <td>Clear</td>\n",
       "    </tr>\n",
       "    <tr>\n",
       "      <th>3</th>\n",
       "      <td>Lyft</td>\n",
       "      <td>Lux Black XL</td>\n",
       "      <td>26.0</td>\n",
       "      <td>0.44</td>\n",
       "      <td>1.0</td>\n",
       "      <td>Clear</td>\n",
       "    </tr>\n",
       "    <tr>\n",
       "      <th>4</th>\n",
       "      <td>Lyft</td>\n",
       "      <td>Lyft XL</td>\n",
       "      <td>9.0</td>\n",
       "      <td>0.44</td>\n",
       "      <td>1.0</td>\n",
       "      <td>Partly Cloudy</td>\n",
       "    </tr>\n",
       "  </tbody>\n",
       "</table>\n",
       "</div>"
      ],
      "text/plain": [
       "  cab_type          name  price  distance  surge_multiplier    short_summary\n",
       "0     Lyft        Shared    5.0      0.44               1.0   Mostly Cloudy \n",
       "1     Lyft           Lux   11.0      0.44               1.0            Rain \n",
       "2     Lyft          Lyft    7.0      0.44               1.0           Clear \n",
       "3     Lyft  Lux Black XL   26.0      0.44               1.0           Clear \n",
       "4     Lyft       Lyft XL    9.0      0.44               1.0   Partly Cloudy "
      ]
     },
     "execution_count": 12,
     "metadata": {},
     "output_type": "execute_result"
    }
   ],
   "source": [
    "drop_feature = ['id', 'timestamp', 'datetime', 'timezone', 'product_id',\n",
    "                'icon', 'long_summary', 'sunriseTime', 'sunsetTime', 'uvIndexTime',\n",
    "                'source', 'destination', 'hour', 'day', 'month']\n",
    "new_data = new_data.drop(drop_feature, axis=1)\n",
    "new_data.head()"
   ]
  },
  {
   "cell_type": "markdown",
   "id": "7e64de4f",
   "metadata": {
    "id": "7e64de4f"
   },
   "source": [
    "### Melakukan rename pada beberapa kolom agar lebih mudah dipahami"
   ]
  },
  {
   "cell_type": "code",
   "execution_count": 13,
   "id": "a631025c",
   "metadata": {
    "colab": {
     "base_uri": "https://localhost:8080/",
     "height": 206
    },
    "id": "a631025c",
    "outputId": "2980cd7f-e0b7-4d71-87c9-50886365700b",
    "scrolled": true
   },
   "outputs": [
    {
     "data": {
      "text/html": [
       "<div>\n",
       "<style scoped>\n",
       "    .dataframe tbody tr th:only-of-type {\n",
       "        vertical-align: middle;\n",
       "    }\n",
       "\n",
       "    .dataframe tbody tr th {\n",
       "        vertical-align: top;\n",
       "    }\n",
       "\n",
       "    .dataframe thead th {\n",
       "        text-align: right;\n",
       "    }\n",
       "</style>\n",
       "<table border=\"1\" class=\"dataframe\">\n",
       "  <thead>\n",
       "    <tr style=\"text-align: right;\">\n",
       "      <th></th>\n",
       "      <th>cab_type</th>\n",
       "      <th>cab_descr</th>\n",
       "      <th>price</th>\n",
       "      <th>distance</th>\n",
       "      <th>surge_multiplier</th>\n",
       "      <th>weather</th>\n",
       "    </tr>\n",
       "  </thead>\n",
       "  <tbody>\n",
       "    <tr>\n",
       "      <th>0</th>\n",
       "      <td>Lyft</td>\n",
       "      <td>Shared</td>\n",
       "      <td>5.0</td>\n",
       "      <td>0.44</td>\n",
       "      <td>1.0</td>\n",
       "      <td>Mostly Cloudy</td>\n",
       "    </tr>\n",
       "    <tr>\n",
       "      <th>1</th>\n",
       "      <td>Lyft</td>\n",
       "      <td>Lux</td>\n",
       "      <td>11.0</td>\n",
       "      <td>0.44</td>\n",
       "      <td>1.0</td>\n",
       "      <td>Rain</td>\n",
       "    </tr>\n",
       "    <tr>\n",
       "      <th>2</th>\n",
       "      <td>Lyft</td>\n",
       "      <td>Lyft</td>\n",
       "      <td>7.0</td>\n",
       "      <td>0.44</td>\n",
       "      <td>1.0</td>\n",
       "      <td>Clear</td>\n",
       "    </tr>\n",
       "    <tr>\n",
       "      <th>3</th>\n",
       "      <td>Lyft</td>\n",
       "      <td>Lux Black XL</td>\n",
       "      <td>26.0</td>\n",
       "      <td>0.44</td>\n",
       "      <td>1.0</td>\n",
       "      <td>Clear</td>\n",
       "    </tr>\n",
       "    <tr>\n",
       "      <th>4</th>\n",
       "      <td>Lyft</td>\n",
       "      <td>Lyft XL</td>\n",
       "      <td>9.0</td>\n",
       "      <td>0.44</td>\n",
       "      <td>1.0</td>\n",
       "      <td>Partly Cloudy</td>\n",
       "    </tr>\n",
       "  </tbody>\n",
       "</table>\n",
       "</div>"
      ],
      "text/plain": [
       "  cab_type     cab_descr  price  distance  surge_multiplier          weather\n",
       "0     Lyft        Shared    5.0      0.44               1.0   Mostly Cloudy \n",
       "1     Lyft           Lux   11.0      0.44               1.0            Rain \n",
       "2     Lyft          Lyft    7.0      0.44               1.0           Clear \n",
       "3     Lyft  Lux Black XL   26.0      0.44               1.0           Clear \n",
       "4     Lyft       Lyft XL    9.0      0.44               1.0   Partly Cloudy "
      ]
     },
     "execution_count": 13,
     "metadata": {},
     "output_type": "execute_result"
    }
   ],
   "source": [
    "## melakukan rename kolom agar beberapa kolom dapat lebih mudah dipahami\n",
    "new_data = new_data.rename(columns={'name' : 'cab_descr', 'short_summary' : 'weather'})\n",
    "\n",
    "## menampilkan 5 baris teratas\n",
    "new_data.head()"
   ]
  },
  {
   "cell_type": "markdown",
   "id": "bbdcf8e6",
   "metadata": {
    "id": "bbdcf8e6"
   },
   "source": [
    "# Data Cleaning (stage 1)"
   ]
  },
  {
   "cell_type": "markdown",
   "id": "OCc6-cpBYlhs",
   "metadata": {
    "id": "OCc6-cpBYlhs"
   },
   "source": [
    "## Handling missing values"
   ]
  },
  {
   "cell_type": "code",
   "execution_count": 14,
   "id": "sZEcBiI5YspW",
   "metadata": {
    "colab": {
     "base_uri": "https://localhost:8080/"
    },
    "id": "sZEcBiI5YspW",
    "outputId": "45491ebc-84af-48ce-b46e-37440768e039",
    "scrolled": true
   },
   "outputs": [
    {
     "data": {
      "text/plain": [
       "cab_type                0\n",
       "cab_descr               0\n",
       "price               55095\n",
       "distance                0\n",
       "surge_multiplier        0\n",
       "weather                 0\n",
       "dtype: int64"
      ]
     },
     "execution_count": 14,
     "metadata": {},
     "output_type": "execute_result"
    }
   ],
   "source": [
    "new_data.isna().sum()"
   ]
  },
  {
   "cell_type": "markdown",
   "id": "PCX3w7kXY42m",
   "metadata": {
    "id": "PCX3w7kXY42m"
   },
   "source": [
    "Setelah melakukan cek missing value, ternyata terdapat banyak sekali missing value pada kolom price. selanjutnya kita dapat melakukan handling missing value dengan cara menghapus missing value tersebut"
   ]
  },
  {
   "cell_type": "code",
   "execution_count": 15,
   "id": "5uDA39kzZhKk",
   "metadata": {
    "id": "5uDA39kzZhKk"
   },
   "outputs": [],
   "source": [
    "new_data.dropna(inplace=True)"
   ]
  },
  {
   "cell_type": "code",
   "execution_count": 16,
   "id": "8IphC7cYZuzn",
   "metadata": {
    "colab": {
     "base_uri": "https://localhost:8080/"
    },
    "id": "8IphC7cYZuzn",
    "outputId": "95289fa8-a7ac-4efc-a7c8-e760630ea3db"
   },
   "outputs": [
    {
     "data": {
      "text/plain": [
       "cab_type            0\n",
       "cab_descr           0\n",
       "price               0\n",
       "distance            0\n",
       "surge_multiplier    0\n",
       "weather             0\n",
       "dtype: int64"
      ]
     },
     "execution_count": 16,
     "metadata": {},
     "output_type": "execute_result"
    }
   ],
   "source": [
    "new_data.isna().sum()"
   ]
  },
  {
   "cell_type": "markdown",
   "id": "ISTYO0gVgclT",
   "metadata": {
    "id": "ISTYO0gVgclT"
   },
   "source": [
    "Setelah melakukan handling missing value, dapat kita lihat missing value yang ada pada kolom price sudah tidak ada."
   ]
  },
  {
   "cell_type": "markdown",
   "id": "55003620",
   "metadata": {
    "id": "55003620"
   },
   "source": [
    "# Data Preprocessing (stage 1)"
   ]
  },
  {
   "cell_type": "markdown",
   "id": "_BEkaqIyp34Z",
   "metadata": {
    "id": "_BEkaqIyp34Z"
   },
   "source": [
    "Data preprocessing stage 1 disini adalah data preprocessing yang dilakukan setelah melakukan simple data cleaning"
   ]
  },
  {
   "cell_type": "markdown",
   "id": "SVnC4jUwg2I-",
   "metadata": {
    "id": "SVnC4jUwg2I-"
   },
   "source": [
    "Disini kita akan membagi data menjadi 3, yaitu Base data yang memiliki semua value dan atribut, lalu ada Uber data yang mana hanya memiliki atribut berdasarkan grouping pada cab_type 'Uber', dan yang terakhir adalah Lyft data yang hanya memiliki atribut berdasarkan grouping pada cab_type 'Lyft'"
   ]
  },
  {
   "cell_type": "code",
   "execution_count": 17,
   "id": "6a5eefca",
   "metadata": {
    "id": "6a5eefca"
   },
   "outputs": [],
   "source": [
    "linreg = LinearRegression()"
   ]
  },
  {
   "cell_type": "markdown",
   "id": "249990a9",
   "metadata": {
    "id": "249990a9"
   },
   "source": [
    "## Base model"
   ]
  },
  {
   "cell_type": "markdown",
   "id": "3QUTkWEhnI6A",
   "metadata": {
    "id": "3QUTkWEhnI6A"
   },
   "source": [
    "### Membuat base data yang mencakup semua jenis cab_type"
   ]
  },
  {
   "cell_type": "code",
   "execution_count": 18,
   "id": "qJZSOhonu5Ik",
   "metadata": {
    "id": "qJZSOhonu5Ik"
   },
   "outputs": [],
   "source": [
    "base = new_data.copy()\n",
    "base_data = pd.get_dummies(base, columns=['cab_type', 'cab_descr', 'weather'])"
   ]
  },
  {
   "cell_type": "markdown",
   "id": "Dnr3GGWFmQPo",
   "metadata": {
    "id": "Dnr3GGWFmQPo"
   },
   "source": [
    "Melakukan encoding pada data yang bertipe object/categorical agar nantinya dapat diolah dengan algoritma linear regression"
   ]
  },
  {
   "cell_type": "code",
   "execution_count": 19,
   "id": "guN6pEN3jrS_",
   "metadata": {
    "colab": {
     "base_uri": "https://localhost:8080/",
     "height": 0
    },
    "id": "guN6pEN3jrS_",
    "outputId": "d1f393e1-e7f6-49c5-fe66-9a914eb0cf86",
    "scrolled": true
   },
   "outputs": [
    {
     "data": {
      "text/html": [
       "<div>\n",
       "<style scoped>\n",
       "    .dataframe tbody tr th:only-of-type {\n",
       "        vertical-align: middle;\n",
       "    }\n",
       "\n",
       "    .dataframe tbody tr th {\n",
       "        vertical-align: top;\n",
       "    }\n",
       "\n",
       "    .dataframe thead th {\n",
       "        text-align: right;\n",
       "    }\n",
       "</style>\n",
       "<table border=\"1\" class=\"dataframe\">\n",
       "  <thead>\n",
       "    <tr style=\"text-align: right;\">\n",
       "      <th></th>\n",
       "      <th>price</th>\n",
       "      <th>distance</th>\n",
       "      <th>surge_multiplier</th>\n",
       "      <th>cab_type_Lyft</th>\n",
       "      <th>cab_type_Uber</th>\n",
       "      <th>cab_descr_Black</th>\n",
       "      <th>cab_descr_Black SUV</th>\n",
       "      <th>cab_descr_Lux</th>\n",
       "      <th>cab_descr_Lux Black</th>\n",
       "      <th>cab_descr_Lux Black XL</th>\n",
       "      <th>cab_descr_Lyft</th>\n",
       "      <th>cab_descr_Lyft XL</th>\n",
       "      <th>cab_descr_Shared</th>\n",
       "      <th>cab_descr_UberPool</th>\n",
       "      <th>cab_descr_UberX</th>\n",
       "      <th>cab_descr_UberXL</th>\n",
       "      <th>cab_descr_WAV</th>\n",
       "      <th>weather_ Clear</th>\n",
       "      <th>weather_ Drizzle</th>\n",
       "      <th>weather_ Foggy</th>\n",
       "      <th>weather_ Light Rain</th>\n",
       "      <th>weather_ Mostly Cloudy</th>\n",
       "      <th>weather_ Overcast</th>\n",
       "      <th>weather_ Partly Cloudy</th>\n",
       "      <th>weather_ Possible Drizzle</th>\n",
       "      <th>weather_ Rain</th>\n",
       "    </tr>\n",
       "  </thead>\n",
       "  <tbody>\n",
       "    <tr>\n",
       "      <th>0</th>\n",
       "      <td>5.0</td>\n",
       "      <td>0.44</td>\n",
       "      <td>1.0</td>\n",
       "      <td>1</td>\n",
       "      <td>0</td>\n",
       "      <td>0</td>\n",
       "      <td>0</td>\n",
       "      <td>0</td>\n",
       "      <td>0</td>\n",
       "      <td>0</td>\n",
       "      <td>0</td>\n",
       "      <td>0</td>\n",
       "      <td>1</td>\n",
       "      <td>0</td>\n",
       "      <td>0</td>\n",
       "      <td>0</td>\n",
       "      <td>0</td>\n",
       "      <td>0</td>\n",
       "      <td>0</td>\n",
       "      <td>0</td>\n",
       "      <td>0</td>\n",
       "      <td>1</td>\n",
       "      <td>0</td>\n",
       "      <td>0</td>\n",
       "      <td>0</td>\n",
       "      <td>0</td>\n",
       "    </tr>\n",
       "    <tr>\n",
       "      <th>1</th>\n",
       "      <td>11.0</td>\n",
       "      <td>0.44</td>\n",
       "      <td>1.0</td>\n",
       "      <td>1</td>\n",
       "      <td>0</td>\n",
       "      <td>0</td>\n",
       "      <td>0</td>\n",
       "      <td>1</td>\n",
       "      <td>0</td>\n",
       "      <td>0</td>\n",
       "      <td>0</td>\n",
       "      <td>0</td>\n",
       "      <td>0</td>\n",
       "      <td>0</td>\n",
       "      <td>0</td>\n",
       "      <td>0</td>\n",
       "      <td>0</td>\n",
       "      <td>0</td>\n",
       "      <td>0</td>\n",
       "      <td>0</td>\n",
       "      <td>0</td>\n",
       "      <td>0</td>\n",
       "      <td>0</td>\n",
       "      <td>0</td>\n",
       "      <td>0</td>\n",
       "      <td>1</td>\n",
       "    </tr>\n",
       "    <tr>\n",
       "      <th>2</th>\n",
       "      <td>7.0</td>\n",
       "      <td>0.44</td>\n",
       "      <td>1.0</td>\n",
       "      <td>1</td>\n",
       "      <td>0</td>\n",
       "      <td>0</td>\n",
       "      <td>0</td>\n",
       "      <td>0</td>\n",
       "      <td>0</td>\n",
       "      <td>0</td>\n",
       "      <td>1</td>\n",
       "      <td>0</td>\n",
       "      <td>0</td>\n",
       "      <td>0</td>\n",
       "      <td>0</td>\n",
       "      <td>0</td>\n",
       "      <td>0</td>\n",
       "      <td>1</td>\n",
       "      <td>0</td>\n",
       "      <td>0</td>\n",
       "      <td>0</td>\n",
       "      <td>0</td>\n",
       "      <td>0</td>\n",
       "      <td>0</td>\n",
       "      <td>0</td>\n",
       "      <td>0</td>\n",
       "    </tr>\n",
       "  </tbody>\n",
       "</table>\n",
       "</div>"
      ],
      "text/plain": [
       "   price  distance  surge_multiplier  cab_type_Lyft  cab_type_Uber  \\\n",
       "0    5.0      0.44               1.0              1              0   \n",
       "1   11.0      0.44               1.0              1              0   \n",
       "2    7.0      0.44               1.0              1              0   \n",
       "\n",
       "   cab_descr_Black  cab_descr_Black SUV  cab_descr_Lux  cab_descr_Lux Black  \\\n",
       "0                0                    0              0                    0   \n",
       "1                0                    0              1                    0   \n",
       "2                0                    0              0                    0   \n",
       "\n",
       "   cab_descr_Lux Black XL  cab_descr_Lyft  cab_descr_Lyft XL  \\\n",
       "0                       0               0                  0   \n",
       "1                       0               0                  0   \n",
       "2                       0               1                  0   \n",
       "\n",
       "   cab_descr_Shared  cab_descr_UberPool  cab_descr_UberX  cab_descr_UberXL  \\\n",
       "0                 1                   0                0                 0   \n",
       "1                 0                   0                0                 0   \n",
       "2                 0                   0                0                 0   \n",
       "\n",
       "   cab_descr_WAV  weather_ Clear   weather_ Drizzle   weather_ Foggy   \\\n",
       "0              0                0                  0                0   \n",
       "1              0                0                  0                0   \n",
       "2              0                1                  0                0   \n",
       "\n",
       "   weather_ Light Rain   weather_ Mostly Cloudy   weather_ Overcast   \\\n",
       "0                     0                        1                   0   \n",
       "1                     0                        0                   0   \n",
       "2                     0                        0                   0   \n",
       "\n",
       "   weather_ Partly Cloudy   weather_ Possible Drizzle   weather_ Rain   \n",
       "0                        0                           0               0  \n",
       "1                        0                           0               1  \n",
       "2                        0                           0               0  "
      ]
     },
     "execution_count": 19,
     "metadata": {},
     "output_type": "execute_result"
    }
   ],
   "source": [
    "base_data.head(3)"
   ]
  },
  {
   "cell_type": "markdown",
   "id": "-6ip6NtS5tK8",
   "metadata": {
    "id": "-6ip6NtS5tK8"
   },
   "source": [
    "Setelah melakukan encoding, maka data yang tadinya bertipe object/categorical akan berubah menjadi numeric, sehingga dapat diproses unntuk model liear regression"
   ]
  },
  {
   "cell_type": "markdown",
   "id": "HG6J0Wx_W43g",
   "metadata": {
    "id": "HG6J0Wx_W43g"
   },
   "source": [
    "### Define model base"
   ]
  },
  {
   "cell_type": "code",
   "execution_count": 20,
   "id": "9554a4c0",
   "metadata": {
    "id": "9554a4c0"
   },
   "outputs": [],
   "source": [
    "x_base = base_data.drop(['price', 'surge_multiplier'], axis=1) ## data feature\n",
    "y_base = base_data['price'] ## data target"
   ]
  },
  {
   "cell_type": "markdown",
   "id": "YB3xrqqx-xBR",
   "metadata": {
    "id": "YB3xrqqx-xBR"
   },
   "source": [
    "Membagi x dan y dari base data, dengan x (feature) yang berisi semua atribut kecuali 'price', sedangkan y (target) berisi atribut 'price'"
   ]
  },
  {
   "cell_type": "code",
   "execution_count": 21,
   "id": "c401cd7a",
   "metadata": {
    "id": "c401cd7a"
   },
   "outputs": [],
   "source": [
    "# Splitting X dan y menjadi data training dan data testing\n",
    "x_train_base, x_test_base, y_train_base, y_test_base = train_test_split(x_base, y_base, test_size=0.3, random_state=100)"
   ]
  },
  {
   "cell_type": "markdown",
   "id": "Kp_U5SKV_Nyz",
   "metadata": {
    "id": "Kp_U5SKV_Nyz"
   },
   "source": [
    "Melakukan data split menjadi data training dan data test pada x_base dan y_base yang sudah dibuat sebelumnya"
   ]
  },
  {
   "cell_type": "markdown",
   "id": "P59XNMDeXFFP",
   "metadata": {
    "id": "P59XNMDeXFFP"
   },
   "source": [
    "### Melatih model"
   ]
  },
  {
   "cell_type": "code",
   "execution_count": 22,
   "id": "dc9287cd",
   "metadata": {
    "id": "dc9287cd"
   },
   "outputs": [],
   "source": [
    "model_base = linreg.fit(x_train_base, y_train_base)\n",
    "y_pred_base = linreg.predict(x_test_base.values)\n",
    "y_pred_train_base = linreg.predict(x_train_base.values)"
   ]
  },
  {
   "cell_type": "markdown",
   "id": "ocBal5zr19iQ",
   "metadata": {
    "id": "ocBal5zr19iQ"
   },
   "source": [
    "### Mendapatkan nilai coefficients dan nilai intercept linear regression"
   ]
  },
  {
   "cell_type": "code",
   "execution_count": 23,
   "id": "1d049723",
   "metadata": {
    "colab": {
     "base_uri": "https://localhost:8080/"
    },
    "id": "1d049723",
    "outputId": "0f9f628c-d1a4-4c0f-9d56-3e2889984196",
    "scrolled": false
   },
   "outputs": [
    {
     "name": "stdout",
     "output_type": "stream",
     "text": [
      "                            Coefficients\n",
      "distance                    2.839897e+00\n",
      "cab_type_Lyft               1.045719e+10\n",
      "cab_type_Uber              -1.193948e+11\n",
      "cab_descr_Black            -3.319617e+10\n",
      "cab_descr_Black SUV        -3.319617e+10\n",
      "cab_descr_Lux              -1.630482e+11\n",
      "cab_descr_Lux Black        -1.630482e+11\n",
      "cab_descr_Lux Black XL     -1.630482e+11\n",
      "cab_descr_Lyft             -1.630482e+11\n",
      "cab_descr_Lyft XL          -1.630482e+11\n",
      "cab_descr_Shared           -1.630482e+11\n",
      "cab_descr_UberPool         -3.319617e+10\n",
      "cab_descr_UberX            -3.319617e+10\n",
      "cab_descr_UberXL           -3.319617e+10\n",
      "cab_descr_WAV              -3.319617e+10\n",
      "weather_ Clear              1.236033e+10\n",
      "weather_ Drizzle            1.236033e+10\n",
      "weather_ Foggy              1.236033e+10\n",
      "weather_ Light Rain         1.236033e+10\n",
      "weather_ Mostly Cloudy      1.236033e+10\n",
      "weather_ Overcast           1.236033e+10\n",
      "weather_ Partly Cloudy      1.236033e+10\n",
      "weather_ Possible Drizzle   1.236033e+10\n",
      "weather_ Rain               1.236033e+10\n"
     ]
    }
   ],
   "source": [
    "print(pd.DataFrame(model_base.coef_, x_base.columns, columns=['Coefficients']))"
   ]
  },
  {
   "cell_type": "code",
   "execution_count": 24,
   "id": "394e2dfa",
   "metadata": {
    "colab": {
     "base_uri": "https://localhost:8080/"
    },
    "id": "394e2dfa",
    "outputId": "7d8af577-6d36-487a-a744-4be2cd423d07"
   },
   "outputs": [
    {
     "name": "stdout",
     "output_type": "stream",
     "text": [
      "intercept : 140230666177.90527\n"
     ]
    }
   ],
   "source": [
    "print(f'intercept : {model_base.intercept_}')"
   ]
  },
  {
   "cell_type": "markdown",
   "id": "BGw9-O0qeFGW",
   "metadata": {
    "id": "BGw9-O0qeFGW"
   },
   "source": [
    "### Evaluasi performa base model"
   ]
  },
  {
   "cell_type": "code",
   "execution_count": 25,
   "id": "lw-HDx-VeDZ0",
   "metadata": {
    "colab": {
     "base_uri": "https://localhost:8080/"
    },
    "id": "lw-HDx-VeDZ0",
    "outputId": "dfa5ef50-7a92-4f8f-91cb-e1097fda9cce"
   },
   "outputs": [
    {
     "data": {
      "text/plain": [
       "0.8922821413566985"
      ]
     },
     "execution_count": 25,
     "metadata": {},
     "output_type": "execute_result"
    }
   ],
   "source": [
    "r2_score(y_test_base, y_pred_base)"
   ]
  },
  {
   "cell_type": "code",
   "execution_count": 26,
   "id": "cyroij9Igq8K",
   "metadata": {
    "colab": {
     "base_uri": "https://localhost:8080/"
    },
    "id": "cyroij9Igq8K",
    "outputId": "f7ba922a-9956-4901-b37b-5909d98d7491"
   },
   "outputs": [
    {
     "data": {
      "text/plain": [
       "0.8938876551052191"
      ]
     },
     "execution_count": 26,
     "metadata": {},
     "output_type": "execute_result"
    }
   ],
   "source": [
    "r2_score(y_train_base, y_pred_train_base)"
   ]
  },
  {
   "cell_type": "code",
   "execution_count": 27,
   "id": "gGyzwkITi68C",
   "metadata": {
    "colab": {
     "base_uri": "https://localhost:8080/"
    },
    "id": "gGyzwkITi68C",
    "outputId": "2d222c43-b28b-4601-f714-6edbe8322f46"
   },
   "outputs": [
    {
     "name": "stdout",
     "output_type": "stream",
     "text": [
      "Mean Absolute Error = 1.962989095336967\n",
      "Mean Squared Error = 9.383801422679367\n",
      "Root Mean Squared Error = 3.0632991076092075\n"
     ]
    }
   ],
   "source": [
    "mae_base = mean_absolute_error(y_test_base, y_pred_base)\n",
    "mse_base = mean_squared_error(y_test_base, y_pred_base)\n",
    "rmse_base = mean_squared_error(y_test_base, y_pred_base, squared=False)\n",
    "\n",
    "print(f'Mean Absolute Error = {mae_base}\\nMean Squared Error = {mse_base}\\nRoot Mean Squared Error = {rmse_base}')"
   ]
  },
  {
   "cell_type": "markdown",
   "id": "Kv5B0sYRvc8j",
   "metadata": {
    "id": "Kv5B0sYRvc8j"
   },
   "source": [
    "Dapat dilihat pada hasil diatas bahwa base model yang kita miliki didapatkan nilai r2 score 0.8922821413566985 atau 89.22% pada data test dan 0.8938876551052191 atau 89.38% pada data train.\n",
    "Selain itu, MAE menunjukkan 1.96% dan RMSE menunjukkan 3.06% yang berarti model data kita memiliki nilai data hasil prediksi dekat dengan nilai aktual."
   ]
  },
  {
   "cell_type": "markdown",
   "id": "yRmO7T56YwfF",
   "metadata": {
    "id": "yRmO7T56YwfF"
   },
   "source": [
    "## Uber Model"
   ]
  },
  {
   "cell_type": "markdown",
   "id": "rC9SY17TnZBZ",
   "metadata": {
    "id": "rC9SY17TnZBZ"
   },
   "source": [
    "### Membuat data yang mengelompokkan berdasarkan cab_type 'Uber'"
   ]
  },
  {
   "cell_type": "code",
   "execution_count": 28,
   "id": "I9N2hhZcoAQ2",
   "metadata": {
    "colab": {
     "base_uri": "https://localhost:8080/",
     "height": 0
    },
    "id": "I9N2hhZcoAQ2",
    "outputId": "882bd0ca-095e-46a6-8927-e0b3a2521e6c"
   },
   "outputs": [
    {
     "data": {
      "text/html": [
       "<div>\n",
       "<style scoped>\n",
       "    .dataframe tbody tr th:only-of-type {\n",
       "        vertical-align: middle;\n",
       "    }\n",
       "\n",
       "    .dataframe tbody tr th {\n",
       "        vertical-align: top;\n",
       "    }\n",
       "\n",
       "    .dataframe thead th {\n",
       "        text-align: right;\n",
       "    }\n",
       "</style>\n",
       "<table border=\"1\" class=\"dataframe\">\n",
       "  <thead>\n",
       "    <tr style=\"text-align: right;\">\n",
       "      <th></th>\n",
       "      <th>cab_descr</th>\n",
       "      <th>price</th>\n",
       "      <th>distance</th>\n",
       "      <th>surge_multiplier</th>\n",
       "      <th>weather</th>\n",
       "    </tr>\n",
       "  </thead>\n",
       "  <tbody>\n",
       "    <tr>\n",
       "      <th>0</th>\n",
       "      <td>UberXL</td>\n",
       "      <td>12.0</td>\n",
       "      <td>1.11</td>\n",
       "      <td>1.0</td>\n",
       "      <td>Overcast</td>\n",
       "    </tr>\n",
       "    <tr>\n",
       "      <th>1</th>\n",
       "      <td>Black</td>\n",
       "      <td>16.0</td>\n",
       "      <td>1.11</td>\n",
       "      <td>1.0</td>\n",
       "      <td>Clear</td>\n",
       "    </tr>\n",
       "    <tr>\n",
       "      <th>2</th>\n",
       "      <td>UberX</td>\n",
       "      <td>7.5</td>\n",
       "      <td>1.11</td>\n",
       "      <td>1.0</td>\n",
       "      <td>Mostly Cloudy</td>\n",
       "    </tr>\n",
       "  </tbody>\n",
       "</table>\n",
       "</div>"
      ],
      "text/plain": [
       "  cab_descr  price  distance  surge_multiplier          weather\n",
       "0    UberXL   12.0      1.11               1.0        Overcast \n",
       "1     Black   16.0      1.11               1.0           Clear \n",
       "2     UberX    7.5      1.11               1.0   Mostly Cloudy "
      ]
     },
     "execution_count": 28,
     "metadata": {},
     "output_type": "execute_result"
    }
   ],
   "source": [
    "uber = new_data.copy()\n",
    "uber = uber.groupby('cab_type')\n",
    "uber_data = uber.get_group('Uber')\n",
    "uber_data = uber_data.drop('cab_type', axis=1)\n",
    "uber_data.reset_index(inplace=True)\n",
    "uber_data = uber_data.drop('index', axis=1)\n",
    "uber_data.head(3)"
   ]
  },
  {
   "cell_type": "markdown",
   "id": "I5LbTB5i62aN",
   "metadata": {
    "id": "I5LbTB5i62aN"
   },
   "source": [
    "Membuat data baru dengan melakukan grouping data berdasarkan cab_type 'Uber', dan melakukan reset index agar dataframe lebih rapi"
   ]
  },
  {
   "cell_type": "code",
   "execution_count": 29,
   "id": "2MGvySZf4HyU",
   "metadata": {
    "id": "2MGvySZf4HyU"
   },
   "outputs": [],
   "source": [
    "uber_data = pd.get_dummies(uber_data, columns=['cab_descr', 'weather'])"
   ]
  },
  {
   "cell_type": "code",
   "execution_count": 30,
   "id": "T7PYJUaC4zQy",
   "metadata": {
    "colab": {
     "base_uri": "https://localhost:8080/",
     "height": 0
    },
    "id": "T7PYJUaC4zQy",
    "outputId": "703fce00-9c54-4069-b9f2-9edd43c6b7f2"
   },
   "outputs": [
    {
     "data": {
      "text/html": [
       "<div>\n",
       "<style scoped>\n",
       "    .dataframe tbody tr th:only-of-type {\n",
       "        vertical-align: middle;\n",
       "    }\n",
       "\n",
       "    .dataframe tbody tr th {\n",
       "        vertical-align: top;\n",
       "    }\n",
       "\n",
       "    .dataframe thead th {\n",
       "        text-align: right;\n",
       "    }\n",
       "</style>\n",
       "<table border=\"1\" class=\"dataframe\">\n",
       "  <thead>\n",
       "    <tr style=\"text-align: right;\">\n",
       "      <th></th>\n",
       "      <th>price</th>\n",
       "      <th>distance</th>\n",
       "      <th>surge_multiplier</th>\n",
       "      <th>cab_descr_Black</th>\n",
       "      <th>cab_descr_Black SUV</th>\n",
       "      <th>cab_descr_UberPool</th>\n",
       "      <th>cab_descr_UberX</th>\n",
       "      <th>cab_descr_UberXL</th>\n",
       "      <th>cab_descr_WAV</th>\n",
       "      <th>weather_ Clear</th>\n",
       "      <th>weather_ Drizzle</th>\n",
       "      <th>weather_ Foggy</th>\n",
       "      <th>weather_ Light Rain</th>\n",
       "      <th>weather_ Mostly Cloudy</th>\n",
       "      <th>weather_ Overcast</th>\n",
       "      <th>weather_ Partly Cloudy</th>\n",
       "      <th>weather_ Possible Drizzle</th>\n",
       "      <th>weather_ Rain</th>\n",
       "    </tr>\n",
       "  </thead>\n",
       "  <tbody>\n",
       "    <tr>\n",
       "      <th>0</th>\n",
       "      <td>12.0</td>\n",
       "      <td>1.11</td>\n",
       "      <td>1.0</td>\n",
       "      <td>0</td>\n",
       "      <td>0</td>\n",
       "      <td>0</td>\n",
       "      <td>0</td>\n",
       "      <td>1</td>\n",
       "      <td>0</td>\n",
       "      <td>0</td>\n",
       "      <td>0</td>\n",
       "      <td>0</td>\n",
       "      <td>0</td>\n",
       "      <td>0</td>\n",
       "      <td>1</td>\n",
       "      <td>0</td>\n",
       "      <td>0</td>\n",
       "      <td>0</td>\n",
       "    </tr>\n",
       "    <tr>\n",
       "      <th>1</th>\n",
       "      <td>16.0</td>\n",
       "      <td>1.11</td>\n",
       "      <td>1.0</td>\n",
       "      <td>1</td>\n",
       "      <td>0</td>\n",
       "      <td>0</td>\n",
       "      <td>0</td>\n",
       "      <td>0</td>\n",
       "      <td>0</td>\n",
       "      <td>1</td>\n",
       "      <td>0</td>\n",
       "      <td>0</td>\n",
       "      <td>0</td>\n",
       "      <td>0</td>\n",
       "      <td>0</td>\n",
       "      <td>0</td>\n",
       "      <td>0</td>\n",
       "      <td>0</td>\n",
       "    </tr>\n",
       "    <tr>\n",
       "      <th>2</th>\n",
       "      <td>7.5</td>\n",
       "      <td>1.11</td>\n",
       "      <td>1.0</td>\n",
       "      <td>0</td>\n",
       "      <td>0</td>\n",
       "      <td>0</td>\n",
       "      <td>1</td>\n",
       "      <td>0</td>\n",
       "      <td>0</td>\n",
       "      <td>0</td>\n",
       "      <td>0</td>\n",
       "      <td>0</td>\n",
       "      <td>0</td>\n",
       "      <td>1</td>\n",
       "      <td>0</td>\n",
       "      <td>0</td>\n",
       "      <td>0</td>\n",
       "      <td>0</td>\n",
       "    </tr>\n",
       "  </tbody>\n",
       "</table>\n",
       "</div>"
      ],
      "text/plain": [
       "   price  distance  surge_multiplier  cab_descr_Black  cab_descr_Black SUV  \\\n",
       "0   12.0      1.11               1.0                0                    0   \n",
       "1   16.0      1.11               1.0                1                    0   \n",
       "2    7.5      1.11               1.0                0                    0   \n",
       "\n",
       "   cab_descr_UberPool  cab_descr_UberX  cab_descr_UberXL  cab_descr_WAV  \\\n",
       "0                   0                0                 1              0   \n",
       "1                   0                0                 0              0   \n",
       "2                   0                1                 0              0   \n",
       "\n",
       "   weather_ Clear   weather_ Drizzle   weather_ Foggy   weather_ Light Rain   \\\n",
       "0                0                  0                0                     0   \n",
       "1                1                  0                0                     0   \n",
       "2                0                  0                0                     0   \n",
       "\n",
       "   weather_ Mostly Cloudy   weather_ Overcast   weather_ Partly Cloudy   \\\n",
       "0                        0                   1                        0   \n",
       "1                        0                   0                        0   \n",
       "2                        1                   0                        0   \n",
       "\n",
       "   weather_ Possible Drizzle   weather_ Rain   \n",
       "0                           0               0  \n",
       "1                           0               0  \n",
       "2                           0               0  "
      ]
     },
     "execution_count": 30,
     "metadata": {},
     "output_type": "execute_result"
    }
   ],
   "source": [
    "uber_data.head(3)"
   ]
  },
  {
   "cell_type": "markdown",
   "id": "KnB7j-wJ7FxT",
   "metadata": {
    "id": "KnB7j-wJ7FxT"
   },
   "source": [
    "Tidak lupa juga dilakukan encoding data pada atribut bertipe object/categorical agar nantinya dapat diproses dengan algoritma linear regression"
   ]
  },
  {
   "cell_type": "markdown",
   "id": "YtK2xJg5ZS3q",
   "metadata": {
    "id": "YtK2xJg5ZS3q"
   },
   "source": [
    "### Define Uber model"
   ]
  },
  {
   "cell_type": "markdown",
   "id": "TSJR8ZBfCsQK",
   "metadata": {
    "id": "TSJR8ZBfCsQK"
   },
   "source": [
    "Didefinisikan x dan y dengan data uber yang diperoleh, kemudian kita pisahkan sebanyak 70% untuk ditraining dan 30% untuk ditest, dengan random state = 100"
   ]
  },
  {
   "cell_type": "code",
   "execution_count": 31,
   "id": "ceju9uvxZV4Q",
   "metadata": {
    "id": "ceju9uvxZV4Q"
   },
   "outputs": [],
   "source": [
    "x_uber = uber_data.drop(['price', 'surge_multiplier'], axis=1) ## data feature\n",
    "y_uber = uber_data['price'] ## data target"
   ]
  },
  {
   "cell_type": "code",
   "execution_count": 32,
   "id": "MJJIAZOFZoh3",
   "metadata": {
    "id": "MJJIAZOFZoh3"
   },
   "outputs": [],
   "source": [
    "# Splitting X dan y menjadi data training dan data testing\n",
    "x_train_uber, x_test_uber, y_train_uber, y_test_uber = train_test_split(x_uber, y_uber, test_size=0.3, random_state=100)"
   ]
  },
  {
   "cell_type": "markdown",
   "id": "yij4u6lgZ38D",
   "metadata": {
    "id": "yij4u6lgZ38D"
   },
   "source": [
    "### Melatih model"
   ]
  },
  {
   "cell_type": "markdown",
   "id": "9Qm1ezUZC-8B",
   "metadata": {
    "id": "9Qm1ezUZC-8B"
   },
   "source": [
    "Kemudian, datanya diolah seperti di bawah ini"
   ]
  },
  {
   "cell_type": "code",
   "execution_count": 33,
   "id": "6s-7APauZ3W8",
   "metadata": {
    "id": "6s-7APauZ3W8"
   },
   "outputs": [],
   "source": [
    "model_uber = linreg.fit(x_train_uber, y_train_uber)\n",
    "y_pred_train_uber = linreg.predict(x_train_uber.values)\n",
    "y_pred_uber = linreg.predict(x_test_uber.values)"
   ]
  },
  {
   "cell_type": "code",
   "execution_count": 34,
   "id": "Na-gKtyvap_2",
   "metadata": {
    "colab": {
     "base_uri": "https://localhost:8080/"
    },
    "id": "Na-gKtyvap_2",
    "outputId": "df156ceb-f97e-4611-9745-9f56c212fe70"
   },
   "outputs": [
    {
     "name": "stdout",
     "output_type": "stream",
     "text": [
      "                            Coefficients\n",
      "distance                    2.438922e+00\n",
      "cab_descr_Black             7.408871e+10\n",
      "cab_descr_Black SUV         7.408871e+10\n",
      "cab_descr_UberPool          7.408871e+10\n",
      "cab_descr_UberX             7.408871e+10\n",
      "cab_descr_UberXL            7.408871e+10\n",
      "cab_descr_WAV               7.408871e+10\n",
      "weather_ Clear              1.574273e+10\n",
      "weather_ Drizzle            1.574273e+10\n",
      "weather_ Foggy              1.574273e+10\n",
      "weather_ Light Rain         1.574273e+10\n",
      "weather_ Mostly Cloudy      1.574273e+10\n",
      "weather_ Overcast           1.574273e+10\n",
      "weather_ Partly Cloudy      1.574273e+10\n",
      "weather_ Possible Drizzle   1.574273e+10\n",
      "weather_ Rain               1.574273e+10\n"
     ]
    }
   ],
   "source": [
    "print(pd.DataFrame(model_uber.coef_, x_uber.columns, columns=['Coefficients']))"
   ]
  },
  {
   "cell_type": "code",
   "execution_count": 35,
   "id": "E_zJcT9cbQn_",
   "metadata": {
    "colab": {
     "base_uri": "https://localhost:8080/"
    },
    "id": "E_zJcT9cbQn_",
    "outputId": "9e726890-a8a9-47d3-9c36-141ca2046dff"
   },
   "outputs": [
    {
     "name": "stdout",
     "output_type": "stream",
     "text": [
      "intercept : -89831436449.63153\n"
     ]
    }
   ],
   "source": [
    "print(f'intercept : {model_uber.intercept_}')"
   ]
  },
  {
   "cell_type": "markdown",
   "id": "lhA3JYd8bdMH",
   "metadata": {
    "id": "lhA3JYd8bdMH"
   },
   "source": [
    "### Evaluasi performa uber model"
   ]
  },
  {
   "cell_type": "markdown",
   "id": "-hZO8M-RDcwC",
   "metadata": {
    "id": "-hZO8M-RDcwC"
   },
   "source": [
    "Setelah diolah, kita evaluasi performa datanya dengan menggunakan r2_score, mean_absolute_error, dan mean_squared_error"
   ]
  },
  {
   "cell_type": "code",
   "execution_count": 36,
   "id": "wcfMKvOAbkhT",
   "metadata": {
    "colab": {
     "base_uri": "https://localhost:8080/"
    },
    "id": "wcfMKvOAbkhT",
    "outputId": "e94be30a-d4cd-40d2-946b-f6a0fe25667b"
   },
   "outputs": [
    {
     "data": {
      "text/plain": [
       "0.9187311353499517"
      ]
     },
     "execution_count": 36,
     "metadata": {},
     "output_type": "execute_result"
    }
   ],
   "source": [
    "r2_score(y_test_uber, y_pred_uber)"
   ]
  },
  {
   "cell_type": "code",
   "execution_count": 37,
   "id": "5BvPb9Hub35u",
   "metadata": {
    "colab": {
     "base_uri": "https://localhost:8080/"
    },
    "id": "5BvPb9Hub35u",
    "outputId": "62a1deef-2d35-4f44-f5ec-6b47fbc36eff"
   },
   "outputs": [
    {
     "data": {
      "text/plain": [
       "0.9202442382082808"
      ]
     },
     "execution_count": 37,
     "metadata": {},
     "output_type": "execute_result"
    }
   ],
   "source": [
    "r2_score(y_train_uber, y_pred_train_uber)"
   ]
  },
  {
   "cell_type": "code",
   "execution_count": 38,
   "id": "MdmtDSpFch7e",
   "metadata": {
    "colab": {
     "base_uri": "https://localhost:8080/"
    },
    "id": "MdmtDSpFch7e",
    "outputId": "cb64c199-ebf4-4d9b-d74e-46d0ccae6a04"
   },
   "outputs": [
    {
     "name": "stdout",
     "output_type": "stream",
     "text": [
      "Mean Absolute Error = 1.6763322112061922\n",
      "Mean Squared Error = 5.988669549307618\n",
      "Root Mean Squared Error = 2.4471758313017924\n"
     ]
    }
   ],
   "source": [
    "mae_uber = mean_absolute_error(y_test_uber, y_pred_uber)\n",
    "mse_uber = mean_squared_error(y_test_uber, y_pred_uber)\n",
    "rmse_uber = mean_squared_error(y_test_uber, y_pred_uber, squared=False)\n",
    "\n",
    "print(f'Mean Absolute Error = {mae_uber}\\nMean Squared Error = {mse_uber}\\nRoot Mean Squared Error = {rmse_uber}')"
   ]
  },
  {
   "cell_type": "markdown",
   "id": "pcNnuyvA2vyb",
   "metadata": {
    "id": "pcNnuyvA2vyb"
   },
   "source": [
    "Dapat dilihat pada hasil diatas bahwa **Uber model** yang kita miliki didapatkan nilai r2 score 0.9187326556983357 atau 91.8% pada data test dan 0.9202445659687375 atau 92% pada data train. Selain itu, MAE menunjukkan 1.67% dan RMSE menunjukkan 2.45% yang berarti model data kita memiliki nilai data hasil prediksi dekat dengan nilai aktual."
   ]
  },
  {
   "cell_type": "markdown",
   "id": "wOzrfRUEYz5W",
   "metadata": {
    "id": "wOzrfRUEYz5W"
   },
   "source": [
    "## Lyft Model"
   ]
  },
  {
   "cell_type": "markdown",
   "id": "Xzq741CQn_4N",
   "metadata": {
    "id": "Xzq741CQn_4N"
   },
   "source": [
    "### Membuat data yang mengelompokkan berdasarkan cab_type 'Lyft'"
   ]
  },
  {
   "cell_type": "code",
   "execution_count": 39,
   "id": "l30Me7qO5HMv",
   "metadata": {
    "colab": {
     "base_uri": "https://localhost:8080/",
     "height": 0
    },
    "id": "l30Me7qO5HMv",
    "outputId": "bb17b6de-8b27-4ff9-ca2b-b37d8cb269b8"
   },
   "outputs": [
    {
     "data": {
      "text/html": [
       "<div>\n",
       "<style scoped>\n",
       "    .dataframe tbody tr th:only-of-type {\n",
       "        vertical-align: middle;\n",
       "    }\n",
       "\n",
       "    .dataframe tbody tr th {\n",
       "        vertical-align: top;\n",
       "    }\n",
       "\n",
       "    .dataframe thead th {\n",
       "        text-align: right;\n",
       "    }\n",
       "</style>\n",
       "<table border=\"1\" class=\"dataframe\">\n",
       "  <thead>\n",
       "    <tr style=\"text-align: right;\">\n",
       "      <th></th>\n",
       "      <th>cab_descr</th>\n",
       "      <th>price</th>\n",
       "      <th>distance</th>\n",
       "      <th>surge_multiplier</th>\n",
       "      <th>weather</th>\n",
       "    </tr>\n",
       "  </thead>\n",
       "  <tbody>\n",
       "    <tr>\n",
       "      <th>0</th>\n",
       "      <td>Shared</td>\n",
       "      <td>5.0</td>\n",
       "      <td>0.44</td>\n",
       "      <td>1.0</td>\n",
       "      <td>Mostly Cloudy</td>\n",
       "    </tr>\n",
       "    <tr>\n",
       "      <th>1</th>\n",
       "      <td>Lux</td>\n",
       "      <td>11.0</td>\n",
       "      <td>0.44</td>\n",
       "      <td>1.0</td>\n",
       "      <td>Rain</td>\n",
       "    </tr>\n",
       "    <tr>\n",
       "      <th>2</th>\n",
       "      <td>Lyft</td>\n",
       "      <td>7.0</td>\n",
       "      <td>0.44</td>\n",
       "      <td>1.0</td>\n",
       "      <td>Clear</td>\n",
       "    </tr>\n",
       "  </tbody>\n",
       "</table>\n",
       "</div>"
      ],
      "text/plain": [
       "  cab_descr  price  distance  surge_multiplier          weather\n",
       "0    Shared    5.0      0.44               1.0   Mostly Cloudy \n",
       "1       Lux   11.0      0.44               1.0            Rain \n",
       "2      Lyft    7.0      0.44               1.0           Clear "
      ]
     },
     "execution_count": 39,
     "metadata": {},
     "output_type": "execute_result"
    }
   ],
   "source": [
    "lyft = new_data.copy()\n",
    "lyft = lyft.groupby('cab_type')\n",
    "lyft_data = lyft.get_group('Lyft')\n",
    "lyft_data = lyft_data.drop('cab_type', axis=1)\n",
    "lyft_data.reset_index(inplace=True)\n",
    "lyft_data = lyft_data.drop('index', axis=1)\n",
    "lyft_data.head(3)"
   ]
  },
  {
   "cell_type": "markdown",
   "id": "h7WMaVw-9OJZ",
   "metadata": {
    "id": "h7WMaVw-9OJZ"
   },
   "source": [
    "Membuat data baru dengan melakukan grouping data berdasarkan cab_type 'Lyft', dan melakukan reset index agar dataframe lebih rapi"
   ]
  },
  {
   "cell_type": "code",
   "execution_count": 40,
   "id": "A6vMcPGt5gar",
   "metadata": {
    "id": "A6vMcPGt5gar"
   },
   "outputs": [],
   "source": [
    "lyft_data = pd.get_dummies(lyft_data, columns=['cab_descr', 'weather'])"
   ]
  },
  {
   "cell_type": "code",
   "execution_count": 41,
   "id": "no0zNW9j5mIl",
   "metadata": {
    "colab": {
     "base_uri": "https://localhost:8080/",
     "height": 0
    },
    "id": "no0zNW9j5mIl",
    "outputId": "85e8d8c8-8f46-48b1-85f8-2845ce4be409"
   },
   "outputs": [
    {
     "data": {
      "text/html": [
       "<div>\n",
       "<style scoped>\n",
       "    .dataframe tbody tr th:only-of-type {\n",
       "        vertical-align: middle;\n",
       "    }\n",
       "\n",
       "    .dataframe tbody tr th {\n",
       "        vertical-align: top;\n",
       "    }\n",
       "\n",
       "    .dataframe thead th {\n",
       "        text-align: right;\n",
       "    }\n",
       "</style>\n",
       "<table border=\"1\" class=\"dataframe\">\n",
       "  <thead>\n",
       "    <tr style=\"text-align: right;\">\n",
       "      <th></th>\n",
       "      <th>price</th>\n",
       "      <th>distance</th>\n",
       "      <th>surge_multiplier</th>\n",
       "      <th>cab_descr_Lux</th>\n",
       "      <th>cab_descr_Lux Black</th>\n",
       "      <th>cab_descr_Lux Black XL</th>\n",
       "      <th>cab_descr_Lyft</th>\n",
       "      <th>cab_descr_Lyft XL</th>\n",
       "      <th>cab_descr_Shared</th>\n",
       "      <th>weather_ Clear</th>\n",
       "      <th>weather_ Drizzle</th>\n",
       "      <th>weather_ Foggy</th>\n",
       "      <th>weather_ Light Rain</th>\n",
       "      <th>weather_ Mostly Cloudy</th>\n",
       "      <th>weather_ Overcast</th>\n",
       "      <th>weather_ Partly Cloudy</th>\n",
       "      <th>weather_ Possible Drizzle</th>\n",
       "      <th>weather_ Rain</th>\n",
       "    </tr>\n",
       "  </thead>\n",
       "  <tbody>\n",
       "    <tr>\n",
       "      <th>0</th>\n",
       "      <td>5.0</td>\n",
       "      <td>0.44</td>\n",
       "      <td>1.0</td>\n",
       "      <td>0</td>\n",
       "      <td>0</td>\n",
       "      <td>0</td>\n",
       "      <td>0</td>\n",
       "      <td>0</td>\n",
       "      <td>1</td>\n",
       "      <td>0</td>\n",
       "      <td>0</td>\n",
       "      <td>0</td>\n",
       "      <td>0</td>\n",
       "      <td>1</td>\n",
       "      <td>0</td>\n",
       "      <td>0</td>\n",
       "      <td>0</td>\n",
       "      <td>0</td>\n",
       "    </tr>\n",
       "    <tr>\n",
       "      <th>1</th>\n",
       "      <td>11.0</td>\n",
       "      <td>0.44</td>\n",
       "      <td>1.0</td>\n",
       "      <td>1</td>\n",
       "      <td>0</td>\n",
       "      <td>0</td>\n",
       "      <td>0</td>\n",
       "      <td>0</td>\n",
       "      <td>0</td>\n",
       "      <td>0</td>\n",
       "      <td>0</td>\n",
       "      <td>0</td>\n",
       "      <td>0</td>\n",
       "      <td>0</td>\n",
       "      <td>0</td>\n",
       "      <td>0</td>\n",
       "      <td>0</td>\n",
       "      <td>1</td>\n",
       "    </tr>\n",
       "    <tr>\n",
       "      <th>2</th>\n",
       "      <td>7.0</td>\n",
       "      <td>0.44</td>\n",
       "      <td>1.0</td>\n",
       "      <td>0</td>\n",
       "      <td>0</td>\n",
       "      <td>0</td>\n",
       "      <td>1</td>\n",
       "      <td>0</td>\n",
       "      <td>0</td>\n",
       "      <td>1</td>\n",
       "      <td>0</td>\n",
       "      <td>0</td>\n",
       "      <td>0</td>\n",
       "      <td>0</td>\n",
       "      <td>0</td>\n",
       "      <td>0</td>\n",
       "      <td>0</td>\n",
       "      <td>0</td>\n",
       "    </tr>\n",
       "  </tbody>\n",
       "</table>\n",
       "</div>"
      ],
      "text/plain": [
       "   price  distance  surge_multiplier  cab_descr_Lux  cab_descr_Lux Black  \\\n",
       "0    5.0      0.44               1.0              0                    0   \n",
       "1   11.0      0.44               1.0              1                    0   \n",
       "2    7.0      0.44               1.0              0                    0   \n",
       "\n",
       "   cab_descr_Lux Black XL  cab_descr_Lyft  cab_descr_Lyft XL  \\\n",
       "0                       0               0                  0   \n",
       "1                       0               0                  0   \n",
       "2                       0               1                  0   \n",
       "\n",
       "   cab_descr_Shared  weather_ Clear   weather_ Drizzle   weather_ Foggy   \\\n",
       "0                 1                0                  0                0   \n",
       "1                 0                0                  0                0   \n",
       "2                 0                1                  0                0   \n",
       "\n",
       "   weather_ Light Rain   weather_ Mostly Cloudy   weather_ Overcast   \\\n",
       "0                     0                        1                   0   \n",
       "1                     0                        0                   0   \n",
       "2                     0                        0                   0   \n",
       "\n",
       "   weather_ Partly Cloudy   weather_ Possible Drizzle   weather_ Rain   \n",
       "0                        0                           0               0  \n",
       "1                        0                           0               1  \n",
       "2                        0                           0               0  "
      ]
     },
     "execution_count": 41,
     "metadata": {},
     "output_type": "execute_result"
    }
   ],
   "source": [
    "lyft_data.head(3)"
   ]
  },
  {
   "cell_type": "markdown",
   "id": "67nOFacB9SXP",
   "metadata": {
    "id": "67nOFacB9SXP"
   },
   "source": [
    "Tidak lupa juga dilakukan encoding data pada atribut bertipe object/categorical agar nantinya dapat diproses dengan algoritma linear regression"
   ]
  },
  {
   "cell_type": "markdown",
   "id": "xmyO__1LeNxd",
   "metadata": {
    "id": "xmyO__1LeNxd"
   },
   "source": [
    "### Define Lyft model"
   ]
  },
  {
   "cell_type": "markdown",
   "id": "bUclXugJEZN7",
   "metadata": {
    "id": "bUclXugJEZN7"
   },
   "source": [
    "Setelah dikelompokkan, akan kita definisikan data lyft x dan y seperti di bawah ini"
   ]
  },
  {
   "cell_type": "code",
   "execution_count": 42,
   "id": "vohhTJPwen9U",
   "metadata": {
    "id": "vohhTJPwen9U"
   },
   "outputs": [],
   "source": [
    "x_lyft = lyft_data.drop(['price', 'surge_multiplier'], axis=1) ## data feature\n",
    "y_lyft = lyft_data['price'] ## data target"
   ]
  },
  {
   "cell_type": "markdown",
   "id": "cA66wIoTEilL",
   "metadata": {
    "id": "cA66wIoTEilL"
   },
   "source": [
    "Setelah didefinisikan, data lyft x dan y dipisah sebanyak 70% untuk ditraining, 30% untuk ditest, dan random state = 100"
   ]
  },
  {
   "cell_type": "code",
   "execution_count": 43,
   "id": "lo5GXWDEe2Dw",
   "metadata": {
    "id": "lo5GXWDEe2Dw"
   },
   "outputs": [],
   "source": [
    "# Splitting X dan y menjadi data training dan data testing\n",
    "x_train_lyft, x_test_lyft, y_train_lyft, y_test_lyft = train_test_split(x_lyft, y_lyft, test_size=0.3, random_state=100)"
   ]
  },
  {
   "cell_type": "markdown",
   "id": "WP3Fh20SfChL",
   "metadata": {
    "id": "WP3Fh20SfChL"
   },
   "source": [
    "### Melatih model"
   ]
  },
  {
   "cell_type": "markdown",
   "id": "n9wfDlhDEOWM",
   "metadata": {
    "id": "n9wfDlhDEOWM"
   },
   "source": [
    "Setelah data lyft didefinisikan, akan diolah data tersebut menggunakan .fit() dan .predict() seperti di bawah ini"
   ]
  },
  {
   "cell_type": "code",
   "execution_count": 44,
   "id": "e9w7GgKifFCp",
   "metadata": {
    "id": "e9w7GgKifFCp"
   },
   "outputs": [],
   "source": [
    "model_lyft = linreg.fit(x_train_lyft, y_train_lyft)\n",
    "y_pred_train_lyft = linreg.predict(x_train_lyft.values)\n",
    "y_pred_lyft = linreg.predict(x_test_lyft.values)"
   ]
  },
  {
   "cell_type": "code",
   "execution_count": 45,
   "id": "JE4K7_oVfsrl",
   "metadata": {
    "colab": {
     "base_uri": "https://localhost:8080/"
    },
    "id": "JE4K7_oVfsrl",
    "outputId": "720bf2af-b5ee-4d04-8b29-fbe9ad32a701"
   },
   "outputs": [
    {
     "name": "stdout",
     "output_type": "stream",
     "text": [
      "                            Coefficients\n",
      "distance                    3.324509e+00\n",
      "cab_descr_Lux               7.737743e+10\n",
      "cab_descr_Lux Black         7.737743e+10\n",
      "cab_descr_Lux Black XL      7.737743e+10\n",
      "cab_descr_Lyft              7.737743e+10\n",
      "cab_descr_Lyft XL           7.737743e+10\n",
      "cab_descr_Shared            7.737743e+10\n",
      "weather_ Clear              1.291161e+11\n",
      "weather_ Drizzle            1.291161e+11\n",
      "weather_ Foggy              1.291161e+11\n",
      "weather_ Light Rain         1.291161e+11\n",
      "weather_ Mostly Cloudy      1.291161e+11\n",
      "weather_ Overcast           1.291161e+11\n",
      "weather_ Partly Cloudy      1.291161e+11\n",
      "weather_ Possible Drizzle   1.291161e+11\n",
      "weather_ Rain               1.291161e+11\n"
     ]
    }
   ],
   "source": [
    "print(pd.DataFrame(model_lyft.coef_, x_lyft.columns, columns=['Coefficients']))"
   ]
  },
  {
   "cell_type": "code",
   "execution_count": 46,
   "id": "L8lJg4c5f-5O",
   "metadata": {
    "colab": {
     "base_uri": "https://localhost:8080/"
    },
    "id": "L8lJg4c5f-5O",
    "outputId": "a068a20e-6f2d-4ac5-e0ca-0b1da7352bc0"
   },
   "outputs": [
    {
     "name": "stdout",
     "output_type": "stream",
     "text": [
      "intercept : -206493560878.9992\n"
     ]
    }
   ],
   "source": [
    "print(f'intercept : {model_lyft.intercept_}')"
   ]
  },
  {
   "cell_type": "markdown",
   "id": "5H886oOvkTGW",
   "metadata": {
    "id": "5H886oOvkTGW"
   },
   "source": [
    "### Evaluasi performa Lyft model"
   ]
  },
  {
   "cell_type": "markdown",
   "id": "aSOVWp5pFck-",
   "metadata": {
    "id": "aSOVWp5pFck-"
   },
   "source": [
    "Setelah diolah, data tersebut dievaluasi dengan mengecek r2_score, mean absolute error dan mean squared error"
   ]
  },
  {
   "cell_type": "code",
   "execution_count": 47,
   "id": "Zs4Rc2HdkXJs",
   "metadata": {
    "colab": {
     "base_uri": "https://localhost:8080/"
    },
    "id": "Zs4Rc2HdkXJs",
    "outputId": "5112bf45-2344-41b0-f44e-bb4bf78715f9"
   },
   "outputs": [
    {
     "data": {
      "text/plain": [
       "0.8751975402087669"
      ]
     },
     "execution_count": 47,
     "metadata": {},
     "output_type": "execute_result"
    }
   ],
   "source": [
    "r2_score(y_test_lyft, y_pred_lyft)"
   ]
  },
  {
   "cell_type": "code",
   "execution_count": 48,
   "id": "IQ9G5BkPkiQh",
   "metadata": {
    "colab": {
     "base_uri": "https://localhost:8080/"
    },
    "id": "IQ9G5BkPkiQh",
    "outputId": "b2371c16-0796-4a39-db3f-63c64715636e"
   },
   "outputs": [
    {
     "data": {
      "text/plain": [
       "0.877209993903623"
      ]
     },
     "execution_count": 48,
     "metadata": {},
     "output_type": "execute_result"
    }
   ],
   "source": [
    "r2_score(y_train_lyft, y_pred_train_lyft)"
   ]
  },
  {
   "cell_type": "code",
   "execution_count": 49,
   "id": "KNTZKEttlFRI",
   "metadata": {
    "colab": {
     "base_uri": "https://localhost:8080/"
    },
    "id": "KNTZKEttlFRI",
    "outputId": "fb3039ca-f17a-4f9b-bb74-30b7c8ba43d2"
   },
   "outputs": [
    {
     "name": "stdout",
     "output_type": "stream",
     "text": [
      "Mean Absolute Error = 2.1913403132752314\n",
      "Mean Squared Error = 12.609996092969363\n",
      "Root Mean Squared Error = 3.5510556307905627\n"
     ]
    }
   ],
   "source": [
    "mae_lyft = mean_absolute_error(y_test_lyft, y_pred_lyft)\n",
    "mse_lyft = mean_squared_error(y_test_lyft, y_pred_lyft)\n",
    "rmse_lyft = mean_squared_error(y_test_lyft, y_pred_lyft, squared=False)\n",
    "\n",
    "print(f'Mean Absolute Error = {mae_lyft}\\nMean Squared Error = {mse_lyft}\\nRoot Mean Squared Error = {rmse_lyft}')"
   ]
  },
  {
   "cell_type": "markdown",
   "id": "olOQWCcW34qJ",
   "metadata": {
    "id": "olOQWCcW34qJ"
   },
   "source": [
    "Dapat dilihat pada hasil diatas bahwa **Lyft model** yang kita miliki didapatkan nilai r2 score 0.87519754020876695 atau 87.51% pada data test dan 0.877209993903623 atau 87.72% pada data train. Selain itu, MAE menunjukkan 2.19% dan RMSE menunjukkan 3.55% yang berarti model data kita memiliki nilai data hasil prediksi dekat dengan nilai aktual."
   ]
  },
  {
   "cell_type": "markdown",
   "id": "tOxUwPH7lgVi",
   "metadata": {
    "id": "tOxUwPH7lgVi"
   },
   "source": [
    "# Data Cleaning (stage 2)"
   ]
  },
  {
   "cell_type": "markdown",
   "id": "ptCm-2iOlXfC",
   "metadata": {
    "id": "ptCm-2iOlXfC"
   },
   "source": [
    "## Handling Outliers"
   ]
  },
  {
   "cell_type": "markdown",
   "id": "6ITXGJFWyEql",
   "metadata": {
    "id": "6ITXGJFWyEql"
   },
   "source": [
    "Cek apakah ada outlier pada kolom price"
   ]
  },
  {
   "cell_type": "code",
   "execution_count": 50,
   "id": "wKFAsZCTrvZK",
   "metadata": {
    "colab": {
     "base_uri": "https://localhost:8080/",
     "height": 0
    },
    "id": "wKFAsZCTrvZK",
    "outputId": "190c7246-33f5-484c-82ec-0d58ff539c18",
    "scrolled": true
   },
   "outputs": [
    {
     "data": {
      "text/plain": [
       "<AxesSubplot:xlabel='price'>"
      ]
     },
     "execution_count": 50,
     "metadata": {},
     "output_type": "execute_result"
    },
    {
     "data": {
      "image/png": "[encoded data removed]",
      "text/plain": [
       "<Figure size 432x288 with 1 Axes>"
      ]
     },
     "metadata": {
      "needs_background": "light"
     },
     "output_type": "display_data"
    }
   ],
   "source": [
    "sb.boxplot(base_data['price'])"
   ]
  },
  {
   "cell_type": "code",
   "execution_count": 51,
   "id": "p8mUVm6jm5WK",
   "metadata": {
    "colab": {
     "base_uri": "https://localhost:8080/",
     "height": 0
    },
    "id": "p8mUVm6jm5WK",
    "outputId": "c81b09fd-96ff-43b6-d432-3cc39427bb89"
   },
   "outputs": [
    {
     "data": {
      "text/plain": [
       "<AxesSubplot:xlabel='price'>"
      ]
     },
     "execution_count": 51,
     "metadata": {},
     "output_type": "execute_result"
    },
    {
     "data": {
      "image/png": "[encoded data removed]",
      "text/plain": [
       "<Figure size 432x288 with 1 Axes>"
      ]
     },
     "metadata": {
      "needs_background": "light"
     },
     "output_type": "display_data"
    }
   ],
   "source": [
    "sb.boxplot(uber_data['price'])"
   ]
  },
  {
   "cell_type": "code",
   "execution_count": 52,
   "id": "wQ-arMlEm_pm",
   "metadata": {
    "colab": {
     "base_uri": "https://localhost:8080/",
     "height": 0
    },
    "id": "wQ-arMlEm_pm",
    "outputId": "fa2e4ba0-61b8-4111-f767-9aad7258f4a9"
   },
   "outputs": [
    {
     "data": {
      "text/plain": [
       "<AxesSubplot:xlabel='price'>"
      ]
     },
     "execution_count": 52,
     "metadata": {},
     "output_type": "execute_result"
    },
    {
     "data": {
      "image/png": "[encoded data removed]",
      "text/plain": [
       "<Figure size 432x288 with 1 Axes>"
      ]
     },
     "metadata": {
      "needs_background": "light"
     },
     "output_type": "display_data"
    }
   ],
   "source": [
    "sb.boxplot(lyft_data['price'])"
   ]
  },
  {
   "cell_type": "markdown",
   "id": "fbPTheg6yLlD",
   "metadata": {
    "id": "fbPTheg6yLlD"
   },
   "source": [
    "Dari boxplot diatas dapat disimpulkan bahwa ada banyak outlier pada kolom price, maka kita akan melakukan handling outlier dengan cara mencari nilai upper_range dari Q3 nya. Maka dari itu kita cari terlebih darhulu Q1, Q2, Q3, baru kemudian kita cari lower_range dan upper_range nya."
   ]
  },
  {
   "cell_type": "code",
   "execution_count": 53,
   "id": "0XXAY71Enm4s",
   "metadata": {
    "id": "0XXAY71Enm4s"
   },
   "outputs": [],
   "source": [
    "## buat function untuk menghitung otomatis nilai batas atas dan batas bawah \n",
    "def batas_atas(df):\n",
    "  Q3 = np.quantile(df['price'], 0.75)\n",
    "  Q1 = np.quantile(df['price'], 0.25)\n",
    "  IQR = Q3 - Q1\n",
    "\n",
    "  lower_boundaries = Q1 - 1.5 * IQR\n",
    "  upper_boundaries = Q3 + 1.5 * IQR\n",
    "\n",
    "  print(f'lower boundaries = {lower_boundaries}')\n",
    "  print(f'upper boundaries = {upper_boundaries}')"
   ]
  },
  {
   "cell_type": "code",
   "execution_count": 54,
   "id": "v6zNyQL_0HSY",
   "metadata": {
    "colab": {
     "base_uri": "https://localhost:8080/"
    },
    "id": "v6zNyQL_0HSY",
    "outputId": "8bee65d2-340d-4d53-b450-8baa97dde227"
   },
   "outputs": [
    {
     "name": "stdout",
     "output_type": "stream",
     "text": [
      "base model :\n",
      "lower boundaries = -11.25\n",
      "upper boundaries = 42.75\n",
      "\n",
      "uber model :\n",
      "lower boundaries = -9.75\n",
      "upper boundaries = 40.25\n",
      "\n",
      "lyft model :\n",
      "lower boundaries = -11.25\n",
      "upper boundaries = 42.75\n"
     ]
    }
   ],
   "source": [
    "print('base model :')\n",
    "batas_atas(base_data)\n",
    "print('\\nuber model :')\n",
    "batas_atas(uber_data)\n",
    "print('\\nlyft model :')\n",
    "batas_atas(lyft_data)"
   ]
  },
  {
   "cell_type": "markdown",
   "id": "UH8AKk5Ey1AW",
   "metadata": {
    "id": "UH8AKk5Ey1AW"
   },
   "source": [
    "Dapat dilihat bahwa batas atas dari price yang ada pada base model dan lyft model berada di angka 42.75, sedangkan price pada uber modelberada pada 40.25, sehingga kita dapat melakukan handling outlier dengan cara impute atau mengganti nilai outlier dengan nilai upper boundaries karena outlier pada atribut price berada setelah upper boundaries, sehingga kita dapat menggunakan nilai 42.75 dan 40.25 sebagai pengganti value pada outlier yang ada."
   ]
  },
  {
   "cell_type": "code",
   "execution_count": 55,
   "id": "zuaglKH5GqQa",
   "metadata": {
    "id": "zuaglKH5GqQa"
   },
   "outputs": [],
   "source": [
    "def impute_outlier(df, upper_bound):\n",
    "  ## kode untuk mencetak outlier dan melihat jumlah outlier yang ada\n",
    "  outliers = np.where(df.price > upper_bound)\n",
    "  print(f'sum of outlier : {np.count_nonzero(df.price > upper_bound)}')\n",
    "  print(f'outlier : \\n{outliers[0]}\\n')\n",
    "\n",
    "  ## loading\n",
    "  proses='=============\\nProses membersihkan outliers '\n",
    "  loading='. . . .'\n",
    "  def message(proses, loading):\n",
    "    print(proses)\n",
    "    for i in loading:\n",
    "      print(i, end='')\n",
    "      time.sleep(0.5)\n",
    "  if __name__ == '__main__':\n",
    "    message(proses, loading)\n",
    "\n",
    "  ## kode untuk impute outlier\n",
    "  df.loc[df['price']>=upper_bound, 'price']=upper_bound\n",
    "  print('\\n\\n==============\\nOutlier berhasil di impute!')"
   ]
  },
  {
   "cell_type": "code",
   "execution_count": 56,
   "id": "hK32kztwHH7H",
   "metadata": {
    "colab": {
     "base_uri": "https://localhost:8080/"
    },
    "id": "hK32kztwHH7H",
    "outputId": "5baef12f-b374-40c2-c184-0ff12e5af17a"
   },
   "outputs": [
    {
     "name": "stdout",
     "output_type": "stream",
     "text": [
      "sum of outlier : 5589\n",
      "outlier : \n",
      "[   645    646    706 ... 637813 637878 637917]\n",
      "\n",
      "=============\n",
      "Proses membersihkan outliers \n",
      ". . . .\n",
      "\n",
      "==============\n",
      "Outlier berhasil di impute!\n"
     ]
    }
   ],
   "source": [
    "impute_outlier(base_data, upper_bound=42.75)"
   ]
  },
  {
   "cell_type": "markdown",
   "id": "KCsAd57t2vtM",
   "metadata": {
    "id": "KCsAd57t2vtM"
   },
   "source": [
    "Dapat dilihat bahwa jumlah outlier pada dataframe base_data berjumlah 5589, dan outlier tersebut sudah berhasil di impute."
   ]
  },
  {
   "cell_type": "code",
   "execution_count": 57,
   "id": "yoo2r6YIO3nJ",
   "metadata": {
    "colab": {
     "base_uri": "https://localhost:8080/"
    },
    "id": "yoo2r6YIO3nJ",
    "outputId": "0bb54944-839d-4007-d5a9-8822cec736c1",
    "scrolled": true
   },
   "outputs": [
    {
     "name": "stdout",
     "output_type": "stream",
     "text": [
      "sum of outlier : 3015\n",
      "outlier : \n",
      "[   298    965   1013 ... 330257 330506 330539]\n",
      "\n",
      "=============\n",
      "Proses membersihkan outliers \n",
      ". . . .\n",
      "\n",
      "==============\n",
      "Outlier berhasil di impute!\n"
     ]
    }
   ],
   "source": [
    "impute_outlier(uber_data, upper_bound=40.25)"
   ]
  },
  {
   "cell_type": "markdown",
   "id": "yTLYEbZFOZaN",
   "metadata": {
    "id": "yTLYEbZFOZaN"
   },
   "source": [
    "Dapat dilihat bahwa jumlah outlier pada dataframe base_data berjumlah 3015, dan outlier tersebut sudah berhasil di impute."
   ]
  },
  {
   "cell_type": "code",
   "execution_count": 58,
   "id": "hHm3nQrfPNm-",
   "metadata": {
    "colab": {
     "base_uri": "https://localhost:8080/"
    },
    "id": "hHm3nQrfPNm-",
    "outputId": "5ab5a727-60f8-4584-f6a3-9d9c327419ff",
    "scrolled": true
   },
   "outputs": [
    {
     "name": "stdout",
     "output_type": "stream",
     "text": [
      "sum of outlier : 4092\n",
      "outlier : \n",
      "[   289    290    338 ... 307096 307275 307347]\n",
      "\n",
      "=============\n",
      "Proses membersihkan outliers \n",
      ". . . .\n",
      "\n",
      "==============\n",
      "Outlier berhasil di impute!\n"
     ]
    }
   ],
   "source": [
    "impute_outlier(lyft_data, upper_bound=42.75)"
   ]
  },
  {
   "cell_type": "markdown",
   "id": "5IZSrfcQOfwS",
   "metadata": {
    "id": "5IZSrfcQOfwS"
   },
   "source": [
    "Dapat dilihat bahwa jumlah outlier pada dataframe base_data berjumlah 4092, dan outlier tersebut sudah berhasil di impute."
   ]
  },
  {
   "cell_type": "code",
   "execution_count": 59,
   "id": "tRlDmgra0XxU",
   "metadata": {
    "colab": {
     "base_uri": "https://localhost:8080/",
     "height": 0
    },
    "id": "tRlDmgra0XxU",
    "outputId": "c680e285-08e9-4e4a-ee56-eef1df71b43b",
    "scrolled": true
   },
   "outputs": [
    {
     "data": {
      "text/plain": [
       "<AxesSubplot:xlabel='price'>"
      ]
     },
     "execution_count": 59,
     "metadata": {},
     "output_type": "execute_result"
    },
    {
     "data": {
      "image/png": "[encoded data removed]",
      "text/plain": [
       "<Figure size 432x288 with 1 Axes>"
      ]
     },
     "metadata": {
      "needs_background": "light"
     },
     "output_type": "display_data"
    }
   ],
   "source": [
    "sb.boxplot(base_data['price'])"
   ]
  },
  {
   "cell_type": "code",
   "execution_count": 60,
   "id": "KIh_gYzVPYje",
   "metadata": {
    "colab": {
     "base_uri": "https://localhost:8080/",
     "height": 0
    },
    "id": "KIh_gYzVPYje",
    "outputId": "1cafe37a-07f0-49ad-a7a5-745830a7c801"
   },
   "outputs": [
    {
     "data": {
      "text/plain": [
       "<AxesSubplot:xlabel='price'>"
      ]
     },
     "execution_count": 60,
     "metadata": {},
     "output_type": "execute_result"
    },
    {
     "data": {
      "image/png": "[encoded data removed]",
      "text/plain": [
       "<Figure size 432x288 with 1 Axes>"
      ]
     },
     "metadata": {
      "needs_background": "light"
     },
     "output_type": "display_data"
    }
   ],
   "source": [
    "sb.boxplot(uber_data['price'])"
   ]
  },
  {
   "cell_type": "code",
   "execution_count": 61,
   "id": "jmDm0FxO8tWB",
   "metadata": {
    "colab": {
     "base_uri": "https://localhost:8080/",
     "height": 0
    },
    "id": "jmDm0FxO8tWB",
    "outputId": "74ed3ef9-49d3-4099-9681-2eca40439554"
   },
   "outputs": [
    {
     "data": {
      "text/plain": [
       "<AxesSubplot:xlabel='price'>"
      ]
     },
     "execution_count": 61,
     "metadata": {},
     "output_type": "execute_result"
    },
    {
     "data": {
      "image/png": "[encoded data removed]",
      "text/plain": [
       "<Figure size 432x288 with 1 Axes>"
      ]
     },
     "metadata": {
      "needs_background": "light"
     },
     "output_type": "display_data"
    }
   ],
   "source": [
    "sb.boxplot(lyft_data['price'])"
   ]
  },
  {
   "cell_type": "markdown",
   "id": "3xjuwMPoOjwr",
   "metadata": {
    "id": "3xjuwMPoOjwr"
   },
   "source": [
    "dapat dilihat bahwa outlier yang ada pada dataframe base_data, uber_data, dan lyft_data sudah tidak ada, atau lebih tepatnya nilai outlier yang ada sudah diganti dengan nilai upper boundaries"
   ]
  },
  {
   "cell_type": "markdown",
   "id": "Yan-PxbcQrKO",
   "metadata": {
    "id": "Yan-PxbcQrKO"
   },
   "source": [
    "# Data Preprocessing (stage 2)"
   ]
  },
  {
   "cell_type": "markdown",
   "id": "sQnD2ThjOHL2",
   "metadata": {
    "id": "sQnD2ThjOHL2"
   },
   "source": [
    "Data Preprocessing stage 2 adalah Data Preprocessing yang berisi data yang telah melewati proses handling outlier"
   ]
  },
  {
   "cell_type": "markdown",
   "id": "qE2o9CXBSJ07",
   "metadata": {
    "id": "qE2o9CXBSJ07"
   },
   "source": [
    "## Base model"
   ]
  },
  {
   "cell_type": "code",
   "execution_count": 62,
   "id": "T-VH89ZCSJMJ",
   "metadata": {
    "colab": {
     "base_uri": "https://localhost:8080/",
     "height": 0
    },
    "id": "T-VH89ZCSJMJ",
    "outputId": "3450bdb0-a927-464f-b3ab-a1edc5ce43bb",
    "scrolled": true
   },
   "outputs": [
    {
     "data": {
      "text/html": [
       "<div>\n",
       "<style scoped>\n",
       "    .dataframe tbody tr th:only-of-type {\n",
       "        vertical-align: middle;\n",
       "    }\n",
       "\n",
       "    .dataframe tbody tr th {\n",
       "        vertical-align: top;\n",
       "    }\n",
       "\n",
       "    .dataframe thead th {\n",
       "        text-align: right;\n",
       "    }\n",
       "</style>\n",
       "<table border=\"1\" class=\"dataframe\">\n",
       "  <thead>\n",
       "    <tr style=\"text-align: right;\">\n",
       "      <th></th>\n",
       "      <th>price</th>\n",
       "      <th>distance</th>\n",
       "      <th>surge_multiplier</th>\n",
       "      <th>cab_type_Lyft</th>\n",
       "      <th>cab_type_Uber</th>\n",
       "      <th>cab_descr_Black</th>\n",
       "      <th>cab_descr_Black SUV</th>\n",
       "      <th>cab_descr_Lux</th>\n",
       "      <th>cab_descr_Lux Black</th>\n",
       "      <th>cab_descr_Lux Black XL</th>\n",
       "      <th>cab_descr_Lyft</th>\n",
       "      <th>cab_descr_Lyft XL</th>\n",
       "      <th>cab_descr_Shared</th>\n",
       "      <th>cab_descr_UberPool</th>\n",
       "      <th>cab_descr_UberX</th>\n",
       "      <th>cab_descr_UberXL</th>\n",
       "      <th>cab_descr_WAV</th>\n",
       "      <th>weather_ Clear</th>\n",
       "      <th>weather_ Drizzle</th>\n",
       "      <th>weather_ Foggy</th>\n",
       "      <th>weather_ Light Rain</th>\n",
       "      <th>weather_ Mostly Cloudy</th>\n",
       "      <th>weather_ Overcast</th>\n",
       "      <th>weather_ Partly Cloudy</th>\n",
       "      <th>weather_ Possible Drizzle</th>\n",
       "      <th>weather_ Rain</th>\n",
       "    </tr>\n",
       "  </thead>\n",
       "  <tbody>\n",
       "    <tr>\n",
       "      <th>0</th>\n",
       "      <td>5.0</td>\n",
       "      <td>0.44</td>\n",
       "      <td>1.0</td>\n",
       "      <td>1</td>\n",
       "      <td>0</td>\n",
       "      <td>0</td>\n",
       "      <td>0</td>\n",
       "      <td>0</td>\n",
       "      <td>0</td>\n",
       "      <td>0</td>\n",
       "      <td>0</td>\n",
       "      <td>0</td>\n",
       "      <td>1</td>\n",
       "      <td>0</td>\n",
       "      <td>0</td>\n",
       "      <td>0</td>\n",
       "      <td>0</td>\n",
       "      <td>0</td>\n",
       "      <td>0</td>\n",
       "      <td>0</td>\n",
       "      <td>0</td>\n",
       "      <td>1</td>\n",
       "      <td>0</td>\n",
       "      <td>0</td>\n",
       "      <td>0</td>\n",
       "      <td>0</td>\n",
       "    </tr>\n",
       "    <tr>\n",
       "      <th>1</th>\n",
       "      <td>11.0</td>\n",
       "      <td>0.44</td>\n",
       "      <td>1.0</td>\n",
       "      <td>1</td>\n",
       "      <td>0</td>\n",
       "      <td>0</td>\n",
       "      <td>0</td>\n",
       "      <td>1</td>\n",
       "      <td>0</td>\n",
       "      <td>0</td>\n",
       "      <td>0</td>\n",
       "      <td>0</td>\n",
       "      <td>0</td>\n",
       "      <td>0</td>\n",
       "      <td>0</td>\n",
       "      <td>0</td>\n",
       "      <td>0</td>\n",
       "      <td>0</td>\n",
       "      <td>0</td>\n",
       "      <td>0</td>\n",
       "      <td>0</td>\n",
       "      <td>0</td>\n",
       "      <td>0</td>\n",
       "      <td>0</td>\n",
       "      <td>0</td>\n",
       "      <td>1</td>\n",
       "    </tr>\n",
       "    <tr>\n",
       "      <th>2</th>\n",
       "      <td>7.0</td>\n",
       "      <td>0.44</td>\n",
       "      <td>1.0</td>\n",
       "      <td>1</td>\n",
       "      <td>0</td>\n",
       "      <td>0</td>\n",
       "      <td>0</td>\n",
       "      <td>0</td>\n",
       "      <td>0</td>\n",
       "      <td>0</td>\n",
       "      <td>1</td>\n",
       "      <td>0</td>\n",
       "      <td>0</td>\n",
       "      <td>0</td>\n",
       "      <td>0</td>\n",
       "      <td>0</td>\n",
       "      <td>0</td>\n",
       "      <td>1</td>\n",
       "      <td>0</td>\n",
       "      <td>0</td>\n",
       "      <td>0</td>\n",
       "      <td>0</td>\n",
       "      <td>0</td>\n",
       "      <td>0</td>\n",
       "      <td>0</td>\n",
       "      <td>0</td>\n",
       "    </tr>\n",
       "    <tr>\n",
       "      <th>3</th>\n",
       "      <td>26.0</td>\n",
       "      <td>0.44</td>\n",
       "      <td>1.0</td>\n",
       "      <td>1</td>\n",
       "      <td>0</td>\n",
       "      <td>0</td>\n",
       "      <td>0</td>\n",
       "      <td>0</td>\n",
       "      <td>0</td>\n",
       "      <td>1</td>\n",
       "      <td>0</td>\n",
       "      <td>0</td>\n",
       "      <td>0</td>\n",
       "      <td>0</td>\n",
       "      <td>0</td>\n",
       "      <td>0</td>\n",
       "      <td>0</td>\n",
       "      <td>1</td>\n",
       "      <td>0</td>\n",
       "      <td>0</td>\n",
       "      <td>0</td>\n",
       "      <td>0</td>\n",
       "      <td>0</td>\n",
       "      <td>0</td>\n",
       "      <td>0</td>\n",
       "      <td>0</td>\n",
       "    </tr>\n",
       "    <tr>\n",
       "      <th>4</th>\n",
       "      <td>9.0</td>\n",
       "      <td>0.44</td>\n",
       "      <td>1.0</td>\n",
       "      <td>1</td>\n",
       "      <td>0</td>\n",
       "      <td>0</td>\n",
       "      <td>0</td>\n",
       "      <td>0</td>\n",
       "      <td>0</td>\n",
       "      <td>0</td>\n",
       "      <td>0</td>\n",
       "      <td>1</td>\n",
       "      <td>0</td>\n",
       "      <td>0</td>\n",
       "      <td>0</td>\n",
       "      <td>0</td>\n",
       "      <td>0</td>\n",
       "      <td>0</td>\n",
       "      <td>0</td>\n",
       "      <td>0</td>\n",
       "      <td>0</td>\n",
       "      <td>0</td>\n",
       "      <td>0</td>\n",
       "      <td>1</td>\n",
       "      <td>0</td>\n",
       "      <td>0</td>\n",
       "    </tr>\n",
       "  </tbody>\n",
       "</table>\n",
       "</div>"
      ],
      "text/plain": [
       "   price  distance  surge_multiplier  cab_type_Lyft  cab_type_Uber  \\\n",
       "0    5.0      0.44               1.0              1              0   \n",
       "1   11.0      0.44               1.0              1              0   \n",
       "2    7.0      0.44               1.0              1              0   \n",
       "3   26.0      0.44               1.0              1              0   \n",
       "4    9.0      0.44               1.0              1              0   \n",
       "\n",
       "   cab_descr_Black  cab_descr_Black SUV  cab_descr_Lux  cab_descr_Lux Black  \\\n",
       "0                0                    0              0                    0   \n",
       "1                0                    0              1                    0   \n",
       "2                0                    0              0                    0   \n",
       "3                0                    0              0                    0   \n",
       "4                0                    0              0                    0   \n",
       "\n",
       "   cab_descr_Lux Black XL  cab_descr_Lyft  cab_descr_Lyft XL  \\\n",
       "0                       0               0                  0   \n",
       "1                       0               0                  0   \n",
       "2                       0               1                  0   \n",
       "3                       1               0                  0   \n",
       "4                       0               0                  1   \n",
       "\n",
       "   cab_descr_Shared  cab_descr_UberPool  cab_descr_UberX  cab_descr_UberXL  \\\n",
       "0                 1                   0                0                 0   \n",
       "1                 0                   0                0                 0   \n",
       "2                 0                   0                0                 0   \n",
       "3                 0                   0                0                 0   \n",
       "4                 0                   0                0                 0   \n",
       "\n",
       "   cab_descr_WAV  weather_ Clear   weather_ Drizzle   weather_ Foggy   \\\n",
       "0              0                0                  0                0   \n",
       "1              0                0                  0                0   \n",
       "2              0                1                  0                0   \n",
       "3              0                1                  0                0   \n",
       "4              0                0                  0                0   \n",
       "\n",
       "   weather_ Light Rain   weather_ Mostly Cloudy   weather_ Overcast   \\\n",
       "0                     0                        1                   0   \n",
       "1                     0                        0                   0   \n",
       "2                     0                        0                   0   \n",
       "3                     0                        0                   0   \n",
       "4                     0                        0                   0   \n",
       "\n",
       "   weather_ Partly Cloudy   weather_ Possible Drizzle   weather_ Rain   \n",
       "0                        0                           0               0  \n",
       "1                        0                           0               1  \n",
       "2                        0                           0               0  \n",
       "3                        0                           0               0  \n",
       "4                        1                           0               0  "
      ]
     },
     "execution_count": 62,
     "metadata": {},
     "output_type": "execute_result"
    }
   ],
   "source": [
    "base_data.head()"
   ]
  },
  {
   "cell_type": "markdown",
   "id": "-iDk1EiNVyjj",
   "metadata": {
    "id": "-iDk1EiNVyjj"
   },
   "source": [
    "### Define model"
   ]
  },
  {
   "cell_type": "markdown",
   "id": "bBy5o0slFxRz",
   "metadata": {
    "id": "bBy5o0slFxRz"
   },
   "source": [
    "Didefinisikan model x dan y dengan base data seperti di bawah ini"
   ]
  },
  {
   "cell_type": "code",
   "execution_count": 63,
   "id": "I6oyP6qjQupn",
   "metadata": {
    "id": "I6oyP6qjQupn"
   },
   "outputs": [],
   "source": [
    "x_base_2 = base_data.drop(['price', 'surge_multiplier'], axis=1) ## data feature\n",
    "y_base_2 = base_data['price'] ## data target"
   ]
  },
  {
   "cell_type": "code",
   "execution_count": 64,
   "id": "eL4Mf7ksXZ1A",
   "metadata": {
    "id": "eL4Mf7ksXZ1A"
   },
   "outputs": [],
   "source": [
    "# Splitting X dan y menjadi data training dan data testing\n",
    "x_train_base_2, x_test_base_2, y_train_base_2, y_test_base_2 = train_test_split(x_base_2, y_base_2, test_size=0.3, random_state=100)"
   ]
  },
  {
   "cell_type": "markdown",
   "id": "TYWMErg4bxIM",
   "metadata": {
    "id": "TYWMErg4bxIM"
   },
   "source": [
    "### Melatih model"
   ]
  },
  {
   "cell_type": "markdown",
   "id": "jq6cxqL7PT8M",
   "metadata": {
    "id": "jq6cxqL7PT8M"
   },
   "source": [
    "Setelah didefinisikan, data di atas diolah dengan menggunakan .fit() dan .predict() serta kita cek nilai interceptnya seperti di bawah ini"
   ]
  },
  {
   "cell_type": "code",
   "execution_count": 65,
   "id": "BWQZJacbb0N-",
   "metadata": {
    "id": "BWQZJacbb0N-"
   },
   "outputs": [],
   "source": [
    "model_base_2 = linreg.fit(x_train_base_2, y_train_base_2)\n",
    "y_pred_base_2 = linreg.predict(x_test_base_2.values)\n",
    "y_pred_train_base_2 = linreg.predict(x_train_base_2.values)"
   ]
  },
  {
   "cell_type": "markdown",
   "id": "6DiFs2F7PF66",
   "metadata": {
    "id": "6DiFs2F7PF66"
   },
   "source": [
    "### Menghitung nilai koefisien dan juga nilai intercept"
   ]
  },
  {
   "cell_type": "code",
   "execution_count": 66,
   "id": "u34it-iLcOUU",
   "metadata": {
    "colab": {
     "base_uri": "https://localhost:8080/"
    },
    "id": "u34it-iLcOUU",
    "outputId": "6344dc35-cdac-4fc3-deea-4cd95d215bed",
    "scrolled": false
   },
   "outputs": [
    {
     "name": "stdout",
     "output_type": "stream",
     "text": [
      "                            Coefficients\n",
      "distance                    2.754452e+00\n",
      "cab_type_Lyft               6.858164e+09\n",
      "cab_type_Uber              -1.076049e+11\n",
      "cab_descr_Black            -3.376919e+10\n",
      "cab_descr_Black SUV        -3.376919e+10\n",
      "cab_descr_Lux              -1.482322e+11\n",
      "cab_descr_Lux Black        -1.482322e+11\n",
      "cab_descr_Lux Black XL     -1.482322e+11\n",
      "cab_descr_Lyft             -1.482322e+11\n",
      "cab_descr_Lyft XL          -1.482322e+11\n",
      "cab_descr_Shared           -1.482322e+11\n",
      "cab_descr_UberPool         -3.376919e+10\n",
      "cab_descr_UberX            -3.376919e+10\n",
      "cab_descr_UberXL           -3.376919e+10\n",
      "cab_descr_WAV              -3.376919e+10\n",
      "weather_ Clear              1.945469e+10\n",
      "weather_ Drizzle            1.945469e+10\n",
      "weather_ Foggy              1.945469e+10\n",
      "weather_ Light Rain         1.945469e+10\n",
      "weather_ Mostly Cloudy      1.945469e+10\n",
      "weather_ Overcast           1.945469e+10\n",
      "weather_ Partly Cloudy      1.945469e+10\n",
      "weather_ Possible Drizzle   1.945469e+10\n",
      "weather_ Rain               1.945469e+10\n"
     ]
    }
   ],
   "source": [
    "print(pd.DataFrame(model_base_2.coef_, x_base_2.columns, columns=['Coefficients']))"
   ]
  },
  {
   "cell_type": "code",
   "execution_count": 67,
   "id": "fSQruafVcmBu",
   "metadata": {
    "colab": {
     "base_uri": "https://localhost:8080/"
    },
    "id": "fSQruafVcmBu",
    "outputId": "fa0eda4b-1abe-49d2-93e5-0f27d79771ef"
   },
   "outputs": [
    {
     "name": "stdout",
     "output_type": "stream",
     "text": [
      "intercept : 121919387387.79271\n"
     ]
    }
   ],
   "source": [
    "print(f'intercept : {model_base_2.intercept_}')"
   ]
  },
  {
   "cell_type": "markdown",
   "id": "5Mw6S_F8oce4",
   "metadata": {
    "id": "5Mw6S_F8oce4"
   },
   "source": [
    "### Evaluasi performa base model"
   ]
  },
  {
   "cell_type": "markdown",
   "id": "um0rbSdQGAdg",
   "metadata": {
    "id": "um0rbSdQGAdg"
   },
   "source": [
    "Setelah diolah, akan dicek r2 score, mean absolute error, mean squared error dan root mean squared error seperti di bawah ini"
   ]
  },
  {
   "cell_type": "code",
   "execution_count": 68,
   "id": "6LmO9uT9gVdB",
   "metadata": {
    "colab": {
     "base_uri": "https://localhost:8080/"
    },
    "id": "6LmO9uT9gVdB",
    "outputId": "509abfa9-478f-4bd4-b0c9-e74c4a641989"
   },
   "outputs": [
    {
     "name": "stdout",
     "output_type": "stream",
     "text": [
      "r2 score test : 0.9132448583952109\n",
      "r2 score train : 0.9135588097912436\n"
     ]
    }
   ],
   "source": [
    "print(f'r2 score test : {r2_score(y_test_base_2, y_pred_base_2)}')\n",
    "print(f'r2 score train : {r2_score(y_train_base_2, y_pred_train_base_2)}')"
   ]
  },
  {
   "cell_type": "code",
   "execution_count": 69,
   "id": "yTgPHbpshYtx",
   "metadata": {
    "colab": {
     "base_uri": "https://localhost:8080/"
    },
    "id": "yTgPHbpshYtx",
    "outputId": "eab8e08f-ef02-4eb4-ad3b-a9e507fc7410"
   },
   "outputs": [
    {
     "name": "stdout",
     "output_type": "stream",
     "text": [
      "Mean Absolute Error = 1.8690062125863132\n",
      "Mean Squared Error = 7.141178306107466\n",
      "Root Mean Squared Error = 2.6722983190705834\n"
     ]
    }
   ],
   "source": [
    "mae_base_2 = mean_absolute_error(y_test_base_2, y_pred_base_2)\n",
    "mse_base_2 = mean_squared_error(y_test_base_2, y_pred_base_2)\n",
    "rmse_base_2 = mean_squared_error(y_test_base_2, y_pred_base_2, squared=False)\n",
    "\n",
    "print(f'Mean Absolute Error = {mae_base_2}\\nMean Squared Error = {mse_base_2}\\nRoot Mean Squared Error = {rmse_base_2}')"
   ]
  },
  {
   "cell_type": "markdown",
   "id": "08YqnxxoBTL7",
   "metadata": {
    "id": "08YqnxxoBTL7"
   },
   "source": [
    "Dapat dilihat pada hasil diatas bahwa base model yang kita miliki mendapatkan sedikit peningkatan nilai r2 score menjadi 0.9346583071462289 atau 91.32% pada data test dan peningkatan menjadi 91.35% pada data train. Selain itu, MAE menunjukkan penurunan menjadi 1.86% dan RMSE menunjukkan penurunan menjadi 2.67% yang berarti model data kita memiliki nilai data hasil prediksi dekat dengan nilai aktual."
   ]
  },
  {
   "cell_type": "markdown",
   "id": "d6aJmkGOt5Sw",
   "metadata": {
    "id": "d6aJmkGOt5Sw"
   },
   "source": [
    "## Uber model"
   ]
  },
  {
   "cell_type": "code",
   "execution_count": 70,
   "id": "U5IKWsEFkSuQ",
   "metadata": {
    "colab": {
     "base_uri": "https://localhost:8080/",
     "height": 305
    },
    "id": "U5IKWsEFkSuQ",
    "outputId": "ea622112-940f-4105-f22e-9f3661272f30",
    "scrolled": true
   },
   "outputs": [
    {
     "data": {
      "text/html": [
       "<div>\n",
       "<style scoped>\n",
       "    .dataframe tbody tr th:only-of-type {\n",
       "        vertical-align: middle;\n",
       "    }\n",
       "\n",
       "    .dataframe tbody tr th {\n",
       "        vertical-align: top;\n",
       "    }\n",
       "\n",
       "    .dataframe thead th {\n",
       "        text-align: right;\n",
       "    }\n",
       "</style>\n",
       "<table border=\"1\" class=\"dataframe\">\n",
       "  <thead>\n",
       "    <tr style=\"text-align: right;\">\n",
       "      <th></th>\n",
       "      <th>price</th>\n",
       "      <th>distance</th>\n",
       "      <th>surge_multiplier</th>\n",
       "      <th>cab_descr_Black</th>\n",
       "      <th>cab_descr_Black SUV</th>\n",
       "      <th>cab_descr_UberPool</th>\n",
       "      <th>cab_descr_UberX</th>\n",
       "      <th>cab_descr_UberXL</th>\n",
       "      <th>cab_descr_WAV</th>\n",
       "      <th>weather_ Clear</th>\n",
       "      <th>weather_ Drizzle</th>\n",
       "      <th>weather_ Foggy</th>\n",
       "      <th>weather_ Light Rain</th>\n",
       "      <th>weather_ Mostly Cloudy</th>\n",
       "      <th>weather_ Overcast</th>\n",
       "      <th>weather_ Partly Cloudy</th>\n",
       "      <th>weather_ Possible Drizzle</th>\n",
       "      <th>weather_ Rain</th>\n",
       "    </tr>\n",
       "  </thead>\n",
       "  <tbody>\n",
       "    <tr>\n",
       "      <th>0</th>\n",
       "      <td>12.0</td>\n",
       "      <td>1.11</td>\n",
       "      <td>1.0</td>\n",
       "      <td>0</td>\n",
       "      <td>0</td>\n",
       "      <td>0</td>\n",
       "      <td>0</td>\n",
       "      <td>1</td>\n",
       "      <td>0</td>\n",
       "      <td>0</td>\n",
       "      <td>0</td>\n",
       "      <td>0</td>\n",
       "      <td>0</td>\n",
       "      <td>0</td>\n",
       "      <td>1</td>\n",
       "      <td>0</td>\n",
       "      <td>0</td>\n",
       "      <td>0</td>\n",
       "    </tr>\n",
       "    <tr>\n",
       "      <th>1</th>\n",
       "      <td>16.0</td>\n",
       "      <td>1.11</td>\n",
       "      <td>1.0</td>\n",
       "      <td>1</td>\n",
       "      <td>0</td>\n",
       "      <td>0</td>\n",
       "      <td>0</td>\n",
       "      <td>0</td>\n",
       "      <td>0</td>\n",
       "      <td>1</td>\n",
       "      <td>0</td>\n",
       "      <td>0</td>\n",
       "      <td>0</td>\n",
       "      <td>0</td>\n",
       "      <td>0</td>\n",
       "      <td>0</td>\n",
       "      <td>0</td>\n",
       "      <td>0</td>\n",
       "    </tr>\n",
       "    <tr>\n",
       "      <th>2</th>\n",
       "      <td>7.5</td>\n",
       "      <td>1.11</td>\n",
       "      <td>1.0</td>\n",
       "      <td>0</td>\n",
       "      <td>0</td>\n",
       "      <td>0</td>\n",
       "      <td>1</td>\n",
       "      <td>0</td>\n",
       "      <td>0</td>\n",
       "      <td>0</td>\n",
       "      <td>0</td>\n",
       "      <td>0</td>\n",
       "      <td>0</td>\n",
       "      <td>1</td>\n",
       "      <td>0</td>\n",
       "      <td>0</td>\n",
       "      <td>0</td>\n",
       "      <td>0</td>\n",
       "    </tr>\n",
       "    <tr>\n",
       "      <th>3</th>\n",
       "      <td>7.5</td>\n",
       "      <td>1.11</td>\n",
       "      <td>1.0</td>\n",
       "      <td>0</td>\n",
       "      <td>0</td>\n",
       "      <td>0</td>\n",
       "      <td>0</td>\n",
       "      <td>0</td>\n",
       "      <td>1</td>\n",
       "      <td>0</td>\n",
       "      <td>0</td>\n",
       "      <td>0</td>\n",
       "      <td>1</td>\n",
       "      <td>0</td>\n",
       "      <td>0</td>\n",
       "      <td>0</td>\n",
       "      <td>0</td>\n",
       "      <td>0</td>\n",
       "    </tr>\n",
       "    <tr>\n",
       "      <th>4</th>\n",
       "      <td>26.0</td>\n",
       "      <td>1.11</td>\n",
       "      <td>1.0</td>\n",
       "      <td>0</td>\n",
       "      <td>1</td>\n",
       "      <td>0</td>\n",
       "      <td>0</td>\n",
       "      <td>0</td>\n",
       "      <td>0</td>\n",
       "      <td>0</td>\n",
       "      <td>0</td>\n",
       "      <td>0</td>\n",
       "      <td>0</td>\n",
       "      <td>0</td>\n",
       "      <td>1</td>\n",
       "      <td>0</td>\n",
       "      <td>0</td>\n",
       "      <td>0</td>\n",
       "    </tr>\n",
       "  </tbody>\n",
       "</table>\n",
       "</div>"
      ],
      "text/plain": [
       "   price  distance  surge_multiplier  cab_descr_Black  cab_descr_Black SUV  \\\n",
       "0   12.0      1.11               1.0                0                    0   \n",
       "1   16.0      1.11               1.0                1                    0   \n",
       "2    7.5      1.11               1.0                0                    0   \n",
       "3    7.5      1.11               1.0                0                    0   \n",
       "4   26.0      1.11               1.0                0                    1   \n",
       "\n",
       "   cab_descr_UberPool  cab_descr_UberX  cab_descr_UberXL  cab_descr_WAV  \\\n",
       "0                   0                0                 1              0   \n",
       "1                   0                0                 0              0   \n",
       "2                   0                1                 0              0   \n",
       "3                   0                0                 0              1   \n",
       "4                   0                0                 0              0   \n",
       "\n",
       "   weather_ Clear   weather_ Drizzle   weather_ Foggy   weather_ Light Rain   \\\n",
       "0                0                  0                0                     0   \n",
       "1                1                  0                0                     0   \n",
       "2                0                  0                0                     0   \n",
       "3                0                  0                0                     1   \n",
       "4                0                  0                0                     0   \n",
       "\n",
       "   weather_ Mostly Cloudy   weather_ Overcast   weather_ Partly Cloudy   \\\n",
       "0                        0                   1                        0   \n",
       "1                        0                   0                        0   \n",
       "2                        1                   0                        0   \n",
       "3                        0                   0                        0   \n",
       "4                        0                   1                        0   \n",
       "\n",
       "   weather_ Possible Drizzle   weather_ Rain   \n",
       "0                           0               0  \n",
       "1                           0               0  \n",
       "2                           0               0  \n",
       "3                           0               0  \n",
       "4                           0               0  "
      ]
     },
     "execution_count": 70,
     "metadata": {},
     "output_type": "execute_result"
    }
   ],
   "source": [
    "uber_data.head()"
   ]
  },
  {
   "cell_type": "markdown",
   "id": "QXFs_mgfw7wS",
   "metadata": {
    "id": "QXFs_mgfw7wS"
   },
   "source": [
    "### Define model"
   ]
  },
  {
   "cell_type": "markdown",
   "id": "LVrJV38ZGO_E",
   "metadata": {
    "id": "LVrJV38ZGO_E"
   },
   "source": [
    "Didefinisikan data uber x dan y dimana untuk x adalah data feature dengan drop kolom price dan surge multiplier serta y adalah data target yakni kolom price"
   ]
  },
  {
   "cell_type": "code",
   "execution_count": 71,
   "id": "_WhALxYYvAan",
   "metadata": {
    "id": "_WhALxYYvAan"
   },
   "outputs": [],
   "source": [
    "x_uber_2 = uber_data.drop(['price', 'surge_multiplier'], axis=1) ## data feature\n",
    "y_uber_2 = uber_data['price'] ## data target"
   ]
  },
  {
   "cell_type": "code",
   "execution_count": 72,
   "id": "gWBCGHNEw9uU",
   "metadata": {
    "id": "gWBCGHNEw9uU"
   },
   "outputs": [],
   "source": [
    "# Splitting X dan y menjadi data training dan data testing\n",
    "x_train_uber_2, x_test_uber_2, y_train_uber_2, y_test_uber_2 = train_test_split(x_uber_2, y_uber_2, test_size=0.3, random_state=100)"
   ]
  },
  {
   "cell_type": "markdown",
   "id": "UvtRlfsM3FRb",
   "metadata": {
    "id": "UvtRlfsM3FRb"
   },
   "source": [
    "### Melatih model"
   ]
  },
  {
   "cell_type": "markdown",
   "id": "JpIiiyDoGisn",
   "metadata": {
    "id": "JpIiiyDoGisn"
   },
   "source": [
    "Setelah didefinisikan, data di atas diolah dengan menggunakan .fit() dan .predict() serta kita cek nilai interceptnya seperti di bawah ini"
   ]
  },
  {
   "cell_type": "code",
   "execution_count": 73,
   "id": "SoTF-yQNxW4f",
   "metadata": {
    "id": "SoTF-yQNxW4f"
   },
   "outputs": [],
   "source": [
    "model_uber_2 = linreg.fit(x_train_uber_2, y_train_uber_2)\n",
    "y_pred_uber_2 = linreg.predict(x_test_uber_2.values)\n",
    "y_pred_train_uber_2 = linreg.predict(x_train_uber_2.values)"
   ]
  },
  {
   "cell_type": "markdown",
   "id": "U4SM3pLUPXEb",
   "metadata": {
    "id": "U4SM3pLUPXEb"
   },
   "source": [
    "### Menghitung nilai koefisien dan nilai intercept"
   ]
  },
  {
   "cell_type": "code",
   "execution_count": 74,
   "id": "Lb34dcpOMKxm",
   "metadata": {
    "colab": {
     "base_uri": "https://localhost:8080/"
    },
    "id": "Lb34dcpOMKxm",
    "outputId": "e5a642aa-3e8f-4e5f-b77d-77bc4e0d17ef",
    "scrolled": true
   },
   "outputs": [
    {
     "name": "stdout",
     "output_type": "stream",
     "text": [
      "                            Coefficients\n",
      "distance                    2.354793e+00\n",
      "cab_descr_Black             7.452003e+10\n",
      "cab_descr_Black SUV         7.452003e+10\n",
      "cab_descr_UberPool          7.452003e+10\n",
      "cab_descr_UberX             7.452003e+10\n",
      "cab_descr_UberXL            7.452003e+10\n",
      "cab_descr_WAV               7.452003e+10\n",
      "weather_ Clear             -2.680521e+09\n",
      "weather_ Drizzle           -2.680521e+09\n",
      "weather_ Foggy             -2.680521e+09\n",
      "weather_ Light Rain        -2.680521e+09\n",
      "weather_ Mostly Cloudy     -2.680521e+09\n",
      "weather_ Overcast          -2.680521e+09\n",
      "weather_ Partly Cloudy     -2.680521e+09\n",
      "weather_ Possible Drizzle  -2.680521e+09\n",
      "weather_ Rain              -2.680521e+09\n"
     ]
    }
   ],
   "source": [
    "print(pd.DataFrame(model_uber_2.coef_, x_uber_2.columns, columns=['Coefficients']))"
   ]
  },
  {
   "cell_type": "code",
   "execution_count": 75,
   "id": "h4r9QyC9MSZ0",
   "metadata": {
    "colab": {
     "base_uri": "https://localhost:8080/"
    },
    "id": "h4r9QyC9MSZ0",
    "outputId": "d1d7439f-5082-4892-d2ab-ea24e38ee9e9"
   },
   "outputs": [
    {
     "name": "stdout",
     "output_type": "stream",
     "text": [
      "intercept : -71839508560.15363\n"
     ]
    }
   ],
   "source": [
    "print(f'intercept : {model_uber_2.intercept_}')"
   ]
  },
  {
   "cell_type": "markdown",
   "id": "AchjgvQyMZv4",
   "metadata": {
    "id": "AchjgvQyMZv4"
   },
   "source": [
    "### Evaluasi performa uber model"
   ]
  },
  {
   "cell_type": "markdown",
   "id": "LCd7I702Gu_J",
   "metadata": {
    "id": "LCd7I702Gu_J"
   },
   "source": [
    "Setelah diolah, data lyft diatas dievaluasi dengan menggunakan r2 score, MAE, MSE, dan RMSE seperti di bawah ini"
   ]
  },
  {
   "cell_type": "code",
   "execution_count": 76,
   "id": "okyFD99-Mdi3",
   "metadata": {
    "colab": {
     "base_uri": "https://localhost:8080/"
    },
    "id": "okyFD99-Mdi3",
    "outputId": "792b5c8e-dde5-4021-afa1-7ecc574c6a76"
   },
   "outputs": [
    {
     "name": "stdout",
     "output_type": "stream",
     "text": [
      "r2 score test : 0.9244573972198478\n",
      "r2 score train : 0.9257882759577858\n"
     ]
    }
   ],
   "source": [
    "print(f'r2 score test : {r2_score(y_test_uber_2, y_pred_uber_2)}')\n",
    "print(f'r2 score train : {r2_score(y_train_uber_2, y_pred_train_uber_2)}')"
   ]
  },
  {
   "cell_type": "code",
   "execution_count": 77,
   "id": "H8vsj-koM_o_",
   "metadata": {
    "colab": {
     "base_uri": "https://localhost:8080/"
    },
    "id": "H8vsj-koM_o_",
    "outputId": "33bd966f-2e69-4441-9fd1-03868df22fc7"
   },
   "outputs": [
    {
     "name": "stdout",
     "output_type": "stream",
     "text": [
      "Mean Absolute Error = 1.6308726835702347\n",
      "Mean Squared Error = 5.401694745021899\n",
      "Root Mean Squared Error = 2.3241546301874796\n"
     ]
    }
   ],
   "source": [
    "mae_uber_2 = mean_absolute_error(y_test_uber_2, y_pred_uber_2)\n",
    "mse_uber_2 = mean_squared_error(y_test_uber_2, y_pred_uber_2)\n",
    "rmse_uber_2 = mean_squared_error(y_test_uber_2, y_pred_uber_2, squared=False)\n",
    "\n",
    "print(f'Mean Absolute Error = {mae_uber_2}\\nMean Squared Error = {mse_uber_2}\\nRoot Mean Squared Error = {rmse_uber_2}')"
   ]
  },
  {
   "cell_type": "markdown",
   "id": "0BNzjAGwPrz6",
   "metadata": {
    "id": "0BNzjAGwPrz6"
   },
   "source": [
    "Dapat dilihat pada hasil diatas bahwa **Uber model** yang kita miliki mendapatkan peningkatan nilai r2 score menjadi 92.44% pada data test dan menjadi 92.57% pada data train. Selain itu, MAE menunjukkan penurunan 1.63% dan RMSE menunjukkan penurunan  menjadi 2.32% yang berarti model data kita memiliki nilai data hasil prediksi dekat dengan nilai aktual."
   ]
  },
  {
   "cell_type": "markdown",
   "id": "m6LJ10VgNTqk",
   "metadata": {
    "id": "m6LJ10VgNTqk"
   },
   "source": [
    "## Lyft model"
   ]
  },
  {
   "cell_type": "code",
   "execution_count": 78,
   "id": "LN1pmeIfNcul",
   "metadata": {
    "colab": {
     "base_uri": "https://localhost:8080/",
     "height": 305
    },
    "id": "LN1pmeIfNcul",
    "outputId": "7d7e93dd-82a4-4640-ffb7-9e69025760b8",
    "scrolled": true
   },
   "outputs": [
    {
     "data": {
      "text/html": [
       "<div>\n",
       "<style scoped>\n",
       "    .dataframe tbody tr th:only-of-type {\n",
       "        vertical-align: middle;\n",
       "    }\n",
       "\n",
       "    .dataframe tbody tr th {\n",
       "        vertical-align: top;\n",
       "    }\n",
       "\n",
       "    .dataframe thead th {\n",
       "        text-align: right;\n",
       "    }\n",
       "</style>\n",
       "<table border=\"1\" class=\"dataframe\">\n",
       "  <thead>\n",
       "    <tr style=\"text-align: right;\">\n",
       "      <th></th>\n",
       "      <th>price</th>\n",
       "      <th>distance</th>\n",
       "      <th>surge_multiplier</th>\n",
       "      <th>cab_descr_Lux</th>\n",
       "      <th>cab_descr_Lux Black</th>\n",
       "      <th>cab_descr_Lux Black XL</th>\n",
       "      <th>cab_descr_Lyft</th>\n",
       "      <th>cab_descr_Lyft XL</th>\n",
       "      <th>cab_descr_Shared</th>\n",
       "      <th>weather_ Clear</th>\n",
       "      <th>weather_ Drizzle</th>\n",
       "      <th>weather_ Foggy</th>\n",
       "      <th>weather_ Light Rain</th>\n",
       "      <th>weather_ Mostly Cloudy</th>\n",
       "      <th>weather_ Overcast</th>\n",
       "      <th>weather_ Partly Cloudy</th>\n",
       "      <th>weather_ Possible Drizzle</th>\n",
       "      <th>weather_ Rain</th>\n",
       "    </tr>\n",
       "  </thead>\n",
       "  <tbody>\n",
       "    <tr>\n",
       "      <th>0</th>\n",
       "      <td>5.0</td>\n",
       "      <td>0.44</td>\n",
       "      <td>1.0</td>\n",
       "      <td>0</td>\n",
       "      <td>0</td>\n",
       "      <td>0</td>\n",
       "      <td>0</td>\n",
       "      <td>0</td>\n",
       "      <td>1</td>\n",
       "      <td>0</td>\n",
       "      <td>0</td>\n",
       "      <td>0</td>\n",
       "      <td>0</td>\n",
       "      <td>1</td>\n",
       "      <td>0</td>\n",
       "      <td>0</td>\n",
       "      <td>0</td>\n",
       "      <td>0</td>\n",
       "    </tr>\n",
       "    <tr>\n",
       "      <th>1</th>\n",
       "      <td>11.0</td>\n",
       "      <td>0.44</td>\n",
       "      <td>1.0</td>\n",
       "      <td>1</td>\n",
       "      <td>0</td>\n",
       "      <td>0</td>\n",
       "      <td>0</td>\n",
       "      <td>0</td>\n",
       "      <td>0</td>\n",
       "      <td>0</td>\n",
       "      <td>0</td>\n",
       "      <td>0</td>\n",
       "      <td>0</td>\n",
       "      <td>0</td>\n",
       "      <td>0</td>\n",
       "      <td>0</td>\n",
       "      <td>0</td>\n",
       "      <td>1</td>\n",
       "    </tr>\n",
       "    <tr>\n",
       "      <th>2</th>\n",
       "      <td>7.0</td>\n",
       "      <td>0.44</td>\n",
       "      <td>1.0</td>\n",
       "      <td>0</td>\n",
       "      <td>0</td>\n",
       "      <td>0</td>\n",
       "      <td>1</td>\n",
       "      <td>0</td>\n",
       "      <td>0</td>\n",
       "      <td>1</td>\n",
       "      <td>0</td>\n",
       "      <td>0</td>\n",
       "      <td>0</td>\n",
       "      <td>0</td>\n",
       "      <td>0</td>\n",
       "      <td>0</td>\n",
       "      <td>0</td>\n",
       "      <td>0</td>\n",
       "    </tr>\n",
       "    <tr>\n",
       "      <th>3</th>\n",
       "      <td>26.0</td>\n",
       "      <td>0.44</td>\n",
       "      <td>1.0</td>\n",
       "      <td>0</td>\n",
       "      <td>0</td>\n",
       "      <td>1</td>\n",
       "      <td>0</td>\n",
       "      <td>0</td>\n",
       "      <td>0</td>\n",
       "      <td>1</td>\n",
       "      <td>0</td>\n",
       "      <td>0</td>\n",
       "      <td>0</td>\n",
       "      <td>0</td>\n",
       "      <td>0</td>\n",
       "      <td>0</td>\n",
       "      <td>0</td>\n",
       "      <td>0</td>\n",
       "    </tr>\n",
       "    <tr>\n",
       "      <th>4</th>\n",
       "      <td>9.0</td>\n",
       "      <td>0.44</td>\n",
       "      <td>1.0</td>\n",
       "      <td>0</td>\n",
       "      <td>0</td>\n",
       "      <td>0</td>\n",
       "      <td>0</td>\n",
       "      <td>1</td>\n",
       "      <td>0</td>\n",
       "      <td>0</td>\n",
       "      <td>0</td>\n",
       "      <td>0</td>\n",
       "      <td>0</td>\n",
       "      <td>0</td>\n",
       "      <td>0</td>\n",
       "      <td>1</td>\n",
       "      <td>0</td>\n",
       "      <td>0</td>\n",
       "    </tr>\n",
       "  </tbody>\n",
       "</table>\n",
       "</div>"
      ],
      "text/plain": [
       "   price  distance  surge_multiplier  cab_descr_Lux  cab_descr_Lux Black  \\\n",
       "0    5.0      0.44               1.0              0                    0   \n",
       "1   11.0      0.44               1.0              1                    0   \n",
       "2    7.0      0.44               1.0              0                    0   \n",
       "3   26.0      0.44               1.0              0                    0   \n",
       "4    9.0      0.44               1.0              0                    0   \n",
       "\n",
       "   cab_descr_Lux Black XL  cab_descr_Lyft  cab_descr_Lyft XL  \\\n",
       "0                       0               0                  0   \n",
       "1                       0               0                  0   \n",
       "2                       0               1                  0   \n",
       "3                       1               0                  0   \n",
       "4                       0               0                  1   \n",
       "\n",
       "   cab_descr_Shared  weather_ Clear   weather_ Drizzle   weather_ Foggy   \\\n",
       "0                 1                0                  0                0   \n",
       "1                 0                0                  0                0   \n",
       "2                 0                1                  0                0   \n",
       "3                 0                1                  0                0   \n",
       "4                 0                0                  0                0   \n",
       "\n",
       "   weather_ Light Rain   weather_ Mostly Cloudy   weather_ Overcast   \\\n",
       "0                     0                        1                   0   \n",
       "1                     0                        0                   0   \n",
       "2                     0                        0                   0   \n",
       "3                     0                        0                   0   \n",
       "4                     0                        0                   0   \n",
       "\n",
       "   weather_ Partly Cloudy   weather_ Possible Drizzle   weather_ Rain   \n",
       "0                        0                           0               0  \n",
       "1                        0                           0               1  \n",
       "2                        0                           0               0  \n",
       "3                        0                           0               0  \n",
       "4                        1                           0               0  "
      ]
     },
     "execution_count": 78,
     "metadata": {},
     "output_type": "execute_result"
    }
   ],
   "source": [
    "lyft_data.head()"
   ]
  },
  {
   "cell_type": "markdown",
   "id": "QtAfaKOYORHK",
   "metadata": {
    "id": "QtAfaKOYORHK"
   },
   "source": [
    "### Define model"
   ]
  },
  {
   "cell_type": "markdown",
   "id": "IKtkxUbYHD06",
   "metadata": {
    "id": "IKtkxUbYHD06"
   },
   "source": [
    "Didefinisikan x dan y dari data lyft yang telah dikelompokkan dan diencoding seperti di bawah ini"
   ]
  },
  {
   "cell_type": "code",
   "execution_count": 79,
   "id": "PC9PlIP4NwcR",
   "metadata": {
    "id": "PC9PlIP4NwcR"
   },
   "outputs": [],
   "source": [
    "x_lyft_2 = lyft_data.drop(['price', 'surge_multiplier'], axis=1) ## data feature\n",
    "y_lyft_2 = lyft_data['price'] ## data target"
   ]
  },
  {
   "cell_type": "markdown",
   "id": "rrwDTgFKHNGQ",
   "metadata": {
    "id": "rrwDTgFKHNGQ"
   },
   "source": [
    "Lalu, data di atas dipisahkan dengan menggunakan train_test_split dengan 30% data untuk ditest dan 70% untuk ditrain serta random state = 100"
   ]
  },
  {
   "cell_type": "code",
   "execution_count": 80,
   "id": "LYezr28DN4xv",
   "metadata": {
    "id": "LYezr28DN4xv"
   },
   "outputs": [],
   "source": [
    "# Splitting X dan y menjadi data training dan data testing\n",
    "x_train_lyft_2, x_test_lyft_2, y_train_lyft_2, y_test_lyft_2 = train_test_split(x_lyft_2, y_lyft_2, test_size=0.3, random_state=100)"
   ]
  },
  {
   "cell_type": "markdown",
   "id": "kcOPCMAAOVhl",
   "metadata": {
    "id": "kcOPCMAAOVhl"
   },
   "source": [
    "### Melatih model"
   ]
  },
  {
   "cell_type": "markdown",
   "id": "dPM3Fd56HgAl",
   "metadata": {
    "id": "dPM3Fd56HgAl"
   },
   "source": [
    "Serta didefinisikan dan dipisah, data yang dipisahkan akan diolah dengan menggunakan .fit() dan .predict()"
   ]
  },
  {
   "cell_type": "code",
   "execution_count": 81,
   "id": "-nWImIpkOCpb",
   "metadata": {
    "id": "-nWImIpkOCpb"
   },
   "outputs": [],
   "source": [
    "model_lyft_2 = linreg.fit(x_train_lyft_2, y_train_lyft_2)\n",
    "y_pred_lyft_2 = linreg.predict(x_test_lyft_2.values)\n",
    "y_pred_train_lyft_2 = linreg.predict(x_train_lyft_2.values)"
   ]
  },
  {
   "cell_type": "code",
   "execution_count": 82,
   "id": "RRJbF8ikPCgR",
   "metadata": {
    "colab": {
     "base_uri": "https://localhost:8080/"
    },
    "id": "RRJbF8ikPCgR",
    "outputId": "cde8c19e-b5b6-49e1-b1fb-24c321096949",
    "scrolled": true
   },
   "outputs": [
    {
     "name": "stdout",
     "output_type": "stream",
     "text": [
      "                            Coefficients\n",
      "distance                    3.192030e+00\n",
      "cab_descr_Lux               8.725778e+10\n",
      "cab_descr_Lux Black         8.725778e+10\n",
      "cab_descr_Lux Black XL      8.725778e+10\n",
      "cab_descr_Lyft              8.725778e+10\n",
      "cab_descr_Lyft XL           8.725778e+10\n",
      "cab_descr_Shared            8.725778e+10\n",
      "weather_ Clear              1.501172e+11\n",
      "weather_ Drizzle            1.501172e+11\n",
      "weather_ Foggy              1.501172e+11\n",
      "weather_ Light Rain         1.501172e+11\n",
      "weather_ Mostly Cloudy      1.501172e+11\n",
      "weather_ Overcast           1.501172e+11\n",
      "weather_ Partly Cloudy      1.501172e+11\n",
      "weather_ Possible Drizzle   1.501172e+11\n",
      "weather_ Rain               1.501172e+11\n"
     ]
    }
   ],
   "source": [
    "print(pd.DataFrame(model_lyft_2.coef_, x_lyft_2.columns, columns=['Coefficients']))"
   ]
  },
  {
   "cell_type": "code",
   "execution_count": 83,
   "id": "Hu4WIWRyPeN9",
   "metadata": {
    "colab": {
     "base_uri": "https://localhost:8080/"
    },
    "id": "Hu4WIWRyPeN9",
    "outputId": "9825eebb-bff3-47e4-c3ec-c936895642cb"
   },
   "outputs": [
    {
     "name": "stdout",
     "output_type": "stream",
     "text": [
      "intercept : -237374950495.42465\n"
     ]
    }
   ],
   "source": [
    "print(f'intercept : {model_lyft_2.intercept_}')"
   ]
  },
  {
   "cell_type": "markdown",
   "id": "NqHwNvyiPhR4",
   "metadata": {
    "id": "NqHwNvyiPhR4"
   },
   "source": [
    "### Evaluasi performa"
   ]
  },
  {
   "cell_type": "markdown",
   "id": "Fj0eOUxSH2US",
   "metadata": {
    "id": "Fj0eOUxSH2US"
   },
   "source": [
    "Setelah diolah, akan dievaluasi dengan mengecek nilai r2 score, MAE, MSE, dan RMSE seperti di bawah ini"
   ]
  },
  {
   "cell_type": "code",
   "execution_count": 84,
   "id": "vdnJR-8xQPvy",
   "metadata": {
    "colab": {
     "base_uri": "https://localhost:8080/"
    },
    "id": "vdnJR-8xQPvy",
    "outputId": "5ddb2b68-3a4c-4a0b-a4f0-d87f8c58afa8"
   },
   "outputs": [
    {
     "name": "stdout",
     "output_type": "stream",
     "text": [
      "r2 score test : 0.9070616848502656\n",
      "r2 score train : 0.9088025778941619\n"
     ]
    }
   ],
   "source": [
    "print(f'r2 score test : {r2_score(y_test_lyft_2, y_pred_lyft_2)}')\n",
    "print(f'r2 score train : {r2_score(y_train_lyft_2, y_pred_train_lyft_2)}')"
   ]
  },
  {
   "cell_type": "code",
   "execution_count": 85,
   "id": "eyR9MY_JQpjH",
   "metadata": {
    "colab": {
     "base_uri": "https://localhost:8080/"
    },
    "id": "eyR9MY_JQpjH",
    "outputId": "583864fb-4367-4dda-97e7-5fbca719bd22"
   },
   "outputs": [
    {
     "name": "stdout",
     "output_type": "stream",
     "text": [
      "Mean Absolute Error = 2.0286191611494058\n",
      "Mean Squared Error = 8.615470329100411\n",
      "Root Mean Squared Error = 2.9352121437981977\n"
     ]
    }
   ],
   "source": [
    "mae_lyft_2 = mean_absolute_error(y_test_lyft_2, y_pred_lyft_2)\n",
    "mse_lyft_2 = mean_squared_error(y_test_lyft_2, y_pred_lyft_2)\n",
    "rmse_lyft_2 = mean_squared_error(y_test_lyft_2, y_pred_lyft_2, squared=False)\n",
    "\n",
    "print(f'Mean Absolute Error = {mae_lyft_2}\\nMean Squared Error = {mse_lyft_2}\\nRoot Mean Squared Error = {rmse_lyft_2}')"
   ]
  },
  {
   "cell_type": "markdown",
   "id": "ku7YtWmWQb8N",
   "metadata": {
    "id": "ku7YtWmWQb8N"
   },
   "source": [
    "Dapat dilihat pada hasil diatas bahwa **Lyft model** yang kita miliki mendapatkan kenaikan nilai r2 score menjadi 90.70% pada data test dan 90.88% pada data train. Selain itu, MAE menunjukkan 2.03% dan RMSE menunjukkan 2.93% yang berarti model data kita memiliki nilai data hasil prediksi dekat dengan nilai aktual."
   ]
  },
  {
   "cell_type": "markdown",
   "id": "VKlX8ZG0OTrh",
   "metadata": {
    "id": "VKlX8ZG0OTrh"
   },
   "source": [
    "# Model Inference"
   ]
  },
  {
   "cell_type": "markdown",
   "id": "hijmm3nG8JgF",
   "metadata": {
    "id": "hijmm3nG8JgF"
   },
   "source": [
    "Block code berikut adalah block code model interference untuk 3 model yang ada. Kita hanya perlu membuat satu block code untuk model interference dikarenakan hasilnya akan sama saja meskipun kita menggunakan model yang berbeda. Contohnya adalah salah satu pengguna ingin memesan taksi untuk jarak 4 km, dengan transportasi Uber jenis WAV dengan cuaca Mostly Cloudy."
   ]
  },
  {
   "cell_type": "markdown",
   "id": "Ngvc9vnjSE4v",
   "metadata": {
    "id": "Ngvc9vnjSE4v"
   },
   "source": [
    "## Contoh Penerapan Model Interference"
   ]
  },
  {
   "cell_type": "code",
   "execution_count": 86,
   "id": "-CHe_uiyeSk5",
   "metadata": {
    "colab": {
     "base_uri": "https://localhost:8080/"
    },
    "id": "-CHe_uiyeSk5",
    "outputId": "231ff6e5-eebb-40f7-9656-45fb4d989d0d"
   },
   "outputs": [
    {
     "name": "stdout",
     "output_type": "stream",
     "text": [
      "Distance I want to travel : 4\n",
      "\n",
      "Transportation I want to use : \n",
      " - Lyft \n",
      " - Uber \n",
      "Uber\n",
      "\n",
      "Type of Uber I want to use :\n",
      " - Black\n",
      " - Black SUV\n",
      " - Uber Pool\n",
      " - UberX\n",
      " - UberXL\n",
      " - WAV\n",
      "WAV\n",
      "\n",
      "Weather right now is :\n",
      " - Clear\n",
      " - Drizzle\n",
      " - Foggy\n",
      " - Light Rain\n",
      " - Mostly Cloudy\n",
      " - Overcast\n",
      " - Partly Cloudy\n",
      " - Possible Drizzle\n",
      " - Rain\n",
      " Mostly Cloudy\n",
      "\n",
      "=============================\n",
      "Your data input is :\n",
      "[4, 0, 0, 0, 0, 0, 1, 0, 0, 0, 0, 1, 0, 0, 0, 0]\n",
      "\n",
      "=============================\n",
      "Estimated Price Range : \n",
      " - Lowest Price is $ 11.85 \n",
      " - Highest Price is $ 35.56\n"
     ]
    }
   ],
   "source": [
    "distances = int(input('Distance I want to travel : '))\n",
    "cabin_types = input('\\nTransportation I want to use : \\n - Lyft \\n - Uber \\n')\n",
    "cabin_descr = input('\\nType of Uber I want to use :\\n - Black\\n - Black SUV\\n - Uber Pool\\n - UberX\\n - UberXL\\n - WAV\\n') if cabin_types == 'Uber' else input('Type of Lyft I want to use : \\n - Lux\\n - Lux Black\\n - Lux Black XL\\n - Lyft\\n - Lyft XL\\n - Shared\\n') if cabin_types == 'Lyft' else print('Uber / Lyft ?')\n",
    "weather = input('\\nWeather right now is :\\n - Clear\\n - Drizzle\\n - Foggy\\n - Light Rain\\n - Mostly Cloudy\\n - Overcast\\n - Partly Cloudy\\n - Possible Drizzle\\n - Rain\\n ')\n",
    "\n",
    "input_data = [distances]\n",
    "\n",
    "uber = {'Black' : 0, 'Black SUV' : 1, 'Uber Pool' : 2,\n",
    "        'Uber X': 3, 'Uber XL' : 4, 'WAV' : 5}\n",
    "\n",
    "lyft = {'Lux' : 0, 'Lux Black': 1, 'Lux Black XL' : 2,\n",
    "        'Lyft' : 3, 'Lyft XL' : 4, 'Shared' : 5}\n",
    "\n",
    "if cabin_types == 'Uber':\n",
    "  for i in range(0,6):\n",
    "    if uber[cabin_descr]==i:\n",
    "      input_data.append(1)\n",
    "    else:\n",
    "      input_data.append(0)\n",
    "\n",
    "else:\n",
    "  for i in range(0,6):\n",
    "    if lyft[cabin_descr]==i:\n",
    "      input_data.append(1)\n",
    "    else:\n",
    "      input_data.append(0)\n",
    "\n",
    "weather_today = {'Clear' : 0, 'Drizzle' : 1, 'Foggy' : 2, 'Light Rain': 3,'Mostly Cloudy' : 4,\n",
    "                 'Overcast' : 5, 'Partly Cloudy' : 6, 'Possible Drizzle' : 7, 'Rain' : 8}\n",
    "                 \n",
    "for i in range(0,9):\n",
    "    if weather_today[weather]==i:\n",
    "        input_data.append(1)\n",
    "    else:\n",
    "        input_data.append(0)\n",
    "\n",
    "print(f'\\n=============================\\nYour data input is :\\n{input_data}')\n",
    "\n",
    "price_prediction = model_base_2.predict([input_data])\n",
    "\n",
    "lowest_price = price_prediction*1.0\n",
    "highest_price = price_prediction*3.0\n",
    "print(f'\\n=============================\\nEstimated Price Range : \\n - Lowest Price is $ {np.round_(lowest_price[0], 2)} \\n - Highest Price is $ {np.round_(highest_price[0], 2)}')"
   ]
  },
  {
   "cell_type": "markdown",
   "id": "saUBscGk9LRv",
   "metadata": {
    "id": "saUBscGk9LRv"
   },
   "source": [
    "Dapat kita lihat bahwa prediksi tersebut menghasilkan estimasi harga transportasi yang akan kita naiki, yaitu mengambil value extimasi harga terendah dan harga tertinggi. Dari data di atas diperoleh range harga termurah: \\\\$11.85 dan harga termahalnya adalah \\\\$35.56"
   ]
  },
  {
   "cell_type": "markdown",
   "id": "d07ItZwyIRZ_",
   "metadata": {
    "id": "d07ItZwyIRZ_"
   },
   "source": [
    "## Testing Model Inference"
   ]
  },
  {
   "cell_type": "code",
   "execution_count": null,
   "id": "iK6_3m4wIVYH",
   "metadata": {
    "id": "iK6_3m4wIVYH"
   },
   "outputs": [],
   "source": [
    "distances = int(input('Distance I want to travel : '))\n",
    "cabin_types = input('\\nTransportation I want to use : \\n - Lyft \\n - Uber \\n')\n",
    "cabin_descr = input('\\nType of Uber I want to use :\\n - Black\\n - Black SUV\\n - Uber Pool\\n - UberX\\n - UberXL\\n - WAV\\n') if cabin_types == 'Uber' else input('Type of Lyft I want to use : \\n - Lux\\n - Lux Black\\n - Lux Black XL\\n - Lyft\\n - Lyft XL\\n - Shared\\n') if cabin_types == 'Lyft' else print('Uber / Lyft ?')\n",
    "weather = input('\\nWeather right now is :\\n - Clear\\n - Drizzle\\n - Foggy\\n - Light Rain\\n - Mostly Cloudy\\n - Overcast\\n - Partly Cloudy\\n - Possible Drizzle\\n - Rain\\n ')\n",
    "\n",
    "input_data = [distances]\n",
    "\n",
    "uber = {'Black' : 0, 'Black SUV' : 1, 'Uber Pool' : 2,\n",
    "        'Uber X': 3, 'Uber XL' : 4, 'WAV' : 5}\n",
    "\n",
    "lyft = {'Lux' : 0, 'Lux Black': 1, 'Lux Black XL' : 2,\n",
    "        'Lyft' : 3, 'Lyft XL' : 4, 'Shared' : 5}\n",
    "\n",
    "if cabin_types == 'Uber':\n",
    "  for i in range(0,6):\n",
    "    if uber[cabin_descr]==i:\n",
    "      input_data.append(1)\n",
    "    else:\n",
    "      input_data.append(0)\n",
    "\n",
    "else:\n",
    "  for i in range(0,6):\n",
    "    if lyft[cabin_descr]==i:\n",
    "      input_data.append(1)\n",
    "    else:\n",
    "      input_data.append(0)\n",
    "\n",
    "weather_today = {'Clear' : 0, 'Drizzle' : 1, 'Foggy' : 2, 'Light Rain': 3,'Mostly Cloudy' : 4,\n",
    "                 'Overcast' : 5, 'Partly Cloudy' : 6, 'Possible Drizzle' : 7, 'Rain' : 8}\n",
    "                 \n",
    "for i in range(0,9):\n",
    "    if weather_today[weather]==i:\n",
    "        input_data.append(1)\n",
    "    else:\n",
    "        input_data.append(0)\n",
    "\n",
    "print(f'\\n=============================\\nYour data input is :\\n{input_data}')\n",
    "\n",
    "price_prediction = model_base_2.predict([input_data])\n",
    "\n",
    "lowest_price = price_prediction*1.0\n",
    "highest_price = price_prediction*3.0\n",
    "print(f'\\n=============================\\nEstimated Price Range : \\n - Lowest Price is $ {np.round_(lowest_price[0], 2)} \\n - Highest Price is $ {np.round_(highest_price[0], 2)}')"
   ]
  },
  {
   "cell_type": "markdown",
   "id": "881c6dd1",
   "metadata": {},
   "source": [
    "# Conclusions"
   ]
  },
  {
   "cell_type": "markdown",
   "id": "dbed39f5",
   "metadata": {},
   "source": [
    "1. Dataset yang digunakan pada project ini terdiri dari 693071 observasi/baris dan 57 fitur/kolom tentang data harga perjalanan menggunakan taksi Uber & Lyft berdasarkan waktu, penggandaan harga (surge multiplier), jarak, dan keadaan cuaca pada saat itu. Variabel dependen/responnya adalah price.\n",
    "2. Dari grafik di atas dapat disimpulkan bahwa Lux Black XL menduduki urutan jenis mobil termahal, disusul oleh Black Suv, Lux Black, Black, Lux, UberXL, Lyft XL, UberX, WAV, Lyft, UberPool, Shared. Dan Taxi yang hanya berisi null value\n",
    "3. Pada project ini dilakukan prediksi harga taksi uber dan lyft menggunakan Linear Regression dengan variabel dependen yaitu 'price', sedangkan variabel independen yaitu 'cab_type', 'name' ('cab_descr'), 'price', 'distance', 'surge_multiplier', dan 'short_summary' ('weather')\n",
    "4. Dalam Analisis ini, dibagi 3 model data, yaitu Base data yang mencakup data keseluruhan, Uber data yang mencakup data berdasarkan 'cab_type' Uber, dan Lyft data yang mencakup data berdasarkan 'cab_type' Lyft.\n",
    "5. Berikut adalah Final Accuracy dari tiap model yang ada :\n",
    "    - Base model = 91.3%\n",
    "    - Uber model = 92.4%\n",
    "    - Lyft model = 90.7%"
   ]
  },
  {
   "cell_type": "code",
   "execution_count": null,
   "id": "15ea40d0",
   "metadata": {},
   "outputs": [],
   "source": []
  }
 ],
 "metadata": {
  "colab": {
   "collapsed_sections": [
    "2J5eW_S6BJVi",
    "f6607d18",
    "c29937d8",
    "AwGnmG0l7ZdO",
    "8ZubNg6A_ycO",
    "e3050fab",
    "b70f86ac",
    "7c080d82",
    "7e64de4f",
    "bbdcf8e6",
    "OCc6-cpBYlhs",
    "55003620",
    "249990a9",
    "HG6J0Wx_W43g",
    "P59XNMDeXFFP",
    "ocBal5zr19iQ",
    "BGw9-O0qeFGW",
    "yRmO7T56YwfF",
    "rC9SY17TnZBZ",
    "YtK2xJg5ZS3q",
    "yij4u6lgZ38D",
    "wOzrfRUEYz5W",
    "Xzq741CQn_4N",
    "xmyO__1LeNxd",
    "WP3Fh20SfChL",
    "5H886oOvkTGW",
    "tOxUwPH7lgVi",
    "qE2o9CXBSJ07",
    "-iDk1EiNVyjj",
    "TYWMErg4bxIM",
    "6DiFs2F7PF66",
    "5Mw6S_F8oce4",
    "d6aJmkGOt5Sw",
    "QXFs_mgfw7wS",
    "UvtRlfsM3FRb",
    "U4SM3pLUPXEb",
    "m6LJ10VgNTqk",
    "QtAfaKOYORHK",
    "kcOPCMAAOVhl",
    "NqHwNvyiPhR4"
   ],
   "name": "PYTN_KampusMerdeka_fp1_<nama>.ipynb",
   "provenance": []
  },
  "kernelspec": {
   "display_name": "Python 3 (ipykernel)",
   "language": "python",
   "name": "python3"
  },
  "language_info": {
   "codemirror_mode": {
    "name": "ipython",
    "version": 3
   },
   "file_extension": ".py",
   "mimetype": "text/x-python",
   "name": "python",
   "nbconvert_exporter": "python",
   "pygments_lexer": "ipython3",
   "version": "3.9.8"
  },
  "latex_envs": {
   "LaTeX_envs_menu_present": true,
   "autoclose": false,
   "autocomplete": true,
   "bibliofile": "biblio.bib",
   "cite_by": "apalike",
   "current_citInitial": 1,
   "eqLabelWithNumbers": true,
   "eqNumInitial": 1,
   "hotkeys": {
    "equation": "Ctrl-E",
    "itemize": "Ctrl-I"
   },
   "labels_anchors": false,
   "latex_user_defs": false,
   "report_style_numbering": false,
   "user_envs_cfg": false
  },
  "toc": {
   "base_numbering": 1,
   "nav_menu": {},
   "number_sections": false,
   "sideBar": true,
   "skip_h1_title": false,
   "title_cell": "Table of Contents",
   "title_sidebar": "Contents",
   "toc_cell": false,
   "toc_position": {},
   "toc_section_display": true,
   "toc_window_display": false
  }
 },
 "nbformat": 4,
 "nbformat_minor": 5
}
