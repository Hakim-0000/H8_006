{
 "cells": [
  {
   "cell_type": "markdown",
   "id": "623c8b95",
   "metadata": {},
   "source": [
    "# Importing Library"
   ]
  },
  {
   "cell_type": "code",
   "execution_count": 1,
   "id": "55f69aa0",
   "metadata": {},
   "outputs": [],
   "source": [
    "# Importing Library that we need \n",
    "import math\n",
    "import statistics\n",
    "import numpy as np\n",
    "import scipy.stats\n",
    "import statsmodels.api as sm\n",
    "import pandas as pd\n",
    "import seaborn as sb\n",
    "import matplotlib.pyplot as plt\n",
    "%matplotlib inline"
   ]
  },
  {
   "cell_type": "markdown",
   "id": "7aac4aa1",
   "metadata": {},
   "source": [
    "#  Load and Getting Basic Info About the Dataset"
   ]
  },
  {
   "cell_type": "code",
   "execution_count": 2,
   "id": "5e552877",
   "metadata": {
    "scrolled": false
   },
   "outputs": [
    {
     "data": {
      "text/html": [
       "<div>\n",
       "<style scoped>\n",
       "    .dataframe tbody tr th:only-of-type {\n",
       "        vertical-align: middle;\n",
       "    }\n",
       "\n",
       "    .dataframe tbody tr th {\n",
       "        vertical-align: top;\n",
       "    }\n",
       "\n",
       "    .dataframe thead th {\n",
       "        text-align: right;\n",
       "    }\n",
       "</style>\n",
       "<table border=\"1\" class=\"dataframe\">\n",
       "  <thead>\n",
       "    <tr style=\"text-align: right;\">\n",
       "      <th></th>\n",
       "      <th>Unnamed: 0</th>\n",
       "      <th>BOROUGH</th>\n",
       "      <th>NEIGHBORHOOD</th>\n",
       "      <th>BUILDING CLASS CATEGORY</th>\n",
       "      <th>TAX CLASS AT PRESENT</th>\n",
       "      <th>BLOCK</th>\n",
       "      <th>LOT</th>\n",
       "      <th>EASE-MENT</th>\n",
       "      <th>BUILDING CLASS AT PRESENT</th>\n",
       "      <th>ADDRESS</th>\n",
       "      <th>...</th>\n",
       "      <th>RESIDENTIAL UNITS</th>\n",
       "      <th>COMMERCIAL UNITS</th>\n",
       "      <th>TOTAL UNITS</th>\n",
       "      <th>LAND SQUARE FEET</th>\n",
       "      <th>GROSS SQUARE FEET</th>\n",
       "      <th>YEAR BUILT</th>\n",
       "      <th>TAX CLASS AT TIME OF SALE</th>\n",
       "      <th>BUILDING CLASS AT TIME OF SALE</th>\n",
       "      <th>SALE PRICE</th>\n",
       "      <th>SALE DATE</th>\n",
       "    </tr>\n",
       "  </thead>\n",
       "  <tbody>\n",
       "    <tr>\n",
       "      <th>0</th>\n",
       "      <td>4</td>\n",
       "      <td>1</td>\n",
       "      <td>ALPHABET CITY</td>\n",
       "      <td>07 RENTALS - WALKUP APARTMENTS</td>\n",
       "      <td>2A</td>\n",
       "      <td>392</td>\n",
       "      <td>6</td>\n",
       "      <td></td>\n",
       "      <td>C2</td>\n",
       "      <td>153 AVENUE B</td>\n",
       "      <td>...</td>\n",
       "      <td>5</td>\n",
       "      <td>0</td>\n",
       "      <td>5</td>\n",
       "      <td>1633</td>\n",
       "      <td>6440</td>\n",
       "      <td>1900</td>\n",
       "      <td>2</td>\n",
       "      <td>C2</td>\n",
       "      <td>6625000</td>\n",
       "      <td>2017-07-19 00:00:00</td>\n",
       "    </tr>\n",
       "    <tr>\n",
       "      <th>1</th>\n",
       "      <td>5</td>\n",
       "      <td>1</td>\n",
       "      <td>ALPHABET CITY</td>\n",
       "      <td>07 RENTALS - WALKUP APARTMENTS</td>\n",
       "      <td>2</td>\n",
       "      <td>399</td>\n",
       "      <td>26</td>\n",
       "      <td></td>\n",
       "      <td>C7</td>\n",
       "      <td>234 EAST 4TH   STREET</td>\n",
       "      <td>...</td>\n",
       "      <td>28</td>\n",
       "      <td>3</td>\n",
       "      <td>31</td>\n",
       "      <td>4616</td>\n",
       "      <td>18690</td>\n",
       "      <td>1900</td>\n",
       "      <td>2</td>\n",
       "      <td>C7</td>\n",
       "      <td>-</td>\n",
       "      <td>2016-12-14 00:00:00</td>\n",
       "    </tr>\n",
       "    <tr>\n",
       "      <th>2</th>\n",
       "      <td>6</td>\n",
       "      <td>1</td>\n",
       "      <td>ALPHABET CITY</td>\n",
       "      <td>07 RENTALS - WALKUP APARTMENTS</td>\n",
       "      <td>2</td>\n",
       "      <td>399</td>\n",
       "      <td>39</td>\n",
       "      <td></td>\n",
       "      <td>C7</td>\n",
       "      <td>197 EAST 3RD   STREET</td>\n",
       "      <td>...</td>\n",
       "      <td>16</td>\n",
       "      <td>1</td>\n",
       "      <td>17</td>\n",
       "      <td>2212</td>\n",
       "      <td>7803</td>\n",
       "      <td>1900</td>\n",
       "      <td>2</td>\n",
       "      <td>C7</td>\n",
       "      <td>-</td>\n",
       "      <td>2016-12-09 00:00:00</td>\n",
       "    </tr>\n",
       "    <tr>\n",
       "      <th>3</th>\n",
       "      <td>7</td>\n",
       "      <td>1</td>\n",
       "      <td>ALPHABET CITY</td>\n",
       "      <td>07 RENTALS - WALKUP APARTMENTS</td>\n",
       "      <td>2B</td>\n",
       "      <td>402</td>\n",
       "      <td>21</td>\n",
       "      <td></td>\n",
       "      <td>C4</td>\n",
       "      <td>154 EAST 7TH STREET</td>\n",
       "      <td>...</td>\n",
       "      <td>10</td>\n",
       "      <td>0</td>\n",
       "      <td>10</td>\n",
       "      <td>2272</td>\n",
       "      <td>6794</td>\n",
       "      <td>1913</td>\n",
       "      <td>2</td>\n",
       "      <td>C4</td>\n",
       "      <td>3936272</td>\n",
       "      <td>2016-09-23 00:00:00</td>\n",
       "    </tr>\n",
       "    <tr>\n",
       "      <th>4</th>\n",
       "      <td>8</td>\n",
       "      <td>1</td>\n",
       "      <td>ALPHABET CITY</td>\n",
       "      <td>07 RENTALS - WALKUP APARTMENTS</td>\n",
       "      <td>2A</td>\n",
       "      <td>404</td>\n",
       "      <td>55</td>\n",
       "      <td></td>\n",
       "      <td>C2</td>\n",
       "      <td>301 EAST 10TH   STREET</td>\n",
       "      <td>...</td>\n",
       "      <td>6</td>\n",
       "      <td>0</td>\n",
       "      <td>6</td>\n",
       "      <td>2369</td>\n",
       "      <td>4615</td>\n",
       "      <td>1900</td>\n",
       "      <td>2</td>\n",
       "      <td>C2</td>\n",
       "      <td>8000000</td>\n",
       "      <td>2016-11-17 00:00:00</td>\n",
       "    </tr>\n",
       "  </tbody>\n",
       "</table>\n",
       "<p>5 rows × 22 columns</p>\n",
       "</div>"
      ],
      "text/plain": [
       "   Unnamed: 0  BOROUGH   NEIGHBORHOOD  \\\n",
       "0           4        1  ALPHABET CITY   \n",
       "1           5        1  ALPHABET CITY   \n",
       "2           6        1  ALPHABET CITY   \n",
       "3           7        1  ALPHABET CITY   \n",
       "4           8        1  ALPHABET CITY   \n",
       "\n",
       "                       BUILDING CLASS CATEGORY TAX CLASS AT PRESENT  BLOCK  \\\n",
       "0  07 RENTALS - WALKUP APARTMENTS                                2A    392   \n",
       "1  07 RENTALS - WALKUP APARTMENTS                                 2    399   \n",
       "2  07 RENTALS - WALKUP APARTMENTS                                 2    399   \n",
       "3  07 RENTALS - WALKUP APARTMENTS                                2B    402   \n",
       "4  07 RENTALS - WALKUP APARTMENTS                                2A    404   \n",
       "\n",
       "   LOT EASE-MENT BUILDING CLASS AT PRESENT                 ADDRESS  ...  \\\n",
       "0    6                                  C2            153 AVENUE B  ...   \n",
       "1   26                                  C7   234 EAST 4TH   STREET  ...   \n",
       "2   39                                  C7   197 EAST 3RD   STREET  ...   \n",
       "3   21                                  C4     154 EAST 7TH STREET  ...   \n",
       "4   55                                  C2  301 EAST 10TH   STREET  ...   \n",
       "\n",
       "  RESIDENTIAL UNITS  COMMERCIAL UNITS  TOTAL UNITS  LAND SQUARE FEET  \\\n",
       "0                 5                 0            5              1633   \n",
       "1                28                 3           31              4616   \n",
       "2                16                 1           17              2212   \n",
       "3                10                 0           10              2272   \n",
       "4                 6                 0            6              2369   \n",
       "\n",
       "   GROSS SQUARE FEET YEAR BUILT TAX CLASS AT TIME OF SALE  \\\n",
       "0               6440       1900                         2   \n",
       "1              18690       1900                         2   \n",
       "2               7803       1900                         2   \n",
       "3               6794       1913                         2   \n",
       "4               4615       1900                         2   \n",
       "\n",
       "   BUILDING CLASS AT TIME OF SALE  SALE PRICE            SALE DATE  \n",
       "0                              C2     6625000  2017-07-19 00:00:00  \n",
       "1                              C7         -    2016-12-14 00:00:00  \n",
       "2                              C7         -    2016-12-09 00:00:00  \n",
       "3                              C4     3936272  2016-09-23 00:00:00  \n",
       "4                              C2     8000000  2016-11-17 00:00:00  \n",
       "\n",
       "[5 rows x 22 columns]"
      ]
     },
     "execution_count": 2,
     "metadata": {},
     "output_type": "execute_result"
    }
   ],
   "source": [
    "# Load and see the top 5 rows of the dataset\n",
    "df = pd.read_csv('data/nyc-rolling-sales.csv')\n",
    "df.head()"
   ]
  },
  {
   "cell_type": "code",
   "execution_count": 3,
   "id": "08b45650",
   "metadata": {},
   "outputs": [
    {
     "name": "stdout",
     "output_type": "stream",
     "text": [
      "<class 'pandas.core.frame.DataFrame'>\n",
      "RangeIndex: 84548 entries, 0 to 84547\n",
      "Data columns (total 22 columns):\n",
      " #   Column                          Non-Null Count  Dtype \n",
      "---  ------                          --------------  ----- \n",
      " 0   Unnamed: 0                      84548 non-null  int64 \n",
      " 1   BOROUGH                         84548 non-null  int64 \n",
      " 2   NEIGHBORHOOD                    84548 non-null  object\n",
      " 3   BUILDING CLASS CATEGORY         84548 non-null  object\n",
      " 4   TAX CLASS AT PRESENT            84548 non-null  object\n",
      " 5   BLOCK                           84548 non-null  int64 \n",
      " 6   LOT                             84548 non-null  int64 \n",
      " 7   EASE-MENT                       84548 non-null  object\n",
      " 8   BUILDING CLASS AT PRESENT       84548 non-null  object\n",
      " 9   ADDRESS                         84548 non-null  object\n",
      " 10  APARTMENT NUMBER                84548 non-null  object\n",
      " 11  ZIP CODE                        84548 non-null  int64 \n",
      " 12  RESIDENTIAL UNITS               84548 non-null  int64 \n",
      " 13  COMMERCIAL UNITS                84548 non-null  int64 \n",
      " 14  TOTAL UNITS                     84548 non-null  int64 \n",
      " 15  LAND SQUARE FEET                84548 non-null  object\n",
      " 16  GROSS SQUARE FEET               84548 non-null  object\n",
      " 17  YEAR BUILT                      84548 non-null  int64 \n",
      " 18  TAX CLASS AT TIME OF SALE       84548 non-null  int64 \n",
      " 19  BUILDING CLASS AT TIME OF SALE  84548 non-null  object\n",
      " 20  SALE PRICE                      84548 non-null  object\n",
      " 21  SALE DATE                       84548 non-null  object\n",
      "dtypes: int64(10), object(12)\n",
      "memory usage: 14.2+ MB\n"
     ]
    }
   ],
   "source": [
    "# getting basic info about the dataset\n",
    "df.info()"
   ]
  },
  {
   "cell_type": "markdown",
   "id": "17fa985f",
   "metadata": {},
   "source": [
    "BOROUGH has a digit code that represent the property is located in, in order these are Manhattan (1), Bronx (2), Brooklyn (3), Queens (4), and Staten Island (5)."
   ]
  },
  {
   "cell_type": "markdown",
   "id": "f38d3051",
   "metadata": {},
   "source": [
    "# Data Preparation"
   ]
  },
  {
   "cell_type": "code",
   "execution_count": 4,
   "id": "a997d374",
   "metadata": {},
   "outputs": [
    {
     "data": {
      "text/html": [
       "<div>\n",
       "<style scoped>\n",
       "    .dataframe tbody tr th:only-of-type {\n",
       "        vertical-align: middle;\n",
       "    }\n",
       "\n",
       "    .dataframe tbody tr th {\n",
       "        vertical-align: top;\n",
       "    }\n",
       "\n",
       "    .dataframe thead th {\n",
       "        text-align: right;\n",
       "    }\n",
       "</style>\n",
       "<table border=\"1\" class=\"dataframe\">\n",
       "  <thead>\n",
       "    <tr style=\"text-align: right;\">\n",
       "      <th></th>\n",
       "      <th>Unnamed: 0</th>\n",
       "      <th>BOROUGH</th>\n",
       "      <th>BLOCK</th>\n",
       "      <th>LOT</th>\n",
       "      <th>ZIP CODE</th>\n",
       "      <th>RESIDENTIAL UNITS</th>\n",
       "      <th>COMMERCIAL UNITS</th>\n",
       "      <th>TOTAL UNITS</th>\n",
       "      <th>YEAR BUILT</th>\n",
       "      <th>TAX CLASS AT TIME OF SALE</th>\n",
       "    </tr>\n",
       "  </thead>\n",
       "  <tbody>\n",
       "    <tr>\n",
       "      <th>count</th>\n",
       "      <td>84548.000000</td>\n",
       "      <td>84548.000000</td>\n",
       "      <td>84548.000000</td>\n",
       "      <td>84548.000000</td>\n",
       "      <td>84548.000000</td>\n",
       "      <td>84548.000000</td>\n",
       "      <td>84548.000000</td>\n",
       "      <td>84548.000000</td>\n",
       "      <td>84548.000000</td>\n",
       "      <td>84548.000000</td>\n",
       "    </tr>\n",
       "    <tr>\n",
       "      <th>mean</th>\n",
       "      <td>10344.359878</td>\n",
       "      <td>2.998758</td>\n",
       "      <td>4237.218976</td>\n",
       "      <td>376.224015</td>\n",
       "      <td>10731.991614</td>\n",
       "      <td>2.025264</td>\n",
       "      <td>0.193559</td>\n",
       "      <td>2.249184</td>\n",
       "      <td>1789.322976</td>\n",
       "      <td>1.657485</td>\n",
       "    </tr>\n",
       "    <tr>\n",
       "      <th>std</th>\n",
       "      <td>7151.779436</td>\n",
       "      <td>1.289790</td>\n",
       "      <td>3568.263407</td>\n",
       "      <td>658.136814</td>\n",
       "      <td>1290.879147</td>\n",
       "      <td>16.721037</td>\n",
       "      <td>8.713183</td>\n",
       "      <td>18.972584</td>\n",
       "      <td>537.344993</td>\n",
       "      <td>0.819341</td>\n",
       "    </tr>\n",
       "    <tr>\n",
       "      <th>min</th>\n",
       "      <td>4.000000</td>\n",
       "      <td>1.000000</td>\n",
       "      <td>1.000000</td>\n",
       "      <td>1.000000</td>\n",
       "      <td>0.000000</td>\n",
       "      <td>0.000000</td>\n",
       "      <td>0.000000</td>\n",
       "      <td>0.000000</td>\n",
       "      <td>0.000000</td>\n",
       "      <td>1.000000</td>\n",
       "    </tr>\n",
       "    <tr>\n",
       "      <th>25%</th>\n",
       "      <td>4231.000000</td>\n",
       "      <td>2.000000</td>\n",
       "      <td>1322.750000</td>\n",
       "      <td>22.000000</td>\n",
       "      <td>10305.000000</td>\n",
       "      <td>0.000000</td>\n",
       "      <td>0.000000</td>\n",
       "      <td>1.000000</td>\n",
       "      <td>1920.000000</td>\n",
       "      <td>1.000000</td>\n",
       "    </tr>\n",
       "    <tr>\n",
       "      <th>50%</th>\n",
       "      <td>8942.000000</td>\n",
       "      <td>3.000000</td>\n",
       "      <td>3311.000000</td>\n",
       "      <td>50.000000</td>\n",
       "      <td>11209.000000</td>\n",
       "      <td>1.000000</td>\n",
       "      <td>0.000000</td>\n",
       "      <td>1.000000</td>\n",
       "      <td>1940.000000</td>\n",
       "      <td>2.000000</td>\n",
       "    </tr>\n",
       "    <tr>\n",
       "      <th>75%</th>\n",
       "      <td>15987.250000</td>\n",
       "      <td>4.000000</td>\n",
       "      <td>6281.000000</td>\n",
       "      <td>1001.000000</td>\n",
       "      <td>11357.000000</td>\n",
       "      <td>2.000000</td>\n",
       "      <td>0.000000</td>\n",
       "      <td>2.000000</td>\n",
       "      <td>1965.000000</td>\n",
       "      <td>2.000000</td>\n",
       "    </tr>\n",
       "    <tr>\n",
       "      <th>max</th>\n",
       "      <td>26739.000000</td>\n",
       "      <td>5.000000</td>\n",
       "      <td>16322.000000</td>\n",
       "      <td>9106.000000</td>\n",
       "      <td>11694.000000</td>\n",
       "      <td>1844.000000</td>\n",
       "      <td>2261.000000</td>\n",
       "      <td>2261.000000</td>\n",
       "      <td>2017.000000</td>\n",
       "      <td>4.000000</td>\n",
       "    </tr>\n",
       "  </tbody>\n",
       "</table>\n",
       "</div>"
      ],
      "text/plain": [
       "         Unnamed: 0       BOROUGH         BLOCK           LOT      ZIP CODE  \\\n",
       "count  84548.000000  84548.000000  84548.000000  84548.000000  84548.000000   \n",
       "mean   10344.359878      2.998758   4237.218976    376.224015  10731.991614   \n",
       "std     7151.779436      1.289790   3568.263407    658.136814   1290.879147   \n",
       "min        4.000000      1.000000      1.000000      1.000000      0.000000   \n",
       "25%     4231.000000      2.000000   1322.750000     22.000000  10305.000000   \n",
       "50%     8942.000000      3.000000   3311.000000     50.000000  11209.000000   \n",
       "75%    15987.250000      4.000000   6281.000000   1001.000000  11357.000000   \n",
       "max    26739.000000      5.000000  16322.000000   9106.000000  11694.000000   \n",
       "\n",
       "       RESIDENTIAL UNITS  COMMERCIAL UNITS   TOTAL UNITS    YEAR BUILT  \\\n",
       "count       84548.000000      84548.000000  84548.000000  84548.000000   \n",
       "mean            2.025264          0.193559      2.249184   1789.322976   \n",
       "std            16.721037          8.713183     18.972584    537.344993   \n",
       "min             0.000000          0.000000      0.000000      0.000000   \n",
       "25%             0.000000          0.000000      1.000000   1920.000000   \n",
       "50%             1.000000          0.000000      1.000000   1940.000000   \n",
       "75%             2.000000          0.000000      2.000000   1965.000000   \n",
       "max          1844.000000       2261.000000   2261.000000   2017.000000   \n",
       "\n",
       "       TAX CLASS AT TIME OF SALE  \n",
       "count               84548.000000  \n",
       "mean                    1.657485  \n",
       "std                     0.819341  \n",
       "min                     1.000000  \n",
       "25%                     1.000000  \n",
       "50%                     2.000000  \n",
       "75%                     2.000000  \n",
       "max                     4.000000  "
      ]
     },
     "execution_count": 4,
     "metadata": {},
     "output_type": "execute_result"
    }
   ],
   "source": [
    "df.describe()"
   ]
  },
  {
   "cell_type": "code",
   "execution_count": 5,
   "id": "52000730",
   "metadata": {},
   "outputs": [],
   "source": [
    "# drop the Unnamed:0 and EASE-MENT column as it has no used and has a lot null value\n",
    "df = df.drop(columns=['Unnamed: 0', 'EASE-MENT'], axis=1)"
   ]
  },
  {
   "cell_type": "code",
   "execution_count": 6,
   "id": "cb5c53d4",
   "metadata": {},
   "outputs": [],
   "source": [
    "# change the data type format of some columns\n",
    "\n",
    "num_type = ['LAND SQUARE FEET', 'GROSS SQUARE FEET', 'SALE PRICE', 'BOROUGH']\n",
    "\n",
    "for i in num_type:\n",
    "    df[i] = pd.to_numeric(df[i], errors='coerce')\n",
    "    \n",
    "df['SALE DATE'] = pd.to_datetime(df['SALE DATE'], errors='coerce')"
   ]
  },
  {
   "cell_type": "code",
   "execution_count": 7,
   "id": "58b8cfaf",
   "metadata": {},
   "outputs": [
    {
     "data": {
      "text/plain": [
       "BOROUGH                               0\n",
       "NEIGHBORHOOD                          0\n",
       "BUILDING CLASS CATEGORY               0\n",
       "TAX CLASS AT PRESENT                  0\n",
       "BLOCK                                 0\n",
       "LOT                                   0\n",
       "BUILDING CLASS AT PRESENT             0\n",
       "ADDRESS                               0\n",
       "APARTMENT NUMBER                      0\n",
       "ZIP CODE                              0\n",
       "RESIDENTIAL UNITS                     0\n",
       "COMMERCIAL UNITS                      0\n",
       "TOTAL UNITS                           0\n",
       "LAND SQUARE FEET                  26252\n",
       "GROSS SQUARE FEET                 27612\n",
       "YEAR BUILT                            0\n",
       "TAX CLASS AT TIME OF SALE             0\n",
       "BUILDING CLASS AT TIME OF SALE        0\n",
       "SALE PRICE                        14561\n",
       "SALE DATE                             0\n",
       "dtype: int64"
      ]
     },
     "execution_count": 7,
     "metadata": {},
     "output_type": "execute_result"
    }
   ],
   "source": [
    "# checking the missing value\n",
    "df.isnull().sum()"
   ]
  },
  {
   "cell_type": "code",
   "execution_count": 8,
   "id": "07e19018",
   "metadata": {},
   "outputs": [],
   "source": [
    "# Fill in the missing value from one column to another\n",
    "\n",
    "df['LAND SQUARE FEET'].fillna(df['GROSS SQUARE FEET'], inplace=True)\n",
    "df['GROSS SQUARE FEET'].fillna(df['LAND SQUARE FEET'], inplace=True)"
   ]
  },
  {
   "cell_type": "code",
   "execution_count": 9,
   "id": "20dee616",
   "metadata": {},
   "outputs": [
    {
     "data": {
      "text/plain": [
       "BOROUGH                               0\n",
       "NEIGHBORHOOD                          0\n",
       "BUILDING CLASS CATEGORY               0\n",
       "TAX CLASS AT PRESENT                  0\n",
       "BLOCK                                 0\n",
       "LOT                                   0\n",
       "BUILDING CLASS AT PRESENT             0\n",
       "ADDRESS                               0\n",
       "APARTMENT NUMBER                      0\n",
       "ZIP CODE                              0\n",
       "RESIDENTIAL UNITS                     0\n",
       "COMMERCIAL UNITS                      0\n",
       "TOTAL UNITS                           0\n",
       "LAND SQUARE FEET                  26246\n",
       "GROSS SQUARE FEET                 26246\n",
       "YEAR BUILT                            0\n",
       "TAX CLASS AT TIME OF SALE             0\n",
       "BUILDING CLASS AT TIME OF SALE        0\n",
       "SALE PRICE                        14561\n",
       "SALE DATE                             0\n",
       "dtype: int64"
      ]
     },
     "execution_count": 9,
     "metadata": {},
     "output_type": "execute_result"
    }
   ],
   "source": [
    "df.isnull().sum()"
   ]
  },
  {
   "cell_type": "code",
   "execution_count": 10,
   "id": "b446d907",
   "metadata": {},
   "outputs": [],
   "source": [
    "# filtering data that's not null, because we just need the data that has not null value\n",
    "\n",
    "df = df[(df['LAND SQUARE FEET'].notnull()) & (df['GROSS SQUARE FEET'].notnull()) & (df['SALE PRICE'].notnull())]"
   ]
  },
  {
   "cell_type": "code",
   "execution_count": 11,
   "id": "e86b2a3e",
   "metadata": {
    "scrolled": false
   },
   "outputs": [
    {
     "data": {
      "text/plain": [
       "BOROUGH                           0\n",
       "NEIGHBORHOOD                      0\n",
       "BUILDING CLASS CATEGORY           0\n",
       "TAX CLASS AT PRESENT              0\n",
       "BLOCK                             0\n",
       "LOT                               0\n",
       "BUILDING CLASS AT PRESENT         0\n",
       "ADDRESS                           0\n",
       "APARTMENT NUMBER                  0\n",
       "ZIP CODE                          0\n",
       "RESIDENTIAL UNITS                 0\n",
       "COMMERCIAL UNITS                  0\n",
       "TOTAL UNITS                       0\n",
       "LAND SQUARE FEET                  0\n",
       "GROSS SQUARE FEET                 0\n",
       "YEAR BUILT                        0\n",
       "TAX CLASS AT TIME OF SALE         0\n",
       "BUILDING CLASS AT TIME OF SALE    0\n",
       "SALE PRICE                        0\n",
       "SALE DATE                         0\n",
       "dtype: int64"
      ]
     },
     "execution_count": 11,
     "metadata": {},
     "output_type": "execute_result"
    }
   ],
   "source": [
    "df.isnull().sum()"
   ]
  },
  {
   "cell_type": "code",
   "execution_count": 12,
   "id": "66f4ad2b",
   "metadata": {},
   "outputs": [
    {
     "data": {
      "text/plain": [
       "350"
      ]
     },
     "execution_count": 12,
     "metadata": {},
     "output_type": "execute_result"
    }
   ],
   "source": [
    "# check data duplicate\n",
    "df.duplicated().sum()"
   ]
  },
  {
   "cell_type": "code",
   "execution_count": 13,
   "id": "e6f8208e",
   "metadata": {},
   "outputs": [],
   "source": [
    "# drop the data duplicate\n",
    "df.drop_duplicates(inplace=True)"
   ]
  },
  {
   "cell_type": "code",
   "execution_count": 14,
   "id": "6538da1e",
   "metadata": {},
   "outputs": [
    {
     "data": {
      "text/plain": [
       "0"
      ]
     },
     "execution_count": 14,
     "metadata": {},
     "output_type": "execute_result"
    }
   ],
   "source": [
    "df.duplicated().sum()"
   ]
  },
  {
   "cell_type": "markdown",
   "id": "6eaa9f9f",
   "metadata": {},
   "source": [
    "# Measure of Central Tendency"
   ]
  },
  {
   "cell_type": "code",
   "execution_count": 15,
   "id": "bf68c875",
   "metadata": {},
   "outputs": [
    {
     "name": "stdout",
     "output_type": "stream",
     "text": [
      "<class 'pandas.core.frame.DataFrame'>\n",
      "Int64Index: 48453 entries, 0 to 84547\n",
      "Data columns (total 20 columns):\n",
      " #   Column                          Non-Null Count  Dtype         \n",
      "---  ------                          --------------  -----         \n",
      " 0   BOROUGH                         48453 non-null  int64         \n",
      " 1   NEIGHBORHOOD                    48453 non-null  object        \n",
      " 2   BUILDING CLASS CATEGORY         48453 non-null  object        \n",
      " 3   TAX CLASS AT PRESENT            48453 non-null  object        \n",
      " 4   BLOCK                           48453 non-null  int64         \n",
      " 5   LOT                             48453 non-null  int64         \n",
      " 6   BUILDING CLASS AT PRESENT       48453 non-null  object        \n",
      " 7   ADDRESS                         48453 non-null  object        \n",
      " 8   APARTMENT NUMBER                48453 non-null  object        \n",
      " 9   ZIP CODE                        48453 non-null  int64         \n",
      " 10  RESIDENTIAL UNITS               48453 non-null  int64         \n",
      " 11  COMMERCIAL UNITS                48453 non-null  int64         \n",
      " 12  TOTAL UNITS                     48453 non-null  int64         \n",
      " 13  LAND SQUARE FEET                48453 non-null  float64       \n",
      " 14  GROSS SQUARE FEET               48453 non-null  float64       \n",
      " 15  YEAR BUILT                      48453 non-null  int64         \n",
      " 16  TAX CLASS AT TIME OF SALE       48453 non-null  int64         \n",
      " 17  BUILDING CLASS AT TIME OF SALE  48453 non-null  object        \n",
      " 18  SALE PRICE                      48453 non-null  float64       \n",
      " 19  SALE DATE                       48453 non-null  datetime64[ns]\n",
      "dtypes: datetime64[ns](1), float64(3), int64(9), object(7)\n",
      "memory usage: 7.8+ MB\n"
     ]
    }
   ],
   "source": [
    "df.info()"
   ]
  },
  {
   "cell_type": "markdown",
   "id": "776161ba",
   "metadata": {},
   "source": [
    "## Mean"
   ]
  },
  {
   "cell_type": "code",
   "execution_count": 16,
   "id": "16f75f9b",
   "metadata": {},
   "outputs": [
    {
     "name": "stdout",
     "output_type": "stream",
     "text": [
      "Mean of :\n",
      " - Residential Units =  2.52\n",
      " - Commercial Units =  0.24\n",
      " - Total Units =  2.77\n",
      " - Land Square Feet =  3547.6\n",
      " - Gross Square Feet =  3799.64\n",
      " - Sale Price =  1180256.23\n"
     ]
    }
   ],
   "source": [
    "# calculating mean of Residential Units, Commercial Units, Total Units, Land sq ft, Gross sq ft, and also Sale Price.\n",
    "\n",
    "print('Mean of :')\n",
    "\n",
    "res_units = df['RESIDENTIAL UNITS'].mean()\n",
    "print(' - Residential Units = ', round(res_units, 2))\n",
    "\n",
    "comm_units = df['COMMERCIAL UNITS'].mean()\n",
    "print(' - Commercial Units = ', round(comm_units, 2))\n",
    "\n",
    "tot_units = df['TOTAL UNITS'].mean()\n",
    "print(' - Total Units = ', round(tot_units, 2))\n",
    "\n",
    "land_sqft = df['LAND SQUARE FEET'].mean()\n",
    "print(' - Land Square Feet = ', round(land_sqft, 2))\n",
    "\n",
    "gross_sqft = df['GROSS SQUARE FEET'].mean()\n",
    "print(' - Gross Square Feet = ', round(gross_sqft, 2))\n",
    "\n",
    "sale_price = df['SALE PRICE'].mean()\n",
    "print(' - Sale Price = ', round(sale_price, 2))"
   ]
  },
  {
   "cell_type": "code",
   "execution_count": 17,
   "id": "123a0f14",
   "metadata": {},
   "outputs": [
    {
     "name": "stdout",
     "output_type": "stream",
     "text": [
      "Mean of Sale Price per Borough\n",
      " - Manhattan :  19104022.33\n",
      " - Bronx :  594677.12\n",
      " - Brooklyn :  841083.4\n",
      " - Queens :  935756.61\n",
      " - State Island :  575201.21\n"
     ]
    }
   ],
   "source": [
    "# calculating mean of Sale Price per Borough\n",
    "\n",
    "## BOROUGH has a digit code that represent the property is located in,\n",
    "## in order these are Manhattan (1), Bronx (2), Brooklyn (3), Queens (4), and Staten Island (5).\n",
    "\n",
    "print('Mean of Sale Price per Borough')\n",
    "\n",
    "man_mean = df[df['BOROUGH'] == 1]['SALE PRICE'].mean()\n",
    "print(' - Manhattan : ', round(man_mean, 2))\n",
    "\n",
    "bx_mean = df[df['BOROUGH'] == 2]['SALE PRICE'].mean()\n",
    "print(' - Bronx : ', round(bx_mean, 2))\n",
    "\n",
    "brok_mean = df[df['BOROUGH'] == 3]['SALE PRICE'].mean()\n",
    "print(' - Brooklyn : ', round(brok_mean, 2))\n",
    "\n",
    "quen_mean = df[df['BOROUGH'] == 4]['SALE PRICE'].mean()\n",
    "print(' - Queens : ', round(quen_mean, 2))\n",
    "\n",
    "stil_mean = df[df['BOROUGH'] == 5]['SALE PRICE'].mean()\n",
    "print(' - State Island : ', round(stil_mean, 2))"
   ]
  },
  {
   "cell_type": "code",
   "execution_count": 18,
   "id": "3f37924f",
   "metadata": {},
   "outputs": [
    {
     "name": "stdout",
     "output_type": "stream",
     "text": [
      "Mean of Land Square Feet per Borough :\n",
      " - Manhattan :  5844.2\n",
      " - Bronx :  3909.01\n",
      " - Brooklyn :  2016.06\n",
      " - Queens :  4006.23\n",
      " - State Island :  8534.15\n",
      "\n",
      "Mean of Gross Square Feet per Borough :\n",
      " - Manhattan :  34013.89\n",
      " - Bronx :  4489.15\n",
      " - Brooklyn :  2481.76\n",
      " - Queens :  2992.09\n",
      " - State Island :  4762.13\n"
     ]
    }
   ],
   "source": [
    "# calculating mean of Land Square Feet and Gross Square Feet per Borough\n",
    "\n",
    "## BOROUGH has a digit code that represent the property is located in,\n",
    "## in order these are Manhattan (1), Bronx (2), Brooklyn (3), Queens (4), and Staten Island (5).\n",
    "\n",
    "print('Mean of Land Square Feet per Borough :')\n",
    "\n",
    "man_mean_lfs = df[df['BOROUGH'] == 1]['LAND SQUARE FEET'].mean()\n",
    "print(' - Manhattan : ', round(man_mean_lfs, 2))\n",
    "\n",
    "bx_mean_lfs = df[df['BOROUGH'] == 2]['LAND SQUARE FEET'].mean()\n",
    "print(' - Bronx : ', round(bx_mean_lfs, 2))\n",
    "\n",
    "brok_mean_lfs = df[df['BOROUGH'] == 3]['LAND SQUARE FEET'].mean()\n",
    "print(' - Brooklyn : ', round(brok_mean_lfs, 2))\n",
    "\n",
    "quen_mean_lfs = df[df['BOROUGH'] == 4]['LAND SQUARE FEET'].mean()\n",
    "print(' - Queens : ', round(quen_mean_lfs, 2))\n",
    "\n",
    "stil_mean_lfs = df[df['BOROUGH'] == 5]['LAND SQUARE FEET'].mean()\n",
    "print(' - State Island : ', round(stil_mean_lfs, 2))\n",
    "\n",
    "\n",
    "\n",
    "print('\\nMean of Gross Square Feet per Borough :')\n",
    "\n",
    "man_mean_gfs = df[df['BOROUGH'] == 1]['GROSS SQUARE FEET'].mean()\n",
    "print(' - Manhattan : ', round(man_mean_gfs, 2))\n",
    "\n",
    "bx_mean_gfs = df[df['BOROUGH'] == 2]['GROSS SQUARE FEET'].mean()\n",
    "print(' - Bronx : ', round(bx_mean_gfs, 2))\n",
    "\n",
    "brok_mean_gfs = df[df['BOROUGH'] == 3]['GROSS SQUARE FEET'].mean()\n",
    "print(' - Brooklyn : ', round(brok_mean_gfs, 2))\n",
    "\n",
    "quen_mean_gfs = df[df['BOROUGH'] == 4]['GROSS SQUARE FEET'].mean()\n",
    "print(' - Queens : ', round(quen_mean_gfs, 2))\n",
    "\n",
    "stil_mean_gfs = df[df['BOROUGH'] == 5]['GROSS SQUARE FEET'].mean()\n",
    "print(' - State Island : ', round(stil_mean_gfs, 2))"
   ]
  },
  {
   "cell_type": "markdown",
   "id": "9c836d23",
   "metadata": {},
   "source": [
    "## Median"
   ]
  },
  {
   "cell_type": "code",
   "execution_count": 19,
   "id": "ea85c1dd",
   "metadata": {},
   "outputs": [
    {
     "name": "stdout",
     "output_type": "stream",
     "text": [
      "Median of :\n",
      " - Residential Units =  1.0\n",
      " - Commercial Units =  0.0\n",
      " - Total Units =  1.0\n",
      " - Land Square Feet =  2150.0\n",
      " - Gross Square Feet =  1632.0\n",
      " - Sale Price =  485000.0\n"
     ]
    }
   ],
   "source": [
    "# calculating median of Residential Units, Commercial Units, Total Units, Land sq ft, Gross sq ft, and also Sale Price.\n",
    "\n",
    "print('Median of :')\n",
    "\n",
    "res_units_med = df['RESIDENTIAL UNITS'].median()\n",
    "print(' - Residential Units = ', round(res_units_med, 2))\n",
    "\n",
    "comm_units_med = df['COMMERCIAL UNITS'].median()\n",
    "print(' - Commercial Units = ', round(comm_units_med, 2))\n",
    "\n",
    "tot_units_med = df['TOTAL UNITS'].median()\n",
    "print(' - Total Units = ', round(tot_units_med, 2))\n",
    "\n",
    "land_sqft_med = df['LAND SQUARE FEET'].median()\n",
    "print(' - Land Square Feet = ', round(land_sqft_med, 2))\n",
    "\n",
    "gross_sqft_med = df['GROSS SQUARE FEET'].median()\n",
    "print(' - Gross Square Feet = ', round(gross_sqft_med, 2))\n",
    "\n",
    "sale_price_med = df['SALE PRICE'].median()\n",
    "print(' - Sale Price = ', round(sale_price_med, 2))"
   ]
  },
  {
   "cell_type": "code",
   "execution_count": 20,
   "id": "94af2382",
   "metadata": {},
   "outputs": [
    {
     "name": "stdout",
     "output_type": "stream",
     "text": [
      "Sale Price per Borough\n",
      " - Manhattan :  6500000.0\n",
      " - Bronx :  274897.0\n",
      " - Brooklyn :  425605.0\n",
      " - Queens :  630000.0\n",
      " - State Island :  484000.0\n"
     ]
    }
   ],
   "source": [
    "# calculating Sale Price's median per Borough\n",
    "\n",
    "## BOROUGH has a digit code that represent the property is located in,\n",
    "## in order these are Manhattan (1), Bronx (2), Brooklyn (3), Queens (4), and Staten Island (5).\n",
    "\n",
    "print('Sale Price per Borough')\n",
    "\n",
    "man_med = df[df['BOROUGH'] == 1]['SALE PRICE'].median()\n",
    "print(' - Manhattan : ', round(man_med, 2))\n",
    "\n",
    "bx_med = df[df['BOROUGH'] == 2]['SALE PRICE'].median()\n",
    "print(' - Bronx : ', round(bx_med, 2))\n",
    "\n",
    "brok_med = df[df['BOROUGH'] == 3]['SALE PRICE'].median()\n",
    "print(' - Brooklyn : ', round(brok_med, 2))\n",
    "\n",
    "quen_med = df[df['BOROUGH'] == 4]['SALE PRICE'].median()\n",
    "print(' - Queens : ', round(quen_med, 2))\n",
    "\n",
    "stil_med = df[df['BOROUGH'] == 5]['SALE PRICE'].median()\n",
    "print(' - State Island : ', round(stil_med, 2))"
   ]
  },
  {
   "cell_type": "markdown",
   "id": "1b248ad7",
   "metadata": {},
   "source": [
    "## Modus"
   ]
  },
  {
   "cell_type": "code",
   "execution_count": 21,
   "id": "15227420",
   "metadata": {},
   "outputs": [
    {
     "name": "stdout",
     "output_type": "stream",
     "text": [
      "Mode of Neighborhood per Borough :\n",
      " - Manhattan :  ['HARLEM-CENTRAL']\n",
      " - Bronx :  ['RIVERDALE']\n",
      " - Brooklyn :  ['BEDFORD STUYVESANT']\n",
      " - Queens :  ['FLUSHING-NORTH']\n",
      " - State Island :  ['GREAT KILLS']\n"
     ]
    }
   ],
   "source": [
    "# getting Neighborhood mode in each Borough\n",
    "\n",
    "\n",
    "print('Mode of Neighborhood per Borough :')\n",
    "\n",
    "man_mod = df[df['BOROUGH'] == 1]['NEIGHBORHOOD'].mode()\n",
    "print(' - Manhattan : ', man_mod.values)\n",
    "\n",
    "bx_mod = df[df['BOROUGH'] == 2]['NEIGHBORHOOD'].mode()\n",
    "print(' - Bronx : ', bx_mod.values)\n",
    "\n",
    "brok_mod = df[df['BOROUGH'] == 3]['NEIGHBORHOOD'].mode()\n",
    "print(' - Brooklyn : ', brok_mod.values)\n",
    "\n",
    "quen_mod = df[df['BOROUGH'] == 4]['NEIGHBORHOOD'].mode()\n",
    "print(' - Queens : ', quen_mod.values)\n",
    "\n",
    "stil_mod = df[df['BOROUGH'] == 5]['NEIGHBORHOOD'].mode()\n",
    "print(' - State Island : ', stil_mod.values)"
   ]
  },
  {
   "cell_type": "code",
   "execution_count": 22,
   "id": "f2f0c470",
   "metadata": {},
   "outputs": [
    {
     "name": "stdout",
     "output_type": "stream",
     "text": [
      "Mode of some columns :\n",
      " - Borough :  [3]\n",
      " - Neighborhood :  ['BEDFORD STUYVESANT']\n",
      " - Building Class Category :  ['01 ONE FAMILY DWELLINGS                    ']\n",
      " - Building Class at Present :  ['A1']\n",
      " - Year Built :  [1920]\n",
      " - Building Class at time of sale :  ['A1']\n"
     ]
    }
   ],
   "source": [
    "# getting Mode of some columns\n",
    "\n",
    "## BOROUGH has a digit code that represent the property is located in,\n",
    "## in order these are Manhattan (1), Bronx (2), Brooklyn (3), Queens (4), and Staten Island (5).\n",
    "\n",
    "print('Mode of some columns :')\n",
    "\n",
    "bor_mod = df['BOROUGH'].mode()\n",
    "print(' - Borough : ', bor_mod.values)\n",
    "\n",
    "nh_mod = df['NEIGHBORHOOD'].mode()\n",
    "print(' - Neighborhood : ', nh_mod.values)\n",
    "\n",
    "bcc_mod = df['BUILDING CLASS CATEGORY'].mode()\n",
    "print(' - Building Class Category : ', bcc_mod.values)\n",
    "\n",
    "bcap_mod = df['BUILDING CLASS AT PRESENT'].mode()\n",
    "print(' - Building Class at Present : ', bcap_mod.values)\n",
    "\n",
    "year_mod = df['YEAR BUILT'].mode()\n",
    "print(' - Year Built : ', year_mod.values)\n",
    "\n",
    "bcas_mod = df['BUILDING CLASS AT TIME OF SALE'].mode()\n",
    "print(' - Building Class at time of sale : ', bcas_mod.values)"
   ]
  },
  {
   "cell_type": "markdown",
   "id": "7e7f64e5",
   "metadata": {},
   "source": [
    "# Measure of Spread"
   ]
  },
  {
   "cell_type": "markdown",
   "id": "0226a54e",
   "metadata": {},
   "source": [
    "## Variance"
   ]
  },
  {
   "cell_type": "code",
   "execution_count": 23,
   "id": "1d06c327",
   "metadata": {},
   "outputs": [
    {
     "name": "stdout",
     "output_type": "stream",
     "text": [
      "Variance of :\n",
      " - Residential Units =  291.96\n",
      " - Commercial Units =  116.28\n",
      " - Total Units =  413.05\n",
      " - Land Square Feet =  1579139015.9\n",
      " - Gross Square Feet =  1499569322.63\n",
      " - Sale Price =  180605546136479.6\n"
     ]
    }
   ],
   "source": [
    "# calculating variance of some numeric columns\n",
    "\n",
    "print('Variance of :')\n",
    "\n",
    "var_res_units = df['RESIDENTIAL UNITS'].var(ddof=1)\n",
    "print(' - Residential Units = ', round(var_res_units, 2))\n",
    "\n",
    "var_comm_units = df['COMMERCIAL UNITS'].var(ddof=1)\n",
    "print(' - Commercial Units = ', round(var_comm_units, 2))\n",
    "\n",
    "var_tot_units = df['TOTAL UNITS'].var(ddof=1)\n",
    "print(' - Total Units = ', round(var_tot_units, 2))\n",
    "\n",
    "var_land_sqft = df['LAND SQUARE FEET'].var(ddof=1)\n",
    "print(' - Land Square Feet = ', round(var_land_sqft, 2))\n",
    "\n",
    "var_gross_sqft = df['GROSS SQUARE FEET'].var(ddof=1)\n",
    "print(' - Gross Square Feet = ', round(var_gross_sqft, 2))\n",
    "\n",
    "var_sale_price = df['SALE PRICE'].var(ddof=1)\n",
    "print(' - Sale Price = ', round(var_sale_price, 2))"
   ]
  },
  {
   "cell_type": "markdown",
   "id": "d783b010",
   "metadata": {},
   "source": [
    "##  Standard Deviation"
   ]
  },
  {
   "cell_type": "code",
   "execution_count": 24,
   "id": "f5f70dfb",
   "metadata": {},
   "outputs": [
    {
     "name": "stdout",
     "output_type": "stream",
     "text": [
      "Standard deviation of :\n",
      " - Residential Units =  17.09\n",
      " - Commercial Units =  10.78\n",
      " - Total Units =  20.32\n",
      " - Land Square Feet =  39738.38\n",
      " - Gross Square Feet =  38724.27\n",
      " - Sale Price =  13438956.29\n"
     ]
    }
   ],
   "source": [
    "# calculating standard deviation of some numeric columns\n",
    "\n",
    "print('Standard deviation of :')\n",
    "\n",
    "std_res_units = df['RESIDENTIAL UNITS'].std(ddof=1)\n",
    "print(' - Residential Units = ', round(std_res_units, 2))\n",
    "\n",
    "std_comm_units = df['COMMERCIAL UNITS'].std(ddof=1)\n",
    "print(' - Commercial Units = ', round(std_comm_units, 2))\n",
    "\n",
    "std_tot_units = df['TOTAL UNITS'].std(ddof=1)\n",
    "print(' - Total Units = ', round(std_tot_units, 2))\n",
    "\n",
    "std_land_sqft = df['LAND SQUARE FEET'].std(ddof=1)\n",
    "print(' - Land Square Feet = ', round(std_land_sqft, 2))\n",
    "\n",
    "std_gross_sqft = df['GROSS SQUARE FEET'].std(ddof=1)\n",
    "print(' - Gross Square Feet = ', round(std_gross_sqft, 2))\n",
    "\n",
    "std_sale_price = df['SALE PRICE'].std(ddof=1)\n",
    "print(' - Sale Price = ', round(std_sale_price, 2))"
   ]
  },
  {
   "cell_type": "markdown",
   "id": "9eefa65a",
   "metadata": {},
   "source": [
    "## Range"
   ]
  },
  {
   "cell_type": "code",
   "execution_count": 25,
   "id": "6e8299e2",
   "metadata": {},
   "outputs": [
    {
     "name": "stdout",
     "output_type": "stream",
     "text": [
      "Range of :\n",
      " - Sale Price :  2210000000.0\n",
      " - Land Square Feet :  4252327.0\n",
      " - Gross Square Feet : 4252327.0\n"
     ]
    }
   ],
   "source": [
    "# calculating range of Sale Price, Land Square Feet, and Gross Square Feet\n",
    "\n",
    "sp_range = np.ptp(df['SALE PRICE'])\n",
    "lsf_range = np.ptp(df['LAND SQUARE FEET'])\n",
    "gsf_range = np.ptp(df['GROSS SQUARE FEET'])\n",
    "\n",
    "print('Range of :')\n",
    "print(' - Sale Price : ', sp_range)\n",
    "print(' - Land Square Feet : ', lsf_range)\n",
    "print(' - Gross Square Feet :', gsf_range)"
   ]
  },
  {
   "cell_type": "code",
   "execution_count": 26,
   "id": "1140e95c",
   "metadata": {},
   "outputs": [
    {
     "name": "stdout",
     "output_type": "stream",
     "text": [
      "Range of Sale Price per Borough :\n",
      " - Manhattan :  2209999999.0\n",
      " - Bronx :  110000000.0\n",
      " - Brooklyn :  345000000.0\n",
      " - Queens :  257499999.0\n",
      " - State Island :  121999999.0\n"
     ]
    }
   ],
   "source": [
    "# calculating range of Sale Price per Borough\n",
    "\n",
    "print('Range of Sale Price per Borough :')\n",
    "\n",
    "sp_man_range = np.ptp(df[df['BOROUGH'] == 1]['SALE PRICE'])\n",
    "print(' - Manhattan : ', sp_man_range)\n",
    "\n",
    "sp_bx_range = np.ptp(df[df['BOROUGH'] == 2]['SALE PRICE'])\n",
    "print(' - Bronx : ', sp_bx_range)\n",
    "\n",
    "sp_brk_range = np.ptp(df[df['BOROUGH'] == 3]['SALE PRICE'])\n",
    "print(' - Brooklyn : ', sp_brk_range)\n",
    "\n",
    "sp_qn_range = np.ptp(df[df['BOROUGH'] == 4]['SALE PRICE'])\n",
    "print(' - Queens : ', sp_qn_range)\n",
    "\n",
    "sp_si_range = np.ptp(df[df['BOROUGH'] == 5]['SALE PRICE'])\n",
    "print(' - State Island : ', sp_si_range)"
   ]
  },
  {
   "cell_type": "markdown",
   "id": "8727c971",
   "metadata": {},
   "source": [
    "# Probability Distribution"
   ]
  },
  {
   "cell_type": "code",
   "execution_count": 27,
   "id": "f9182c56",
   "metadata": {},
   "outputs": [
    {
     "data": {
      "text/plain": [
       "<seaborn.axisgrid.FacetGrid at 0x1f8829d4040>"
      ]
     },
     "execution_count": 27,
     "metadata": {},
     "output_type": "execute_result"
    },
    {
     "data": {
      "image/png": "[encoded data removed]",
      "text/plain": [
       "<Figure size 360x360 with 1 Axes>"
      ]
     },
     "metadata": {
      "needs_background": "light"
     },
     "output_type": "display_data"
    }
   ],
   "source": [
    "sb.displot(df['SALE PRICE'], bins=100, kde=True, color='orange')"
   ]
  },
  {
   "cell_type": "code",
   "execution_count": 28,
   "id": "7df69b7e",
   "metadata": {},
   "outputs": [],
   "source": [
    "df_new = df[(df['SALE PRICE'] > 10000) & (df['SALE PRICE'] < 10000000)]"
   ]
  },
  {
   "cell_type": "code",
   "execution_count": 29,
   "id": "4b3bedc3",
   "metadata": {},
   "outputs": [
    {
     "data": {
      "text/plain": [
       "<seaborn.axisgrid.FacetGrid at 0x1f88250f850>"
      ]
     },
     "execution_count": 29,
     "metadata": {},
     "output_type": "execute_result"
    },
    {
     "data": {
      "image/png": "[encoded data removed]",
      "text/plain": [
       "<Figure size 360x360 with 1 Axes>"
      ]
     },
     "metadata": {
      "needs_background": "light"
     },
     "output_type": "display_data"
    }
   ],
   "source": [
    "sb.displot(df_new['SALE PRICE'], bins=100, kde=True, color='orange')"
   ]
  },
  {
   "cell_type": "code",
   "execution_count": 30,
   "id": "3c0d6f92",
   "metadata": {},
   "outputs": [
    {
     "name": "stderr",
     "output_type": "stream",
     "text": [
      "C:\\Users\\LENOVO\\AppData\\Local\\Temp\\ipykernel_4992\\2586534485.py:1: SettingWithCopyWarning: \n",
      "A value is trying to be set on a copy of a slice from a DataFrame.\n",
      "Try using .loc[row_indexer,col_indexer] = value instead\n",
      "\n",
      "See the caveats in the documentation: https://pandas.pydata.org/pandas-docs/stable/user_guide/indexing.html#returning-a-view-versus-a-copy\n",
      "  df_new['LOG PRICE'] = np.log(df_new['SALE PRICE'])\n"
     ]
    }
   ],
   "source": [
    "df_new['LOG PRICE'] = np.log(df_new['SALE PRICE'])"
   ]
  },
  {
   "cell_type": "code",
   "execution_count": 31,
   "id": "33d240c4",
   "metadata": {},
   "outputs": [
    {
     "data": {
      "text/plain": [
       "<seaborn.axisgrid.FacetGrid at 0x1f8824f1700>"
      ]
     },
     "execution_count": 31,
     "metadata": {},
     "output_type": "execute_result"
    },
    {
     "data": {
      "image/png": "[encoded data removed]",
      "text/plain": [
       "<Figure size 360x360 with 1 Axes>"
      ]
     },
     "metadata": {
      "needs_background": "light"
     },
     "output_type": "display_data"
    }
   ],
   "source": [
    "sb.displot(df_new['LOG PRICE'], bins=100, kde=True, color='orange')"
   ]
  },
  {
   "cell_type": "markdown",
   "id": "21d7f9d0",
   "metadata": {},
   "source": [
    "As we can se on a plot, the probability distribution is close to normal (the skewness is close to 0 which means its almost symmetrical"
   ]
  },
  {
   "cell_type": "markdown",
   "id": "29541a32",
   "metadata": {},
   "source": [
    "# Confidence Interval"
   ]
  },
  {
   "cell_type": "markdown",
   "id": "34294596",
   "metadata": {},
   "source": [
    "Calculating confidence interval for the **Queens** properties that has sale price > 1.000.000\n",
    "\n",
    "*BOROUGH has a digit code that represent the property is located in,*\n",
    "<br>\n",
    "*in order these are Manhattan (1), Bronx (2), Brooklyn (3), Queens (4), and Staten Island (5).*"
   ]
  },
  {
   "cell_type": "code",
   "execution_count": 32,
   "id": "890cea3f",
   "metadata": {},
   "outputs": [
    {
     "data": {
      "text/html": [
       "<div>\n",
       "<style scoped>\n",
       "    .dataframe tbody tr th:only-of-type {\n",
       "        vertical-align: middle;\n",
       "    }\n",
       "\n",
       "    .dataframe tbody tr th {\n",
       "        vertical-align: top;\n",
       "    }\n",
       "\n",
       "    .dataframe thead th {\n",
       "        text-align: right;\n",
       "    }\n",
       "</style>\n",
       "<table border=\"1\" class=\"dataframe\">\n",
       "  <thead>\n",
       "    <tr style=\"text-align: right;\">\n",
       "      <th></th>\n",
       "      <th>BOROUGH</th>\n",
       "      <th>NEIGHBORHOOD</th>\n",
       "      <th>BUILDING CLASS CATEGORY</th>\n",
       "      <th>TAX CLASS AT PRESENT</th>\n",
       "      <th>BLOCK</th>\n",
       "      <th>LOT</th>\n",
       "      <th>BUILDING CLASS AT PRESENT</th>\n",
       "      <th>ADDRESS</th>\n",
       "      <th>APARTMENT NUMBER</th>\n",
       "      <th>ZIP CODE</th>\n",
       "      <th>RESIDENTIAL UNITS</th>\n",
       "      <th>COMMERCIAL UNITS</th>\n",
       "      <th>TOTAL UNITS</th>\n",
       "      <th>LAND SQUARE FEET</th>\n",
       "      <th>GROSS SQUARE FEET</th>\n",
       "      <th>YEAR BUILT</th>\n",
       "      <th>TAX CLASS AT TIME OF SALE</th>\n",
       "      <th>BUILDING CLASS AT TIME OF SALE</th>\n",
       "      <th>SALE PRICE</th>\n",
       "      <th>SALE DATE</th>\n",
       "    </tr>\n",
       "  </thead>\n",
       "  <tbody>\n",
       "    <tr>\n",
       "      <th>0</th>\n",
       "      <td>1</td>\n",
       "      <td>ALPHABET CITY</td>\n",
       "      <td>07 RENTALS - WALKUP APARTMENTS</td>\n",
       "      <td>2A</td>\n",
       "      <td>392</td>\n",
       "      <td>6</td>\n",
       "      <td>C2</td>\n",
       "      <td>153 AVENUE B</td>\n",
       "      <td></td>\n",
       "      <td>10009</td>\n",
       "      <td>5</td>\n",
       "      <td>0</td>\n",
       "      <td>5</td>\n",
       "      <td>1633.0</td>\n",
       "      <td>6440.0</td>\n",
       "      <td>1900</td>\n",
       "      <td>2</td>\n",
       "      <td>C2</td>\n",
       "      <td>6625000.0</td>\n",
       "      <td>2017-07-19</td>\n",
       "    </tr>\n",
       "    <tr>\n",
       "      <th>3</th>\n",
       "      <td>1</td>\n",
       "      <td>ALPHABET CITY</td>\n",
       "      <td>07 RENTALS - WALKUP APARTMENTS</td>\n",
       "      <td>2B</td>\n",
       "      <td>402</td>\n",
       "      <td>21</td>\n",
       "      <td>C4</td>\n",
       "      <td>154 EAST 7TH STREET</td>\n",
       "      <td></td>\n",
       "      <td>10009</td>\n",
       "      <td>10</td>\n",
       "      <td>0</td>\n",
       "      <td>10</td>\n",
       "      <td>2272.0</td>\n",
       "      <td>6794.0</td>\n",
       "      <td>1913</td>\n",
       "      <td>2</td>\n",
       "      <td>C4</td>\n",
       "      <td>3936272.0</td>\n",
       "      <td>2016-09-23</td>\n",
       "    </tr>\n",
       "    <tr>\n",
       "      <th>4</th>\n",
       "      <td>1</td>\n",
       "      <td>ALPHABET CITY</td>\n",
       "      <td>07 RENTALS - WALKUP APARTMENTS</td>\n",
       "      <td>2A</td>\n",
       "      <td>404</td>\n",
       "      <td>55</td>\n",
       "      <td>C2</td>\n",
       "      <td>301 EAST 10TH   STREET</td>\n",
       "      <td></td>\n",
       "      <td>10009</td>\n",
       "      <td>6</td>\n",
       "      <td>0</td>\n",
       "      <td>6</td>\n",
       "      <td>2369.0</td>\n",
       "      <td>4615.0</td>\n",
       "      <td>1900</td>\n",
       "      <td>2</td>\n",
       "      <td>C2</td>\n",
       "      <td>8000000.0</td>\n",
       "      <td>2016-11-17</td>\n",
       "    </tr>\n",
       "    <tr>\n",
       "      <th>6</th>\n",
       "      <td>1</td>\n",
       "      <td>ALPHABET CITY</td>\n",
       "      <td>07 RENTALS - WALKUP APARTMENTS</td>\n",
       "      <td>2B</td>\n",
       "      <td>406</td>\n",
       "      <td>32</td>\n",
       "      <td>C4</td>\n",
       "      <td>210 AVENUE B</td>\n",
       "      <td></td>\n",
       "      <td>10009</td>\n",
       "      <td>8</td>\n",
       "      <td>0</td>\n",
       "      <td>8</td>\n",
       "      <td>1750.0</td>\n",
       "      <td>4226.0</td>\n",
       "      <td>1920</td>\n",
       "      <td>2</td>\n",
       "      <td>C4</td>\n",
       "      <td>3192840.0</td>\n",
       "      <td>2016-09-23</td>\n",
       "    </tr>\n",
       "    <tr>\n",
       "      <th>9</th>\n",
       "      <td>1</td>\n",
       "      <td>ALPHABET CITY</td>\n",
       "      <td>08 RENTALS - ELEVATOR APARTMENTS</td>\n",
       "      <td>2</td>\n",
       "      <td>387</td>\n",
       "      <td>153</td>\n",
       "      <td>D9</td>\n",
       "      <td>629 EAST 5TH STREET</td>\n",
       "      <td></td>\n",
       "      <td>10009</td>\n",
       "      <td>24</td>\n",
       "      <td>0</td>\n",
       "      <td>24</td>\n",
       "      <td>4489.0</td>\n",
       "      <td>18523.0</td>\n",
       "      <td>1920</td>\n",
       "      <td>2</td>\n",
       "      <td>D9</td>\n",
       "      <td>16232000.0</td>\n",
       "      <td>2016-11-07</td>\n",
       "    </tr>\n",
       "  </tbody>\n",
       "</table>\n",
       "</div>"
      ],
      "text/plain": [
       "   BOROUGH   NEIGHBORHOOD                      BUILDING CLASS CATEGORY  \\\n",
       "0        1  ALPHABET CITY  07 RENTALS - WALKUP APARTMENTS                \n",
       "3        1  ALPHABET CITY  07 RENTALS - WALKUP APARTMENTS                \n",
       "4        1  ALPHABET CITY  07 RENTALS - WALKUP APARTMENTS                \n",
       "6        1  ALPHABET CITY  07 RENTALS - WALKUP APARTMENTS                \n",
       "9        1  ALPHABET CITY  08 RENTALS - ELEVATOR APARTMENTS              \n",
       "\n",
       "  TAX CLASS AT PRESENT  BLOCK  LOT BUILDING CLASS AT PRESENT  \\\n",
       "0                   2A    392    6                        C2   \n",
       "3                   2B    402   21                        C4   \n",
       "4                   2A    404   55                        C2   \n",
       "6                   2B    406   32                        C4   \n",
       "9                    2    387  153                        D9   \n",
       "\n",
       "                  ADDRESS APARTMENT NUMBER  ZIP CODE  RESIDENTIAL UNITS  \\\n",
       "0            153 AVENUE B                      10009                  5   \n",
       "3     154 EAST 7TH STREET                      10009                 10   \n",
       "4  301 EAST 10TH   STREET                      10009                  6   \n",
       "6            210 AVENUE B                      10009                  8   \n",
       "9     629 EAST 5TH STREET                      10009                 24   \n",
       "\n",
       "   COMMERCIAL UNITS  TOTAL UNITS  LAND SQUARE FEET  GROSS SQUARE FEET  \\\n",
       "0                 0            5            1633.0             6440.0   \n",
       "3                 0           10            2272.0             6794.0   \n",
       "4                 0            6            2369.0             4615.0   \n",
       "6                 0            8            1750.0             4226.0   \n",
       "9                 0           24            4489.0            18523.0   \n",
       "\n",
       "   YEAR BUILT  TAX CLASS AT TIME OF SALE BUILDING CLASS AT TIME OF SALE  \\\n",
       "0        1900                          2                             C2   \n",
       "3        1913                          2                             C4   \n",
       "4        1900                          2                             C2   \n",
       "6        1920                          2                             C4   \n",
       "9        1920                          2                             D9   \n",
       "\n",
       "   SALE PRICE  SALE DATE  \n",
       "0   6625000.0 2017-07-19  \n",
       "3   3936272.0 2016-09-23  \n",
       "4   8000000.0 2016-11-17  \n",
       "6   3192840.0 2016-09-23  \n",
       "9  16232000.0 2016-11-07  "
      ]
     },
     "execution_count": 32,
     "metadata": {},
     "output_type": "execute_result"
    }
   ],
   "source": [
    "df_bsp = df[df['SALE PRICE'] != 0]\n",
    "df_bsp.head()"
   ]
  },
  {
   "cell_type": "code",
   "execution_count": 33,
   "id": "23de1a3c",
   "metadata": {},
   "outputs": [
    {
     "data": {
      "text/html": [
       "<div>\n",
       "<style scoped>\n",
       "    .dataframe tbody tr th:only-of-type {\n",
       "        vertical-align: middle;\n",
       "    }\n",
       "\n",
       "    .dataframe tbody tr th {\n",
       "        vertical-align: top;\n",
       "    }\n",
       "\n",
       "    .dataframe thead tr th {\n",
       "        text-align: left;\n",
       "    }\n",
       "\n",
       "    .dataframe thead tr:last-of-type th {\n",
       "        text-align: right;\n",
       "    }\n",
       "</style>\n",
       "<table border=\"1\" class=\"dataframe\">\n",
       "  <thead>\n",
       "    <tr>\n",
       "      <th></th>\n",
       "      <th colspan=\"3\" halign=\"left\">SALE PRICE</th>\n",
       "    </tr>\n",
       "    <tr>\n",
       "      <th></th>\n",
       "      <th>mean</th>\n",
       "      <th>std</th>\n",
       "      <th>size</th>\n",
       "    </tr>\n",
       "    <tr>\n",
       "      <th>BOROUGH</th>\n",
       "      <th></th>\n",
       "      <th></th>\n",
       "      <th></th>\n",
       "    </tr>\n",
       "  </thead>\n",
       "  <tbody>\n",
       "    <tr>\n",
       "      <th>1</th>\n",
       "      <td>1.910402e+07</td>\n",
       "      <td>8.768322e+07</td>\n",
       "      <td>1013</td>\n",
       "    </tr>\n",
       "    <tr>\n",
       "      <th>2</th>\n",
       "      <td>8.047933e+05</td>\n",
       "      <td>3.223718e+06</td>\n",
       "      <td>5168</td>\n",
       "    </tr>\n",
       "    <tr>\n",
       "      <th>3</th>\n",
       "      <td>1.280830e+06</td>\n",
       "      <td>4.818740e+06</td>\n",
       "      <td>15657</td>\n",
       "    </tr>\n",
       "    <tr>\n",
       "      <th>4</th>\n",
       "      <td>9.357566e+05</td>\n",
       "      <td>4.084398e+06</td>\n",
       "      <td>11292</td>\n",
       "    </tr>\n",
       "    <tr>\n",
       "      <th>5</th>\n",
       "      <td>5.752012e+05</td>\n",
       "      <td>2.017233e+06</td>\n",
       "      <td>5311</td>\n",
       "    </tr>\n",
       "  </tbody>\n",
       "</table>\n",
       "</div>"
      ],
      "text/plain": [
       "           SALE PRICE                     \n",
       "                 mean           std   size\n",
       "BOROUGH                                   \n",
       "1        1.910402e+07  8.768322e+07   1013\n",
       "2        8.047933e+05  3.223718e+06   5168\n",
       "3        1.280830e+06  4.818740e+06  15657\n",
       "4        9.357566e+05  4.084398e+06  11292\n",
       "5        5.752012e+05  2.017233e+06   5311"
      ]
     },
     "execution_count": 33,
     "metadata": {},
     "output_type": "execute_result"
    }
   ],
   "source": [
    "df_bsp.groupby(\"BOROUGH\").aggregate({\"SALE PRICE\": [np.mean, np.std, np.size]})"
   ]
  },
  {
   "cell_type": "code",
   "execution_count": 34,
   "id": "663885d8",
   "metadata": {},
   "outputs": [
    {
     "name": "stdout",
     "output_type": "stream",
     "text": [
      "Standard error of Sale Price in Borough 3 =  38510.50541240482\n"
     ]
    }
   ],
   "source": [
    "mean_brook = 1.280830e+06\n",
    "std_brook = 4.818740e+06\n",
    "n_brook = 15657\n",
    "z = 1.96\n",
    "\n",
    "std_error_brook = std_brook / np.sqrt(15657)\n",
    "print('Standard error of Sale Price in Borough 3 = ', std_error_brook)"
   ]
  },
  {
   "cell_type": "code",
   "execution_count": 35,
   "id": "f076068e",
   "metadata": {},
   "outputs": [
    {
     "name": "stdout",
     "output_type": "stream",
     "text": [
      "lower limit of the CI =  1205349.409\n",
      "upper limit of the CI =  1356310.591\n"
     ]
    }
   ],
   "source": [
    "# construct the CI\n",
    "lcb = mean_brook - z* std_error_brook  #lower limit of the CI\n",
    "ucb = mean_brook + z* std_error_brook  #upper limit of the CI\n",
    "\n",
    "print('lower limit of the CI = ', round(lcb, 3))\n",
    "print('upper limit of the CI = ', round(ucb, 3))"
   ]
  },
  {
   "cell_type": "markdown",
   "id": "631d780d",
   "metadata": {},
   "source": [
    "That means the true mean of the Sale Price of Brooklyn is between 1205349.409 and 1356310.591"
   ]
  },
  {
   "cell_type": "markdown",
   "id": "40270fc3",
   "metadata": {},
   "source": [
    "# Hypothesis Testing"
   ]
  },
  {
   "cell_type": "markdown",
   "id": "f564c247",
   "metadata": {},
   "source": [
    "##### Are property sales in Bronx higher than in Staten Island?\n",
    "\n",
    "Null Hypothesis and Alternative Hypothesis\n",
    "\n",
    "ho : Bronx property sales >= Staten Island property sales<br>\n",
    "ha : Bronx property sales < Staten Island property sales"
   ]
  },
  {
   "cell_type": "code",
   "execution_count": 36,
   "id": "9918145d",
   "metadata": {},
   "outputs": [
    {
     "name": "stdout",
     "output_type": "stream",
     "text": [
      "Average property sales in Bronx :  594677.12\n",
      "Average property sales in Staten Island :  575201.21\n"
     ]
    }
   ],
   "source": [
    "print('Average property sales in Bronx : ',round(bx_mean, 2))\n",
    "print('Average property sales in Staten Island : ',round(stil_mean, 2))"
   ]
  },
  {
   "cell_type": "markdown",
   "id": "52351c45",
   "metadata": {},
   "source": [
    "Average property sales in Bronx is higher than in Staten Island, But is it that significantly high?\n",
    "<br>we can check it with calculating the ztest and get the p value"
   ]
  },
  {
   "cell_type": "code",
   "execution_count": 37,
   "id": "b68e5cfd",
   "metadata": {},
   "outputs": [],
   "source": [
    "# getting data of Bronx and Staten Island\n",
    "brx = df[df['BOROUGH'] == 2]\n",
    "stil = df[df['BOROUGH'] == 5]"
   ]
  },
  {
   "cell_type": "code",
   "execution_count": 38,
   "id": "d48b7bf7",
   "metadata": {},
   "outputs": [
    {
     "data": {
      "text/plain": [
       "(0.43002752294442487, 0.6671756203709707)"
      ]
     },
     "execution_count": 38,
     "metadata": {},
     "output_type": "execute_result"
    }
   ],
   "source": [
    "# calculating the ztest and getting the p value\n",
    "sm.stats.ztest(brx[\"SALE PRICE\"], stil[\"SALE PRICE\"],alternative='two-sided')"
   ]
  },
  {
   "cell_type": "code",
   "execution_count": null,
   "id": "d7f64ca0",
   "metadata": {},
   "outputs": [],
   "source": []
  }
 ],
 "metadata": {
  "kernelspec": {
   "display_name": "Python 3 (ipykernel)",
   "language": "python",
   "name": "python3"
  },
  "language_info": {
   "codemirror_mode": {
    "name": "ipython",
    "version": 3
   },
   "file_extension": ".py",
   "mimetype": "text/x-python",
   "name": "python",
   "nbconvert_exporter": "python",
   "pygments_lexer": "ipython3",
   "version": "3.9.8"
  },
  "latex_envs": {
   "LaTeX_envs_menu_present": true,
   "autoclose": false,
   "autocomplete": true,
   "bibliofile": "biblio.bib",
   "cite_by": "apalike",
   "current_citInitial": 1,
   "eqLabelWithNumbers": true,
   "eqNumInitial": 1,
   "hotkeys": {
    "equation": "Ctrl-E",
    "itemize": "Ctrl-I"
   },
   "labels_anchors": false,
   "latex_user_defs": false,
   "report_style_numbering": false,
   "user_envs_cfg": false
  },
  "toc": {
   "base_numbering": 1,
   "nav_menu": {},
   "number_sections": true,
   "sideBar": true,
   "skip_h1_title": false,
   "title_cell": "Table of Contents",
   "title_sidebar": "Contents",
   "toc_cell": false,
   "toc_position": {
    "height": "calc(100% - 180px)",
    "left": "10px",
    "top": "150px",
    "width": "187.743px"
   },
   "toc_section_display": true,
   "toc_window_display": false
  }
 },
 "nbformat": 4,
 "nbformat_minor": 5
}
